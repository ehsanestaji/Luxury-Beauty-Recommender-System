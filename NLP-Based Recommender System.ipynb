{
 "cells": [
  {
   "cell_type": "markdown",
   "id": "32ae5fe0",
   "metadata": {},
   "source": [
    "<div style=\"font-family: Arial; padding: 20px; border: 1px solid #ddd; border-radius: 10px; box-shadow: 2px 2px 12px #aaa;\">\n",
    "\n",
    "### <span style=\"color: #2e6c80;\">&#128273; Problem Statement: Classifying Amazon Reviews for Luxury Beauty Products Based on Customer Ratings Using NLP</span>\n",
    "\n",
    "---\n",
    "\n",
    "#### <span style=\"color: #a46497;\">&#128161; Impact</span>\n",
    "<span style=\"font-size: 16px;\">Reviews serve as a critical feedback mechanism for products, particularly in the realm of e-commerce and specifically in the luxury beauty sector. While these reviews are often summarized through a numerical rating system, the true value lies in the textual content of the review itself. The objective of this project is to build a classifier that can understand the semantics of a review text and assign it the most appropriate numerical rating.</span>\n",
    "\n",
    "---\n",
    "\n",
    "#### <span style=\"color: #a46497;\">&#128220; Background</span>\n",
    "<span style=\"font-size: 16px;\">Amazon's product ratings for Luxury Beauty items are an aggregate of individual customer reviews, each represented by an integer value ranging from one to five stars. This forms the basis for a supervised multi-class classification problem, where the review text is the primary feature for prediction.</span>\n",
    "\n",
    "<span style=\"font-size: 16px;\">The project will explore various Natural Language Processing (NLP) techniques such as word embedding, topic modeling, and sentiment analysis. Subsequently, multiple machine learning algorithms will be employed to identify the most accurate estimator for the classifier.</span>\n",
    "\n",
    "---\n",
    "\n",
    "#### <span style=\"color: #a46497;\">&#128202; Datasets</span>\n",
    "<span style=\"font-size: 16px;\">The dataset comprises customer reviews for Luxury Beauty products listed on Amazon. It includes multiple attributes that are important for the classification task.</span>\n",
    "\n",
    "**&#128302; Data Dictionary:**\n",
    "- **asin**: Unique ID of the product being reviewed (string)\n",
    "- **helpful**: List containing the number of helpful votes and total votes for the review (list)\n",
    "- **overall**: Rating given by the reviewer (int64)\n",
    "- **reviewText**: The text of the review (string)\n",
    "- **reviewerID**: Unique ID of the reviewer (string)\n",
    "- **reviewerName**: Name of the reviewer (string)\n",
    "- **summary**: Summary headline of the review (string)\n",
    "- **unixReviewTime**: Unix timestamp for the review (string)\n",
    "- **vote**: Number of votes for the review (int64)\n",
    "- **verified**: Whether the review is verified or not (boolean)\n",
    "- **style**: Additional product details (dictionary)\n",
    "- **image**: Image URLs related to the review (list)\n",
    "\n",
    "</div>\n"
   ]
  },
  {
   "cell_type": "markdown",
   "id": "c401cff3",
   "metadata": {},
   "source": [
    "#### <span style=\"color: #a46497;\">&#128295; Data Wrangling</span>\n",
    "<span style=\"font-size: 16px;\">This section will focus on cleaning and structuring the raw data into a more usable format. This includes tasks like handling missing values, type conversion, and encoding categorical variables. Effective data wrangling simplifies the downstream tasks in data analysis and model building.</span>\n"
   ]
  },
  {
   "cell_type": "code",
   "execution_count": 1,
   "id": "5a79c28a",
   "metadata": {
    "ExecuteTime": {
     "end_time": "2023-10-25T19:15:18.337527134Z",
     "start_time": "2023-10-25T19:15:18.334686070Z"
    }
   },
   "outputs": [],
   "source": [
    "import warnings\n",
    "\n",
    "warnings.simplefilter(\"ignore\", UserWarning)\n",
    "warnings.simplefilter(\"ignore\", FutureWarning)\n",
    "warnings.simplefilter(\"ignore\", DeprecationWarning)"
   ]
  },
  {
   "cell_type": "markdown",
   "id": "5574f777",
   "metadata": {},
   "source": [
    "#### <span style=\"color: #a46497;\">&#128196; Data Sourcing and Loading</span>\n",
    "<span style=\"font-size: 16px;\">The DataFrame (`df`) is created from the Amazon dataset. Two scenarios are considered for data loading:</span>\n",
    "  \n",
    "  - <span style=\"font-size: 16px;\">If the file has been downloaded, then the dataset is loaded from the local file.</span>\n",
    "  - <span style=\"font-size: 16px;\">Otherwise, the file is accessed and extracted directly from the repository.</span>\n"
   ]
  },
  {
   "cell_type": "code",
   "execution_count": null,
   "id": "34d8c3bd",
   "metadata": {
    "is_executing": true,
    "ExecuteTime": {
     "start_time": "2023-10-25T18:49:38.304569386Z"
    }
   },
   "outputs": [],
   "source": [
    "import os\n",
    "import pandas as pd\n",
    "\n",
    "dataset = \"Luxury_Beauty.json\"\n",
    "\n",
    "if os.path.isfile(dataset):\n",
    "    df = pd.read_json(\"Luxury_Beauty.json\", lines=True)\n",
    "else:\n",
    "    url = r\"https://datarepo.eng.ucsd.edu/mcauley_group/data/amazon_v2/categoryFiles/Luxury_Beauty.json.gz\"\n",
    "    df = pd.read_json(url, compression='gzip', lines=True)\n",
    "\n",
    "df = df[:500]\n",
    "display(df.head(10))"
   ]
  },
  {
   "cell_type": "code",
   "execution_count": 3,
   "id": "6b326f92",
   "metadata": {
    "ExecuteTime": {
     "end_time": "2023-10-25T15:09:12.300890469Z",
     "start_time": "2023-10-25T15:09:12.228337339Z"
    }
   },
   "outputs": [
    {
     "name": "stdout",
     "output_type": "stream",
     "text": [
      "<class 'pandas.core.frame.DataFrame'>\n",
      "RangeIndex: 500 entries, 0 to 499\n",
      "Data columns (total 12 columns):\n",
      " #   Column          Non-Null Count  Dtype \n",
      "---  ------          --------------  ----- \n",
      " 0   overall         500 non-null    int64 \n",
      " 1   vote            36 non-null     object\n",
      " 2   verified        500 non-null    bool  \n",
      " 3   reviewTime      500 non-null    object\n",
      " 4   reviewerID      500 non-null    object\n",
      " 5   asin            500 non-null    object\n",
      " 6   reviewerName    500 non-null    object\n",
      " 7   reviewText      499 non-null    object\n",
      " 8   summary         500 non-null    object\n",
      " 9   unixReviewTime  500 non-null    int64 \n",
      " 10  style           485 non-null    object\n",
      " 11  image           3 non-null      object\n",
      "dtypes: bool(1), int64(2), object(9)\n",
      "memory usage: 43.6+ KB\n",
      "None\n"
     ]
    }
   ],
   "source": [
    "print(df.info())"
   ]
  },
  {
   "cell_type": "markdown",
   "id": "f15a7696",
   "metadata": {},
   "source": [
    "\n",
    "Only the overall and the unixReviewTime series are stored as integers. The rest are interpreted as strings (objects).\n"
   ]
  },
  {
   "cell_type": "code",
   "execution_count": 4,
   "id": "c13fa56c",
   "metadata": {
    "ExecuteTime": {
     "end_time": "2023-10-25T15:09:13.923776584Z",
     "start_time": "2023-10-25T15:09:13.840881041Z"
    }
   },
   "outputs": [],
   "source": [
    "from datetime import datetime\n",
    "\n",
    "condition = lambda row: datetime.fromtimestamp(row).strftime(\"%m-%d-%Y\")\n",
    "df[\"unixReviewTime\"] = df[\"unixReviewTime\"].apply(condition)"
   ]
  },
  {
   "cell_type": "markdown",
   "id": "39d1a995",
   "metadata": {},
   "source": [
    "\n",
    "\n",
    "The unixReviewTime is converted from Unix time to the more intuitive datetime datatype.\n"
   ]
  },
  {
   "cell_type": "code",
   "execution_count": 5,
   "id": "0ca8b8ee",
   "metadata": {
    "ExecuteTime": {
     "end_time": "2023-10-25T15:09:15.320506110Z",
     "start_time": "2023-10-25T15:09:14.929103703Z"
    }
   },
   "outputs": [
    {
     "data": {
      "text/plain": "   overall vote  verified      reviewerID        asin   reviewerName  \\\n0        2    3      True  A1Q6MUU0B2ZDQG  B00004U9V2      D. Poston   \n1        5   14      True  A3HO2SQDCZIE9S  B00004U9V2        chandra   \n2        5  NaN      True  A2EM03F99X3RJZ  B00004U9V2      Maureen G   \n3        5  NaN      True   A3Z74TDRGD0HU  B00004U9V2        Terry K   \n4        5  NaN      True  A2UXFNW9RTL4VM  B00004U9V2  Patricia Wood   \n\n                                          reviewText  \\\n0  I bought two of these 8.5 fl oz hand cream, an...   \n1  Believe me, over the years I have tried many, ...   \n2                                  Great hand lotion   \n3  This is the best for the severely dry skin on ...   \n4  The best non- oily hand cream ever. It heals o...   \n\n                         summary unixReviewTime                  style image  \n0          dispensers don't work     06-15-2010                    NaN   NaN  \n1          Best hand cream ever.     01-07-2010                    NaN   NaN  \n2                     Five Stars     04-18-2018  {'Size:': ' 3.5 oz.'}   NaN  \n3                     Five Stars     04-18-2018  {'Size:': ' 3.5 oz.'}   NaN  \n4  I always have a backup ready.     04-17-2018  {'Size:': ' 3.5 oz.'}   NaN  ",
      "text/html": "<div>\n<style scoped>\n    .dataframe tbody tr th:only-of-type {\n        vertical-align: middle;\n    }\n\n    .dataframe tbody tr th {\n        vertical-align: top;\n    }\n\n    .dataframe thead th {\n        text-align: right;\n    }\n</style>\n<table border=\"1\" class=\"dataframe\">\n  <thead>\n    <tr style=\"text-align: right;\">\n      <th></th>\n      <th>overall</th>\n      <th>vote</th>\n      <th>verified</th>\n      <th>reviewerID</th>\n      <th>asin</th>\n      <th>reviewerName</th>\n      <th>reviewText</th>\n      <th>summary</th>\n      <th>unixReviewTime</th>\n      <th>style</th>\n      <th>image</th>\n    </tr>\n  </thead>\n  <tbody>\n    <tr>\n      <th>0</th>\n      <td>2</td>\n      <td>3</td>\n      <td>True</td>\n      <td>A1Q6MUU0B2ZDQG</td>\n      <td>B00004U9V2</td>\n      <td>D. Poston</td>\n      <td>I bought two of these 8.5 fl oz hand cream, an...</td>\n      <td>dispensers don't work</td>\n      <td>06-15-2010</td>\n      <td>NaN</td>\n      <td>NaN</td>\n    </tr>\n    <tr>\n      <th>1</th>\n      <td>5</td>\n      <td>14</td>\n      <td>True</td>\n      <td>A3HO2SQDCZIE9S</td>\n      <td>B00004U9V2</td>\n      <td>chandra</td>\n      <td>Believe me, over the years I have tried many, ...</td>\n      <td>Best hand cream ever.</td>\n      <td>01-07-2010</td>\n      <td>NaN</td>\n      <td>NaN</td>\n    </tr>\n    <tr>\n      <th>2</th>\n      <td>5</td>\n      <td>NaN</td>\n      <td>True</td>\n      <td>A2EM03F99X3RJZ</td>\n      <td>B00004U9V2</td>\n      <td>Maureen G</td>\n      <td>Great hand lotion</td>\n      <td>Five Stars</td>\n      <td>04-18-2018</td>\n      <td>{'Size:': ' 3.5 oz.'}</td>\n      <td>NaN</td>\n    </tr>\n    <tr>\n      <th>3</th>\n      <td>5</td>\n      <td>NaN</td>\n      <td>True</td>\n      <td>A3Z74TDRGD0HU</td>\n      <td>B00004U9V2</td>\n      <td>Terry K</td>\n      <td>This is the best for the severely dry skin on ...</td>\n      <td>Five Stars</td>\n      <td>04-18-2018</td>\n      <td>{'Size:': ' 3.5 oz.'}</td>\n      <td>NaN</td>\n    </tr>\n    <tr>\n      <th>4</th>\n      <td>5</td>\n      <td>NaN</td>\n      <td>True</td>\n      <td>A2UXFNW9RTL4VM</td>\n      <td>B00004U9V2</td>\n      <td>Patricia Wood</td>\n      <td>The best non- oily hand cream ever. It heals o...</td>\n      <td>I always have a backup ready.</td>\n      <td>04-17-2018</td>\n      <td>{'Size:': ' 3.5 oz.'}</td>\n      <td>NaN</td>\n    </tr>\n  </tbody>\n</table>\n</div>"
     },
     "metadata": {},
     "output_type": "display_data"
    }
   ],
   "source": [
    "df.drop(labels=\"reviewTime\", axis=1, inplace=True)\n",
    "\n",
    "display(df.head())"
   ]
  },
  {
   "cell_type": "markdown",
   "id": "c801fe89",
   "metadata": {},
   "source": [
    "\n",
    "\n",
    "The reviewTime is dropped since the unixReviewTime series more accurately describes the time when each review was posted.\n"
   ]
  },
  {
   "cell_type": "markdown",
   "id": "33bbd24f",
   "metadata": {},
   "source": [
    "\n",
    "\n",
    "Each review is associated with a rating stored under the overall field. This serves as the quantified summary of a given review and will thus be used as the ground truth labels for the model.\n"
   ]
  },
  {
   "cell_type": "code",
   "execution_count": 6,
   "id": "7ed7f26e",
   "metadata": {
    "ExecuteTime": {
     "end_time": "2023-10-25T15:09:17.081215561Z",
     "start_time": "2023-10-25T15:09:17.026269678Z"
    }
   },
   "outputs": [
    {
     "name": "stdout",
     "output_type": "stream",
     "text": [
      "[2 5 4 1 3]\n"
     ]
    }
   ],
   "source": [
    "print(df.overall.unique())"
   ]
  },
  {
   "cell_type": "markdown",
   "id": "eacf7d63",
   "metadata": {},
   "source": [
    "### <span style=\"color: #2e6c80;\">&#128269; NLP Pre-Processing</span>\n",
    "\n",
    "---\n",
    "\n",
    "#### <span style=\"color: #a46497;\">&#128288; Tokenization</span>\n",
    "<span style=\"font-size: 16px;\">The primary focus of our pre-processing will be the `reviewText` column. The goal is to tokenize each review, effectively converting them into a list of words or \"tokens.\" These tokens will serve as the building blocks for our NLP model.</span>\n",
    "\n",
    "---\n",
    "\n",
    "#### <span style=\"color: #a46497;\">&#128187; Handling HTML Entities</span>\n",
    "<span style=\"font-size: 16px;\">Our dataset contains HTML entities, which are numerical or named character references that might have been introduced due to the use of an HTML parser. Examples include special characters like apostrophes (`&apos;`) and en dashes (`&ndash;`).</span>\n",
    "\n",
    "<span style=\"font-size: 16px;\">To make the text more amenable for NLP operations, it is essential to decode these HTML entities. We will employ Python's `html` library for this purpose.</span>\n",
    "\n",
    "---\n",
    "\n",
    "#### <span style=\"color: #a46497;\">&#128473; Punctuation and Special Characters</span>\n",
    "<span style=\"font-size: 16px;\">Since punctuation marks and special HTML entities do not contribute meaningfully to our NLP tasks, we will remove them from our reviews.</span>\n",
    "\n",
    "---\n"
   ]
  },
  {
   "cell_type": "code",
   "execution_count": 7,
   "id": "8e4b8b39",
   "metadata": {
    "ExecuteTime": {
     "end_time": "2023-10-25T15:09:18.376263555Z",
     "start_time": "2023-10-25T15:09:18.308201248Z"
    }
   },
   "outputs": [
    {
     "name": "stdout",
     "output_type": "stream",
     "text": [
      "Original Sample Review:\n",
      "I bought two of these 8.5 fl oz hand cream, and neither of the dispensers work.  The hand cream is wonderful, but very thick, so I don't see I can get much out by shaking it out, since the dispensers seem to be non-operable.\n",
      "\n",
      "Decoded Sample Review:\n",
      "I bought two of these 8.5 fl oz hand cream, and neither of the dispensers work.  The hand cream is wonderful, but very thick, so I don't see I can get much out by shaking it out, since the dispensers seem to be non-operable.\n",
      "\n",
      "Preprocessed Sample Review:\n",
      "I bought two of these 8.5 fl oz hand cream, and neither of the dispensers work.  The hand cream is wonderful, but very thick, so I don't see I can get much out by shaking it out, since the dispensers seem to be non-operable.\n"
     ]
    }
   ],
   "source": [
    "# Import the html library for decoding HTML entities\n",
    "import html\n",
    "import re\n",
    "\n",
    "# Sample review\n",
    "sample_review = df[\"reviewText\"].iloc[0]\n",
    "print(\"Original Sample Review:\")\n",
    "print(sample_review)\n",
    "\n",
    "# Decode HTML entities\n",
    "decoded_review = html.unescape(sample_review)\n",
    "print(\"\\nDecoded Sample Review:\")\n",
    "print(decoded_review)\n",
    "\n",
    "# Define pattern for HTML entities\n",
    "pattern = r\"\\&\\#[0-9]+\\;\"\n",
    "\n",
    "# Remove HTML entities from the entire DataFrame\n",
    "df[\"preprocessed\"] = df[\"reviewText\"].str.replace(pat=pattern, repl=\"\", regex=True)\n",
    "\n",
    "# Print the preprocessed sample review\n",
    "preprocessed_sample_review = df[\"preprocessed\"].iloc[0]\n",
    "print(\"\\nPreprocessed Sample Review:\")\n",
    "print(preprocessed_sample_review)\n"
   ]
  },
  {
   "cell_type": "markdown",
   "id": "69feeeba",
   "metadata": {},
   "source": [
    "---\n",
    "\n",
    "### <span style=\"color: #2e6c80;\">&#128269; Extracting the Root Word</span>\n",
    "\n",
    "---\n",
    "\n",
    "#### <span style=\"color: #a46497;\">&#128214; The Importance of Root Words</span>\n",
    "<span style=\"font-size: 16px;\">In Natural Language Processing (NLP), the frequency of a word's occurrence can offer significant insights. To preserve the relational context between words in different forms (e.g., \"learn\" and \"learning\"), it is crucial to reduce them to their root form.</span>\n",
    "\n",
    "---\n",
    "\n",
    "#### <span style=\"color: #a46497;\">&#9881; Techniques for Extracting the Root Word</span>\n",
    "<span style=\"font-size: 16px;\">\n",
    "  \n",
    "- **Lemmatization**: This technique reduces words to their base form while considering the part-of-speech and grammatical nuances. We will be using the `WordNetLemmatizer` from the Natural Language Toolkit (NLTK).\n",
    "  \n",
    "- **Stemming**: An alternative but less accurate technique that truncates words to their base form without considering grammatical factors.\n",
    "</span>\n",
    "\n",
    "---\n",
    "\n",
    "#### <span style=\"color: #a46497;\">&#128736; Implementation</span>\n",
    "<span style=\"font-size: 16px;\">\n",
    "  \n",
    "1. **Sentence Tokenization**: Each review is broken down into a list of sentences.\n",
    "2. **Word Tokenization**: Each sentence is further tokenized into words.\n",
    "3. **Part-of-Speech Tagging**: Every word is tagged with its part-of-speech.\n",
    "4. **Lemmatization**: Words are lemmatized based on their part-of-speech tags.\n",
    "\n",
    "The lemmatized words are then reassembled to form the processed review text.\n",
    "</span>\n",
    "\n",
    "---\n"
   ]
  },
  {
   "cell_type": "code",
   "execution_count": 8,
   "id": "53ebf754",
   "metadata": {
    "ExecuteTime": {
     "end_time": "2023-10-25T15:09:22.253216167Z",
     "start_time": "2023-10-25T15:09:19.788016028Z"
    }
   },
   "outputs": [
    {
     "name": "stderr",
     "output_type": "stream",
     "text": [
      "[nltk_data] Downloading package wordnet to /home/ehsan/nltk_data...\n",
      "[nltk_data]   Package wordnet is already up-to-date!\n",
      "[nltk_data] Downloading package stopwords to /home/ehsan/nltk_data...\n",
      "[nltk_data]   Package stopwords is already up-to-date!\n",
      "[nltk_data] Downloading package averaged_perceptron_tagger to\n",
      "[nltk_data]     /home/ehsan/nltk_data...\n",
      "[nltk_data]   Package averaged_perceptron_tagger is already up-to-\n",
      "[nltk_data]       date!\n",
      "[nltk_data] Downloading package maxent_treebank_pos_tagger to\n",
      "[nltk_data]     /home/ehsan/nltk_data...\n",
      "[nltk_data]   Package maxent_treebank_pos_tagger is already up-to-\n",
      "[nltk_data]       date!\n"
     ]
    }
   ],
   "source": [
    "# Importing necessary modules from NLTK\n",
    "import nltk\n",
    "from nltk import word_tokenize, pos_tag\n",
    "from nltk.stem import WordNetLemmatizer\n",
    "from nltk.tokenize import sent_tokenize\n",
    "from nltk.corpus import wordnet\n",
    "\n",
    "# Define the function to download necessary NLTK resources\n",
    "def download_nltk_resources(resources):\n",
    "    for resource in resources:\n",
    "        try:\n",
    "            nltk.data.find(\"tokenizers/\" + resource)\n",
    "        except LookupError:\n",
    "            nltk.download(resource)\n",
    "\n",
    "# Define the function to lemmatize individual words based on POS tags\n",
    "def lemmatize_word(tagged_token):\n",
    "    lemma = WordNetLemmatizer()\n",
    "    root = []\n",
    "    for token in tagged_token:\n",
    "        tag = token[1][0]\n",
    "        word = token[0]\n",
    "        if tag.startswith('J'):\n",
    "            root.append(lemma.lemmatize(word, wordnet.ADJ))\n",
    "        elif tag.startswith('V'):\n",
    "            root.append(lemma.lemmatize(word, wordnet.VERB))\n",
    "        elif tag.startswith('N'):\n",
    "            root.append(lemma.lemmatize(word, wordnet.NOUN))\n",
    "        elif tag.startswith('R'):\n",
    "            root.append(lemma.lemmatize(word, wordnet.ADV))\n",
    "        else:          \n",
    "            root.append(word)\n",
    "    return root\n",
    "\n",
    "# Define the function to lemmatize entire document\n",
    "def lemmatize_doc(document):\n",
    "    lemmatized_list = []\n",
    "    tokenized_sent = sent_tokenize(document)\n",
    "    for sentence in tokenized_sent:\n",
    "        no_punctuation = re.sub(r\"[`'\\\",.!?()]\", \" \", sentence)\n",
    "        tokenized_word = word_tokenize(no_punctuation)\n",
    "        tagged_token = pos_tag(tokenized_word)\n",
    "        lemmatized = lemmatize_word(tagged_token)\n",
    "        lemmatized_list.extend(lemmatized)\n",
    "    return \" \".join(lemmatized_list)\n",
    "\n",
    "# List of resources to download\n",
    "resources = [\"wordnet\", \"stopwords\", \"punkt\", \"averaged_perceptron_tagger\", \"maxent_treebank_pos_tagger\"]\n",
    "\n",
    "# Download resources (uncomment this line when running locally)\n",
    "download_nltk_resources(resources)\n",
    "\n",
    "# Apply Lemmatization (uncomment this line when running locally)\n",
    "df[\"preprocessed\"] = df[\"preprocessed\"].apply(lambda row: lemmatize_doc(row) if isinstance(row, str) else row)\n",
    "\n",
    "# Uncomment to print a sample preprocessed review (when running locally)\n",
    "# print(df[\"preprocessed\"].iloc[0])\n"
   ]
  },
  {
   "cell_type": "markdown",
   "id": "919527c9",
   "metadata": {},
   "source": [
    "---\n",
    "\n",
    "### <span style=\"color: #2e6c80;\">&#128441; Removing Accents</span>\n",
    "\n",
    "---\n",
    "\n",
    "#### <span style=\"color: #a46497;\">&#128240; Text Normalization</span>\n",
    "<span style=\"font-size: 16px;\">To ensure uniformity in text data, it is crucial to remove accents from characters. This is particularly important for words like \"naïve,\" which should not be distinguished from \"naive\" in the context of text analysis.</span>\n",
    "\n",
    "---\n",
    "\n",
    "#### <span style=\"color: #a46497;\">&#128187; Implementation</span>\n",
    "<span style=\"font-size: 16px;\">We will use Python's `unicodedata` library to normalize text from UTF-8 to ASCII encoding. This will remove all accent marks from characters, making the text easier to process.</span>\n",
    "\n",
    "---\n"
   ]
  },
  {
   "cell_type": "code",
   "execution_count": 9,
   "id": "e415b21c",
   "metadata": {
    "ExecuteTime": {
     "end_time": "2023-10-25T15:09:22.261696225Z",
     "start_time": "2023-10-25T15:09:22.258446331Z"
    }
   },
   "outputs": [],
   "source": [
    "# Import the unicodedata library for text normalization\n",
    "from unicodedata import normalize\n",
    "\n",
    "# Define the function to remove accents from text\n",
    "def remove_accent(text):\n",
    "    return normalize(\"NFKD\", text).encode(\"ascii\", \"ignore\").decode(\"utf-8\", \"ignore\")\n",
    "\n",
    "# Remove accents from the 'preprocessed' column\n",
    "# Note: This line is for you to run in your local environment as it depends on the previous preprocessed data\n",
    "df[\"preprocessed\"] = df[\"preprocessed\"].apply(lambda row: remove_accent(row) if isinstance(row, str) else row)"
   ]
  },
  {
   "cell_type": "markdown",
   "id": "0938393e",
   "metadata": {},
   "source": [
    "---\n",
    "\n",
    "### <span style=\"color: #2e6c80;\">&#128295; Additional Preprocessing Steps</span>\n",
    "\n",
    "---\n",
    "\n",
    "#### <span style=\"color: #a46497;\">&#128473; 1. Removing Punctuations</span>\n",
    "<span style=\"font-size: 16px;\">To make the text more uniform and easier to process, we remove all punctuations, retaining only whitespaces and alphanumeric characters.</span>\n",
    "\n",
    "---\n",
    "\n",
    "#### <span style=\"color: #a46497;\">&#8681; 2. Converting to Lower Case</span>\n",
    "<span style=\"font-size: 16px;\">All characters are converted to their lower-case form to ensure uniformity. This makes words like \"iPhone\" and \"iphone\" indistinguishable, thereby reducing data sparsity.</span>\n",
    "\n",
    "---\n",
    "\n",
    "#### <span style=\"color: #a46497;\">&#10071; 3. Removing Stop Words</span>\n",
    "<span style=\"font-size: 16px;\">Commonly used words, often referred to as \"stop words\" (e.g., \"the,\" \"is,\" \"in\"), are removed. These words don't add much meaning in text analysis and their removal can enhance the performance of NLP algorithms.</span>\n",
    "\n",
    "---\n",
    "\n",
    "#### <span style=\"color: #a46497;\">&#9200; 4. Removing Extra Spaces</span>\n",
    "<span style=\"font-size: 16px;\">Any extra spaces between words are removed to clean up the text.</span>\n",
    "\n",
    "---\n"
   ]
  },
  {
   "cell_type": "code",
   "execution_count": 10,
   "id": "73c31702",
   "metadata": {
    "ExecuteTime": {
     "end_time": "2023-10-25T15:09:23.167085112Z",
     "start_time": "2023-10-25T15:09:23.102396123Z"
    }
   },
   "outputs": [
    {
     "name": "stdout",
     "output_type": "stream",
     "text": [
      "buy two 8 5 fl oz hand cream neither dispenser work hand cream wonderful thick see get much shake since dispenser seem non operable\n"
     ]
    }
   ],
   "source": [
    "# Importing stopwords from nltk.corpus\n",
    "from nltk.corpus import stopwords\n",
    "\n",
    "# Define regex pattern for removing punctuations\n",
    "pattern_punct = r\"[^\\w\\s]\"\n",
    "\n",
    "# Define regex pattern for removing extra spaces\n",
    "pattern_space = r\"[\\s]+\"\n",
    "\n",
    "# Get the list of stop words\n",
    "stop_words = stopwords.words(\"english\")\n",
    "# Remove apostrophes from stop words\n",
    "stop_words = [word.replace(\"\\'\", \"\") for word in stop_words]\n",
    "\n",
    "# Define function to remove stop words\n",
    "def remove_stop_words(row):\n",
    "    return \" \".join([token for token in str(row).split(\" \") if token not in stop_words])\n",
    "\n",
    "# Remove punctuations\n",
    "df[\"preprocessed\"] = df[\"preprocessed\"].str.replace(pat=pattern_punct, repl=\" \", regex=True)\n",
    "\n",
    "# Convert to lower case\n",
    "df[\"preprocessed\"] = df[\"preprocessed\"].str.lower()\n",
    "\n",
    "# Remove stop words\n",
    "df[\"preprocessed\"] = df[\"preprocessed\"].apply(remove_stop_words)\n",
    "\n",
    "# Remove extra spaces\n",
    "df[\"preprocessed\"] = df[\"preprocessed\"].str.replace(pat=pattern_space, repl=\" \", regex=True)\n",
    "\n",
    "# Uncomment to print a sample preprocessed review (when running locally)\n",
    "print(df[\"preprocessed\"].iloc[0])\n"
   ]
  },
  {
   "cell_type": "markdown",
   "id": "e20c30c9",
   "metadata": {},
   "source": [
    "---\n",
    "\n",
    "### <span style=\"color: #2e6c80;\">&#9881; Advanced NLP Techniques</span>\n",
    "\n",
    "---\n",
    "\n",
    "#### <span style=\"color: #a46497;\">&#127344; Tokenization</span>\n",
    "<span style=\"font-size: 16px;\">In this step, each review is broken down into individual words or tokens, creating a tokenized representation of our corpus (a collection of all documents).</span>\n",
    "\n",
    "---\n",
    "\n",
    "#### <span style=\"color: #a46497;\">&#128508; Phrase Modeling</span>\n",
    "<span style=\"font-size: 16px;\">The sequential order of words is often significant in NLP. To capture the semantics, we group neighboring words that often appear together into phrases.</span>\n",
    "\n",
    "##### <span style=\"color: #a46497;\">&#10122; Criteria for Phrase Modeling</span>\n",
    "\n",
    "- **Bigrams**: Two adjacent words that frequently appear together are grouped as a single token.\n",
    "- **Trigrams**: Similar to bigrams but considers three words.\n",
    "\n",
    "---\n",
    "\n",
    "#### <span style=\"color: #a46497;\">&#128736; Implementation</span>\n",
    "<span style=\"font-size: 16px;\">\n",
    "\n",
    "1. **Corpora Preparation**: Extract the `preprocessed` column to constitute our corpora.\n",
    "2. **Tokenization**: Use the `split` method to tokenize each review.\n",
    "3. **Bigram and Trigram Modeling**: Utilize gensim's `Phrases` and `Phraser` to generate bigrams and trigrams based on set criteria.\n",
    "</span>\n",
    "\n",
    "---\n"
   ]
  },
  {
   "cell_type": "code",
   "execution_count": 11,
   "id": "d246907e",
   "metadata": {
    "ExecuteTime": {
     "end_time": "2023-10-25T15:09:24.785205875Z",
     "start_time": "2023-10-25T15:09:24.519305109Z"
    }
   },
   "outputs": [
    {
     "name": "stdout",
     "output_type": "stream",
     "text": [
      "['wife', 'one', 'ton', 'excellent', 'fragrant', 'take', 'slip', 'saved', 'intensive', 'farm', 'uk', 'awesome', 'course', 'eye', 'perfumy', 'anyway', 'staple', 'dad', 'sore', 'exceptional', 'good', 'round', 'gentle', 'hopefully', 'crazy', 'aware', 'wrong', 'remarkable', 'quarter', 'cant', 'belong', 'odor', 'legs', 'second', 'c', 'tool', 'woman', 'original', 'greasy', 'handwashing', 'love', 'old', 'man', 'tried', 'combination', 'family', 'makeup', 'patch', 'came', '30']\n"
     ]
    }
   ],
   "source": [
    "# Code comments for the tokenization and phrase modeling section\n",
    "\n",
    "# Importing Phrases and Phraser from gensim.models\n",
    "from gensim.models.phrases import Phraser , Phrases\n",
    "#from gensim.models import Phrases\n",
    "\n",
    "# Extract the 'preprocessed' column to form the corpora\n",
    "corpora = df[\"preprocessed\"].values\n",
    "\n",
    "# Tokenize each review in the corpora\n",
    "tokenized = [corpus.split(\" \") for corpus in corpora]\n",
    "\n",
    "# Define the bigram model\n",
    "bi_gram = Phrases(tokenized, min_count=300, threshold=50)\n",
    "\n",
    "# Define the trigram model\n",
    "tri_gram = Phrases(bi_gram[tokenized], min_count=300, threshold=50)\n",
    "\n",
    "# Extract unique unigram tokens\n",
    "uni_gram_tokens = set([token for text in tokenized for token in text])\n",
    "# Remove empty strings\n",
    "uni_gram_tokens = set(filter(lambda x: x != \"\", uni_gram_tokens))\n",
    "\n",
    "# Uncomment to print a sample (when running locally)\n",
    "print(list(uni_gram_tokens)[:50])\n",
    "\n",
    "\n",
    "\n"
   ]
  },
  {
   "cell_type": "code",
   "execution_count": 12,
   "id": "39edfbb7",
   "metadata": {
    "ExecuteTime": {
     "end_time": "2023-10-25T15:09:28.315878268Z",
     "start_time": "2023-10-25T15:09:28.206439063Z"
    }
   },
   "outputs": [
    {
     "name": "stdout",
     "output_type": "stream",
     "text": [
      "['buy', 'two', '8', '5', 'fl', 'oz', 'hand', 'cream', 'neither', 'dispenser', 'work', 'hand', 'cream', 'wonderful', 'thick', 'see', 'get', 'much', 'shake', 'since', 'dispenser', 'seem', 'non', 'operable']\n",
      "['wife', 'one', 'ton', 'excellent', 'fragrant', 'take', 'slip', 'saved', 'intensive', 'farm', 'uk', 'awesome', 'course', 'eye', 'perfumy', 'anyway', 'staple', 'dad', 'sore', 'exceptional', 'good', 'round', 'gentle', 'hopefully', 'crazy', 'aware', 'wrong', 'remarkable', 'quarter', 'cant', 'belong', 'odor', 'legs', 'second', 'c', 'tool', 'woman', 'original', 'greasy', 'handwashing', 'love', 'old', 'man', 'tried', 'combination', 'family', 'makeup', 'patch', 'came', '30']\n"
     ]
    }
   ],
   "source": [
    "corpora = df[\"preprocessed\"].values\n",
    "tokenized = [corpus.split(\" \") for corpus in corpora]\n",
    "\n",
    "print(tokenized[0])\n",
    "\n",
    "\n",
    "from gensim.models import Phrases\n",
    "from gensim.models.phrases import Phraser\n",
    "\n",
    "bi_gram = Phrases(tokenized, min_count=300, threshold=50)\n",
    "\n",
    "tri_gram = Phrases(bi_gram[tokenized], min_count=300, threshold=50)\n",
    "\n",
    "\n",
    "\n",
    "uni_gram_tokens = set([token for text in tokenized for token in text])\n",
    "uni_gram_tokens = set(filter(lambda x: x != \"\", uni_gram_tokens))\n",
    "\n",
    "print(list(uni_gram_tokens)[:50])\n",
    "\n",
    "bi_gram_tokens = set([token.decode(\"utf-8\") if isinstance(token, bytes) else token for token in bi_gram.vocab.keys()])\n",
    "tri_gram_tokens = set([token.decode(\"utf-8\") if isinstance(token, bytes) else token for token in tri_gram.vocab.keys()])\n",
    "\n",
    "bi_grams_only = bi_gram_tokens.difference(uni_gram_tokens)\n",
    "tri_grams_only = tri_gram_tokens.difference(bi_gram_tokens)"
   ]
  },
  {
   "cell_type": "markdown",
   "id": "f056376d",
   "metadata": {},
   "source": [
    "---\n",
    "\n",
    "### <span style=\"color: #2e6c80;\">&#128293; Final Text Preprocessing Steps</span>\n",
    "\n",
    "---\n",
    "\n",
    "#### <span style=\"color: #a46497;\">&#10060; Removing Single-Character Tokens</span>\n",
    "<span style=\"font-size: 16px;\">We will remove any tokens that consist of single characters, as they usually don't carry meaningful information.</span>\n",
    "\n",
    "---\n",
    "\n",
    "#### <span style=\"color: #a46497;\">&#128214; Creating the Vocabulary</span>\n",
    "<span style=\"font-size: 16px;\">The vocabulary consists of unique tokens across all reviews, each mapped to a unique ID.</span>\n",
    "\n",
    "---\n",
    "\n",
    "#### <span style=\"color: #a46497;\">&#128202; Count-Based Feature Engineering: Bag of Words Model</span>\n",
    "<span style=\"font-size: 16px;\">In this model, each document is represented as a vector, where each element corresponds to the frequency of a unique token in that document.</span>\n",
    "\n",
    "---\n",
    "\n",
    "#### <span style=\"color: #a46497;\">&#128187; Python Code for Final Steps</span>\n",
    "<span style=\"font-size: 16px;\">Firstly, let's remove single-character tokens from each document.</span>\n",
    "\n",
    "---\n"
   ]
  },
  {
   "cell_type": "code",
   "execution_count": 13,
   "id": "1ffccb21",
   "metadata": {
    "ExecuteTime": {
     "end_time": "2023-10-25T15:09:30.304296338Z",
     "start_time": "2023-10-25T15:09:30.271465638Z"
    }
   },
   "outputs": [
    {
     "name": "stdout",
     "output_type": "stream",
     "text": [
      "['buy', 'two', 'fl', 'oz', 'hand', 'cream', 'neither', 'dispenser', 'work', 'hand', 'cream', 'wonderful', 'thick', 'see', 'get', 'much', 'shake', 'since', 'dispenser', 'seem', 'non', 'operable']\n"
     ]
    }
   ],
   "source": [
    "# Remove single-character tokens\n",
    "tokenized = [list(filter(lambda x: len(x) > 1, document)) for document in tokenized]\n",
    "print(tokenized[0])"
   ]
  },
  {
   "cell_type": "markdown",
   "id": "8d72111f",
   "metadata": {},
   "source": [
    "Now, let's create the vocabulary using gensim's `Dictionary` class.\n"
   ]
  },
  {
   "cell_type": "code",
   "execution_count": 14,
   "id": "2cce2853",
   "metadata": {
    "ExecuteTime": {
     "end_time": "2023-10-25T15:09:33.220596024Z",
     "start_time": "2023-10-25T15:09:33.194773522Z"
    }
   },
   "outputs": [
    {
     "name": "stdout",
     "output_type": "stream",
     "text": [
      "ID: 0, Token: buy\n",
      "ID: 1, Token: cream\n",
      "ID: 2, Token: dispenser\n",
      "ID: 3, Token: fl\n",
      "ID: 4, Token: get\n",
      "ID: 5, Token: hand\n",
      "ID: 6, Token: much\n",
      "ID: 7, Token: neither\n",
      "ID: 8, Token: non\n",
      "ID: 9, Token: operable\n"
     ]
    }
   ],
   "source": [
    "from gensim.corpora.dictionary import Dictionary\n",
    "\n",
    "# Create the vocabulary\n",
    "vocabulary = Dictionary(tokenized)\n",
    "\n",
    "# Print the first 10 words in the vocabulary\n",
    "vocabulary_keys = list(vocabulary.token2id)[:10]\n",
    "for key in vocabulary_keys:\n",
    "    print(f\"ID: {vocabulary.token2id[key]}, Token: {key}\")"
   ]
  },
  {
   "cell_type": "markdown",
   "id": "8568e979",
   "metadata": {},
   "source": [
    "Finally, let's create the Bag of Words (BoW) representation for each document.\n"
   ]
  },
  {
   "cell_type": "code",
   "execution_count": 15,
   "id": "7db58650",
   "metadata": {
    "ExecuteTime": {
     "end_time": "2023-10-25T15:09:35.403952922Z",
     "start_time": "2023-10-25T15:09:35.357014787Z"
    }
   },
   "outputs": [
    {
     "name": "stdout",
     "output_type": "stream",
     "text": [
      "Word: buy, Frequency: 1\n",
      "Word: cream, Frequency: 2\n",
      "Word: dispenser, Frequency: 2\n",
      "Word: fl, Frequency: 1\n",
      "Word: get, Frequency: 1\n",
      "Word: hand, Frequency: 2\n",
      "Word: much, Frequency: 1\n",
      "Word: neither, Frequency: 1\n",
      "Word: non, Frequency: 1\n",
      "Word: operable, Frequency: 1\n",
      "Word: oz, Frequency: 1\n",
      "Word: see, Frequency: 1\n",
      "Word: seem, Frequency: 1\n",
      "Word: shake, Frequency: 1\n",
      "Word: since, Frequency: 1\n",
      "Word: thick, Frequency: 1\n",
      "Word: two, Frequency: 1\n",
      "Word: wonderful, Frequency: 1\n",
      "Word: work, Frequency: 1\n"
     ]
    }
   ],
   "source": [
    "# Create Bag of Words model for each document\n",
    "bow = [vocabulary.doc2bow(doc) for doc in tokenized]\n",
    "\n",
    "# Print the word frequency for the first document\n",
    "for idx, freq in bow[0]:\n",
    "    print(f\"Word: {vocabulary.get(idx)}, Frequency: {freq}\")"
   ]
  },
  {
   "cell_type": "markdown",
   "id": "2a5451ec",
   "metadata": {},
   "source": [
    "---\n",
    "\n",
    "### <span style=\"color: #2e6c80;\">&#9881; Advanced Feature Engineering Techniques for NLP</span>\n",
    "\n",
    "---\n",
    "\n",
    "#### <span style=\"color: #a46497;\">&#128200; TF-IDF Model</span>\n",
    "<span style=\"font-size: 16px;\">The TF-IDF model assigns continuous values to tokens based on their importance in the document and the entire corpus. This allows for more nuanced features than simple term frequency.</span>\n",
    "\n",
    "---\n",
    "\n",
    "#### <span style=\"color: #a46497;\">&#127344; Word Embedding: Word2Vec Model</span>\n",
    "<span style=\"font-size: 16px;\">Word2Vec captures semantic meaning by considering the context in which words appear. This results in a dense vector representation for each token.</span>\n",
    "\n",
    "---\n",
    "\n",
    "#### <span style=\"color: #a46497;\">&#128203; Final Dataframe</span>\n",
    "<span style=\"font-size: 16px;\">We'll create a final dataframe where each row corresponds to a product review and columns represent feature-engineered tokens.</span>\n",
    "\n",
    "---\n",
    "\n",
    "#### <span style=\"color: #a46497;\">&#128187; Python Code for Advanced Feature Engineering</span>\n",
    "<span style=\"font-size: 16px;\">First, let's create the TF-IDF model using the Bag of Words (BoW) representation we generated earlier.</span>\n",
    "\n",
    "---\n"
   ]
  },
  {
   "cell_type": "code",
   "execution_count": 16,
   "id": "4b34b538",
   "metadata": {
    "ExecuteTime": {
     "end_time": "2023-10-25T15:09:37.878271516Z",
     "start_time": "2023-10-25T15:09:37.826810216Z"
    }
   },
   "outputs": [
    {
     "name": "stdout",
     "output_type": "stream",
     "text": [
      "Word: buy, Weight: 0.132\n",
      "Word: cream, Weight: 0.140\n",
      "Word: dispenser, Weight: 0.549\n",
      "Word: fl, Weight: 0.275\n",
      "Word: get, Weight: 0.126\n",
      "Word: hand, Weight: 0.067\n",
      "Word: much, Weight: 0.165\n",
      "Word: neither, Weight: 0.275\n",
      "Word: non, Weight: 0.189\n",
      "Word: operable, Weight: 0.275\n",
      "Word: oz, Weight: 0.226\n",
      "Word: see, Weight: 0.213\n",
      "Word: seem, Weight: 0.183\n",
      "Word: shake, Weight: 0.275\n",
      "Word: since, Weight: 0.183\n",
      "Word: thick, Weight: 0.213\n",
      "Word: two, Weight: 0.204\n",
      "Word: wonderful, Weight: 0.132\n",
      "Word: work, Weight: 0.088\n"
     ]
    }
   ],
   "source": [
    "from gensim.models.tfidfmodel import TfidfModel\n",
    "\n",
    "# Create the TF-IDF model\n",
    "tfidf = TfidfModel(bow)\n",
    "\n",
    "# Display TF-IDF weights for the first document\n",
    "for idx, weight in tfidf[bow[0]]:\n",
    "    print(f\"Word: {vocabulary.get(idx)}, Weight: {weight:.3f}\")"
   ]
  },
  {
   "cell_type": "markdown",
   "id": "8b2e3328",
   "metadata": {},
   "source": [
    "Next, we'll create word vectors using the Word2Vec model.\n"
   ]
  },
  {
   "cell_type": "code",
   "execution_count": 17,
   "id": "104eabe0",
   "metadata": {
    "ExecuteTime": {
     "end_time": "2023-10-25T15:09:39.550719640Z",
     "start_time": "2023-10-25T15:09:39.483440809Z"
    }
   },
   "outputs": [
    {
     "name": "stdout",
     "output_type": "stream",
     "text": [
      "CPU times: user 43.1 ms, sys: 813 µs, total: 43.9 ms\n",
      "Wall time: 43.1 ms\n"
     ]
    }
   ],
   "source": [
    "%%time\n",
    "import numpy as np\n",
    "from gensim.models import word2vec\n",
    "\n",
    "# Suppress scientific notation\n",
    "np.set_printoptions(suppress=True)\n",
    "\n",
    "# Parameters for Word2Vec\n",
    "feature_size = 100\n",
    "context_size = 20\n",
    "min_word = 1\n",
    "\n",
    "# Create the Word2Vec model\n",
    "word_vec = word2vec.Word2Vec(tokenized, vector_size=feature_size, window=context_size, min_count=min_word, seed=42)\n",
    "\n",
    "# Unpack vocabulary and corresponding indices\n",
    "word_vec_unpack = [(word, word_vec.wv.key_to_index[word]) for word in word_vec.wv.index_to_key]\n",
    "\n",
    "# Separate tokens and indexes\n",
    "tokens, indexes = zip(*word_vec_unpack)\n",
    "\n",
    "# Create DataFrame from word vectors\n",
    "word_vec_df = pd.DataFrame(word_vec.wv.vectors[indexes, :], index=tokens)\n"
   ]
  },
  {
   "cell_type": "markdown",
   "id": "2a393589",
   "metadata": {},
   "source": [
    "---\n",
    "\n",
    "### Finalizing the Dataframe for Machine Learning\n",
    "\n",
    "#### Averaging Word Vectors\n",
    "To represent each review by a single feature vector, we average the word vectors for all the words in the review. This approach gives us a fixed-length feature vector for each review while capturing the semantic essence of the text.\n",
    "\n",
    "#### Appending Labels\n",
    "We'll also append the actual ratings to our dataframe as labels for supervised learning.\n",
    "\n",
    "---\n",
    "\n",
    "#### Python Code for Final Steps\n",
    "\n",
    "First, we'll create an array by averaging the word vectors for each tokenized review."
   ]
  },
  {
   "cell_type": "code",
   "execution_count": 18,
   "id": "dfb0fa3c",
   "metadata": {
    "ExecuteTime": {
     "end_time": "2023-10-25T15:09:41.351464918Z",
     "start_time": "2023-10-25T15:09:41.086149449Z"
    }
   },
   "outputs": [],
   "source": [
    "import numpy as np\n",
    "\n",
    "# Convert the list of tokenized documents to a NumPy array\n",
    "tokenized_array = np.array(tokenized)\n",
    "\n",
    "# Average the word vectors for each tokenized document\n",
    "model_array = np.array([word_vec_df.loc[doc].mean(axis=0) for doc in tokenized_array])\n"
   ]
  },
  {
   "cell_type": "markdown",
   "id": "12566845",
   "metadata": {},
   "source": [
    "Now, let's create our final dataframe by appending the \"overall\" ratings as labels.\n"
   ]
  },
  {
   "cell_type": "code",
   "execution_count": 19,
   "id": "eb895c49",
   "metadata": {
    "ExecuteTime": {
     "end_time": "2023-10-25T15:09:46.739359276Z",
     "start_time": "2023-10-25T15:09:46.694452496Z"
    }
   },
   "outputs": [
    {
     "data": {
      "text/plain": "          0         1         2         3         4         5         6  \\\n0  0.038052  0.004865 -0.024110  0.010721 -0.037630  0.041794  0.032024   \n1  0.052540  0.004689 -0.031707  0.012001 -0.049165  0.052489  0.039805   \n2  0.091265  0.012553 -0.058918  0.025599 -0.083858  0.090943  0.065649   \n3  0.058757  0.004504 -0.032863  0.013218 -0.058132  0.065929  0.042285   \n4  0.042354  0.005214 -0.023693  0.007682 -0.038925  0.042409  0.034456   \n\n          7         8         9  ...        91        92        93        94  \\\n0  0.056262 -0.050149 -0.039923  ...  0.093524  0.021550 -0.060988  0.039820   \n1  0.071640 -0.063980 -0.053687  ...  0.119244  0.029261 -0.079338  0.049145   \n2  0.120296 -0.110941 -0.100185  ...  0.207992  0.050040 -0.134394  0.086564   \n3  0.082873 -0.076799 -0.064917  ...  0.142833  0.031836 -0.089993  0.059574   \n4  0.060884 -0.053595 -0.042374  ...  0.099172  0.023725 -0.063907  0.043111   \n\n         95        96        97        98        99  label  \n0 -0.020458 -0.010438  0.042767 -0.049443 -0.019308      2  \n1 -0.025435 -0.011774  0.054912 -0.063711 -0.025719      5  \n2 -0.041691 -0.028928  0.092000 -0.108401 -0.044358      5  \n3 -0.028778 -0.014917  0.063816 -0.075977 -0.026728      5  \n4 -0.023355 -0.011738  0.047667 -0.051948 -0.021862      5  \n\n[5 rows x 101 columns]",
      "text/html": "<div>\n<style scoped>\n    .dataframe tbody tr th:only-of-type {\n        vertical-align: middle;\n    }\n\n    .dataframe tbody tr th {\n        vertical-align: top;\n    }\n\n    .dataframe thead th {\n        text-align: right;\n    }\n</style>\n<table border=\"1\" class=\"dataframe\">\n  <thead>\n    <tr style=\"text-align: right;\">\n      <th></th>\n      <th>0</th>\n      <th>1</th>\n      <th>2</th>\n      <th>3</th>\n      <th>4</th>\n      <th>5</th>\n      <th>6</th>\n      <th>7</th>\n      <th>8</th>\n      <th>9</th>\n      <th>...</th>\n      <th>91</th>\n      <th>92</th>\n      <th>93</th>\n      <th>94</th>\n      <th>95</th>\n      <th>96</th>\n      <th>97</th>\n      <th>98</th>\n      <th>99</th>\n      <th>label</th>\n    </tr>\n  </thead>\n  <tbody>\n    <tr>\n      <th>0</th>\n      <td>0.038052</td>\n      <td>0.004865</td>\n      <td>-0.024110</td>\n      <td>0.010721</td>\n      <td>-0.037630</td>\n      <td>0.041794</td>\n      <td>0.032024</td>\n      <td>0.056262</td>\n      <td>-0.050149</td>\n      <td>-0.039923</td>\n      <td>...</td>\n      <td>0.093524</td>\n      <td>0.021550</td>\n      <td>-0.060988</td>\n      <td>0.039820</td>\n      <td>-0.020458</td>\n      <td>-0.010438</td>\n      <td>0.042767</td>\n      <td>-0.049443</td>\n      <td>-0.019308</td>\n      <td>2</td>\n    </tr>\n    <tr>\n      <th>1</th>\n      <td>0.052540</td>\n      <td>0.004689</td>\n      <td>-0.031707</td>\n      <td>0.012001</td>\n      <td>-0.049165</td>\n      <td>0.052489</td>\n      <td>0.039805</td>\n      <td>0.071640</td>\n      <td>-0.063980</td>\n      <td>-0.053687</td>\n      <td>...</td>\n      <td>0.119244</td>\n      <td>0.029261</td>\n      <td>-0.079338</td>\n      <td>0.049145</td>\n      <td>-0.025435</td>\n      <td>-0.011774</td>\n      <td>0.054912</td>\n      <td>-0.063711</td>\n      <td>-0.025719</td>\n      <td>5</td>\n    </tr>\n    <tr>\n      <th>2</th>\n      <td>0.091265</td>\n      <td>0.012553</td>\n      <td>-0.058918</td>\n      <td>0.025599</td>\n      <td>-0.083858</td>\n      <td>0.090943</td>\n      <td>0.065649</td>\n      <td>0.120296</td>\n      <td>-0.110941</td>\n      <td>-0.100185</td>\n      <td>...</td>\n      <td>0.207992</td>\n      <td>0.050040</td>\n      <td>-0.134394</td>\n      <td>0.086564</td>\n      <td>-0.041691</td>\n      <td>-0.028928</td>\n      <td>0.092000</td>\n      <td>-0.108401</td>\n      <td>-0.044358</td>\n      <td>5</td>\n    </tr>\n    <tr>\n      <th>3</th>\n      <td>0.058757</td>\n      <td>0.004504</td>\n      <td>-0.032863</td>\n      <td>0.013218</td>\n      <td>-0.058132</td>\n      <td>0.065929</td>\n      <td>0.042285</td>\n      <td>0.082873</td>\n      <td>-0.076799</td>\n      <td>-0.064917</td>\n      <td>...</td>\n      <td>0.142833</td>\n      <td>0.031836</td>\n      <td>-0.089993</td>\n      <td>0.059574</td>\n      <td>-0.028778</td>\n      <td>-0.014917</td>\n      <td>0.063816</td>\n      <td>-0.075977</td>\n      <td>-0.026728</td>\n      <td>5</td>\n    </tr>\n    <tr>\n      <th>4</th>\n      <td>0.042354</td>\n      <td>0.005214</td>\n      <td>-0.023693</td>\n      <td>0.007682</td>\n      <td>-0.038925</td>\n      <td>0.042409</td>\n      <td>0.034456</td>\n      <td>0.060884</td>\n      <td>-0.053595</td>\n      <td>-0.042374</td>\n      <td>...</td>\n      <td>0.099172</td>\n      <td>0.023725</td>\n      <td>-0.063907</td>\n      <td>0.043111</td>\n      <td>-0.023355</td>\n      <td>-0.011738</td>\n      <td>0.047667</td>\n      <td>-0.051948</td>\n      <td>-0.021862</td>\n      <td>5</td>\n    </tr>\n  </tbody>\n</table>\n<p>5 rows × 101 columns</p>\n</div>"
     },
     "metadata": {},
     "output_type": "display_data"
    }
   ],
   "source": [
    "import pandas as pd\n",
    "\n",
    "# Create the final dataframe\n",
    "model_df = pd.DataFrame(model_array)\n",
    "\n",
    "# Add the 'overall' ratings as labels\n",
    "model_df[\"label\"] = df[\"overall\"]\n",
    "\n",
    "# Display the first few rows of the dataframe\n",
    "display(model_df.head())"
   ]
  },
  {
   "cell_type": "markdown",
   "id": "74a172a9",
   "metadata": {},
   "source": [
    "---\n",
    "\n",
    "### <span style=\"color: #2e6c80;\">&#128202; Visualizing Data using Principal Component Analysis (PCA)</span>\n",
    "\n",
    "---\n",
    "\n",
    "#### <span style=\"color: #a46497;\">&#10148; Objective</span>\n",
    "<span style=\"font-size: 16px;\">We aim to reduce the dimensionality of our feature set (`model_df`) to visualize if the reviews with the same ratings are clustering together in the two-dimensional space. If the points belonging to the same rating are clustered together, it likely indicates a well-defined pattern that a machine learning algorithm can learn.</span>\n",
    "\n",
    "---\n",
    "\n",
    "#### <span style=\"color: #a46497;\">&#9879; Procedure</span>\n",
    "<span style=\"font-size: 16px;\">We use PCA to reduce the dimensions from 100 to just two. We then plot these two dimensions, color-coding the points based on their actual ratings.</span>\n",
    "\n",
    "---\n",
    "\n",
    "#### <span style=\"color: #a46497;\">&#128187; Python Code for PCA Visualization</span>\n",
    "<span style=\"font-size: 16px;\">First, let's prepare our data for PCA by sampling and dropping NaN values.</span>\n",
    "\n",
    "---\n"
   ]
  },
  {
   "cell_type": "code",
   "execution_count": 20,
   "id": "327f20b7",
   "metadata": {
    "ExecuteTime": {
     "end_time": "2023-10-25T15:09:50.068535338Z",
     "start_time": "2023-10-25T15:09:50.017901421Z"
    }
   },
   "outputs": [],
   "source": [
    "# Prepare the data\n",
    "pca_df = model_df.reset_index()\n",
    "pca_df = model_df.dropna(axis=0).iloc[:,1:]\n",
    "pca_df = pca_df.iloc[::50]"
   ]
  },
  {
   "cell_type": "markdown",
   "id": "25f69c9d",
   "metadata": {},
   "source": [
    "Now, let's perform PCA to reduce the dimensions to 2.\n"
   ]
  },
  {
   "cell_type": "code",
   "execution_count": 21,
   "id": "cb08bd7d",
   "metadata": {
    "ExecuteTime": {
     "end_time": "2023-10-25T15:09:54.375431991Z",
     "start_time": "2023-10-25T15:09:54.294394096Z"
    }
   },
   "outputs": [],
   "source": [
    "from sklearn.decomposition import PCA\n",
    "\n",
    "# Perform PCA\n",
    "pca = PCA(n_components=2, random_state=42)\n",
    "pca_result = pca.fit_transform(pca_df.iloc[:, :-1])\n",
    "labels = pca_df[\"label\"]\n"
   ]
  },
  {
   "cell_type": "markdown",
   "id": "9b3128ae",
   "metadata": {},
   "source": [
    "Finally, let's plot the 2D representation of our data, color-coded by the actual ratings.\n"
   ]
  },
  {
   "cell_type": "code",
   "execution_count": 22,
   "id": "ea8328e7",
   "metadata": {
    "ExecuteTime": {
     "end_time": "2023-10-25T15:09:56.324090538Z",
     "start_time": "2023-10-25T15:09:56.112270423Z"
    }
   },
   "outputs": [
    {
     "data": {
      "text/plain": "<Figure size 2000x1000 with 1 Axes>",
      "image/png": "[encoded data removed]"
     },
     "metadata": {},
     "output_type": "display_data"
    }
   ],
   "source": [
    "import matplotlib.pyplot as plt\n",
    "\n",
    "# Prepare plot components\n",
    "x_axis = pca_result[:, 0]\n",
    "y_axis = pca_result[:, 1]\n",
    "color_map = labels.map({1: \"blue\", 2: \"red\", 3: \"yellow\", 4: \"green\", 5: \"orange\"})\n",
    "\n",
    "# Create the plot\n",
    "f, axes = plt.subplots(figsize=(20, 10))\n",
    "plt.scatter(x_axis, y_axis, color=color_map, s=1)\n",
    "plt.xlabel('Principal Component 1')\n",
    "plt.ylabel('Principal Component 2')\n",
    "plt.title('2D PCA of Amazon Reviews')\n",
    "plt.show()"
   ]
  },
  {
   "cell_type": "markdown",
   "id": "593f7267",
   "metadata": {},
   "source": [
    "---\n",
    "\n",
    "### <span style=\"color: #2e6c80;\">&#128269; Exploratory Data Analysis on Word Embeddings</span>\n",
    "\n",
    "---\n",
    "\n",
    "#### <span style=\"color: #a46497;\">&#10148; Objective</span>\n",
    "<span style=\"font-size: 16px;\">We aim to explore and understand the semantic relationships between words in our Amazon dataset. We will use the `word_vec` model, which contains word embeddings trained on our corpus, to find the most similar words to a given set of common words.</span>\n",
    "\n",
    "---\n",
    "\n",
    "#### <span style=\"color: #a46497;\">&#128214; Identifying Most Similar Words</span>\n",
    "<span style=\"font-size: 16px;\">We will start with five common words often appearing in product reviews: \"color\", \"love\", \"use\", \"great\", and \"product\". For each of these words, we will identify the top 5 most similar words based on the word embeddings.</span>\n",
    "\n",
    "---\n",
    "\n",
    "#### <span style=\"color: #a46497;\">&#128187; Python Code</span>\n",
    "<span style=\"font-size: 16px;\">Here's how you can find the most similar words for each word in your `word_bank`:</span>\n",
    "\n",
    "---\n"
   ]
  },
  {
   "cell_type": "code",
   "execution_count": 1,
   "id": "4a0c0ec8",
   "metadata": {
    "ExecuteTime": {
     "end_time": "2023-10-25T18:48:11.003106616Z",
     "start_time": "2023-10-25T18:48:10.939919013Z"
    }
   },
   "outputs": [
    {
     "ename": "NameError",
     "evalue": "name 'word_vec_df' is not defined",
     "output_type": "error",
     "traceback": [
      "\u001B[0;31m---------------------------------------------------------------------------\u001B[0m",
      "\u001B[0;31mNameError\u001B[0m                                 Traceback (most recent call last)",
      "\u001B[0;32m/tmp/ipykernel_572747/3544270913.py\u001B[0m in \u001B[0;36m<module>\u001B[0;34m\u001B[0m\n\u001B[1;32m      1\u001B[0m \u001B[0;32mimport\u001B[0m \u001B[0mnumpy\u001B[0m \u001B[0;32mas\u001B[0m \u001B[0mnp\u001B[0m\u001B[0;34m\u001B[0m\u001B[0;34m\u001B[0m\u001B[0m\n\u001B[1;32m      2\u001B[0m \u001B[0;32mfrom\u001B[0m \u001B[0mcollections\u001B[0m \u001B[0;32mimport\u001B[0m \u001B[0mCounter\u001B[0m\u001B[0;34m\u001B[0m\u001B[0;34m\u001B[0m\u001B[0m\n\u001B[0;32m----> 3\u001B[0;31m \u001B[0mword_count\u001B[0m \u001B[0;34m=\u001B[0m \u001B[0mCounter\u001B[0m\u001B[0;34m(\u001B[0m\u001B[0mword_vec_df\u001B[0m\u001B[0;34m.\u001B[0m\u001B[0mindex\u001B[0m\u001B[0;34m.\u001B[0m\u001B[0mtolist\u001B[0m\u001B[0;34m(\u001B[0m\u001B[0;34m)\u001B[0m\u001B[0;34m)\u001B[0m\u001B[0;34m\u001B[0m\u001B[0;34m\u001B[0m\u001B[0m\n\u001B[0m\u001B[1;32m      4\u001B[0m \u001B[0mcommon_words\u001B[0m \u001B[0;34m=\u001B[0m \u001B[0mword_count\u001B[0m\u001B[0;34m.\u001B[0m\u001B[0mmost_common\u001B[0m\u001B[0;34m(\u001B[0m\u001B[0;36m5\u001B[0m\u001B[0;34m)\u001B[0m\u001B[0;34m\u001B[0m\u001B[0;34m\u001B[0m\u001B[0m\n\u001B[1;32m      5\u001B[0m \u001B[0;31m# Initialize the word_bank with common words\u001B[0m\u001B[0;34m\u001B[0m\u001B[0;34m\u001B[0m\u001B[0m\n",
      "\u001B[0;31mNameError\u001B[0m: name 'word_vec_df' is not defined"
     ]
    }
   ],
   "source": [
    "import numpy as np\n",
    "from collections import Counter\n",
    "word_count = Counter(word_vec_df.index.tolist())\n",
    "common_words = word_count.most_common(5)\n",
    "# Initialize the word_bank with common words\n",
    "word_bank = [word[0] for word in common_words]\n",
    "\n",
    "\n",
    "# Loop through each word to find its most similar words\n",
    "for word in word_bank:\n",
    "    related_vec = word_vec.wv.most_similar(word, topn=5)\n",
    "    related_words = np.array(related_vec)[:, 0]\n",
    "    print(f\"{word}: {related_words}\")\n"
   ]
  },
  {
   "cell_type": "markdown",
   "source": [
    "---\n",
    "\n",
    "### Visualizing Word Embeddings using t-SNE\n",
    "\n",
    "#### Objective\n",
    "\n",
    "To visualize the semantic relationships between frequently occurring words in our Amazon dataset, we'll employ t-Distributed Stochastic Neighbor Embedding (t-SNE). This technique will help us reduce the high-dimensional word vectors into a 2D space where similar words cluster together.\n",
    "\n",
    "#### t-SNE Visualization\n",
    "\n",
    "We'll visualize the words in `word_bank`, along with their most similar words, using t-SNE. The 2D scatter plot will help us understand the spatial distance between related words.\n",
    "\n",
    "---\n",
    "\n",
    "#### Python Code\n"
   ],
   "metadata": {
    "collapsed": false
   },
   "id": "8790e3abe32d1afe"
  },
  {
   "cell_type": "code",
   "execution_count": null,
   "id": "591fc23a",
   "metadata": {},
   "outputs": [],
   "source": [
    "import matplotlib.pyplot as plt\n",
    "from sklearn.manifold import TSNE\n",
    "\n",
    "# Initialize t-SNE\n",
    "tsne = TSNE(n_components=2, perplexity=5, n_iter=1000, random_state=42)\n",
    "\n",
    "# Extract vectors of words in word_bank\n",
    "sample_vecs = word_vec.wv[set(word_bank)]\n",
    "\n",
    "# Apply t-SNE transformation\n",
    "sample_tsne = tsne.fit_transform(sample_vecs)\n",
    "\n",
    "# Get 2D coordinates\n",
    "tsne_x = sample_tsne[:, 0]\n",
    "tsne_y = sample_tsne[:, 1]\n",
    "\n",
    "# Plot t-SNE results\n",
    "f, axes = plt.subplots(figsize=(20, 7))\n",
    "ax = plt.scatter(x=tsne_x, y=tsne_y)\n",
    "\n",
    "# Annotate each point with the corresponding word\n",
    "for label, x, y in zip(word_bank, tsne_x, tsne_y):\n",
    "    plt.annotate(label, xy=(x + 3, y + 3))\n",
    "\n",
    "plt.show()\n"
   ]
  },
  {
   "cell_type": "code",
   "execution_count": 148,
   "id": "fee850f7",
   "metadata": {},
   "outputs": [
    {
     "data": {
      "text/html": [
       "<div>\n",
       "<style scoped>\n",
       "    .dataframe tbody tr th:only-of-type {\n",
       "        vertical-align: middle;\n",
       "    }\n",
       "\n",
       "    .dataframe tbody tr th {\n",
       "        vertical-align: top;\n",
       "    }\n",
       "\n",
       "    .dataframe thead th {\n",
       "        text-align: right;\n",
       "    }\n",
       "</style>\n",
       "<table border=\"1\" class=\"dataframe\">\n",
       "  <thead>\n",
       "    <tr style=\"text-align: right;\">\n",
       "      <th></th>\n",
       "      <th>overall</th>\n",
       "      <th>vote</th>\n",
       "      <th>verified</th>\n",
       "      <th>reviewerID</th>\n",
       "      <th>asin</th>\n",
       "      <th>reviewerName</th>\n",
       "      <th>reviewText</th>\n",
       "      <th>summary</th>\n",
       "      <th>unixReviewTime</th>\n",
       "      <th>style</th>\n",
       "      <th>image</th>\n",
       "      <th>preprocessed</th>\n",
       "    </tr>\n",
       "  </thead>\n",
       "  <tbody>\n",
       "    <tr>\n",
       "      <th>0</th>\n",
       "      <td>2</td>\n",
       "      <td>3</td>\n",
       "      <td>True</td>\n",
       "      <td>A1Q6MUU0B2ZDQG</td>\n",
       "      <td>B00004U9V2</td>\n",
       "      <td>D. Poston</td>\n",
       "      <td>I bought two of these 8.5 fl oz hand cream, an...</td>\n",
       "      <td>dispensers don't work</td>\n",
       "      <td>06-15-2010</td>\n",
       "      <td>NaN</td>\n",
       "      <td>NaN</td>\n",
       "      <td>buy two 8 5 fl oz hand cream neither dispenser...</td>\n",
       "    </tr>\n",
       "    <tr>\n",
       "      <th>1</th>\n",
       "      <td>5</td>\n",
       "      <td>14</td>\n",
       "      <td>True</td>\n",
       "      <td>A3HO2SQDCZIE9S</td>\n",
       "      <td>B00004U9V2</td>\n",
       "      <td>chandra</td>\n",
       "      <td>Believe me, over the years I have tried many, ...</td>\n",
       "      <td>Best hand cream ever.</td>\n",
       "      <td>01-07-2010</td>\n",
       "      <td>NaN</td>\n",
       "      <td>NaN</td>\n",
       "      <td>believe year try many many different hand crea...</td>\n",
       "    </tr>\n",
       "    <tr>\n",
       "      <th>2</th>\n",
       "      <td>5</td>\n",
       "      <td>NaN</td>\n",
       "      <td>True</td>\n",
       "      <td>A2EM03F99X3RJZ</td>\n",
       "      <td>B00004U9V2</td>\n",
       "      <td>Maureen G</td>\n",
       "      <td>Great hand lotion</td>\n",
       "      <td>Five Stars</td>\n",
       "      <td>04-18-2018</td>\n",
       "      <td>{'Size:': ' 3.5 oz.'}</td>\n",
       "      <td>NaN</td>\n",
       "      <td>great hand lotion</td>\n",
       "    </tr>\n",
       "    <tr>\n",
       "      <th>3</th>\n",
       "      <td>5</td>\n",
       "      <td>NaN</td>\n",
       "      <td>True</td>\n",
       "      <td>A3Z74TDRGD0HU</td>\n",
       "      <td>B00004U9V2</td>\n",
       "      <td>Terry K</td>\n",
       "      <td>This is the best for the severely dry skin on ...</td>\n",
       "      <td>Five Stars</td>\n",
       "      <td>04-18-2018</td>\n",
       "      <td>{'Size:': ' 3.5 oz.'}</td>\n",
       "      <td>NaN</td>\n",
       "      <td>best severely dry skin hand</td>\n",
       "    </tr>\n",
       "    <tr>\n",
       "      <th>4</th>\n",
       "      <td>5</td>\n",
       "      <td>NaN</td>\n",
       "      <td>True</td>\n",
       "      <td>A2UXFNW9RTL4VM</td>\n",
       "      <td>B00004U9V2</td>\n",
       "      <td>Patricia Wood</td>\n",
       "      <td>The best non- oily hand cream ever. It heals o...</td>\n",
       "      <td>I always have a backup ready.</td>\n",
       "      <td>04-17-2018</td>\n",
       "      <td>{'Size:': ' 3.5 oz.'}</td>\n",
       "      <td>NaN</td>\n",
       "      <td>best non oily hand cream ever heal overnight</td>\n",
       "    </tr>\n",
       "    <tr>\n",
       "      <th>...</th>\n",
       "      <td>...</td>\n",
       "      <td>...</td>\n",
       "      <td>...</td>\n",
       "      <td>...</td>\n",
       "      <td>...</td>\n",
       "      <td>...</td>\n",
       "      <td>...</td>\n",
       "      <td>...</td>\n",
       "      <td>...</td>\n",
       "      <td>...</td>\n",
       "      <td>...</td>\n",
       "      <td>...</td>\n",
       "    </tr>\n",
       "    <tr>\n",
       "      <th>4995</th>\n",
       "      <td>4</td>\n",
       "      <td>NaN</td>\n",
       "      <td>True</td>\n",
       "      <td>A1QRAIXTSA1BV0</td>\n",
       "      <td>B000142FVW</td>\n",
       "      <td>JDF</td>\n",
       "      <td>Nice summer/spring pink color.</td>\n",
       "      <td>Four Stars</td>\n",
       "      <td>10-24-2016</td>\n",
       "      <td>{'Color:': ' Soft Pink'}</td>\n",
       "      <td>NaN</td>\n",
       "      <td>nice summer spring pink color</td>\n",
       "    </tr>\n",
       "    <tr>\n",
       "      <th>4996</th>\n",
       "      <td>5</td>\n",
       "      <td>NaN</td>\n",
       "      <td>True</td>\n",
       "      <td>AM3XG32V2KWI6</td>\n",
       "      <td>B000142FVW</td>\n",
       "      <td>Jenn P</td>\n",
       "      <td>This one definitely needs two coats but is so ...</td>\n",
       "      <td>The perfect dainty little pink polish</td>\n",
       "      <td>10-24-2016</td>\n",
       "      <td>{'Color:': ' Bubble Bath'}</td>\n",
       "      <td>NaN</td>\n",
       "      <td>one definitely need two coat pretty definitely...</td>\n",
       "    </tr>\n",
       "    <tr>\n",
       "      <th>4997</th>\n",
       "      <td>5</td>\n",
       "      <td>NaN</td>\n",
       "      <td>True</td>\n",
       "      <td>AFRSM9VEQV9MZ</td>\n",
       "      <td>B000142FVW</td>\n",
       "      <td>slowpokcav</td>\n",
       "      <td>My favorite all time color!</td>\n",
       "      <td>Five Stars</td>\n",
       "      <td>10-24-2016</td>\n",
       "      <td>{'Color:': ' It's a Girl!'}</td>\n",
       "      <td>NaN</td>\n",
       "      <td>favorite time color</td>\n",
       "    </tr>\n",
       "    <tr>\n",
       "      <th>4998</th>\n",
       "      <td>5</td>\n",
       "      <td>NaN</td>\n",
       "      <td>True</td>\n",
       "      <td>AEMIPUKP4YK5Z</td>\n",
       "      <td>B000142FVW</td>\n",
       "      <td>Alex &amp;amp;amp; Amanda Peterson Family</td>\n",
       "      <td>Great color for fall/toenails.</td>\n",
       "      <td>Five Stars</td>\n",
       "      <td>10-23-2016</td>\n",
       "      <td>{'Color:': ' Lincoln Park After Dark'}</td>\n",
       "      <td>NaN</td>\n",
       "      <td>great color fall toenails</td>\n",
       "    </tr>\n",
       "    <tr>\n",
       "      <th>4999</th>\n",
       "      <td>5</td>\n",
       "      <td>NaN</td>\n",
       "      <td>True</td>\n",
       "      <td>AEMIPUKP4YK5Z</td>\n",
       "      <td>B000142FVW</td>\n",
       "      <td>Alex &amp;amp;amp; Amanda Peterson Family</td>\n",
       "      <td>SUCH A BEAUTIFUL NUDE COLOR!!!</td>\n",
       "      <td>Five Stars</td>\n",
       "      <td>10-23-2016</td>\n",
       "      <td>{'Color:': ' Berlin There Done That'}</td>\n",
       "      <td>NaN</td>\n",
       "      <td>beautiful nude color</td>\n",
       "    </tr>\n",
       "  </tbody>\n",
       "</table>\n",
       "<p>5000 rows × 12 columns</p>\n",
       "</div>"
      ],
      "text/plain": [
       "      overall vote  verified      reviewerID        asin  \\\n",
       "0           2    3      True  A1Q6MUU0B2ZDQG  B00004U9V2   \n",
       "1           5   14      True  A3HO2SQDCZIE9S  B00004U9V2   \n",
       "2           5  NaN      True  A2EM03F99X3RJZ  B00004U9V2   \n",
       "3           5  NaN      True   A3Z74TDRGD0HU  B00004U9V2   \n",
       "4           5  NaN      True  A2UXFNW9RTL4VM  B00004U9V2   \n",
       "...       ...  ...       ...             ...         ...   \n",
       "4995        4  NaN      True  A1QRAIXTSA1BV0  B000142FVW   \n",
       "4996        5  NaN      True   AM3XG32V2KWI6  B000142FVW   \n",
       "4997        5  NaN      True   AFRSM9VEQV9MZ  B000142FVW   \n",
       "4998        5  NaN      True   AEMIPUKP4YK5Z  B000142FVW   \n",
       "4999        5  NaN      True   AEMIPUKP4YK5Z  B000142FVW   \n",
       "\n",
       "                               reviewerName  \\\n",
       "0                                 D. Poston   \n",
       "1                                   chandra   \n",
       "2                                 Maureen G   \n",
       "3                                   Terry K   \n",
       "4                             Patricia Wood   \n",
       "...                                     ...   \n",
       "4995                                    JDF   \n",
       "4996                                 Jenn P   \n",
       "4997                             slowpokcav   \n",
       "4998  Alex &amp;amp; Amanda Peterson Family   \n",
       "4999  Alex &amp;amp; Amanda Peterson Family   \n",
       "\n",
       "                                             reviewText  \\\n",
       "0     I bought two of these 8.5 fl oz hand cream, an...   \n",
       "1     Believe me, over the years I have tried many, ...   \n",
       "2                                     Great hand lotion   \n",
       "3     This is the best for the severely dry skin on ...   \n",
       "4     The best non- oily hand cream ever. It heals o...   \n",
       "...                                                 ...   \n",
       "4995                     Nice summer/spring pink color.   \n",
       "4996  This one definitely needs two coats but is so ...   \n",
       "4997                        My favorite all time color!   \n",
       "4998                     Great color for fall/toenails.   \n",
       "4999                     SUCH A BEAUTIFUL NUDE COLOR!!!   \n",
       "\n",
       "                                    summary unixReviewTime  \\\n",
       "0                     dispensers don't work     06-15-2010   \n",
       "1                     Best hand cream ever.     01-07-2010   \n",
       "2                                Five Stars     04-18-2018   \n",
       "3                                Five Stars     04-18-2018   \n",
       "4             I always have a backup ready.     04-17-2018   \n",
       "...                                     ...            ...   \n",
       "4995                             Four Stars     10-24-2016   \n",
       "4996  The perfect dainty little pink polish     10-24-2016   \n",
       "4997                             Five Stars     10-24-2016   \n",
       "4998                             Five Stars     10-23-2016   \n",
       "4999                             Five Stars     10-23-2016   \n",
       "\n",
       "                                       style image  \\\n",
       "0                                        NaN   NaN   \n",
       "1                                        NaN   NaN   \n",
       "2                      {'Size:': ' 3.5 oz.'}   NaN   \n",
       "3                      {'Size:': ' 3.5 oz.'}   NaN   \n",
       "4                      {'Size:': ' 3.5 oz.'}   NaN   \n",
       "...                                      ...   ...   \n",
       "4995                {'Color:': ' Soft Pink'}   NaN   \n",
       "4996              {'Color:': ' Bubble Bath'}   NaN   \n",
       "4997             {'Color:': ' It's a Girl!'}   NaN   \n",
       "4998  {'Color:': ' Lincoln Park After Dark'}   NaN   \n",
       "4999   {'Color:': ' Berlin There Done That'}   NaN   \n",
       "\n",
       "                                           preprocessed  \n",
       "0     buy two 8 5 fl oz hand cream neither dispenser...  \n",
       "1     believe year try many many different hand crea...  \n",
       "2                                     great hand lotion  \n",
       "3                           best severely dry skin hand  \n",
       "4          best non oily hand cream ever heal overnight  \n",
       "...                                                 ...  \n",
       "4995                      nice summer spring pink color  \n",
       "4996  one definitely need two coat pretty definitely...  \n",
       "4997                                favorite time color  \n",
       "4998                          great color fall toenails  \n",
       "4999                               beautiful nude color  \n",
       "\n",
       "[5000 rows x 12 columns]"
      ]
     },
     "execution_count": 148,
     "metadata": {},
     "output_type": "execute_result"
    }
   ],
   "source": [
    "df"
   ]
  },
  {
   "cell_type": "markdown",
   "id": "f5d22fe2",
   "metadata": {},
   "source": [
    "---\n",
    "\n",
    "### <span style=\"color: #2e6c80;\">&#128365; Named-Entity Recognition Using spaCy</span>\n",
    "\n",
    "---\n",
    "\n",
    "#### <span style=\"color: #a46497;\">&#10148; Objective</span>\n",
    "<span style=\"font-size: 16px;\">The goal is to use Named-Entity Recognition (NER) to identify specific entities in Amazon reviews. We'll focus on the most helpful review to see what particular entities are being mentioned and in what context they appear.</span>\n",
    "\n",
    "---\n",
    "\n",
    "#### <span style=\"color: #a46497;\">&#128681; Identifying Most Helpful Review</span>\n",
    "<span style=\"font-size: 16px;\">We start by identifying the review that has received the most helpful votes.</span>\n",
    "\n",
    "---\n",
    "\n",
    "#### <span style=\"color: #a46497;\">&#128187; Python Code</span>\n",
    "\n",
    "---\n"
   ]
  },
  {
   "cell_type": "code",
   "execution_count": 153,
   "id": "ae8c580c",
   "metadata": {},
   "outputs": [
    {
     "name": "stdout",
     "output_type": "stream",
     "text": [
      "I bought two of these 8.5 fl oz hand cream, and neither of the dispensers work.  The hand cream is wonderful, but very thick, so I don't see I can get much out by shaking it out, since the dispensers seem to be non-operable.\n"
     ]
    }
   ],
   "source": [
    "# Extract the 'helpful' column to a list\n",
    "helpful = df[\"vote\"].tolist()\n",
    "\n",
    "# Remove None or NaN entries from the list\n",
    "helpful_cleaned = [x for x in helpful if x is not None and x == x]\n",
    "\n",
    "# Now find the review with the most helpful votes\n",
    "most_helpful = max(helpful_cleaned, key=lambda x: x[0] if x and isinstance(x, list) else 0)\n",
    "\n",
    "\n",
    "# Find the index of the most helpful review\n",
    "most_helpful_idx = df[df[\"vote\"].astype(str) == str(most_helpful)].index\n",
    "\n",
    "# Extract the text of the most helpful review\n",
    "most_helpful_text = df[\"reviewText\"].iloc[most_helpful_idx].values[0]\n",
    "\n",
    "# Print the most helpful review text\n",
    "print(most_helpful_text)\n"
   ]
  },
  {
   "cell_type": "markdown",
   "id": "3de957c9",
   "metadata": {},
   "source": [
    "\n",
    "\n",
    "We use ner_dict, a dictionary initialized as a list, to segregate the nouns in the most_helpful_text into the NER tags.\n"
   ]
  },
  {
   "cell_type": "code",
   "execution_count": 157,
   "id": "d4ab871b",
   "metadata": {},
   "outputs": [
    {
     "name": "stdout",
     "output_type": "stream",
     "text": [
      "CARDINAL:\n",
      "[two]\n",
      "\n",
      "CPU times: user 438 ms, sys: 7.99 ms, total: 446 ms\n",
      "Wall time: 449 ms\n"
     ]
    }
   ],
   "source": [
    "%%time\n",
    "import spacy\n",
    "\n",
    "from collections import defaultdict\n",
    "\n",
    "ner = spacy.load(\"en_core_web_sm\")\n",
    "\n",
    "ner_helpful = ner(most_helpful_text)\n",
    "\n",
    "ner_dict = defaultdict(list)\n",
    "for entity in ner_helpful.ents:\n",
    "    ner_dict[entity.label_].append(entity)\n",
    "\n",
    "for NER, name in ner_dict.items():\n",
    "    print(f\"{NER}:\\n{name}\\n\")\n"
   ]
  },
  {
   "cell_type": "markdown",
   "id": "2f9ea7ff",
   "metadata": {},
   "source": [
    "\n",
    "\n",
    "We use displaCy to visualize the tags in the review.\n"
   ]
  },
  {
   "cell_type": "code",
   "execution_count": 158,
   "id": "b3a782dd",
   "metadata": {},
   "outputs": [
    {
     "data": {
      "text/html": [
       "<span class=\"tex2jax_ignore\"><div class=\"entities\" style=\"line-height: 2.5; direction: ltr\">I bought \n",
       "<mark class=\"entity\" style=\"background: #e4e7d2; padding: 0.45em 0.6em; margin: 0 0.25em; line-height: 1; border-radius: 0.35em;\">\n",
       "    two\n",
       "    <span style=\"font-size: 0.8em; font-weight: bold; line-height: 1; border-radius: 0.35em; vertical-align: middle; margin-left: 0.5rem\">CARDINAL</span>\n",
       "</mark>\n",
       " of these 8.5 fl oz hand cream, and neither of the dispensers work.  The hand cream is wonderful, but very thick, so I don't see I can get much out by shaking it out, since the dispensers seem to be non-operable.</div></span>"
      ],
      "text/plain": [
       "<IPython.core.display.HTML object>"
      ]
     },
     "metadata": {},
     "output_type": "display_data"
    }
   ],
   "source": [
    "from spacy import displacy\n",
    "\n",
    "displacy.render(ner_helpful, style=\"ent\", jupyter=True)\n"
   ]
  },
  {
   "cell_type": "markdown",
   "id": "8573f252",
   "metadata": {},
   "source": [
    "---\n",
    "\n",
    "### Dependency Tree Visualization with spaCy\n",
    "\n",
    "The capability of spaCy's Named Entity Recognition (NER) is rooted in its ability to understand the structure of sentences. It breaks down how tokens (words and phrases) interact with and influence each other within a sentence. To visualize this, we'll use spaCy's `displacy` tool to display the dependency trees of the first three sentences in our `most_helpful_text`.\n",
    "\n",
    "#### Import Required Libraries\n",
    "\n",
    "First, let's import the necessary Python libraries:"
   ]
  },
  {
   "cell_type": "code",
   "execution_count": 170,
   "id": "8a3ec62e",
   "metadata": {},
   "outputs": [],
   "source": [
    "def ner_displacy(sentence):\n",
    "    ner_sentence = ner(sentence)\n",
    "    displacy.render(ner_sentence, style='dep', jupyter=True, \n",
    "                    options={\"compact\": False, \n",
    "                             \"distance\": 90, \n",
    "                             \"word_spacing\": 20, \n",
    "                             \"arrow_spacing\": 10, \n",
    "                             \"arrow_stroke\": 2, \n",
    "                             \"arrow_width\": 5})\n"
   ]
  },
  {
   "cell_type": "markdown",
   "id": "3c9df815",
   "metadata": {},
   "source": [
    "#### Function to Display Dependency Trees\n",
    "\n",
    "Here is a function to display the dependency tree of a given sentence using spaCy's `displacy`:\n"
   ]
  },
  {
   "cell_type": "code",
   "execution_count": 171,
   "id": "12c2404b",
   "metadata": {},
   "outputs": [
    {
     "data": {
      "text/html": [
       "<span class=\"tex2jax_ignore\"><svg xmlns=\"http://www.w3.org/2000/svg\" xmlns:xlink=\"http://www.w3.org/1999/xlink\" xml:lang=\"en\" id=\"15ac3c55def0441a9880b2146341c5bc-0\" class=\"displacy\" width=\"590\" height=\"152.0\" direction=\"ltr\" style=\"max-width: none; height: 152.0px; color: #000000; background: #ffffff; font-family: Arial; direction: ltr\">\n",
       "<text class=\"displacy-token\" fill=\"currentColor\" text-anchor=\"middle\" y=\"112.0\">\n",
       "    <tspan class=\"displacy-word\" fill=\"currentColor\" x=\"50\">I</tspan>\n",
       "    <tspan class=\"displacy-tag\" dy=\"2em\" fill=\"currentColor\" x=\"50\">PRON</tspan>\n",
       "</text>\n",
       "\n",
       "<text class=\"displacy-token\" fill=\"currentColor\" text-anchor=\"middle\" y=\"112.0\">\n",
       "    <tspan class=\"displacy-word\" fill=\"currentColor\" x=\"140\">bought</tspan>\n",
       "    <tspan class=\"displacy-tag\" dy=\"2em\" fill=\"currentColor\" x=\"140\">VERB</tspan>\n",
       "</text>\n",
       "\n",
       "<text class=\"displacy-token\" fill=\"currentColor\" text-anchor=\"middle\" y=\"112.0\">\n",
       "    <tspan class=\"displacy-word\" fill=\"currentColor\" x=\"230\">two</tspan>\n",
       "    <tspan class=\"displacy-tag\" dy=\"2em\" fill=\"currentColor\" x=\"230\">NUM</tspan>\n",
       "</text>\n",
       "\n",
       "<text class=\"displacy-token\" fill=\"currentColor\" text-anchor=\"middle\" y=\"112.0\">\n",
       "    <tspan class=\"displacy-word\" fill=\"currentColor\" x=\"320\">of</tspan>\n",
       "    <tspan class=\"displacy-tag\" dy=\"2em\" fill=\"currentColor\" x=\"320\">ADP</tspan>\n",
       "</text>\n",
       "\n",
       "<text class=\"displacy-token\" fill=\"currentColor\" text-anchor=\"middle\" y=\"112.0\">\n",
       "    <tspan class=\"displacy-word\" fill=\"currentColor\" x=\"410\">these</tspan>\n",
       "    <tspan class=\"displacy-tag\" dy=\"2em\" fill=\"currentColor\" x=\"410\">DET</tspan>\n",
       "</text>\n",
       "\n",
       "<text class=\"displacy-token\" fill=\"currentColor\" text-anchor=\"middle\" y=\"112.0\">\n",
       "    <tspan class=\"displacy-word\" fill=\"currentColor\" x=\"500\">8</tspan>\n",
       "    <tspan class=\"displacy-tag\" dy=\"2em\" fill=\"currentColor\" x=\"500\">NUM</tspan>\n",
       "</text>\n",
       "\n",
       "<g class=\"displacy-arrow\">\n",
       "    <path class=\"displacy-arc\" id=\"arrow-15ac3c55def0441a9880b2146341c5bc-0-0\" stroke-width=\"2px\" d=\"M60,92.0 C60,47.0 137.5,47.0 137.5,92.0\" fill=\"none\" stroke=\"currentColor\"/>\n",
       "    <text dy=\"1.25em\" style=\"font-size: 0.8em; letter-spacing: 1px\">\n",
       "        <textPath xlink:href=\"#arrow-15ac3c55def0441a9880b2146341c5bc-0-0\" class=\"displacy-label\" startOffset=\"50%\" side=\"left\" fill=\"currentColor\" text-anchor=\"middle\">nsubj</textPath>\n",
       "    </text>\n",
       "    <path class=\"displacy-arrowhead\" d=\"M60,94.0 L57,87.0 63,87.0\" fill=\"currentColor\"/>\n",
       "</g>\n",
       "\n",
       "<g class=\"displacy-arrow\">\n",
       "    <path class=\"displacy-arc\" id=\"arrow-15ac3c55def0441a9880b2146341c5bc-0-1\" stroke-width=\"2px\" d=\"M150,92.0 C150,47.0 227.5,47.0 227.5,92.0\" fill=\"none\" stroke=\"currentColor\"/>\n",
       "    <text dy=\"1.25em\" style=\"font-size: 0.8em; letter-spacing: 1px\">\n",
       "        <textPath xlink:href=\"#arrow-15ac3c55def0441a9880b2146341c5bc-0-1\" class=\"displacy-label\" startOffset=\"50%\" side=\"left\" fill=\"currentColor\" text-anchor=\"middle\">dobj</textPath>\n",
       "    </text>\n",
       "    <path class=\"displacy-arrowhead\" d=\"M227.5,94.0 L230.5,87.0 224.5,87.0\" fill=\"currentColor\"/>\n",
       "</g>\n",
       "\n",
       "<g class=\"displacy-arrow\">\n",
       "    <path class=\"displacy-arc\" id=\"arrow-15ac3c55def0441a9880b2146341c5bc-0-2\" stroke-width=\"2px\" d=\"M240,92.0 C240,47.0 317.5,47.0 317.5,92.0\" fill=\"none\" stroke=\"currentColor\"/>\n",
       "    <text dy=\"1.25em\" style=\"font-size: 0.8em; letter-spacing: 1px\">\n",
       "        <textPath xlink:href=\"#arrow-15ac3c55def0441a9880b2146341c5bc-0-2\" class=\"displacy-label\" startOffset=\"50%\" side=\"left\" fill=\"currentColor\" text-anchor=\"middle\">prep</textPath>\n",
       "    </text>\n",
       "    <path class=\"displacy-arrowhead\" d=\"M317.5,94.0 L320.5,87.0 314.5,87.0\" fill=\"currentColor\"/>\n",
       "</g>\n",
       "\n",
       "<g class=\"displacy-arrow\">\n",
       "    <path class=\"displacy-arc\" id=\"arrow-15ac3c55def0441a9880b2146341c5bc-0-3\" stroke-width=\"2px\" d=\"M420,92.0 C420,47.0 497.5,47.0 497.5,92.0\" fill=\"none\" stroke=\"currentColor\"/>\n",
       "    <text dy=\"1.25em\" style=\"font-size: 0.8em; letter-spacing: 1px\">\n",
       "        <textPath xlink:href=\"#arrow-15ac3c55def0441a9880b2146341c5bc-0-3\" class=\"displacy-label\" startOffset=\"50%\" side=\"left\" fill=\"currentColor\" text-anchor=\"middle\">det</textPath>\n",
       "    </text>\n",
       "    <path class=\"displacy-arrowhead\" d=\"M420,94.0 L417,87.0 423,87.0\" fill=\"currentColor\"/>\n",
       "</g>\n",
       "\n",
       "<g class=\"displacy-arrow\">\n",
       "    <path class=\"displacy-arc\" id=\"arrow-15ac3c55def0441a9880b2146341c5bc-0-4\" stroke-width=\"2px\" d=\"M330,92.0 C330,2.0 500.0,2.0 500.0,92.0\" fill=\"none\" stroke=\"currentColor\"/>\n",
       "    <text dy=\"1.25em\" style=\"font-size: 0.8em; letter-spacing: 1px\">\n",
       "        <textPath xlink:href=\"#arrow-15ac3c55def0441a9880b2146341c5bc-0-4\" class=\"displacy-label\" startOffset=\"50%\" side=\"left\" fill=\"currentColor\" text-anchor=\"middle\">pobj</textPath>\n",
       "    </text>\n",
       "    <path class=\"displacy-arrowhead\" d=\"M500.0,94.0 L503.0,87.0 497.0,87.0\" fill=\"currentColor\"/>\n",
       "</g>\n",
       "</svg></span>"
      ],
      "text/plain": [
       "<IPython.core.display.HTML object>"
      ]
     },
     "metadata": {},
     "output_type": "display_data"
    },
    {
     "data": {
      "text/html": [
       "<span class=\"tex2jax_ignore\"><svg xmlns=\"http://www.w3.org/2000/svg\" xmlns:xlink=\"http://www.w3.org/1999/xlink\" xml:lang=\"en\" id=\"6209976e13fd49a1aa0c0b19578217e1-0\" class=\"displacy\" width=\"1040\" height=\"242.0\" direction=\"ltr\" style=\"max-width: none; height: 242.0px; color: #000000; background: #ffffff; font-family: Arial; direction: ltr\">\n",
       "<text class=\"displacy-token\" fill=\"currentColor\" text-anchor=\"middle\" y=\"202.0\">\n",
       "    <tspan class=\"displacy-word\" fill=\"currentColor\" x=\"50\">5</tspan>\n",
       "    <tspan class=\"displacy-tag\" dy=\"2em\" fill=\"currentColor\" x=\"50\">NUM</tspan>\n",
       "</text>\n",
       "\n",
       "<text class=\"displacy-token\" fill=\"currentColor\" text-anchor=\"middle\" y=\"202.0\">\n",
       "    <tspan class=\"displacy-word\" fill=\"currentColor\" x=\"140\">fl</tspan>\n",
       "    <tspan class=\"displacy-tag\" dy=\"2em\" fill=\"currentColor\" x=\"140\">NOUN</tspan>\n",
       "</text>\n",
       "\n",
       "<text class=\"displacy-token\" fill=\"currentColor\" text-anchor=\"middle\" y=\"202.0\">\n",
       "    <tspan class=\"displacy-word\" fill=\"currentColor\" x=\"230\">oz</tspan>\n",
       "    <tspan class=\"displacy-tag\" dy=\"2em\" fill=\"currentColor\" x=\"230\">INTJ</tspan>\n",
       "</text>\n",
       "\n",
       "<text class=\"displacy-token\" fill=\"currentColor\" text-anchor=\"middle\" y=\"202.0\">\n",
       "    <tspan class=\"displacy-word\" fill=\"currentColor\" x=\"320\">hand</tspan>\n",
       "    <tspan class=\"displacy-tag\" dy=\"2em\" fill=\"currentColor\" x=\"320\">NOUN</tspan>\n",
       "</text>\n",
       "\n",
       "<text class=\"displacy-token\" fill=\"currentColor\" text-anchor=\"middle\" y=\"202.0\">\n",
       "    <tspan class=\"displacy-word\" fill=\"currentColor\" x=\"410\">cream,</tspan>\n",
       "    <tspan class=\"displacy-tag\" dy=\"2em\" fill=\"currentColor\" x=\"410\">NOUN</tspan>\n",
       "</text>\n",
       "\n",
       "<text class=\"displacy-token\" fill=\"currentColor\" text-anchor=\"middle\" y=\"202.0\">\n",
       "    <tspan class=\"displacy-word\" fill=\"currentColor\" x=\"500\">and</tspan>\n",
       "    <tspan class=\"displacy-tag\" dy=\"2em\" fill=\"currentColor\" x=\"500\">CCONJ</tspan>\n",
       "</text>\n",
       "\n",
       "<text class=\"displacy-token\" fill=\"currentColor\" text-anchor=\"middle\" y=\"202.0\">\n",
       "    <tspan class=\"displacy-word\" fill=\"currentColor\" x=\"590\">neither</tspan>\n",
       "    <tspan class=\"displacy-tag\" dy=\"2em\" fill=\"currentColor\" x=\"590\">PRON</tspan>\n",
       "</text>\n",
       "\n",
       "<text class=\"displacy-token\" fill=\"currentColor\" text-anchor=\"middle\" y=\"202.0\">\n",
       "    <tspan class=\"displacy-word\" fill=\"currentColor\" x=\"680\">of</tspan>\n",
       "    <tspan class=\"displacy-tag\" dy=\"2em\" fill=\"currentColor\" x=\"680\">ADP</tspan>\n",
       "</text>\n",
       "\n",
       "<text class=\"displacy-token\" fill=\"currentColor\" text-anchor=\"middle\" y=\"202.0\">\n",
       "    <tspan class=\"displacy-word\" fill=\"currentColor\" x=\"770\">the</tspan>\n",
       "    <tspan class=\"displacy-tag\" dy=\"2em\" fill=\"currentColor\" x=\"770\">DET</tspan>\n",
       "</text>\n",
       "\n",
       "<text class=\"displacy-token\" fill=\"currentColor\" text-anchor=\"middle\" y=\"202.0\">\n",
       "    <tspan class=\"displacy-word\" fill=\"currentColor\" x=\"860\">dispensers</tspan>\n",
       "    <tspan class=\"displacy-tag\" dy=\"2em\" fill=\"currentColor\" x=\"860\">NOUN</tspan>\n",
       "</text>\n",
       "\n",
       "<text class=\"displacy-token\" fill=\"currentColor\" text-anchor=\"middle\" y=\"202.0\">\n",
       "    <tspan class=\"displacy-word\" fill=\"currentColor\" x=\"950\">work</tspan>\n",
       "    <tspan class=\"displacy-tag\" dy=\"2em\" fill=\"currentColor\" x=\"950\">VERB</tspan>\n",
       "</text>\n",
       "\n",
       "<g class=\"displacy-arrow\">\n",
       "    <path class=\"displacy-arc\" id=\"arrow-6209976e13fd49a1aa0c0b19578217e1-0-0\" stroke-width=\"2px\" d=\"M60,182.0 C60,47.0 407.5,47.0 407.5,182.0\" fill=\"none\" stroke=\"currentColor\"/>\n",
       "    <text dy=\"1.25em\" style=\"font-size: 0.8em; letter-spacing: 1px\">\n",
       "        <textPath xlink:href=\"#arrow-6209976e13fd49a1aa0c0b19578217e1-0-0\" class=\"displacy-label\" startOffset=\"50%\" side=\"left\" fill=\"currentColor\" text-anchor=\"middle\">nummod</textPath>\n",
       "    </text>\n",
       "    <path class=\"displacy-arrowhead\" d=\"M60,184.0 L57,177.0 63,177.0\" fill=\"currentColor\"/>\n",
       "</g>\n",
       "\n",
       "<g class=\"displacy-arrow\">\n",
       "    <path class=\"displacy-arc\" id=\"arrow-6209976e13fd49a1aa0c0b19578217e1-0-1\" stroke-width=\"2px\" d=\"M150,182.0 C150,92.0 405.0,92.0 405.0,182.0\" fill=\"none\" stroke=\"currentColor\"/>\n",
       "    <text dy=\"1.25em\" style=\"font-size: 0.8em; letter-spacing: 1px\">\n",
       "        <textPath xlink:href=\"#arrow-6209976e13fd49a1aa0c0b19578217e1-0-1\" class=\"displacy-label\" startOffset=\"50%\" side=\"left\" fill=\"currentColor\" text-anchor=\"middle\">nmod</textPath>\n",
       "    </text>\n",
       "    <path class=\"displacy-arrowhead\" d=\"M150,184.0 L147,177.0 153,177.0\" fill=\"currentColor\"/>\n",
       "</g>\n",
       "\n",
       "<g class=\"displacy-arrow\">\n",
       "    <path class=\"displacy-arc\" id=\"arrow-6209976e13fd49a1aa0c0b19578217e1-0-2\" stroke-width=\"2px\" d=\"M150,182.0 C150,137.0 222.5,137.0 222.5,182.0\" fill=\"none\" stroke=\"currentColor\"/>\n",
       "    <text dy=\"1.25em\" style=\"font-size: 0.8em; letter-spacing: 1px\">\n",
       "        <textPath xlink:href=\"#arrow-6209976e13fd49a1aa0c0b19578217e1-0-2\" class=\"displacy-label\" startOffset=\"50%\" side=\"left\" fill=\"currentColor\" text-anchor=\"middle\">nmod</textPath>\n",
       "    </text>\n",
       "    <path class=\"displacy-arrowhead\" d=\"M222.5,184.0 L225.5,177.0 219.5,177.0\" fill=\"currentColor\"/>\n",
       "</g>\n",
       "\n",
       "<g class=\"displacy-arrow\">\n",
       "    <path class=\"displacy-arc\" id=\"arrow-6209976e13fd49a1aa0c0b19578217e1-0-3\" stroke-width=\"2px\" d=\"M330,182.0 C330,137.0 402.5,137.0 402.5,182.0\" fill=\"none\" stroke=\"currentColor\"/>\n",
       "    <text dy=\"1.25em\" style=\"font-size: 0.8em; letter-spacing: 1px\">\n",
       "        <textPath xlink:href=\"#arrow-6209976e13fd49a1aa0c0b19578217e1-0-3\" class=\"displacy-label\" startOffset=\"50%\" side=\"left\" fill=\"currentColor\" text-anchor=\"middle\">compound</textPath>\n",
       "    </text>\n",
       "    <path class=\"displacy-arrowhead\" d=\"M330,184.0 L327,177.0 333,177.0\" fill=\"currentColor\"/>\n",
       "</g>\n",
       "\n",
       "<g class=\"displacy-arrow\">\n",
       "    <path class=\"displacy-arc\" id=\"arrow-6209976e13fd49a1aa0c0b19578217e1-0-4\" stroke-width=\"2px\" d=\"M420,182.0 C420,137.0 492.5,137.0 492.5,182.0\" fill=\"none\" stroke=\"currentColor\"/>\n",
       "    <text dy=\"1.25em\" style=\"font-size: 0.8em; letter-spacing: 1px\">\n",
       "        <textPath xlink:href=\"#arrow-6209976e13fd49a1aa0c0b19578217e1-0-4\" class=\"displacy-label\" startOffset=\"50%\" side=\"left\" fill=\"currentColor\" text-anchor=\"middle\">cc</textPath>\n",
       "    </text>\n",
       "    <path class=\"displacy-arrowhead\" d=\"M492.5,184.0 L495.5,177.0 489.5,177.0\" fill=\"currentColor\"/>\n",
       "</g>\n",
       "\n",
       "<g class=\"displacy-arrow\">\n",
       "    <path class=\"displacy-arc\" id=\"arrow-6209976e13fd49a1aa0c0b19578217e1-0-5\" stroke-width=\"2px\" d=\"M600,182.0 C600,47.0 947.5,47.0 947.5,182.0\" fill=\"none\" stroke=\"currentColor\"/>\n",
       "    <text dy=\"1.25em\" style=\"font-size: 0.8em; letter-spacing: 1px\">\n",
       "        <textPath xlink:href=\"#arrow-6209976e13fd49a1aa0c0b19578217e1-0-5\" class=\"displacy-label\" startOffset=\"50%\" side=\"left\" fill=\"currentColor\" text-anchor=\"middle\">nsubj</textPath>\n",
       "    </text>\n",
       "    <path class=\"displacy-arrowhead\" d=\"M600,184.0 L597,177.0 603,177.0\" fill=\"currentColor\"/>\n",
       "</g>\n",
       "\n",
       "<g class=\"displacy-arrow\">\n",
       "    <path class=\"displacy-arc\" id=\"arrow-6209976e13fd49a1aa0c0b19578217e1-0-6\" stroke-width=\"2px\" d=\"M600,182.0 C600,137.0 672.5,137.0 672.5,182.0\" fill=\"none\" stroke=\"currentColor\"/>\n",
       "    <text dy=\"1.25em\" style=\"font-size: 0.8em; letter-spacing: 1px\">\n",
       "        <textPath xlink:href=\"#arrow-6209976e13fd49a1aa0c0b19578217e1-0-6\" class=\"displacy-label\" startOffset=\"50%\" side=\"left\" fill=\"currentColor\" text-anchor=\"middle\">prep</textPath>\n",
       "    </text>\n",
       "    <path class=\"displacy-arrowhead\" d=\"M672.5,184.0 L675.5,177.0 669.5,177.0\" fill=\"currentColor\"/>\n",
       "</g>\n",
       "\n",
       "<g class=\"displacy-arrow\">\n",
       "    <path class=\"displacy-arc\" id=\"arrow-6209976e13fd49a1aa0c0b19578217e1-0-7\" stroke-width=\"2px\" d=\"M780,182.0 C780,137.0 852.5,137.0 852.5,182.0\" fill=\"none\" stroke=\"currentColor\"/>\n",
       "    <text dy=\"1.25em\" style=\"font-size: 0.8em; letter-spacing: 1px\">\n",
       "        <textPath xlink:href=\"#arrow-6209976e13fd49a1aa0c0b19578217e1-0-7\" class=\"displacy-label\" startOffset=\"50%\" side=\"left\" fill=\"currentColor\" text-anchor=\"middle\">det</textPath>\n",
       "    </text>\n",
       "    <path class=\"displacy-arrowhead\" d=\"M780,184.0 L777,177.0 783,177.0\" fill=\"currentColor\"/>\n",
       "</g>\n",
       "\n",
       "<g class=\"displacy-arrow\">\n",
       "    <path class=\"displacy-arc\" id=\"arrow-6209976e13fd49a1aa0c0b19578217e1-0-8\" stroke-width=\"2px\" d=\"M690,182.0 C690,92.0 855.0,92.0 855.0,182.0\" fill=\"none\" stroke=\"currentColor\"/>\n",
       "    <text dy=\"1.25em\" style=\"font-size: 0.8em; letter-spacing: 1px\">\n",
       "        <textPath xlink:href=\"#arrow-6209976e13fd49a1aa0c0b19578217e1-0-8\" class=\"displacy-label\" startOffset=\"50%\" side=\"left\" fill=\"currentColor\" text-anchor=\"middle\">pobj</textPath>\n",
       "    </text>\n",
       "    <path class=\"displacy-arrowhead\" d=\"M855.0,184.0 L858.0,177.0 852.0,177.0\" fill=\"currentColor\"/>\n",
       "</g>\n",
       "\n",
       "<g class=\"displacy-arrow\">\n",
       "    <path class=\"displacy-arc\" id=\"arrow-6209976e13fd49a1aa0c0b19578217e1-0-9\" stroke-width=\"2px\" d=\"M420,182.0 C420,2.0 950.0,2.0 950.0,182.0\" fill=\"none\" stroke=\"currentColor\"/>\n",
       "    <text dy=\"1.25em\" style=\"font-size: 0.8em; letter-spacing: 1px\">\n",
       "        <textPath xlink:href=\"#arrow-6209976e13fd49a1aa0c0b19578217e1-0-9\" class=\"displacy-label\" startOffset=\"50%\" side=\"left\" fill=\"currentColor\" text-anchor=\"middle\">conj</textPath>\n",
       "    </text>\n",
       "    <path class=\"displacy-arrowhead\" d=\"M950.0,184.0 L953.0,177.0 947.0,177.0\" fill=\"currentColor\"/>\n",
       "</g>\n",
       "</svg></span>"
      ],
      "text/plain": [
       "<IPython.core.display.HTML object>"
      ]
     },
     "metadata": {},
     "output_type": "display_data"
    },
    {
     "data": {
      "text/html": [
       "<span class=\"tex2jax_ignore\"><svg xmlns=\"http://www.w3.org/2000/svg\" xmlns:xlink=\"http://www.w3.org/1999/xlink\" xml:lang=\"en\" id=\"42cf866736fb4b2c877cf49bd1c473fd-0\" class=\"displacy\" width=\"2840\" height=\"287.0\" direction=\"ltr\" style=\"max-width: none; height: 287.0px; color: #000000; background: #ffffff; font-family: Arial; direction: ltr\">\n",
       "<text class=\"displacy-token\" fill=\"currentColor\" text-anchor=\"middle\" y=\"247.0\">\n",
       "    <tspan class=\"displacy-word\" fill=\"currentColor\" x=\"50\">  </tspan>\n",
       "    <tspan class=\"displacy-tag\" dy=\"2em\" fill=\"currentColor\" x=\"50\">SPACE</tspan>\n",
       "</text>\n",
       "\n",
       "<text class=\"displacy-token\" fill=\"currentColor\" text-anchor=\"middle\" y=\"247.0\">\n",
       "    <tspan class=\"displacy-word\" fill=\"currentColor\" x=\"140\">The</tspan>\n",
       "    <tspan class=\"displacy-tag\" dy=\"2em\" fill=\"currentColor\" x=\"140\">DET</tspan>\n",
       "</text>\n",
       "\n",
       "<text class=\"displacy-token\" fill=\"currentColor\" text-anchor=\"middle\" y=\"247.0\">\n",
       "    <tspan class=\"displacy-word\" fill=\"currentColor\" x=\"230\">hand</tspan>\n",
       "    <tspan class=\"displacy-tag\" dy=\"2em\" fill=\"currentColor\" x=\"230\">NOUN</tspan>\n",
       "</text>\n",
       "\n",
       "<text class=\"displacy-token\" fill=\"currentColor\" text-anchor=\"middle\" y=\"247.0\">\n",
       "    <tspan class=\"displacy-word\" fill=\"currentColor\" x=\"320\">cream</tspan>\n",
       "    <tspan class=\"displacy-tag\" dy=\"2em\" fill=\"currentColor\" x=\"320\">NOUN</tspan>\n",
       "</text>\n",
       "\n",
       "<text class=\"displacy-token\" fill=\"currentColor\" text-anchor=\"middle\" y=\"247.0\">\n",
       "    <tspan class=\"displacy-word\" fill=\"currentColor\" x=\"410\">is</tspan>\n",
       "    <tspan class=\"displacy-tag\" dy=\"2em\" fill=\"currentColor\" x=\"410\">AUX</tspan>\n",
       "</text>\n",
       "\n",
       "<text class=\"displacy-token\" fill=\"currentColor\" text-anchor=\"middle\" y=\"247.0\">\n",
       "    <tspan class=\"displacy-word\" fill=\"currentColor\" x=\"500\">wonderful,</tspan>\n",
       "    <tspan class=\"displacy-tag\" dy=\"2em\" fill=\"currentColor\" x=\"500\">ADJ</tspan>\n",
       "</text>\n",
       "\n",
       "<text class=\"displacy-token\" fill=\"currentColor\" text-anchor=\"middle\" y=\"247.0\">\n",
       "    <tspan class=\"displacy-word\" fill=\"currentColor\" x=\"590\">but</tspan>\n",
       "    <tspan class=\"displacy-tag\" dy=\"2em\" fill=\"currentColor\" x=\"590\">CCONJ</tspan>\n",
       "</text>\n",
       "\n",
       "<text class=\"displacy-token\" fill=\"currentColor\" text-anchor=\"middle\" y=\"247.0\">\n",
       "    <tspan class=\"displacy-word\" fill=\"currentColor\" x=\"680\">very</tspan>\n",
       "    <tspan class=\"displacy-tag\" dy=\"2em\" fill=\"currentColor\" x=\"680\">ADV</tspan>\n",
       "</text>\n",
       "\n",
       "<text class=\"displacy-token\" fill=\"currentColor\" text-anchor=\"middle\" y=\"247.0\">\n",
       "    <tspan class=\"displacy-word\" fill=\"currentColor\" x=\"770\">thick,</tspan>\n",
       "    <tspan class=\"displacy-tag\" dy=\"2em\" fill=\"currentColor\" x=\"770\">ADJ</tspan>\n",
       "</text>\n",
       "\n",
       "<text class=\"displacy-token\" fill=\"currentColor\" text-anchor=\"middle\" y=\"247.0\">\n",
       "    <tspan class=\"displacy-word\" fill=\"currentColor\" x=\"860\">so</tspan>\n",
       "    <tspan class=\"displacy-tag\" dy=\"2em\" fill=\"currentColor\" x=\"860\">ADV</tspan>\n",
       "</text>\n",
       "\n",
       "<text class=\"displacy-token\" fill=\"currentColor\" text-anchor=\"middle\" y=\"247.0\">\n",
       "    <tspan class=\"displacy-word\" fill=\"currentColor\" x=\"950\">I</tspan>\n",
       "    <tspan class=\"displacy-tag\" dy=\"2em\" fill=\"currentColor\" x=\"950\">PRON</tspan>\n",
       "</text>\n",
       "\n",
       "<text class=\"displacy-token\" fill=\"currentColor\" text-anchor=\"middle\" y=\"247.0\">\n",
       "    <tspan class=\"displacy-word\" fill=\"currentColor\" x=\"1040\">do</tspan>\n",
       "    <tspan class=\"displacy-tag\" dy=\"2em\" fill=\"currentColor\" x=\"1040\">AUX</tspan>\n",
       "</text>\n",
       "\n",
       "<text class=\"displacy-token\" fill=\"currentColor\" text-anchor=\"middle\" y=\"247.0\">\n",
       "    <tspan class=\"displacy-word\" fill=\"currentColor\" x=\"1130\">n't</tspan>\n",
       "    <tspan class=\"displacy-tag\" dy=\"2em\" fill=\"currentColor\" x=\"1130\">PART</tspan>\n",
       "</text>\n",
       "\n",
       "<text class=\"displacy-token\" fill=\"currentColor\" text-anchor=\"middle\" y=\"247.0\">\n",
       "    <tspan class=\"displacy-word\" fill=\"currentColor\" x=\"1220\">see</tspan>\n",
       "    <tspan class=\"displacy-tag\" dy=\"2em\" fill=\"currentColor\" x=\"1220\">VERB</tspan>\n",
       "</text>\n",
       "\n",
       "<text class=\"displacy-token\" fill=\"currentColor\" text-anchor=\"middle\" y=\"247.0\">\n",
       "    <tspan class=\"displacy-word\" fill=\"currentColor\" x=\"1310\">I</tspan>\n",
       "    <tspan class=\"displacy-tag\" dy=\"2em\" fill=\"currentColor\" x=\"1310\">PRON</tspan>\n",
       "</text>\n",
       "\n",
       "<text class=\"displacy-token\" fill=\"currentColor\" text-anchor=\"middle\" y=\"247.0\">\n",
       "    <tspan class=\"displacy-word\" fill=\"currentColor\" x=\"1400\">can</tspan>\n",
       "    <tspan class=\"displacy-tag\" dy=\"2em\" fill=\"currentColor\" x=\"1400\">AUX</tspan>\n",
       "</text>\n",
       "\n",
       "<text class=\"displacy-token\" fill=\"currentColor\" text-anchor=\"middle\" y=\"247.0\">\n",
       "    <tspan class=\"displacy-word\" fill=\"currentColor\" x=\"1490\">get</tspan>\n",
       "    <tspan class=\"displacy-tag\" dy=\"2em\" fill=\"currentColor\" x=\"1490\">VERB</tspan>\n",
       "</text>\n",
       "\n",
       "<text class=\"displacy-token\" fill=\"currentColor\" text-anchor=\"middle\" y=\"247.0\">\n",
       "    <tspan class=\"displacy-word\" fill=\"currentColor\" x=\"1580\">much</tspan>\n",
       "    <tspan class=\"displacy-tag\" dy=\"2em\" fill=\"currentColor\" x=\"1580\">ADV</tspan>\n",
       "</text>\n",
       "\n",
       "<text class=\"displacy-token\" fill=\"currentColor\" text-anchor=\"middle\" y=\"247.0\">\n",
       "    <tspan class=\"displacy-word\" fill=\"currentColor\" x=\"1670\">out</tspan>\n",
       "    <tspan class=\"displacy-tag\" dy=\"2em\" fill=\"currentColor\" x=\"1670\">ADP</tspan>\n",
       "</text>\n",
       "\n",
       "<text class=\"displacy-token\" fill=\"currentColor\" text-anchor=\"middle\" y=\"247.0\">\n",
       "    <tspan class=\"displacy-word\" fill=\"currentColor\" x=\"1760\">by</tspan>\n",
       "    <tspan class=\"displacy-tag\" dy=\"2em\" fill=\"currentColor\" x=\"1760\">ADP</tspan>\n",
       "</text>\n",
       "\n",
       "<text class=\"displacy-token\" fill=\"currentColor\" text-anchor=\"middle\" y=\"247.0\">\n",
       "    <tspan class=\"displacy-word\" fill=\"currentColor\" x=\"1850\">shaking</tspan>\n",
       "    <tspan class=\"displacy-tag\" dy=\"2em\" fill=\"currentColor\" x=\"1850\">VERB</tspan>\n",
       "</text>\n",
       "\n",
       "<text class=\"displacy-token\" fill=\"currentColor\" text-anchor=\"middle\" y=\"247.0\">\n",
       "    <tspan class=\"displacy-word\" fill=\"currentColor\" x=\"1940\">it</tspan>\n",
       "    <tspan class=\"displacy-tag\" dy=\"2em\" fill=\"currentColor\" x=\"1940\">PRON</tspan>\n",
       "</text>\n",
       "\n",
       "<text class=\"displacy-token\" fill=\"currentColor\" text-anchor=\"middle\" y=\"247.0\">\n",
       "    <tspan class=\"displacy-word\" fill=\"currentColor\" x=\"2030\">out,</tspan>\n",
       "    <tspan class=\"displacy-tag\" dy=\"2em\" fill=\"currentColor\" x=\"2030\">ADP</tspan>\n",
       "</text>\n",
       "\n",
       "<text class=\"displacy-token\" fill=\"currentColor\" text-anchor=\"middle\" y=\"247.0\">\n",
       "    <tspan class=\"displacy-word\" fill=\"currentColor\" x=\"2120\">since</tspan>\n",
       "    <tspan class=\"displacy-tag\" dy=\"2em\" fill=\"currentColor\" x=\"2120\">SCONJ</tspan>\n",
       "</text>\n",
       "\n",
       "<text class=\"displacy-token\" fill=\"currentColor\" text-anchor=\"middle\" y=\"247.0\">\n",
       "    <tspan class=\"displacy-word\" fill=\"currentColor\" x=\"2210\">the</tspan>\n",
       "    <tspan class=\"displacy-tag\" dy=\"2em\" fill=\"currentColor\" x=\"2210\">DET</tspan>\n",
       "</text>\n",
       "\n",
       "<text class=\"displacy-token\" fill=\"currentColor\" text-anchor=\"middle\" y=\"247.0\">\n",
       "    <tspan class=\"displacy-word\" fill=\"currentColor\" x=\"2300\">dispensers</tspan>\n",
       "    <tspan class=\"displacy-tag\" dy=\"2em\" fill=\"currentColor\" x=\"2300\">NOUN</tspan>\n",
       "</text>\n",
       "\n",
       "<text class=\"displacy-token\" fill=\"currentColor\" text-anchor=\"middle\" y=\"247.0\">\n",
       "    <tspan class=\"displacy-word\" fill=\"currentColor\" x=\"2390\">seem</tspan>\n",
       "    <tspan class=\"displacy-tag\" dy=\"2em\" fill=\"currentColor\" x=\"2390\">VERB</tspan>\n",
       "</text>\n",
       "\n",
       "<text class=\"displacy-token\" fill=\"currentColor\" text-anchor=\"middle\" y=\"247.0\">\n",
       "    <tspan class=\"displacy-word\" fill=\"currentColor\" x=\"2480\">to</tspan>\n",
       "    <tspan class=\"displacy-tag\" dy=\"2em\" fill=\"currentColor\" x=\"2480\">PART</tspan>\n",
       "</text>\n",
       "\n",
       "<text class=\"displacy-token\" fill=\"currentColor\" text-anchor=\"middle\" y=\"247.0\">\n",
       "    <tspan class=\"displacy-word\" fill=\"currentColor\" x=\"2570\">be</tspan>\n",
       "    <tspan class=\"displacy-tag\" dy=\"2em\" fill=\"currentColor\" x=\"2570\">AUX</tspan>\n",
       "</text>\n",
       "\n",
       "<text class=\"displacy-token\" fill=\"currentColor\" text-anchor=\"middle\" y=\"247.0\">\n",
       "    <tspan class=\"displacy-word\" fill=\"currentColor\" x=\"2660\">non-</tspan>\n",
       "    <tspan class=\"displacy-tag\" dy=\"2em\" fill=\"currentColor\" x=\"2660\">ADJ</tspan>\n",
       "</text>\n",
       "\n",
       "<text class=\"displacy-token\" fill=\"currentColor\" text-anchor=\"middle\" y=\"247.0\">\n",
       "    <tspan class=\"displacy-word\" fill=\"currentColor\" x=\"2750\">operable</tspan>\n",
       "    <tspan class=\"displacy-tag\" dy=\"2em\" fill=\"currentColor\" x=\"2750\">ADJ</tspan>\n",
       "</text>\n",
       "\n",
       "<g class=\"displacy-arrow\">\n",
       "    <path class=\"displacy-arc\" id=\"arrow-42cf866736fb4b2c877cf49bd1c473fd-0-0\" stroke-width=\"2px\" d=\"M60,227.0 C60,92.0 405.0,92.0 405.0,227.0\" fill=\"none\" stroke=\"currentColor\"/>\n",
       "    <text dy=\"1.25em\" style=\"font-size: 0.8em; letter-spacing: 1px\">\n",
       "        <textPath xlink:href=\"#arrow-42cf866736fb4b2c877cf49bd1c473fd-0-0\" class=\"displacy-label\" startOffset=\"50%\" side=\"left\" fill=\"currentColor\" text-anchor=\"middle\">dep</textPath>\n",
       "    </text>\n",
       "    <path class=\"displacy-arrowhead\" d=\"M60,229.0 L57,222.0 63,222.0\" fill=\"currentColor\"/>\n",
       "</g>\n",
       "\n",
       "<g class=\"displacy-arrow\">\n",
       "    <path class=\"displacy-arc\" id=\"arrow-42cf866736fb4b2c877cf49bd1c473fd-0-1\" stroke-width=\"2px\" d=\"M150,227.0 C150,137.0 312.5,137.0 312.5,227.0\" fill=\"none\" stroke=\"currentColor\"/>\n",
       "    <text dy=\"1.25em\" style=\"font-size: 0.8em; letter-spacing: 1px\">\n",
       "        <textPath xlink:href=\"#arrow-42cf866736fb4b2c877cf49bd1c473fd-0-1\" class=\"displacy-label\" startOffset=\"50%\" side=\"left\" fill=\"currentColor\" text-anchor=\"middle\">det</textPath>\n",
       "    </text>\n",
       "    <path class=\"displacy-arrowhead\" d=\"M150,229.0 L147,222.0 153,222.0\" fill=\"currentColor\"/>\n",
       "</g>\n",
       "\n",
       "<g class=\"displacy-arrow\">\n",
       "    <path class=\"displacy-arc\" id=\"arrow-42cf866736fb4b2c877cf49bd1c473fd-0-2\" stroke-width=\"2px\" d=\"M240,227.0 C240,182.0 310.0,182.0 310.0,227.0\" fill=\"none\" stroke=\"currentColor\"/>\n",
       "    <text dy=\"1.25em\" style=\"font-size: 0.8em; letter-spacing: 1px\">\n",
       "        <textPath xlink:href=\"#arrow-42cf866736fb4b2c877cf49bd1c473fd-0-2\" class=\"displacy-label\" startOffset=\"50%\" side=\"left\" fill=\"currentColor\" text-anchor=\"middle\">compound</textPath>\n",
       "    </text>\n",
       "    <path class=\"displacy-arrowhead\" d=\"M240,229.0 L237,222.0 243,222.0\" fill=\"currentColor\"/>\n",
       "</g>\n",
       "\n",
       "<g class=\"displacy-arrow\">\n",
       "    <path class=\"displacy-arc\" id=\"arrow-42cf866736fb4b2c877cf49bd1c473fd-0-3\" stroke-width=\"2px\" d=\"M330,227.0 C330,182.0 400.0,182.0 400.0,227.0\" fill=\"none\" stroke=\"currentColor\"/>\n",
       "    <text dy=\"1.25em\" style=\"font-size: 0.8em; letter-spacing: 1px\">\n",
       "        <textPath xlink:href=\"#arrow-42cf866736fb4b2c877cf49bd1c473fd-0-3\" class=\"displacy-label\" startOffset=\"50%\" side=\"left\" fill=\"currentColor\" text-anchor=\"middle\">nsubj</textPath>\n",
       "    </text>\n",
       "    <path class=\"displacy-arrowhead\" d=\"M330,229.0 L327,222.0 333,222.0\" fill=\"currentColor\"/>\n",
       "</g>\n",
       "\n",
       "<g class=\"displacy-arrow\">\n",
       "    <path class=\"displacy-arc\" id=\"arrow-42cf866736fb4b2c877cf49bd1c473fd-0-4\" stroke-width=\"2px\" d=\"M420,227.0 C420,2.0 1220.0,2.0 1220.0,227.0\" fill=\"none\" stroke=\"currentColor\"/>\n",
       "    <text dy=\"1.25em\" style=\"font-size: 0.8em; letter-spacing: 1px\">\n",
       "        <textPath xlink:href=\"#arrow-42cf866736fb4b2c877cf49bd1c473fd-0-4\" class=\"displacy-label\" startOffset=\"50%\" side=\"left\" fill=\"currentColor\" text-anchor=\"middle\">ccomp</textPath>\n",
       "    </text>\n",
       "    <path class=\"displacy-arrowhead\" d=\"M420,229.0 L417,222.0 423,222.0\" fill=\"currentColor\"/>\n",
       "</g>\n",
       "\n",
       "<g class=\"displacy-arrow\">\n",
       "    <path class=\"displacy-arc\" id=\"arrow-42cf866736fb4b2c877cf49bd1c473fd-0-5\" stroke-width=\"2px\" d=\"M420,227.0 C420,182.0 490.0,182.0 490.0,227.0\" fill=\"none\" stroke=\"currentColor\"/>\n",
       "    <text dy=\"1.25em\" style=\"font-size: 0.8em; letter-spacing: 1px\">\n",
       "        <textPath xlink:href=\"#arrow-42cf866736fb4b2c877cf49bd1c473fd-0-5\" class=\"displacy-label\" startOffset=\"50%\" side=\"left\" fill=\"currentColor\" text-anchor=\"middle\">acomp</textPath>\n",
       "    </text>\n",
       "    <path class=\"displacy-arrowhead\" d=\"M490.0,229.0 L493.0,222.0 487.0,222.0\" fill=\"currentColor\"/>\n",
       "</g>\n",
       "\n",
       "<g class=\"displacy-arrow\">\n",
       "    <path class=\"displacy-arc\" id=\"arrow-42cf866736fb4b2c877cf49bd1c473fd-0-6\" stroke-width=\"2px\" d=\"M420,227.0 C420,137.0 582.5,137.0 582.5,227.0\" fill=\"none\" stroke=\"currentColor\"/>\n",
       "    <text dy=\"1.25em\" style=\"font-size: 0.8em; letter-spacing: 1px\">\n",
       "        <textPath xlink:href=\"#arrow-42cf866736fb4b2c877cf49bd1c473fd-0-6\" class=\"displacy-label\" startOffset=\"50%\" side=\"left\" fill=\"currentColor\" text-anchor=\"middle\">cc</textPath>\n",
       "    </text>\n",
       "    <path class=\"displacy-arrowhead\" d=\"M582.5,229.0 L585.5,222.0 579.5,222.0\" fill=\"currentColor\"/>\n",
       "</g>\n",
       "\n",
       "<g class=\"displacy-arrow\">\n",
       "    <path class=\"displacy-arc\" id=\"arrow-42cf866736fb4b2c877cf49bd1c473fd-0-7\" stroke-width=\"2px\" d=\"M690,227.0 C690,182.0 760.0,182.0 760.0,227.0\" fill=\"none\" stroke=\"currentColor\"/>\n",
       "    <text dy=\"1.25em\" style=\"font-size: 0.8em; letter-spacing: 1px\">\n",
       "        <textPath xlink:href=\"#arrow-42cf866736fb4b2c877cf49bd1c473fd-0-7\" class=\"displacy-label\" startOffset=\"50%\" side=\"left\" fill=\"currentColor\" text-anchor=\"middle\">advmod</textPath>\n",
       "    </text>\n",
       "    <path class=\"displacy-arrowhead\" d=\"M690,229.0 L687,222.0 693,222.0\" fill=\"currentColor\"/>\n",
       "</g>\n",
       "\n",
       "<g class=\"displacy-arrow\">\n",
       "    <path class=\"displacy-arc\" id=\"arrow-42cf866736fb4b2c877cf49bd1c473fd-0-8\" stroke-width=\"2px\" d=\"M420,227.0 C420,92.0 765.0,92.0 765.0,227.0\" fill=\"none\" stroke=\"currentColor\"/>\n",
       "    <text dy=\"1.25em\" style=\"font-size: 0.8em; letter-spacing: 1px\">\n",
       "        <textPath xlink:href=\"#arrow-42cf866736fb4b2c877cf49bd1c473fd-0-8\" class=\"displacy-label\" startOffset=\"50%\" side=\"left\" fill=\"currentColor\" text-anchor=\"middle\">conj</textPath>\n",
       "    </text>\n",
       "    <path class=\"displacy-arrowhead\" d=\"M765.0,229.0 L768.0,222.0 762.0,222.0\" fill=\"currentColor\"/>\n",
       "</g>\n",
       "\n",
       "<g class=\"displacy-arrow\">\n",
       "    <path class=\"displacy-arc\" id=\"arrow-42cf866736fb4b2c877cf49bd1c473fd-0-9\" stroke-width=\"2px\" d=\"M870,227.0 C870,47.0 1217.5,47.0 1217.5,227.0\" fill=\"none\" stroke=\"currentColor\"/>\n",
       "    <text dy=\"1.25em\" style=\"font-size: 0.8em; letter-spacing: 1px\">\n",
       "        <textPath xlink:href=\"#arrow-42cf866736fb4b2c877cf49bd1c473fd-0-9\" class=\"displacy-label\" startOffset=\"50%\" side=\"left\" fill=\"currentColor\" text-anchor=\"middle\">advmod</textPath>\n",
       "    </text>\n",
       "    <path class=\"displacy-arrowhead\" d=\"M870,229.0 L867,222.0 873,222.0\" fill=\"currentColor\"/>\n",
       "</g>\n",
       "\n",
       "<g class=\"displacy-arrow\">\n",
       "    <path class=\"displacy-arc\" id=\"arrow-42cf866736fb4b2c877cf49bd1c473fd-0-10\" stroke-width=\"2px\" d=\"M960,227.0 C960,92.0 1215.0,92.0 1215.0,227.0\" fill=\"none\" stroke=\"currentColor\"/>\n",
       "    <text dy=\"1.25em\" style=\"font-size: 0.8em; letter-spacing: 1px\">\n",
       "        <textPath xlink:href=\"#arrow-42cf866736fb4b2c877cf49bd1c473fd-0-10\" class=\"displacy-label\" startOffset=\"50%\" side=\"left\" fill=\"currentColor\" text-anchor=\"middle\">nsubj</textPath>\n",
       "    </text>\n",
       "    <path class=\"displacy-arrowhead\" d=\"M960,229.0 L957,222.0 963,222.0\" fill=\"currentColor\"/>\n",
       "</g>\n",
       "\n",
       "<g class=\"displacy-arrow\">\n",
       "    <path class=\"displacy-arc\" id=\"arrow-42cf866736fb4b2c877cf49bd1c473fd-0-11\" stroke-width=\"2px\" d=\"M1050,227.0 C1050,137.0 1212.5,137.0 1212.5,227.0\" fill=\"none\" stroke=\"currentColor\"/>\n",
       "    <text dy=\"1.25em\" style=\"font-size: 0.8em; letter-spacing: 1px\">\n",
       "        <textPath xlink:href=\"#arrow-42cf866736fb4b2c877cf49bd1c473fd-0-11\" class=\"displacy-label\" startOffset=\"50%\" side=\"left\" fill=\"currentColor\" text-anchor=\"middle\">aux</textPath>\n",
       "    </text>\n",
       "    <path class=\"displacy-arrowhead\" d=\"M1050,229.0 L1047,222.0 1053,222.0\" fill=\"currentColor\"/>\n",
       "</g>\n",
       "\n",
       "<g class=\"displacy-arrow\">\n",
       "    <path class=\"displacy-arc\" id=\"arrow-42cf866736fb4b2c877cf49bd1c473fd-0-12\" stroke-width=\"2px\" d=\"M1140,227.0 C1140,182.0 1210.0,182.0 1210.0,227.0\" fill=\"none\" stroke=\"currentColor\"/>\n",
       "    <text dy=\"1.25em\" style=\"font-size: 0.8em; letter-spacing: 1px\">\n",
       "        <textPath xlink:href=\"#arrow-42cf866736fb4b2c877cf49bd1c473fd-0-12\" class=\"displacy-label\" startOffset=\"50%\" side=\"left\" fill=\"currentColor\" text-anchor=\"middle\">neg</textPath>\n",
       "    </text>\n",
       "    <path class=\"displacy-arrowhead\" d=\"M1140,229.0 L1137,222.0 1143,222.0\" fill=\"currentColor\"/>\n",
       "</g>\n",
       "\n",
       "<g class=\"displacy-arrow\">\n",
       "    <path class=\"displacy-arc\" id=\"arrow-42cf866736fb4b2c877cf49bd1c473fd-0-13\" stroke-width=\"2px\" d=\"M1320,227.0 C1320,137.0 1482.5,137.0 1482.5,227.0\" fill=\"none\" stroke=\"currentColor\"/>\n",
       "    <text dy=\"1.25em\" style=\"font-size: 0.8em; letter-spacing: 1px\">\n",
       "        <textPath xlink:href=\"#arrow-42cf866736fb4b2c877cf49bd1c473fd-0-13\" class=\"displacy-label\" startOffset=\"50%\" side=\"left\" fill=\"currentColor\" text-anchor=\"middle\">nsubj</textPath>\n",
       "    </text>\n",
       "    <path class=\"displacy-arrowhead\" d=\"M1320,229.0 L1317,222.0 1323,222.0\" fill=\"currentColor\"/>\n",
       "</g>\n",
       "\n",
       "<g class=\"displacy-arrow\">\n",
       "    <path class=\"displacy-arc\" id=\"arrow-42cf866736fb4b2c877cf49bd1c473fd-0-14\" stroke-width=\"2px\" d=\"M1410,227.0 C1410,182.0 1480.0,182.0 1480.0,227.0\" fill=\"none\" stroke=\"currentColor\"/>\n",
       "    <text dy=\"1.25em\" style=\"font-size: 0.8em; letter-spacing: 1px\">\n",
       "        <textPath xlink:href=\"#arrow-42cf866736fb4b2c877cf49bd1c473fd-0-14\" class=\"displacy-label\" startOffset=\"50%\" side=\"left\" fill=\"currentColor\" text-anchor=\"middle\">aux</textPath>\n",
       "    </text>\n",
       "    <path class=\"displacy-arrowhead\" d=\"M1410,229.0 L1407,222.0 1413,222.0\" fill=\"currentColor\"/>\n",
       "</g>\n",
       "\n",
       "<g class=\"displacy-arrow\">\n",
       "    <path class=\"displacy-arc\" id=\"arrow-42cf866736fb4b2c877cf49bd1c473fd-0-15\" stroke-width=\"2px\" d=\"M1230,227.0 C1230,92.0 1485.0,92.0 1485.0,227.0\" fill=\"none\" stroke=\"currentColor\"/>\n",
       "    <text dy=\"1.25em\" style=\"font-size: 0.8em; letter-spacing: 1px\">\n",
       "        <textPath xlink:href=\"#arrow-42cf866736fb4b2c877cf49bd1c473fd-0-15\" class=\"displacy-label\" startOffset=\"50%\" side=\"left\" fill=\"currentColor\" text-anchor=\"middle\">ccomp</textPath>\n",
       "    </text>\n",
       "    <path class=\"displacy-arrowhead\" d=\"M1485.0,229.0 L1488.0,222.0 1482.0,222.0\" fill=\"currentColor\"/>\n",
       "</g>\n",
       "\n",
       "<g class=\"displacy-arrow\">\n",
       "    <path class=\"displacy-arc\" id=\"arrow-42cf866736fb4b2c877cf49bd1c473fd-0-16\" stroke-width=\"2px\" d=\"M1590,227.0 C1590,182.0 1660.0,182.0 1660.0,227.0\" fill=\"none\" stroke=\"currentColor\"/>\n",
       "    <text dy=\"1.25em\" style=\"font-size: 0.8em; letter-spacing: 1px\">\n",
       "        <textPath xlink:href=\"#arrow-42cf866736fb4b2c877cf49bd1c473fd-0-16\" class=\"displacy-label\" startOffset=\"50%\" side=\"left\" fill=\"currentColor\" text-anchor=\"middle\">advmod</textPath>\n",
       "    </text>\n",
       "    <path class=\"displacy-arrowhead\" d=\"M1590,229.0 L1587,222.0 1593,222.0\" fill=\"currentColor\"/>\n",
       "</g>\n",
       "\n",
       "<g class=\"displacy-arrow\">\n",
       "    <path class=\"displacy-arc\" id=\"arrow-42cf866736fb4b2c877cf49bd1c473fd-0-17\" stroke-width=\"2px\" d=\"M1500,227.0 C1500,137.0 1662.5,137.0 1662.5,227.0\" fill=\"none\" stroke=\"currentColor\"/>\n",
       "    <text dy=\"1.25em\" style=\"font-size: 0.8em; letter-spacing: 1px\">\n",
       "        <textPath xlink:href=\"#arrow-42cf866736fb4b2c877cf49bd1c473fd-0-17\" class=\"displacy-label\" startOffset=\"50%\" side=\"left\" fill=\"currentColor\" text-anchor=\"middle\">prt</textPath>\n",
       "    </text>\n",
       "    <path class=\"displacy-arrowhead\" d=\"M1662.5,229.0 L1665.5,222.0 1659.5,222.0\" fill=\"currentColor\"/>\n",
       "</g>\n",
       "\n",
       "<g class=\"displacy-arrow\">\n",
       "    <path class=\"displacy-arc\" id=\"arrow-42cf866736fb4b2c877cf49bd1c473fd-0-18\" stroke-width=\"2px\" d=\"M1500,227.0 C1500,92.0 1755.0,92.0 1755.0,227.0\" fill=\"none\" stroke=\"currentColor\"/>\n",
       "    <text dy=\"1.25em\" style=\"font-size: 0.8em; letter-spacing: 1px\">\n",
       "        <textPath xlink:href=\"#arrow-42cf866736fb4b2c877cf49bd1c473fd-0-18\" class=\"displacy-label\" startOffset=\"50%\" side=\"left\" fill=\"currentColor\" text-anchor=\"middle\">prep</textPath>\n",
       "    </text>\n",
       "    <path class=\"displacy-arrowhead\" d=\"M1755.0,229.0 L1758.0,222.0 1752.0,222.0\" fill=\"currentColor\"/>\n",
       "</g>\n",
       "\n",
       "<g class=\"displacy-arrow\">\n",
       "    <path class=\"displacy-arc\" id=\"arrow-42cf866736fb4b2c877cf49bd1c473fd-0-19\" stroke-width=\"2px\" d=\"M1770,227.0 C1770,182.0 1840.0,182.0 1840.0,227.0\" fill=\"none\" stroke=\"currentColor\"/>\n",
       "    <text dy=\"1.25em\" style=\"font-size: 0.8em; letter-spacing: 1px\">\n",
       "        <textPath xlink:href=\"#arrow-42cf866736fb4b2c877cf49bd1c473fd-0-19\" class=\"displacy-label\" startOffset=\"50%\" side=\"left\" fill=\"currentColor\" text-anchor=\"middle\">pcomp</textPath>\n",
       "    </text>\n",
       "    <path class=\"displacy-arrowhead\" d=\"M1840.0,229.0 L1843.0,222.0 1837.0,222.0\" fill=\"currentColor\"/>\n",
       "</g>\n",
       "\n",
       "<g class=\"displacy-arrow\">\n",
       "    <path class=\"displacy-arc\" id=\"arrow-42cf866736fb4b2c877cf49bd1c473fd-0-20\" stroke-width=\"2px\" d=\"M1860,227.0 C1860,182.0 1930.0,182.0 1930.0,227.0\" fill=\"none\" stroke=\"currentColor\"/>\n",
       "    <text dy=\"1.25em\" style=\"font-size: 0.8em; letter-spacing: 1px\">\n",
       "        <textPath xlink:href=\"#arrow-42cf866736fb4b2c877cf49bd1c473fd-0-20\" class=\"displacy-label\" startOffset=\"50%\" side=\"left\" fill=\"currentColor\" text-anchor=\"middle\">dobj</textPath>\n",
       "    </text>\n",
       "    <path class=\"displacy-arrowhead\" d=\"M1930.0,229.0 L1933.0,222.0 1927.0,222.0\" fill=\"currentColor\"/>\n",
       "</g>\n",
       "\n",
       "<g class=\"displacy-arrow\">\n",
       "    <path class=\"displacy-arc\" id=\"arrow-42cf866736fb4b2c877cf49bd1c473fd-0-21\" stroke-width=\"2px\" d=\"M1860,227.0 C1860,137.0 2022.5,137.0 2022.5,227.0\" fill=\"none\" stroke=\"currentColor\"/>\n",
       "    <text dy=\"1.25em\" style=\"font-size: 0.8em; letter-spacing: 1px\">\n",
       "        <textPath xlink:href=\"#arrow-42cf866736fb4b2c877cf49bd1c473fd-0-21\" class=\"displacy-label\" startOffset=\"50%\" side=\"left\" fill=\"currentColor\" text-anchor=\"middle\">prt</textPath>\n",
       "    </text>\n",
       "    <path class=\"displacy-arrowhead\" d=\"M2022.5,229.0 L2025.5,222.0 2019.5,222.0\" fill=\"currentColor\"/>\n",
       "</g>\n",
       "\n",
       "<g class=\"displacy-arrow\">\n",
       "    <path class=\"displacy-arc\" id=\"arrow-42cf866736fb4b2c877cf49bd1c473fd-0-22\" stroke-width=\"2px\" d=\"M2130,227.0 C2130,137.0 2382.5,137.0 2382.5,227.0\" fill=\"none\" stroke=\"currentColor\"/>\n",
       "    <text dy=\"1.25em\" style=\"font-size: 0.8em; letter-spacing: 1px\">\n",
       "        <textPath xlink:href=\"#arrow-42cf866736fb4b2c877cf49bd1c473fd-0-22\" class=\"displacy-label\" startOffset=\"50%\" side=\"left\" fill=\"currentColor\" text-anchor=\"middle\">mark</textPath>\n",
       "    </text>\n",
       "    <path class=\"displacy-arrowhead\" d=\"M2130,229.0 L2127,222.0 2133,222.0\" fill=\"currentColor\"/>\n",
       "</g>\n",
       "\n",
       "<g class=\"displacy-arrow\">\n",
       "    <path class=\"displacy-arc\" id=\"arrow-42cf866736fb4b2c877cf49bd1c473fd-0-23\" stroke-width=\"2px\" d=\"M2220,227.0 C2220,182.0 2290.0,182.0 2290.0,227.0\" fill=\"none\" stroke=\"currentColor\"/>\n",
       "    <text dy=\"1.25em\" style=\"font-size: 0.8em; letter-spacing: 1px\">\n",
       "        <textPath xlink:href=\"#arrow-42cf866736fb4b2c877cf49bd1c473fd-0-23\" class=\"displacy-label\" startOffset=\"50%\" side=\"left\" fill=\"currentColor\" text-anchor=\"middle\">det</textPath>\n",
       "    </text>\n",
       "    <path class=\"displacy-arrowhead\" d=\"M2220,229.0 L2217,222.0 2223,222.0\" fill=\"currentColor\"/>\n",
       "</g>\n",
       "\n",
       "<g class=\"displacy-arrow\">\n",
       "    <path class=\"displacy-arc\" id=\"arrow-42cf866736fb4b2c877cf49bd1c473fd-0-24\" stroke-width=\"2px\" d=\"M2310,227.0 C2310,182.0 2380.0,182.0 2380.0,227.0\" fill=\"none\" stroke=\"currentColor\"/>\n",
       "    <text dy=\"1.25em\" style=\"font-size: 0.8em; letter-spacing: 1px\">\n",
       "        <textPath xlink:href=\"#arrow-42cf866736fb4b2c877cf49bd1c473fd-0-24\" class=\"displacy-label\" startOffset=\"50%\" side=\"left\" fill=\"currentColor\" text-anchor=\"middle\">nsubj</textPath>\n",
       "    </text>\n",
       "    <path class=\"displacy-arrowhead\" d=\"M2310,229.0 L2307,222.0 2313,222.0\" fill=\"currentColor\"/>\n",
       "</g>\n",
       "\n",
       "<g class=\"displacy-arrow\">\n",
       "    <path class=\"displacy-arc\" id=\"arrow-42cf866736fb4b2c877cf49bd1c473fd-0-25\" stroke-width=\"2px\" d=\"M1230,227.0 C1230,47.0 2387.5,47.0 2387.5,227.0\" fill=\"none\" stroke=\"currentColor\"/>\n",
       "    <text dy=\"1.25em\" style=\"font-size: 0.8em; letter-spacing: 1px\">\n",
       "        <textPath xlink:href=\"#arrow-42cf866736fb4b2c877cf49bd1c473fd-0-25\" class=\"displacy-label\" startOffset=\"50%\" side=\"left\" fill=\"currentColor\" text-anchor=\"middle\">advcl</textPath>\n",
       "    </text>\n",
       "    <path class=\"displacy-arrowhead\" d=\"M2387.5,229.0 L2390.5,222.0 2384.5,222.0\" fill=\"currentColor\"/>\n",
       "</g>\n",
       "\n",
       "<g class=\"displacy-arrow\">\n",
       "    <path class=\"displacy-arc\" id=\"arrow-42cf866736fb4b2c877cf49bd1c473fd-0-26\" stroke-width=\"2px\" d=\"M2490,227.0 C2490,182.0 2560.0,182.0 2560.0,227.0\" fill=\"none\" stroke=\"currentColor\"/>\n",
       "    <text dy=\"1.25em\" style=\"font-size: 0.8em; letter-spacing: 1px\">\n",
       "        <textPath xlink:href=\"#arrow-42cf866736fb4b2c877cf49bd1c473fd-0-26\" class=\"displacy-label\" startOffset=\"50%\" side=\"left\" fill=\"currentColor\" text-anchor=\"middle\">aux</textPath>\n",
       "    </text>\n",
       "    <path class=\"displacy-arrowhead\" d=\"M2490,229.0 L2487,222.0 2493,222.0\" fill=\"currentColor\"/>\n",
       "</g>\n",
       "\n",
       "<g class=\"displacy-arrow\">\n",
       "    <path class=\"displacy-arc\" id=\"arrow-42cf866736fb4b2c877cf49bd1c473fd-0-27\" stroke-width=\"2px\" d=\"M2400,227.0 C2400,137.0 2562.5,137.0 2562.5,227.0\" fill=\"none\" stroke=\"currentColor\"/>\n",
       "    <text dy=\"1.25em\" style=\"font-size: 0.8em; letter-spacing: 1px\">\n",
       "        <textPath xlink:href=\"#arrow-42cf866736fb4b2c877cf49bd1c473fd-0-27\" class=\"displacy-label\" startOffset=\"50%\" side=\"left\" fill=\"currentColor\" text-anchor=\"middle\">xcomp</textPath>\n",
       "    </text>\n",
       "    <path class=\"displacy-arrowhead\" d=\"M2562.5,229.0 L2565.5,222.0 2559.5,222.0\" fill=\"currentColor\"/>\n",
       "</g>\n",
       "\n",
       "<g class=\"displacy-arrow\">\n",
       "    <path class=\"displacy-arc\" id=\"arrow-42cf866736fb4b2c877cf49bd1c473fd-0-28\" stroke-width=\"2px\" d=\"M2580,227.0 C2580,182.0 2650.0,182.0 2650.0,227.0\" fill=\"none\" stroke=\"currentColor\"/>\n",
       "    <text dy=\"1.25em\" style=\"font-size: 0.8em; letter-spacing: 1px\">\n",
       "        <textPath xlink:href=\"#arrow-42cf866736fb4b2c877cf49bd1c473fd-0-28\" class=\"displacy-label\" startOffset=\"50%\" side=\"left\" fill=\"currentColor\" text-anchor=\"middle\">acomp</textPath>\n",
       "    </text>\n",
       "    <path class=\"displacy-arrowhead\" d=\"M2650.0,229.0 L2653.0,222.0 2647.0,222.0\" fill=\"currentColor\"/>\n",
       "</g>\n",
       "\n",
       "<g class=\"displacy-arrow\">\n",
       "    <path class=\"displacy-arc\" id=\"arrow-42cf866736fb4b2c877cf49bd1c473fd-0-29\" stroke-width=\"2px\" d=\"M2580,227.0 C2580,137.0 2742.5,137.0 2742.5,227.0\" fill=\"none\" stroke=\"currentColor\"/>\n",
       "    <text dy=\"1.25em\" style=\"font-size: 0.8em; letter-spacing: 1px\">\n",
       "        <textPath xlink:href=\"#arrow-42cf866736fb4b2c877cf49bd1c473fd-0-29\" class=\"displacy-label\" startOffset=\"50%\" side=\"left\" fill=\"currentColor\" text-anchor=\"middle\">acomp</textPath>\n",
       "    </text>\n",
       "    <path class=\"displacy-arrowhead\" d=\"M2742.5,229.0 L2745.5,222.0 2739.5,222.0\" fill=\"currentColor\"/>\n",
       "</g>\n",
       "</svg></span>"
      ],
      "text/plain": [
       "<IPython.core.display.HTML object>"
      ]
     },
     "metadata": {},
     "output_type": "display_data"
    }
   ],
   "source": [
    "# Assuming most_helpful_text is defined\n",
    "for sentence in most_helpful_text.split(\".\")[0:3]:\n",
    "    ner_displacy(sentence)\n"
   ]
  },
  {
   "cell_type": "markdown",
   "id": "b8176130",
   "metadata": {},
   "source": [
    "### Topic Modeling using Latent Dirichlet Allocation (LDA)\n",
    "\n",
    "Topic modeling can be an extremely useful tool in understanding the content of large datasets of textual information. Latent Dirichlet Allocation (LDA) is one such topic modeling technique. In this section, we'll apply LDA to our dataset of product reviews to identify different topics.\n",
    "\n",
    "#### Import Required Libraries\n"
   ]
  },
  {
   "cell_type": "code",
   "execution_count": 173,
   "id": "4218eb82",
   "metadata": {},
   "outputs": [],
   "source": [
    "import multiprocessing\n",
    "from gensim.models.ldamulticore import LdaMulticore"
   ]
  },
  {
   "cell_type": "markdown",
   "id": "fdaa1ed7",
   "metadata": {},
   "source": [
    "#### Define Parameters and Train LDA Model\n",
    "\n",
    "We set the number of topics we want to identify in our corpus. Then, we train the LDA model.\n"
   ]
  },
  {
   "cell_type": "code",
   "execution_count": 174,
   "id": "690fc7d8",
   "metadata": {},
   "outputs": [],
   "source": [
    "# Number of CPU cores\n",
    "cores = multiprocessing.cpu_count()\n",
    "\n",
    "# Number of topics\n",
    "num_topics = 10\n",
    "\n",
    "# Train the LDA model\n",
    "bow_lda = LdaMulticore(bow, num_topics=num_topics, id2word=vocabulary, \n",
    "                        passes=5, workers=cores, random_state=42)\n"
   ]
  },
  {
   "cell_type": "markdown",
   "id": "6eae9774",
   "metadata": {},
   "source": [
    "#### Display Top Words for First Topic\n",
    "\n",
    "After training the model, we can display the top words for each topic. Here are the top five words for the first topic:\n"
   ]
  },
  {
   "cell_type": "code",
   "execution_count": 175,
   "id": "fb6a27f2",
   "metadata": {},
   "outputs": [
    {
     "name": "stdout",
     "output_type": "stream",
     "text": [
      "use 0.025268435\n",
      "product 0.023161696\n",
      "toothpaste 0.022870956\n",
      "teeth 0.017416649\n",
      "love 0.01159786\n"
     ]
    }
   ],
   "source": [
    "for token, frequency in bow_lda.show_topic(0, topn=5):\n",
    "    print(token, frequency)\n"
   ]
  },
  {
   "cell_type": "markdown",
   "id": "ebc29e3a",
   "metadata": {},
   "source": [
    "#### Display Top Words for All Topics\n",
    "\n",
    "Let's look at the top words for all the topics to understand what each topic might represent.\n"
   ]
  },
  {
   "cell_type": "code",
   "execution_count": 176,
   "id": "2f84e7fa",
   "metadata": {},
   "outputs": [
    {
     "name": "stdout",
     "output_type": "stream",
     "text": [
      "\n",
      "Topic 1:\n",
      " use, 0.02526843547821045\n",
      " product, 0.023161696270108223\n",
      " toothpaste, 0.022870955988764763\n",
      " teeth, 0.01741664856672287\n",
      " love, 0.011597859673202038\n",
      "\n",
      "Topic 2:\n",
      " color, 0.032990943640470505\n",
      " good, 0.02316666580736637\n",
      " hand, 0.01998969539999962\n",
      " use, 0.014434201642870903\n",
      " best, 0.013279941864311695\n",
      "\n",
      "Topic 3:\n",
      " one, 0.025099873542785645\n",
      " get, 0.023071620613336563\n",
      " iron, 0.017665378749370575\n",
      " use, 0.01597929559648037\n",
      " hand, 0.014196834526956081\n",
      "\n",
      "Topic 4:\n",
      " love, 0.07250164449214935\n",
      " color, 0.026471998542547226\n",
      " use, 0.02627592720091343\n",
      " great, 0.02500203810632229\n",
      " hand, 0.019282609224319458\n",
      "\n",
      "Topic 5:\n",
      " iron, 0.04558396339416504\n",
      " hair, 0.03794701769948006\n",
      " use, 0.022144990041851997\n",
      " flat, 0.018476681783795357\n",
      " buy, 0.016014914959669113\n",
      "\n",
      "Topic 6:\n",
      " use, 0.030370570719242096\n",
      " product, 0.02270829863846302\n",
      " work, 0.020471826195716858\n",
      " like, 0.016496364027261734\n",
      " teeth, 0.011108219623565674\n",
      "\n",
      "Topic 7:\n",
      " color, 0.12369592487812042\n",
      " great, 0.03140611574053764\n",
      " opi, 0.02275410294532776\n",
      " nice, 0.020624307915568352\n",
      " love, 0.017390860244631767\n",
      "\n",
      "Topic 8:\n",
      " color, 0.017063206061720848\n",
      " polish, 0.016491930931806564\n",
      " great, 0.016157837584614754\n",
      " use, 0.015130747109651566\n",
      " love, 0.014861546456813812\n",
      "\n",
      "Topic 9:\n",
      " polish, 0.0489920973777771\n",
      " color, 0.04467840865254402\n",
      " nail, 0.038823168724775314\n",
      " opi, 0.02492048591375351\n",
      " look, 0.019646868109703064\n",
      "\n",
      "Topic 10:\n",
      " scent, 0.01374769862741232\n",
      " like, 0.010807763785123825\n",
      " one, 0.009416581131517887\n",
      " product, 0.008243991993367672\n",
      " use, 0.007844507694244385\n"
     ]
    }
   ],
   "source": [
    "for topic in range(0, num_topics):\n",
    "    print(f\"\\nTopic {topic+1}:\")\n",
    "    for token, frequency in bow_lda.show_topic(topic, topn=5):\n",
    "        print(f\" {token}, {frequency}\")\n"
   ]
  },
  {
   "cell_type": "markdown",
   "id": "9f28a872",
   "metadata": {},
   "source": [
    "#### Visualization using pyLDAvis\n",
    "\n",
    "We can also use `pyLDAvis` to visualize the topics and understand their relationship with each other.\n"
   ]
  },
  {
   "cell_type": "code",
   "execution_count": 181,
   "id": "57799a41",
   "metadata": {},
   "outputs": [
    {
     "name": "stderr",
     "output_type": "stream",
     "text": [
      "/home/ehsan/anaconda3/lib/python3.9/site-packages/past/builtins/misc.py:45: DeprecationWarning: the imp module is deprecated in favour of importlib; see the module's documentation for alternative uses\n",
      "  from imp import reload\n",
      "/home/ehsan/anaconda3/lib/python3.9/site-packages/past/builtins/misc.py:45: DeprecationWarning: the imp module is deprecated in favour of importlib; see the module's documentation for alternative uses\n",
      "  from imp import reload\n",
      "/home/ehsan/anaconda3/lib/python3.9/site-packages/past/builtins/misc.py:45: DeprecationWarning: the imp module is deprecated in favour of importlib; see the module's documentation for alternative uses\n",
      "  from imp import reload\n",
      "/home/ehsan/anaconda3/lib/python3.9/site-packages/past/builtins/misc.py:45: DeprecationWarning: the imp module is deprecated in favour of importlib; see the module's documentation for alternative uses\n",
      "  from imp import reload\n",
      "/home/ehsan/anaconda3/lib/python3.9/site-packages/past/builtins/misc.py:45: DeprecationWarning: the imp module is deprecated in favour of importlib; see the module's documentation for alternative uses\n",
      "  from imp import reload\n",
      "/home/ehsan/anaconda3/lib/python3.9/site-packages/past/builtins/misc.py:45: DeprecationWarning: the imp module is deprecated in favour of importlib; see the module's documentation for alternative uses\n",
      "  from imp import reload\n",
      "/home/ehsan/anaconda3/lib/python3.9/site-packages/scipy/sparse/linalg/isolve/iterative.py:10: DeprecationWarning: Please use `LinearOperator` from the `scipy.sparse.linalg` namespace, the `scipy.sparse.linalg.interface` namespace is deprecated.\n",
      "  from scipy.sparse.linalg.interface import LinearOperator\n",
      "/home/ehsan/anaconda3/lib/python3.9/site-packages/scipy/sparse/linalg/isolve/utils.py:7: DeprecationWarning: Please use `asmatrix` from the `scipy.sparse` namespace, the `scipy.sparse.sputils` namespace is deprecated.\n",
      "  from scipy.sparse.sputils import asmatrix\n",
      "/home/ehsan/anaconda3/lib/python3.9/site-packages/scipy/sparse/linalg/isolve/utils.py:9: DeprecationWarning: Please use `aslinearoperator` from the `scipy.sparse.linalg` namespace, the `scipy.sparse.linalg.interface` namespace is deprecated.\n",
      "  from scipy.sparse.linalg.interface import aslinearoperator, LinearOperator, \\\n",
      "/home/ehsan/anaconda3/lib/python3.9/site-packages/scipy/sparse/linalg/isolve/utils.py:9: DeprecationWarning: Please use `LinearOperator` from the `scipy.sparse.linalg` namespace, the `scipy.sparse.linalg.interface` namespace is deprecated.\n",
      "  from scipy.sparse.linalg.interface import aslinearoperator, LinearOperator, \\\n",
      "/home/ehsan/anaconda3/lib/python3.9/site-packages/scipy/sparse/linalg/isolve/utils.py:9: DeprecationWarning: Please use `IdentityOperator` from the `scipy.sparse.linalg` namespace, the `scipy.sparse.linalg.interface` namespace is deprecated.\n",
      "  from scipy.sparse.linalg.interface import aslinearoperator, LinearOperator, \\\n",
      "/home/ehsan/anaconda3/lib/python3.9/site-packages/scipy/sparse/linalg/isolve/iterative.py:10: DeprecationWarning: Please use `LinearOperator` from the `scipy.sparse.linalg` namespace, the `scipy.sparse.linalg.interface` namespace is deprecated.\n",
      "  from scipy.sparse.linalg.interface import LinearOperator\n",
      "/home/ehsan/anaconda3/lib/python3.9/site-packages/scipy/sparse/linalg/isolve/utils.py:7: DeprecationWarning: Please use `asmatrix` from the `scipy.sparse` namespace, the `scipy.sparse.sputils` namespace is deprecated.\n",
      "  from scipy.sparse.sputils import asmatrix\n",
      "/home/ehsan/anaconda3/lib/python3.9/site-packages/scipy/sparse/linalg/isolve/utils.py:9: DeprecationWarning: Please use `aslinearoperator` from the `scipy.sparse.linalg` namespace, the `scipy.sparse.linalg.interface` namespace is deprecated.\n",
      "  from scipy.sparse.linalg.interface import aslinearoperator, LinearOperator, \\\n",
      "/home/ehsan/anaconda3/lib/python3.9/site-packages/scipy/sparse/linalg/isolve/utils.py:9: DeprecationWarning: Please use `LinearOperator` from the `scipy.sparse.linalg` namespace, the `scipy.sparse.linalg.interface` namespace is deprecated.\n",
      "  from scipy.sparse.linalg.interface import aslinearoperator, LinearOperator, \\\n",
      "/home/ehsan/anaconda3/lib/python3.9/site-packages/scipy/sparse/linalg/isolve/utils.py:9: DeprecationWarning: Please use `IdentityOperator` from the `scipy.sparse.linalg` namespace, the `scipy.sparse.linalg.interface` namespace is deprecated.\n",
      "  from scipy.sparse.linalg.interface import aslinearoperator, LinearOperator, \\\n",
      "/home/ehsan/anaconda3/lib/python3.9/site-packages/scipy/sparse/linalg/isolve/lsqr.py:56: DeprecationWarning: Please use `aslinearoperator` from the `scipy.sparse.linalg` namespace, the `scipy.sparse.linalg.interface` namespace is deprecated.\n",
      "  from scipy.sparse.linalg.interface import aslinearoperator\n",
      "/home/ehsan/anaconda3/lib/python3.9/site-packages/scipy/sparse/linalg/isolve/lsqr.py:56: DeprecationWarning: Please use `aslinearoperator` from the `scipy.sparse.linalg` namespace, the `scipy.sparse.linalg.interface` namespace is deprecated.\n",
      "  from scipy.sparse.linalg.interface import aslinearoperator\n",
      "/home/ehsan/anaconda3/lib/python3.9/site-packages/scipy/sparse/linalg/isolve/lsmr.py:24: DeprecationWarning: Please use `aslinearoperator` from the `scipy.sparse.linalg` namespace, the `scipy.sparse.linalg.interface` namespace is deprecated.\n",
      "  from scipy.sparse.linalg.interface import aslinearoperator\n",
      "/home/ehsan/anaconda3/lib/python3.9/site-packages/scipy/sparse/linalg/isolve/lsmr.py:24: DeprecationWarning: Please use `aslinearoperator` from the `scipy.sparse.linalg` namespace, the `scipy.sparse.linalg.interface` namespace is deprecated.\n",
      "  from scipy.sparse.linalg.interface import aslinearoperator\n",
      "/home/ehsan/anaconda3/lib/python3.9/site-packages/scipy/sparse/linalg/dsolve/linsolve.py:7: DeprecationWarning: Please use `is_pydata_spmatrix` from the `scipy.sparse` namespace, the `scipy.sparse.sputils` namespace is deprecated.\n",
      "  from scipy.sparse.sputils import is_pydata_spmatrix\n",
      "/home/ehsan/anaconda3/lib/python3.9/site-packages/scipy/sparse/linalg/dsolve/linsolve.py:7: DeprecationWarning: Please use `is_pydata_spmatrix` from the `scipy.sparse` namespace, the `scipy.sparse.sputils` namespace is deprecated.\n",
      "  from scipy.sparse.sputils import is_pydata_spmatrix\n",
      "/home/ehsan/anaconda3/lib/python3.9/site-packages/scipy/sparse/linalg/eigen/arpack/arpack.py:47: DeprecationWarning: Please use `aslinearoperator` from the `scipy.sparse.linalg` namespace, the `scipy.sparse.linalg.interface` namespace is deprecated.\n",
      "  from scipy.sparse.linalg.interface import aslinearoperator, LinearOperator\n",
      "/home/ehsan/anaconda3/lib/python3.9/site-packages/scipy/sparse/linalg/eigen/arpack/arpack.py:47: DeprecationWarning: Please use `aslinearoperator` from the `scipy.sparse.linalg` namespace, the `scipy.sparse.linalg.interface` namespace is deprecated.\n",
      "  from scipy.sparse.linalg.interface import aslinearoperator, LinearOperator\n",
      "/home/ehsan/anaconda3/lib/python3.9/site-packages/scipy/sparse/linalg/eigen/arpack/arpack.py:47: DeprecationWarning: Please use `LinearOperator` from the `scipy.sparse.linalg` namespace, the `scipy.sparse.linalg.interface` namespace is deprecated.\n",
      "  from scipy.sparse.linalg.interface import aslinearoperator, LinearOperator\n",
      "/home/ehsan/anaconda3/lib/python3.9/site-packages/scipy/sparse/linalg/eigen/arpack/arpack.py:47: DeprecationWarning: Please use `LinearOperator` from the `scipy.sparse.linalg` namespace, the `scipy.sparse.linalg.interface` namespace is deprecated.\n",
      "  from scipy.sparse.linalg.interface import aslinearoperator, LinearOperator\n",
      "/home/ehsan/anaconda3/lib/python3.9/site-packages/scipy/sparse/linalg/eigen/arpack/arpack.py:50: DeprecationWarning: Please use `isdense` from the `scipy.sparse` namespace, the `scipy.sparse.sputils` namespace is deprecated.\n",
      "  from scipy.sparse.sputils import isdense, is_pydata_spmatrix\n",
      "/home/ehsan/anaconda3/lib/python3.9/site-packages/scipy/sparse/linalg/eigen/arpack/arpack.py:50: DeprecationWarning: Please use `is_pydata_spmatrix` from the `scipy.sparse` namespace, the `scipy.sparse.sputils` namespace is deprecated.\n",
      "  from scipy.sparse.sputils import isdense, is_pydata_spmatrix\n",
      "/home/ehsan/anaconda3/lib/python3.9/site-packages/scipy/sparse/linalg/eigen/arpack/arpack.py:50: DeprecationWarning: Please use `isdense` from the `scipy.sparse` namespace, the `scipy.sparse.sputils` namespace is deprecated.\n",
      "  from scipy.sparse.sputils import isdense, is_pydata_spmatrix\n",
      "/home/ehsan/anaconda3/lib/python3.9/site-packages/scipy/sparse/linalg/eigen/arpack/arpack.py:50: DeprecationWarning: Please use `is_pydata_spmatrix` from the `scipy.sparse` namespace, the `scipy.sparse.sputils` namespace is deprecated.\n",
      "  from scipy.sparse.sputils import isdense, is_pydata_spmatrix\n",
      "<frozen importlib._bootstrap>:228: RuntimeWarning: scipy._lib.messagestream.MessageStream size changed, may indicate binary incompatibility. Expected 56 from C header, got 64 from PyObject\n",
      "<frozen importlib._bootstrap>:228: RuntimeWarning: scipy._lib.messagestream.MessageStream size changed, may indicate binary incompatibility. Expected 56 from C header, got 64 from PyObject\n",
      "/home/ehsan/anaconda3/lib/python3.9/site-packages/scipy/sparse/linalg/isolve/iterative.py:10: DeprecationWarning: Please use `LinearOperator` from the `scipy.sparse.linalg` namespace, the `scipy.sparse.linalg.interface` namespace is deprecated.\n",
      "  from scipy.sparse.linalg.interface import LinearOperator\n",
      "/home/ehsan/anaconda3/lib/python3.9/site-packages/scipy/sparse/linalg/isolve/iterative.py:10: DeprecationWarning: Please use `LinearOperator` from the `scipy.sparse.linalg` namespace, the `scipy.sparse.linalg.interface` namespace is deprecated.\n",
      "  from scipy.sparse.linalg.interface import LinearOperator\n",
      "/home/ehsan/anaconda3/lib/python3.9/site-packages/scipy/sparse/linalg/isolve/iterative.py:10: DeprecationWarning: Please use `LinearOperator` from the `scipy.sparse.linalg` namespace, the `scipy.sparse.linalg.interface` namespace is deprecated.\n",
      "  from scipy.sparse.linalg.interface import LinearOperator\n",
      "/home/ehsan/anaconda3/lib/python3.9/site-packages/scipy/sparse/linalg/isolve/utils.py:7: DeprecationWarning: Please use `asmatrix` from the `scipy.sparse` namespace, the `scipy.sparse.sputils` namespace is deprecated.\n",
      "  from scipy.sparse.sputils import asmatrix\n",
      "/home/ehsan/anaconda3/lib/python3.9/site-packages/scipy/sparse/linalg/isolve/utils.py:7: DeprecationWarning: Please use `asmatrix` from the `scipy.sparse` namespace, the `scipy.sparse.sputils` namespace is deprecated.\n",
      "  from scipy.sparse.sputils import asmatrix\n",
      "/home/ehsan/anaconda3/lib/python3.9/site-packages/scipy/sparse/linalg/isolve/utils.py:7: DeprecationWarning: Please use `asmatrix` from the `scipy.sparse` namespace, the `scipy.sparse.sputils` namespace is deprecated.\n",
      "  from scipy.sparse.sputils import asmatrix\n",
      "/home/ehsan/anaconda3/lib/python3.9/site-packages/scipy/sparse/linalg/isolve/utils.py:9: DeprecationWarning: Please use `aslinearoperator` from the `scipy.sparse.linalg` namespace, the `scipy.sparse.linalg.interface` namespace is deprecated.\n",
      "  from scipy.sparse.linalg.interface import aslinearoperator, LinearOperator, \\\n",
      "/home/ehsan/anaconda3/lib/python3.9/site-packages/scipy/sparse/linalg/isolve/utils.py:9: DeprecationWarning: Please use `aslinearoperator` from the `scipy.sparse.linalg` namespace, the `scipy.sparse.linalg.interface` namespace is deprecated.\n",
      "  from scipy.sparse.linalg.interface import aslinearoperator, LinearOperator, \\\n",
      "/home/ehsan/anaconda3/lib/python3.9/site-packages/scipy/sparse/linalg/isolve/utils.py:9: DeprecationWarning: Please use `aslinearoperator` from the `scipy.sparse.linalg` namespace, the `scipy.sparse.linalg.interface` namespace is deprecated.\n",
      "  from scipy.sparse.linalg.interface import aslinearoperator, LinearOperator, \\\n",
      "/home/ehsan/anaconda3/lib/python3.9/site-packages/scipy/sparse/linalg/isolve/utils.py:9: DeprecationWarning: Please use `LinearOperator` from the `scipy.sparse.linalg` namespace, the `scipy.sparse.linalg.interface` namespace is deprecated.\n",
      "  from scipy.sparse.linalg.interface import aslinearoperator, LinearOperator, \\\n",
      "/home/ehsan/anaconda3/lib/python3.9/site-packages/scipy/sparse/linalg/isolve/utils.py:9: DeprecationWarning: Please use `LinearOperator` from the `scipy.sparse.linalg` namespace, the `scipy.sparse.linalg.interface` namespace is deprecated.\n",
      "  from scipy.sparse.linalg.interface import aslinearoperator, LinearOperator, \\\n",
      "/home/ehsan/anaconda3/lib/python3.9/site-packages/scipy/sparse/linalg/isolve/utils.py:9: DeprecationWarning: Please use `LinearOperator` from the `scipy.sparse.linalg` namespace, the `scipy.sparse.linalg.interface` namespace is deprecated.\n",
      "  from scipy.sparse.linalg.interface import aslinearoperator, LinearOperator, \\\n",
      "/home/ehsan/anaconda3/lib/python3.9/site-packages/scipy/sparse/linalg/isolve/utils.py:9: DeprecationWarning: Please use `IdentityOperator` from the `scipy.sparse.linalg` namespace, the `scipy.sparse.linalg.interface` namespace is deprecated.\n",
      "  from scipy.sparse.linalg.interface import aslinearoperator, LinearOperator, \\\n",
      "/home/ehsan/anaconda3/lib/python3.9/site-packages/scipy/sparse/linalg/isolve/utils.py:9: DeprecationWarning: Please use `IdentityOperator` from the `scipy.sparse.linalg` namespace, the `scipy.sparse.linalg.interface` namespace is deprecated.\n",
      "  from scipy.sparse.linalg.interface import aslinearoperator, LinearOperator, \\\n",
      "/home/ehsan/anaconda3/lib/python3.9/site-packages/scipy/sparse/linalg/isolve/utils.py:9: DeprecationWarning: Please use `IdentityOperator` from the `scipy.sparse.linalg` namespace, the `scipy.sparse.linalg.interface` namespace is deprecated.\n",
      "  from scipy.sparse.linalg.interface import aslinearoperator, LinearOperator, \\\n",
      "/home/ehsan/anaconda3/lib/python3.9/site-packages/scipy/sparse/linalg/isolve/lsqr.py:56: DeprecationWarning: Please use `aslinearoperator` from the `scipy.sparse.linalg` namespace, the `scipy.sparse.linalg.interface` namespace is deprecated.\n",
      "  from scipy.sparse.linalg.interface import aslinearoperator\n",
      "/home/ehsan/anaconda3/lib/python3.9/site-packages/scipy/sparse/linalg/isolve/lsqr.py:56: DeprecationWarning: Please use `aslinearoperator` from the `scipy.sparse.linalg` namespace, the `scipy.sparse.linalg.interface` namespace is deprecated.\n",
      "  from scipy.sparse.linalg.interface import aslinearoperator\n",
      "/home/ehsan/anaconda3/lib/python3.9/site-packages/scipy/sparse/linalg/isolve/lsqr.py:56: DeprecationWarning: Please use `aslinearoperator` from the `scipy.sparse.linalg` namespace, the `scipy.sparse.linalg.interface` namespace is deprecated.\n",
      "  from scipy.sparse.linalg.interface import aslinearoperator\n",
      "/home/ehsan/anaconda3/lib/python3.9/site-packages/scipy/sparse/linalg/isolve/lsmr.py:24: DeprecationWarning: Please use `aslinearoperator` from the `scipy.sparse.linalg` namespace, the `scipy.sparse.linalg.interface` namespace is deprecated.\n",
      "  from scipy.sparse.linalg.interface import aslinearoperator\n",
      "/home/ehsan/anaconda3/lib/python3.9/site-packages/scipy/sparse/linalg/isolve/lsmr.py:24: DeprecationWarning: Please use `aslinearoperator` from the `scipy.sparse.linalg` namespace, the `scipy.sparse.linalg.interface` namespace is deprecated.\n",
      "  from scipy.sparse.linalg.interface import aslinearoperator\n",
      "/home/ehsan/anaconda3/lib/python3.9/site-packages/scipy/sparse/linalg/isolve/lsmr.py:24: DeprecationWarning: Please use `aslinearoperator` from the `scipy.sparse.linalg` namespace, the `scipy.sparse.linalg.interface` namespace is deprecated.\n",
      "  from scipy.sparse.linalg.interface import aslinearoperator\n",
      "/home/ehsan/anaconda3/lib/python3.9/site-packages/scipy/sparse/linalg/dsolve/linsolve.py:7: DeprecationWarning: Please use `is_pydata_spmatrix` from the `scipy.sparse` namespace, the `scipy.sparse.sputils` namespace is deprecated.\n",
      "  from scipy.sparse.sputils import is_pydata_spmatrix\n",
      "/home/ehsan/anaconda3/lib/python3.9/site-packages/scipy/sparse/linalg/dsolve/linsolve.py:7: DeprecationWarning: Please use `is_pydata_spmatrix` from the `scipy.sparse` namespace, the `scipy.sparse.sputils` namespace is deprecated.\n",
      "  from scipy.sparse.sputils import is_pydata_spmatrix\n",
      "/home/ehsan/anaconda3/lib/python3.9/site-packages/scipy/sparse/linalg/dsolve/linsolve.py:7: DeprecationWarning: Please use `is_pydata_spmatrix` from the `scipy.sparse` namespace, the `scipy.sparse.sputils` namespace is deprecated.\n",
      "  from scipy.sparse.sputils import is_pydata_spmatrix\n",
      "/home/ehsan/anaconda3/lib/python3.9/site-packages/scipy/sparse/linalg/eigen/arpack/arpack.py:47: DeprecationWarning: Please use `aslinearoperator` from the `scipy.sparse.linalg` namespace, the `scipy.sparse.linalg.interface` namespace is deprecated.\n",
      "  from scipy.sparse.linalg.interface import aslinearoperator, LinearOperator\n",
      "/home/ehsan/anaconda3/lib/python3.9/site-packages/scipy/sparse/linalg/eigen/arpack/arpack.py:47: DeprecationWarning: Please use `aslinearoperator` from the `scipy.sparse.linalg` namespace, the `scipy.sparse.linalg.interface` namespace is deprecated.\n",
      "  from scipy.sparse.linalg.interface import aslinearoperator, LinearOperator\n",
      "/home/ehsan/anaconda3/lib/python3.9/site-packages/scipy/sparse/linalg/eigen/arpack/arpack.py:47: DeprecationWarning: Please use `aslinearoperator` from the `scipy.sparse.linalg` namespace, the `scipy.sparse.linalg.interface` namespace is deprecated.\n",
      "  from scipy.sparse.linalg.interface import aslinearoperator, LinearOperator\n",
      "/home/ehsan/anaconda3/lib/python3.9/site-packages/scipy/sparse/linalg/eigen/arpack/arpack.py:47: DeprecationWarning: Please use `LinearOperator` from the `scipy.sparse.linalg` namespace, the `scipy.sparse.linalg.interface` namespace is deprecated.\n",
      "  from scipy.sparse.linalg.interface import aslinearoperator, LinearOperator\n",
      "/home/ehsan/anaconda3/lib/python3.9/site-packages/scipy/sparse/linalg/eigen/arpack/arpack.py:47: DeprecationWarning: Please use `LinearOperator` from the `scipy.sparse.linalg` namespace, the `scipy.sparse.linalg.interface` namespace is deprecated.\n",
      "  from scipy.sparse.linalg.interface import aslinearoperator, LinearOperator\n",
      "/home/ehsan/anaconda3/lib/python3.9/site-packages/scipy/sparse/linalg/eigen/arpack/arpack.py:47: DeprecationWarning: Please use `LinearOperator` from the `scipy.sparse.linalg` namespace, the `scipy.sparse.linalg.interface` namespace is deprecated.\n",
      "  from scipy.sparse.linalg.interface import aslinearoperator, LinearOperator\n",
      "/home/ehsan/anaconda3/lib/python3.9/site-packages/scipy/sparse/linalg/eigen/arpack/arpack.py:50: DeprecationWarning: Please use `isdense` from the `scipy.sparse` namespace, the `scipy.sparse.sputils` namespace is deprecated.\n",
      "  from scipy.sparse.sputils import isdense, is_pydata_spmatrix\n",
      "/home/ehsan/anaconda3/lib/python3.9/site-packages/scipy/sparse/linalg/eigen/arpack/arpack.py:50: DeprecationWarning: Please use `is_pydata_spmatrix` from the `scipy.sparse` namespace, the `scipy.sparse.sputils` namespace is deprecated.\n",
      "  from scipy.sparse.sputils import isdense, is_pydata_spmatrix\n",
      "/home/ehsan/anaconda3/lib/python3.9/site-packages/scipy/sparse/linalg/eigen/arpack/arpack.py:50: DeprecationWarning: Please use `isdense` from the `scipy.sparse` namespace, the `scipy.sparse.sputils` namespace is deprecated.\n",
      "  from scipy.sparse.sputils import isdense, is_pydata_spmatrix\n",
      "/home/ehsan/anaconda3/lib/python3.9/site-packages/scipy/sparse/linalg/eigen/arpack/arpack.py:50: DeprecationWarning: Please use `isdense` from the `scipy.sparse` namespace, the `scipy.sparse.sputils` namespace is deprecated.\n",
      "  from scipy.sparse.sputils import isdense, is_pydata_spmatrix\n",
      "/home/ehsan/anaconda3/lib/python3.9/site-packages/scipy/sparse/linalg/eigen/arpack/arpack.py:50: DeprecationWarning: Please use `is_pydata_spmatrix` from the `scipy.sparse` namespace, the `scipy.sparse.sputils` namespace is deprecated.\n",
      "  from scipy.sparse.sputils import isdense, is_pydata_spmatrix\n",
      "/home/ehsan/anaconda3/lib/python3.9/site-packages/scipy/sparse/linalg/eigen/arpack/arpack.py:50: DeprecationWarning: Please use `is_pydata_spmatrix` from the `scipy.sparse` namespace, the `scipy.sparse.sputils` namespace is deprecated.\n",
      "  from scipy.sparse.sputils import isdense, is_pydata_spmatrix\n",
      "<frozen importlib._bootstrap>:228: RuntimeWarning: scipy._lib.messagestream.MessageStream size changed, may indicate binary incompatibility. Expected 56 from C header, got 64 from PyObject\n",
      "<frozen importlib._bootstrap>:228: RuntimeWarning: scipy._lib.messagestream.MessageStream size changed, may indicate binary incompatibility. Expected 56 from C header, got 64 from PyObject\n",
      "<frozen importlib._bootstrap>:228: RuntimeWarning: scipy._lib.messagestream.MessageStream size changed, may indicate binary incompatibility. Expected 56 from C header, got 64 from PyObject\n",
      "/home/ehsan/anaconda3/lib/python3.9/site-packages/scipy/sparse/linalg/isolve/iterative.py:10: DeprecationWarning: Please use `LinearOperator` from the `scipy.sparse.linalg` namespace, the `scipy.sparse.linalg.interface` namespace is deprecated.\n",
      "  from scipy.sparse.linalg.interface import LinearOperator\n",
      "/home/ehsan/anaconda3/lib/python3.9/site-packages/scipy/sparse/linalg/isolve/utils.py:7: DeprecationWarning: Please use `asmatrix` from the `scipy.sparse` namespace, the `scipy.sparse.sputils` namespace is deprecated.\n",
      "  from scipy.sparse.sputils import asmatrix\n",
      "/home/ehsan/anaconda3/lib/python3.9/site-packages/scipy/sparse/linalg/isolve/utils.py:9: DeprecationWarning: Please use `aslinearoperator` from the `scipy.sparse.linalg` namespace, the `scipy.sparse.linalg.interface` namespace is deprecated.\n",
      "  from scipy.sparse.linalg.interface import aslinearoperator, LinearOperator, \\\n",
      "/home/ehsan/anaconda3/lib/python3.9/site-packages/scipy/sparse/linalg/isolve/utils.py:9: DeprecationWarning: Please use `LinearOperator` from the `scipy.sparse.linalg` namespace, the `scipy.sparse.linalg.interface` namespace is deprecated.\n",
      "  from scipy.sparse.linalg.interface import aslinearoperator, LinearOperator, \\\n",
      "/home/ehsan/anaconda3/lib/python3.9/site-packages/scipy/sparse/linalg/isolve/utils.py:9: DeprecationWarning: Please use `IdentityOperator` from the `scipy.sparse.linalg` namespace, the `scipy.sparse.linalg.interface` namespace is deprecated.\n",
      "  from scipy.sparse.linalg.interface import aslinearoperator, LinearOperator, \\\n",
      "/home/ehsan/anaconda3/lib/python3.9/site-packages/scipy/sparse/linalg/isolve/lsqr.py:56: DeprecationWarning: Please use `aslinearoperator` from the `scipy.sparse.linalg` namespace, the `scipy.sparse.linalg.interface` namespace is deprecated.\n",
      "  from scipy.sparse.linalg.interface import aslinearoperator\n",
      "/home/ehsan/anaconda3/lib/python3.9/site-packages/scipy/sparse/linalg/isolve/lsmr.py:24: DeprecationWarning: Please use `aslinearoperator` from the `scipy.sparse.linalg` namespace, the `scipy.sparse.linalg.interface` namespace is deprecated.\n",
      "  from scipy.sparse.linalg.interface import aslinearoperator\n",
      "/home/ehsan/anaconda3/lib/python3.9/site-packages/scipy/sparse/linalg/dsolve/linsolve.py:7: DeprecationWarning: Please use `is_pydata_spmatrix` from the `scipy.sparse` namespace, the `scipy.sparse.sputils` namespace is deprecated.\n",
      "  from scipy.sparse.sputils import is_pydata_spmatrix\n",
      "/home/ehsan/anaconda3/lib/python3.9/site-packages/scipy/sparse/linalg/eigen/arpack/arpack.py:47: DeprecationWarning: Please use `aslinearoperator` from the `scipy.sparse.linalg` namespace, the `scipy.sparse.linalg.interface` namespace is deprecated.\n",
      "  from scipy.sparse.linalg.interface import aslinearoperator, LinearOperator\n",
      "/home/ehsan/anaconda3/lib/python3.9/site-packages/scipy/sparse/linalg/eigen/arpack/arpack.py:47: DeprecationWarning: Please use `LinearOperator` from the `scipy.sparse.linalg` namespace, the `scipy.sparse.linalg.interface` namespace is deprecated.\n",
      "  from scipy.sparse.linalg.interface import aslinearoperator, LinearOperator\n",
      "/home/ehsan/anaconda3/lib/python3.9/site-packages/scipy/sparse/linalg/eigen/arpack/arpack.py:50: DeprecationWarning: Please use `isdense` from the `scipy.sparse` namespace, the `scipy.sparse.sputils` namespace is deprecated.\n",
      "  from scipy.sparse.sputils import isdense, is_pydata_spmatrix\n",
      "/home/ehsan/anaconda3/lib/python3.9/site-packages/scipy/sparse/linalg/eigen/arpack/arpack.py:50: DeprecationWarning: Please use `is_pydata_spmatrix` from the `scipy.sparse` namespace, the `scipy.sparse.sputils` namespace is deprecated.\n",
      "  from scipy.sparse.sputils import isdense, is_pydata_spmatrix\n",
      "<frozen importlib._bootstrap>:228: RuntimeWarning: scipy._lib.messagestream.MessageStream size changed, may indicate binary incompatibility. Expected 56 from C header, got 64 from PyObject\n"
     ]
    },
    {
     "data": {
      "text/html": [
       "\n",
       "<link rel=\"stylesheet\" type=\"text/css\" href=\"https://cdn.jsdelivr.net/gh/bmabey/pyLDAvis@3.3.1/pyLDAvis/js/ldavis.v1.0.0.css\">\n",
       "\n",
       "\n",
       "<div id=\"ldavis_el530338139915608203328473908924\"></div>\n",
       "<script type=\"text/javascript\">\n",
       "\n",
       "var ldavis_el530338139915608203328473908924_data = {\"mdsDat\": {\"x\": [-0.14565694007559687, 0.029618643085569267, 0.0427646791528658, 0.011131473232416953, -0.17775615151587557, 0.11591715658283559, 0.09957965530190838, -0.022351035717532948, -0.008097763709601195, 0.054850283663010736], \"y\": [0.00021123857139446897, -0.06369611814911512, -0.08213033569108169, 0.03999267095793497, 0.032496808472412105, 0.0969700181007316, 0.05733557216289759, -0.010085222898563471, 0.03995089900897542, -0.11104553053558595], \"topics\": [1, 2, 3, 4, 5, 6, 7, 8, 9, 10], \"cluster\": [1, 1, 1, 1, 1, 1, 1, 1, 1, 1], \"Freq\": [15.677053343747795, 14.86726954952338, 12.923259262946832, 12.693255646917493, 11.728238656403287, 9.918450584743278, 6.6480574573302365, 5.732655318514813, 5.325018645822365, 4.486741534050526]}, \"tinfo\": {\"Term\": [\"color\", \"iron\", \"polish\", \"love\", \"hair\", \"nail\", \"opi\", \"toothpaste\", \"hand\", \"teeth\", \"coat\", \"great\", \"flat\", \"one\", \"good\", \"best\", \"nice\", \"use\", \"hot\", \"curl\", \"beautiful\", \"scent\", \"pink\", \"get\", \"whiten\", \"cream\", \"work\", \"year\", \"price\", \"smell\", \"park\", \"lincoln\", \"black\", \"elegant\", \"marshmallow\", \"brilliant\", \"indie\", \"mitchell\", \"flatter\", \"pen\", \"fave\", \"fleck\", \"retinol\", \"envy\", \"chic\", \"lumpy\", \"flash\", \"alpine\", \"mauve\", \"essie\", \"bubbly\", \"girls\", \"olive\", \"pigment\", \"buff\", \"picky\", \"private\", \"jet\", \"lilac\", \"dot\", \"pale\", \"link\", \"watery\", \"polish\", \"nail\", \"purple\", \"streak\", \"coat\", \"opaque\", \"sparkly\", \"remover\", \"matte\", \"transparent\", \"pretty\", \"opi\", \"glitter\", \"brown\", \"look\", \"fake\", \"pink\", \"base\", \"formula\", \"real\", \"dark\", \"picture\", \"sparkle\", \"nude\", \"tone\", \"salon\", \"color\", \"apply\", \"top\", \"bottle\", \"like\", \"buy\", \"toe\", \"coverage\", \"light\", \"great\", \"get\", \"blue\", \"good\", \"product\", \"love\", \"perfect\", \"use\", \"one\", \"make\", \"go\", \"wear\", \"would\", \"favorite\", \"plaque\", \"key\", \"duo\", \"redder\", \"spearmint\", \"checkup\", \"bleaching\", \"whitener\", \"disappear\", \"combat\", \"blanx\", \"coats\", \"decrease\", \"weak\", \"prescribed\", \"semi\", \"24\", \"magic\", \"annual\", \"bump\", \"diligently\", \"chipped\", \"success\", \"dbp\", \"hooked\", \"resin\", \"soil\", \"restroom\", \"tinge\", \"sensation\", \"4oz\", \"split\", \"porcelain\", \"scrub\", \"twice\", \"arm\", \"milk\", \"rinse\", \"duty\", \"upper\", \"whitens\", \"work\", \"begin\", \"age\", \"regularly\", \"dentist\", \"counter\", \"teeth\", \"back\", \"odor\", \"kp\", \"day\", \"result\", \"use\", \"product\", \"sensitivity\", \"continue\", \"star\", \"like\", \"sensitive\", \"well\", \"try\", \"really\", \"see\", \"anything\", \"recommend\", \"couple\", \"whiten\", \"would\", \"go\", \"worth\", \"smell\", \"week\", \"good\", \"month\", \"make\", \"time\", \"feel\", \"one\", \"toothpaste\", \"buy\", \"think\", \"year\", \"color\", \"nail\", \"get\", \"bottle\", \"skin\", \"love\", \"great\", \"polish\", \"aveeno\", \"benefit\", \"cinnamon\", \"average\", \"smoker\", \"relief\", \"calprox\", \"sew\", \"meal\", \"months\", \"formulate\", \"brightening\", \"unusable\", \"toothpaste\", \"skip\", \"sniff\", \"attractive\", \"chinese\", \"eggplant\", \"hydroxy\", \"activater\", \"alpha\", \"fabric\", \"heavenly\", \"coffee\", \"whatsoever\", \"hammer\", \"lastly\", \"interval\", \"menthol\", \"accelerator\", \"whitening\", \"flavor\", \"whiter\", \"whiten\", \"taste\", \"abrasive\", \"teeth\", \"contain\", \"bond\", \"toothbrush\", \"wine\", \"mild\", \"supersmile\", \"stain\", \"veneer\", \"crabtree\", \"white\", \"drink\", \"notice\", \"evelyn\", \"cost\", \"help\", \"ingredient\", \"mint\", \"mouth\", \"morning\", \"product\", \"use\", \"kp\", \"difference\", \"waste\", \"skin\", \"feel\", \"get\", \"hand\", \"really\", \"year\", \"first\", \"scent\", \"love\", \"try\", \"make\", \"good\", \"purchase\", \"like\", \"work\", \"lotion\", \"smell\", \"color\", \"great\", \"buy\", \"one\", \"time\", \"tire\", \"relieve\", \"cuz\", \"inform\", \"favs\", \"outdoors\", \"industry\", \"kids\", \"beat\", \"unisex\", \"pea\", \"7oz\", \"introduce\", \"deeply\", \"dane\", \"loving\", \"lazy\", \"fingers\", \"useful\", \"otc\", \"warehouse\", \"adjustable\", \"mouthrinse\", \"2007\", \"tendency\", \"soooo\", \"weekend\", \"citrusy\", \"securely\", \"handbag\", \"twenty\", \"orleans\", \"greasy\", \"love\", \"spread\", \"number\", \"hand\", \"lotion\", \"year\", \"dirty\", \"ck\", \"pump\", \"gets\", \"lasts\", \"winter\", \"absorb\", \"great\", \"perfume\", \"scent\", \"smells\", \"smell\", \"last\", \"use\", \"long\", \"cream\", \"one\", \"highly\", \"hot\", \"stuff\", \"glad\", \"color\", \"product\", \"dry\", \"time\", \"like\", \"recommend\", \"order\", \"get\", \"feel\", \"fragrance\", \"size\", \"well\", \"opi\", \"price\", \"best\", \"work\", \"day\", \"look\", \"favorite\", \"excelente\", \"nan\", \"vibrant\", \"taupe\", \"raspberry\", \"ups\", \"teal\", \"dish\", \"shrimp\", \"indeed\", \"code\", \"goldish\", \"clothing\", \"french\", \"official\", \"cajun\", \"bright\", \"vs\", \"incorrect\", \"nowhere\", \"suit\", \"alike\", \"eggshell\", \"budapest\", \"champagne\", \"plat\", \"springtime\", \"skintone\", \"cook\", \"trusted\", \"summer\", \"neon\", \"nice\", \"cute\", \"color\", \"grey\", \"fun\", \"neutral\", \"goes\", \"beautiful\", \"periwinkle\", \"compliment\", \"shade\", \"manicure\", \"gorgeous\", \"ugly\", \"favorite\", \"perfect\", \"blue\", \"opi\", \"great\", \"pink\", \"red\", \"always\", \"true\", \"coat\", \"bottle\", \"quality\", \"spring\", \"wear\", \"excellent\", \"go\", \"look\", \"love\", \"picture\", \"light\", \"nail\", \"polish\", \"really\", \"bit\", \"get\", \"last\", \"long\", \"like\", \"scalp\", \"troy\", \"helen\", \"clinical\", \"flat\", \"hinge\", \"pin\", \"plate\", \"tutorial\", \"gunk\", \"straightens\", \"wavy\", \"walmart\", \"conditioner\", \"stinky\", \"apart\", \"tourmaline\", \"silva\", \"crme\", \"antiseptic\", \"random\", \"ceramic\", \"moose\", \"conditioning\", \"fluorescent\", \"quicker\", \"beside\", \"straighten\", \"sweating\", \"bumper\", \"iron\", \"naturally\", \"straightener\", \"hair\", \"dent\", \"curl\", \"tools\", \"marcel\", \"straight\", \"section\", \"hot\", \"youtube\", \"heat\", \"curling\", \"shampoo\", \"tool\", \"curly\", \"wide\", \"buy\", \"die\", \"year\", \"thick\", \"one\", \"use\", \"gift\", \"purchase\", \"get\", \"find\", \"love\", \"lotion\", \"good\", \"would\", \"work\", \"think\", \"time\", \"last\", \"ever\", \"like\", \"product\", \"best\", \"great\", \"well\", \"stuffer\", \"cotton\", \"flatiron\", \"shopping\", \"damn\", \"000\", \"gifts\", \"proof\", \"vidal\", \"blanc\", \"lever\", \"loation\", \"busy\", \"2005\", \"skill\", \"bus\", \"goodness\", \"embarrassing\", \"ability\", \"squeeze\", \"outbreak\", \"toward\", \"moisturizers\", \"aweful\", \"complicate\", \"hydrating\", \"august\", \"modern\", \"lid\", \"2014\", \"release\", \"major\", \"contact\", \"chi\", \"temperature\", \"certain\", \"value\", \"worked\", \"container\", \"curls\", \"bought\", \"gardening\", \"burn\", \"curling\", \"gardeners\", \"order\", \"break\", \"promise\", \"cream\", \"one\", \"get\", \"iron\", \"hold\", \"deodorant\", \"handle\", \"hand\", \"wife\", \"hair\", \"hot\", \"smell\", \"glove\", \"tool\", \"spend\", \"gift\", \"great\", \"use\", \"good\", \"time\", \"curl\", \"never\", \"product\", \"skin\", \"work\", \"best\", \"love\", \"buy\", \"year\", \"like\", \"would\", \"much\", \"last\", \"well\", \"dry\", \"perspirants\", \"handcream\", \"cc\", \"soooooo\", \"vein\", \"dig\", \"gaudy\", \"aesthetic\", \"trendy\", \"diffrent\", \"lots\", \"ride\", \"coughing\", \"manual\", \"clump\", \"reddish\", \"threw\", \"bridesmaid\", \"toucan\", \"cruelty\", \"1996\", \"lucky\", \"avid\", \"moisturizes\", \"noredol\", \"subtly\", \"tampering\", \"isle\", \"huuuuge\", \"caribbean\", \"anti\", \"sampler\", \"pinkish\", \"luxurious\", \"choice\", \"orange\", \"good\", \"wonderful\", \"smells\", \"hand\", \"best\", \"ever\", \"thanks\", \"described\", \"beautiful\", \"tube\", \"cream\", \"quality\", \"exactly\", \"color\", \"rough\", \"delivery\", \"water\", \"find\", \"dry\", \"make\", \"lotion\", \"go\", \"price\", \"happy\", \"use\", \"quite\", \"like\", \"want\", \"love\", \"skin\", \"buy\", \"pretty\", \"much\", \"feel\", \"product\", \"one\", \"time\", \"polish\", \"day\", \"smell\", \"great\", \"get\", \"received\", \"manage\", \"strand\", \"wan\", \"branded\", \"brassy\", \"everytime\", \"necessarily\", \"broke\", \"applies\", \"tonga\", \"tutti\", \"frutti\", \"eve\", \"appliance\", \"vanish\", \"loveeeee\", \"estimate\", \"housewares\", \"slide\", \"satisfied\", \"dexterity\", \"position\", \"waist\", \"manner\", \"14\", \"rock\", \"timely\", \"signature\", \"unit\", \"shipping\", \"awesome\", \"came\", \"chips\", \"thank\", \"fast\", \"stay\", \"dries\", \"manicurist\", \"loved\", \"quickly\", \"deliver\", \"week\", \"best\", \"price\", \"ship\", \"long\", \"promptly\", \"chip\", \"last\", \"item\", \"polish\", \"time\", \"arrive\", \"great\", \"underarms\", \"brand\", \"use\", \"love\", \"one\", \"color\", \"hair\", \"well\", \"say\", \"nail\", \"product\", \"work\", \"get\", \"much\", \"find\", \"good\", \"go\", \"opi\", \"look\", \"try\", \"day\", \"gosmile\", \"bf\", \"musk\", \"warning\", \"bueno\", \"eau\", \"muy\", \"mimosas\", \"nutmeg\", \"240\", \"unlocked\", \"charging\", \"sanitizing\", \"perky\", \"3d\", \"cigar\", \"parfum\", \"tiempo\", \"stunning\", \"nuff\", \"el\", \"rosemary\", \"approximately\", \"stupid\", \"valley\", \"lily\", \"colognes\", \"percent\", \"contrast\", \"toilette\", \"gender\", \"flowery\", \"casual\", \"walk\", \"de\", \"typically\", \"smile\", \"scent\", \"cologne\", \"ck\", \"present\", \"note\", \"sweat\", \"fresh\", \"passion\", \"speed\", \"perfume\", \"deodorant\", \"men\", \"come\", \"man\", \"crest\", \"supersmile\", \"fragrance\", \"like\", \"four\", \"one\", \"teeth\", \"product\", \"fine\", \"woman\", \"work\", \"skin\", \"find\", \"well\", \"use\", \"still\", \"smell\", \"nice\", \"way\", \"price\", \"great\", \"dry\", \"much\", \"good\", \"whiten\", \"hand\", \"make\", \"get\"], \"Freq\": [2129.0, 462.0, 837.0, 1342.0, 411.0, 660.0, 609.0, 293.0, 485.0, 312.0, 366.0, 936.0, 159.0, 708.0, 526.0, 288.0, 295.0, 1285.0, 169.0, 151.0, 232.0, 220.0, 237.0, 652.0, 148.0, 202.0, 508.0, 424.0, 212.0, 306.0, 5.999969582331171, 5.105035571226485, 52.28028968005973, 11.830331025172528, 6.660666801006991, 8.306333696447751, 3.3249049460656424, 4.1463513479995715, 4.945009278280533, 4.07697291844698, 13.74347959942914, 4.837763336969826, 3.156462467204182, 3.138596104051668, 3.1286708846095315, 3.121535892684765, 6.060728513067959, 7.696475029849923, 14.368731957049237, 7.589580206690836, 2.25188303393443, 2.2507349614855467, 5.985893875253031, 4.5821577132822675, 2.238812757556077, 2.230035449203379, 2.2265788071794894, 2.22509075038067, 7.5036885742888, 2.205075563503381, 32.49982399625253, 15.292620629625812, 16.741100474730192, 543.2506651133076, 430.4921275141639, 52.33173881627638, 14.483384942308437, 215.77451722927756, 27.45649711745421, 17.309667904872732, 8.259309036204167, 11.960838544027999, 10.888013813138183, 119.3061475825183, 276.3317202609558, 23.27817045917838, 20.151500754401745, 217.85501620167403, 37.192611035681516, 112.51586332135268, 42.210951727190356, 25.292734089852818, 40.180956970102486, 49.5425078548368, 57.16210220911328, 26.035361889282722, 41.94578265193563, 31.576917679975157, 44.362843863165686, 495.41816978238467, 59.39360264071489, 49.11646212236267, 94.22588128241286, 152.47336715071413, 115.17802049291954, 29.5777412859452, 25.37620210339579, 50.93835224908726, 141.9425076233015, 104.3362045342304, 42.14488471616144, 90.1660983083263, 107.84685937319367, 122.32607349657607, 57.569729729134096, 90.927942081304, 71.13971307189446, 55.54081414401223, 55.82419230987997, 50.05393209667889, 51.674249423360756, 49.465143100929325, 3.647740955853351, 4.837176154231127, 2.758529559595689, 2.750429969066447, 2.747797028302303, 2.747434666118792, 4.117209933211367, 5.265119465925844, 4.629659227802131, 2.677568237856252, 2.656207844075865, 3.2726327437470064, 2.643458754989273, 2.6340385624145486, 2.610148978528979, 3.2214013416599836, 2.582680149933812, 2.579628227894983, 2.555287680599444, 34.27733245813172, 2.527808905407179, 2.490276568941898, 2.5296840684970205, 1.8738885481923049, 1.873842640821083, 1.873838509157673, 1.873795050179583, 1.8737711783465476, 1.873652278255083, 1.873116539232924, 2.474269280695121, 6.019707496075419, 4.257440731689632, 13.643225119585, 23.53131296698196, 40.74907943295793, 5.780011032665612, 9.324121912919315, 14.494811752536654, 5.853785402415697, 4.152354474274828, 215.27698359228773, 9.917488764222286, 6.701835943586702, 6.186541004078466, 24.64019021638877, 9.327768182390896, 116.81146521956094, 49.1284233614435, 15.681367946640538, 32.82890715241616, 100.48436541351037, 35.75017314015791, 319.3698887392177, 238.79520989798007, 12.829865248600642, 18.1487593849792, 29.0198660570377, 173.4719440306813, 22.052182363000092, 98.75203913058634, 80.77726868253797, 90.75897573811679, 55.0084500293479, 23.717802175047357, 51.87470758883948, 22.64188274558814, 45.724554603486304, 78.09964229534484, 83.28854634356816, 40.68124425284738, 68.49028686725505, 44.93232314103309, 94.14282153704187, 37.547678096644454, 62.476386959688334, 70.8784740119755, 45.939386410445785, 92.4780709045564, 56.699398468343965, 63.93294582738784, 47.93002796235065, 60.11030390816206, 84.03084037970451, 59.16744240345226, 58.050656844229636, 49.48457641997235, 48.99309577626087, 53.20568837280731, 49.902355533629404, 48.56202188789797, 5.232575216624051, 5.187800627850787, 19.761031419418845, 3.6015193054455596, 4.180451657646586, 3.441005599723954, 2.76757696023089, 2.7548662720973844, 2.766098360748983, 2.745579667075002, 2.739457499051051, 3.4457513241136146, 2.652060245075797, 209.057719705354, 2.64173026704729, 1.9590328465990061, 1.9578178836925886, 1.9551581072226165, 1.9554987597300981, 1.9525975602608763, 1.9517811115725043, 1.9473409236177066, 5.242564675160503, 3.1944548557793415, 24.2035742793287, 6.238174501906967, 1.9127380245153143, 1.903659721650962, 1.8927156113979176, 1.8971627161548976, 19.101649475003896, 33.96458467330148, 35.40032126414586, 18.818228717026198, 83.73252573909564, 35.155268539935435, 6.012371770231766, 159.20125634110656, 5.984882802173935, 4.311516546015073, 17.510705163804346, 10.114850582907422, 11.112906829379618, 44.95202071109303, 39.072845268425326, 17.363796541944595, 19.736092623119482, 67.49745873457587, 10.718102145550786, 36.54962562775468, 19.426815794460694, 21.463384131308022, 47.70817271030377, 13.012926849912965, 27.305036454198106, 18.32241318237295, 18.4310942347559, 211.71530408109584, 230.97249860357672, 28.947242782556273, 32.676109993289856, 22.920586219632806, 70.22537741140161, 46.82103004713431, 90.88775966979591, 76.66294097363446, 61.68642124226834, 65.74158274327615, 40.930651513178006, 45.604141077339904, 106.01315026659475, 51.62534294365002, 52.10069112858394, 64.35833297563836, 45.689781729591694, 68.30118689167286, 59.91818013691338, 44.9415965581425, 46.09859666227175, 68.90056930158774, 56.871062744729095, 49.55580593523131, 46.15334368360687, 41.81490401715865, 4.055240941806356, 3.2120900677210793, 2.5472306883320925, 2.5415885210022955, 2.54158381767196, 3.7728015131201107, 2.4574676288774016, 2.4341338844902918, 8.865628221196548, 11.219455875760238, 4.608309475410057, 4.096120198714246, 1.7561003461832587, 1.7559809338519607, 1.7557425011335595, 1.7538675707545033, 2.3374064992892443, 1.7490948662964656, 1.7486664712917326, 1.7466403811016133, 1.7460482840715887, 1.7455057026581529, 1.740933673627767, 1.7372578903224403, 1.7280319159249904, 1.7235531696129271, 1.7278513602993297, 1.7200444851825787, 1.716416649717062, 2.3030332547161207, 3.310843543112246, 3.9989817947010944, 46.954153622620446, 650.9245968438853, 4.343692010549872, 5.548810925965847, 173.12055089726186, 99.93243307677542, 134.28075836059645, 3.664578927282757, 27.28654444254206, 15.134618836662435, 3.160644256622032, 7.0256409735725915, 25.488764358757404, 7.115078458049608, 224.46996462811995, 21.8730969314112, 64.96056743185966, 17.103452773645298, 81.27254482181678, 80.90432213502814, 235.907025830371, 75.08408253798778, 55.132609604019855, 128.06818157954464, 18.479460141809348, 44.22214580835542, 31.026979726661693, 18.286832634954056, 237.6673674046844, 131.7778926195432, 52.624104047301955, 72.93895419262834, 108.49319665154177, 41.44570510981784, 42.413796818714445, 88.68936648273053, 40.58981186866893, 28.53931096851496, 24.490585968296305, 47.267433049613274, 59.2707208746741, 36.9210302544352, 40.96052209461284, 50.34459841870122, 40.45396296562486, 43.948487236109585, 38.540815414630835, 8.887803160262777, 7.77828262747015, 16.514642016309622, 4.024390387290883, 3.9472563725976415, 5.464795748828722, 3.047010264561684, 2.9682193100153667, 4.359011599711779, 3.6213428462733357, 2.1733444848259458, 2.1733331375764786, 2.1731940734127932, 13.902729236739818, 2.144451973373619, 3.5077701578011253, 58.78167645131868, 2.107482393178081, 2.7836425358706935, 2.1089773329376973, 2.099078668508713, 2.0718563756056474, 2.0693329404687755, 2.0656156298294324, 2.057181002012579, 2.0400686255232623, 2.708564787639444, 1.950067071364861, 1.9354544697901226, 1.9436473046209852, 79.54028247786795, 5.1311494341386625, 171.08894090884147, 12.218782929931404, 1026.1195432767415, 9.490760265194654, 11.206933726213764, 53.49475825369377, 12.366049947827358, 111.75400154519448, 10.43829229320787, 52.54085921157516, 69.68177668904127, 19.47508628756228, 27.988563485225306, 7.109089454519665, 108.0209245062935, 92.59844607684653, 48.154373748025314, 188.7566566157079, 260.52941752149417, 84.14385482671733, 53.18997982451038, 60.21841399553932, 17.93128092598431, 100.60453222173021, 92.55226904871616, 54.66753270077264, 30.020795024260053, 66.81039528884213, 29.369304526202026, 85.82545732293363, 88.76346590911174, 144.26587417946217, 34.746089076715094, 40.41176783860394, 83.83293825986462, 82.9164436148839, 54.68204945430401, 36.14920785936483, 64.61658084883872, 48.44090000572501, 46.203910005790775, 50.13833650213425, 9.037448726439917, 12.205715419940914, 12.135743634209163, 5.116075529967213, 129.62165665444286, 5.827927949967401, 4.1635295101240475, 21.028689140278765, 7.342598724866393, 3.2103368662396905, 3.985447983291385, 16.984830200576862, 3.0846071814991403, 4.530749079444122, 3.03067787892637, 9.66647283319786, 3.0318941528175536, 3.01311775872976, 2.2318721865730464, 2.230988514691052, 2.2299268017089884, 14.478109515879002, 2.170446781995761, 2.169812612664552, 2.141031002949824, 2.1280952553168206, 2.1291053118787953, 35.91769138064388, 2.1191480775116274, 2.103643596988751, 319.7905897793475, 9.80065211987105, 32.856175027275604, 266.2142136690523, 16.877028764591895, 96.84813189930944, 30.317792428048023, 36.86077998792374, 21.467633955155584, 6.1442538991411135, 80.80262367503299, 5.395342387501998, 40.52950142956626, 32.06642064226995, 9.057399946777478, 28.32105332374997, 13.98221278323971, 10.11581181816908, 112.35133019958454, 9.585351427749856, 86.86419463394017, 37.02616873605583, 110.32571250217435, 155.3563771538861, 28.08742093194001, 44.729484446578304, 77.56064878280567, 45.245715432931, 102.8372384970839, 45.296628653932416, 56.913872502816446, 46.908273025803915, 55.03362128010123, 34.21852919095859, 40.0162628404184, 37.24370882586688, 30.231065178054724, 38.58282290907479, 39.990392978556976, 32.577738347622564, 34.673696980201335, 32.97727891022353, 4.618729421795294, 3.3154086991498777, 2.6540799383507743, 2.6169579811606174, 1.8415676159622858, 1.840944249984268, 1.8292056733071105, 1.827942108416872, 1.8214621130142092, 1.8192385234618869, 2.985709817537354, 1.7991035970922356, 2.4009424419136796, 1.7789845456849223, 1.775974461231246, 1.765529420278396, 1.75585568353018, 1.7537136584395256, 1.7461426699354894, 1.7259311058166196, 2.315531312647256, 1.7125810836090214, 4.3531136575479605, 1.6839306084762171, 1.6754277870535592, 2.2812565846936863, 1.6658336988232807, 3.327064753393502, 3.9727843206205478, 3.721509942608202, 3.727670249114125, 5.813509742460173, 3.6604775550743986, 6.641310748405238, 8.013027925165604, 6.512676475992131, 7.687422046773837, 4.151097098020752, 11.662386711359648, 3.981050249286247, 13.329111050311345, 5.061293811506744, 21.469132652644287, 22.778151391944093, 4.640908386419099, 45.86439967364602, 17.558053215806936, 5.34022292132455, 47.091716003329076, 118.02555840890116, 108.48823138016881, 83.06679803503258, 18.93613023092744, 18.559619917267327, 18.12480360400186, 66.75688362537133, 18.12274423819786, 54.47326693954738, 30.435569759898925, 43.41569658641943, 6.914268135321446, 15.282587571038563, 9.853399718533835, 18.82351215327599, 65.30111673421816, 75.13843456849101, 45.8723043100654, 37.20365959977369, 22.446583644075627, 22.504197714288043, 48.62439653959783, 29.634746883916222, 35.610343276323334, 27.364565959368953, 48.807508208630345, 31.500304578740092, 30.368531436182625, 33.775521698236, 26.88909660461809, 21.459375572343795, 22.383040001723685, 22.552923995241102, 21.320227695562913, 2.3902798854310014, 2.262672314385087, 2.2434047200944978, 2.2212588819853267, 2.179592909947528, 1.6196213113220912, 1.6195572323391683, 1.6195287921275947, 1.6194667193006749, 1.6194484278782937, 2.1285407240170535, 1.577353728501712, 1.5688888122511717, 1.571553223441657, 4.139676006328251, 1.5281595970576491, 1.5288288270984518, 1.5279002128873644, 1.4985080212857782, 1.4398137970935692, 1.4314205124132575, 2.298048397307248, 1.3637875651262437, 1.3637585348687868, 1.3730853901456053, 1.3093387210641483, 0.8479962420563877, 0.8479855622259005, 0.847983674079074, 0.8479816089184826, 5.05939279753258, 1.6109328856909686, 3.428200096393719, 1.5952661054076114, 4.408172845234092, 12.292943238354377, 93.93537258956421, 20.606043043313573, 12.32465844059839, 81.0535059712301, 53.84703596817173, 35.78446453481522, 10.950525601000807, 5.7499664500615175, 36.21192964744432, 20.663350187643395, 31.072188177821946, 26.02572682586707, 14.118251594354305, 133.77050494523505, 6.312911289892742, 8.816237122025662, 9.895460308798793, 32.12804177132401, 28.34758475465595, 30.030716598697015, 27.386085634365642, 33.70015058196935, 22.8744022199216, 15.308886772769407, 58.52728746684145, 11.30314268528229, 39.049198791745056, 18.926666723310333, 50.54659307845992, 24.48733842939544, 27.96867711396287, 20.359915551897487, 18.238314475522724, 17.33147720585837, 30.608768973323436, 26.968644693238208, 21.959853758617992, 25.184238317866424, 19.776708536434835, 19.51795689533705, 24.582451937631426, 20.59925515547246, 8.832009651692976, 2.2791437076298178, 2.195793401558226, 1.6418709790520505, 1.6417738576809593, 1.6416175426976904, 1.641089952224708, 1.6121229003988273, 2.107556772419178, 5.316926780005416, 2.6348433848590647, 2.6348179535293887, 2.6348080879273588, 1.5494930990343823, 1.5499712518794164, 1.5527393205733186, 1.5500925987843803, 1.5480884565409694, 1.5485777904016371, 1.5333371891507261, 7.670715167240315, 1.5066680552731375, 1.5075391879323503, 1.5086851324169874, 5.431432657286453, 4.799906532273122, 1.4394190694206381, 7.166133470546927, 3.6815475863244362, 2.2677202174219553, 16.78508448761697, 26.137680473322536, 5.444641163754869, 3.4816071301163567, 15.235232609522113, 25.48054368391159, 22.645522191453335, 3.036974750715974, 2.2612751292338245, 7.167446253323664, 24.196963089181757, 6.855122778155716, 32.43490740294576, 49.7583082460717, 38.57297805591563, 7.273998701484047, 40.30452538429624, 3.5303673200586028, 18.293430681795343, 37.85684233554053, 13.779331078790639, 62.11585085359318, 39.349833268248844, 13.208236370156158, 60.85750866121104, 5.115436547336288, 19.208604265410614, 56.98903510164036, 55.9751072801801, 39.81666829463462, 64.26752374822587, 29.505793498454892, 26.456868215147075, 17.80476505123849, 32.29240777028796, 34.882372969985624, 26.95013954720254, 27.797455327702288, 19.10778570514983, 20.35777765197412, 22.596594067040986, 20.637367936550294, 21.61715814416097, 20.36936030722806, 19.41586258673304, 19.422944773576685, 5.236359803649559, 2.8373153313941297, 3.490534873069251, 3.4963469978715507, 3.483829427788184, 6.5042937449075735, 3.219931548869007, 2.5554531397040505, 2.5286520475569585, 1.8833672827977666, 1.8746766193228808, 1.8758664202334965, 1.8620687196873806, 1.8547422356450203, 4.18431977257268, 1.81931254695457, 2.4580542379589225, 1.8151474125138674, 1.8129460683977663, 1.814738251045615, 1.7865777822642706, 1.785075614742903, 1.7798472146537758, 3.5754786411085604, 1.7760609471076043, 1.7609356422850413, 1.7234582990232237, 2.6995221253284147, 1.6446188875888215, 5.468047531228249, 6.07166321817141, 5.9126152283487965, 3.673865072067809, 4.008641170114958, 8.98387948169312, 5.088792348929378, 11.061188007381464, 43.62855448889168, 14.742809968106092, 17.405202029432427, 3.553783662417646, 8.471559817674263, 6.881176714305633, 14.651210999444572, 5.006298377455289, 3.512365807895891, 12.749639818131287, 13.825901099790647, 8.45165406606303, 22.423575011191907, 6.101073338118771, 6.340059471842227, 13.394352680449979, 14.935465723566619, 34.29862083046848, 5.86478342145654, 29.883678812641662, 19.99812346097078, 26.16244706622203, 8.3339751638874, 7.562315476510389, 19.59354903451503, 16.53647778895929, 15.306215150124112, 16.516546915018626, 24.894676789551315, 13.03064193948449, 14.922025277322804, 14.083051786028385, 11.284399165454436, 12.465070325999354, 17.694846232108752, 12.409035709102936, 11.372374607542035, 12.210835307759313, 10.294664358588332, 11.277594708639743, 10.9152221011623, 11.162326072305087], \"Total\": [2129.0, 462.0, 837.0, 1342.0, 411.0, 660.0, 609.0, 293.0, 485.0, 312.0, 366.0, 936.0, 159.0, 708.0, 526.0, 288.0, 295.0, 1285.0, 169.0, 151.0, 232.0, 220.0, 237.0, 652.0, 148.0, 202.0, 508.0, 424.0, 212.0, 306.0, 7.269047101109513, 6.229249977230788, 64.26080263370366, 14.602727599477696, 8.229229514549699, 10.285269996214792, 4.135888900128299, 5.169003292265336, 6.171687802830409, 5.157313144666439, 17.399871400672215, 6.1705594136556225, 4.106152830768149, 4.10431962614705, 4.091559251480484, 4.109034095946629, 8.045675420727282, 10.228409922266211, 19.102425779255984, 10.142947616510488, 3.062866986242678, 3.0617414811695003, 8.148186837131156, 6.241818216443251, 3.061517227261964, 3.0542242360710135, 3.062578551441743, 3.062544166823128, 10.340215221111498, 3.0547411771223256, 45.750302677561926, 21.41703253529404, 23.6112118088585, 837.0721619330828, 660.3427250682957, 77.7775044675799, 21.02156644480557, 366.28150044721735, 42.330985011969005, 26.134091101989092, 11.874836620756428, 17.88648412026711, 16.141130737820163, 234.76218549555284, 609.2509757331658, 37.83705728008125, 32.21492485795011, 508.65529298476986, 65.58548955030764, 237.6065006885476, 76.10208225318618, 42.390222789118845, 73.2304059595024, 94.67220798249704, 114.50108643779308, 44.551528346313866, 83.29893729476107, 58.817266438611206, 91.2716604205903, 2129.2155721724025, 146.28340938942677, 118.55281001387775, 335.322797335336, 713.0995302625084, 470.29560512009664, 58.725496457206226, 47.09216789762792, 154.51543102265813, 936.8249285966448, 652.1884850982794, 115.34115335335038, 526.6366041010587, 908.6923970089888, 1342.4855720916241, 247.77413344185743, 1285.0262528757892, 708.299691352409, 311.6720478987414, 388.06159902976805, 230.82160751324957, 334.6724603880727, 280.29231012827705, 4.4881585521449106, 6.275227166847758, 3.596064516656309, 3.5952993647447333, 3.594258216916111, 3.595349621617213, 5.39197935136775, 7.043612393333287, 6.204638893560412, 3.594082183385208, 3.588745168595612, 4.442265010305331, 3.601211955301618, 3.601118723223163, 3.589445979276893, 4.474037469962582, 3.596540922990851, 3.620970291819795, 3.5930824458659716, 48.66171493654949, 3.6083965594331384, 3.5658618576654555, 3.6278646817857436, 2.7028629170784377, 2.702818051935816, 2.7028153183245047, 2.702772814444814, 2.7027490659609703, 2.7026349210979075, 2.7021053489015445, 3.574450869037306, 8.784150335724405, 6.26150323850057, 21.20511789880142, 37.941920642923336, 67.74041842436229, 8.769181202269525, 14.5515899579035, 24.439483782790568, 9.090754892645018, 6.255920472002007, 508.10325129086107, 16.682117215622167, 10.78256078907158, 9.887155747879273, 49.7847402886244, 15.953057814658619, 312.79976048517005, 115.09864235829359, 29.623868807526883, 72.00831411128388, 302.4759254554565, 85.81245304350938, 1285.0262528757892, 908.6923970089888, 24.450464424269608, 38.130627687112586, 70.72133586957598, 713.0995302625084, 49.861560130307225, 359.8974695343974, 289.01401957681855, 343.23227735097936, 178.60962513715074, 56.48722183075583, 172.74850026679624, 55.14309424528523, 148.4265810964135, 334.6724603880727, 388.06159902976805, 133.41977933778665, 306.37488528243904, 158.95212579837244, 526.6366041010587, 120.34577267400049, 311.6720478987414, 394.45977239540605, 188.26116246058146, 708.299691352409, 293.230664727592, 470.29560512009664, 230.16149984894008, 424.5101897338788, 2129.2155721724025, 660.3427250682957, 652.1884850982794, 335.322797335336, 319.17282246554095, 1342.4855720916241, 936.8249285966448, 837.0721619330828, 6.4520141557288735, 6.482788460238471, 24.712415884227518, 4.6404734972986965, 5.543805769699919, 4.606725065744613, 3.7064130413872864, 3.7042373537374216, 3.7213582719296614, 3.713039685010668, 3.706936189686542, 4.6845248475013594, 3.715666424457174, 293.230664727592, 3.7058065874066854, 2.7839474001260904, 2.782769284671004, 2.7802082410731335, 2.7822574955374186, 2.783348515677075, 2.7841875002984353, 2.782397262381301, 7.563379708561383, 4.613057838275791, 35.05575027992072, 9.05012914733063, 2.783701395224923, 2.7794633572561507, 2.7717644024435106, 2.7803065027006557, 28.28496183525419, 52.47295767317458, 55.01804640523229, 30.098722949398166, 148.4265810964135, 60.59787661416117, 9.22306589997014, 312.79976048517005, 9.234511590749229, 6.494733805325, 29.327656980998835, 16.393913405117527, 18.177833074130817, 85.00100815271779, 73.17045873030175, 31.04955990553101, 35.987532725743165, 157.2676583532462, 18.12790910542983, 77.82547238480387, 36.90271418946212, 41.57022538385514, 108.97556539643301, 23.3658650482355, 60.088790533156725, 36.40871722115016, 37.89994695392305, 908.6923970089888, 1285.0262528757892, 72.00831411128388, 90.07942787374942, 53.894599967580035, 319.17282246554095, 188.26116246058146, 652.1884850982794, 485.3637527404909, 343.23227735097936, 424.5101897338788, 172.5601413682694, 220.02066952050728, 1342.4855720916241, 289.01401957681855, 311.6720478987414, 526.6366041010587, 235.4931985809705, 713.0995302625084, 508.10325129086107, 268.5376257394548, 306.37488528243904, 2129.2155721724025, 936.8249285966448, 470.29560512009664, 708.299691352409, 394.45977239540605, 5.088293706603275, 4.280141939623751, 3.428691966869791, 3.4297003709869407, 3.4392344523488543, 5.202154729795691, 3.4332818795153757, 3.455914992522244, 12.747772057388381, 16.244377131597616, 6.743889123421699, 5.997667202727865, 2.590691430172941, 2.5905752875525843, 2.5903439267739663, 2.588525614600679, 3.4536897855592903, 2.5889842689288685, 2.5910483121217105, 2.5911820849583487, 2.5903532849759556, 2.5932650519614597, 2.591260205315144, 2.5913584355397603, 2.587474575874931, 2.587958109946025, 2.597959458917844, 2.592289561053218, 2.587151388592945, 3.4716980584866186, 5.0361629006056035, 6.22856516822809, 82.10726594677546, 1342.4855720916241, 6.921500845500045, 9.640550031814703, 485.3637527404909, 268.5376257394548, 424.5101897338788, 6.153378490494632, 65.48238344296271, 32.938773112458506, 5.200889833739948, 13.499957741512798, 63.96843121815644, 13.904327832297094, 936.8249285966448, 55.415445975555656, 220.02066952050728, 41.98859637387921, 306.37488528243904, 314.57316533854237, 1285.0262528757892, 293.7906550413905, 202.4943496411323, 708.299691352409, 50.794948187897944, 169.20674149647064, 108.20314719568273, 51.57215336592831, 2129.2155721724025, 908.6923970089888, 240.58755550951633, 394.45977239540605, 713.0995302625084, 172.74850026679624, 179.02017803298864, 652.1884850982794, 188.26116246058146, 109.22612000970129, 84.63506986349734, 359.8974695343974, 609.2509757331658, 212.70209510578823, 288.3039079640915, 508.10325129086107, 302.4759254554565, 508.65529298476986, 280.29231012827705, 10.18303096700243, 9.10223150598779, 20.01873693820811, 5.0094597123348725, 5.008937031872224, 6.986293698222608, 4.000855693304746, 3.969301594663593, 5.8901735184974005, 4.961857423539543, 2.988081321619738, 2.9880711429754117, 2.9879378189106465, 19.22618545027478, 2.982973133857281, 4.9029578660701905, 82.76735498657294, 2.9798691495212415, 3.9409669612850364, 2.98715907653442, 2.975033841427202, 2.9696890921453076, 2.976028961678506, 2.9731353533385403, 2.9645471138197426, 2.962183522102809, 3.9514221843645, 2.944181788390962, 2.932673604060425, 2.9955639941987036, 125.3815532750359, 7.913467405554334, 295.3040806499576, 19.58713241257383, 2129.2155721724025, 15.026839382798888, 18.052311840823585, 98.13481576446158, 20.52616988855272, 232.0595037170697, 17.153624375813667, 109.33565603211439, 160.4070526990403, 37.27722091197705, 57.17869318977612, 11.771781079635586, 280.29231012827705, 247.77413344185743, 115.34115335335038, 609.2509757331658, 936.8249285966448, 237.6065006885476, 136.1213046675926, 172.43277861228358, 36.25908716000036, 366.28150044721735, 335.322797335336, 167.66193711755645, 74.77960717251158, 230.82160751324957, 74.69243160245206, 388.06159902976805, 508.65529298476986, 1342.4855720916241, 114.50108643779308, 154.51543102265813, 660.3427250682957, 837.0721619330828, 343.23227735097936, 127.69419734594386, 652.1884850982794, 314.57316533854237, 293.7906550413905, 713.0995302625084, 10.375579785611986, 14.381882059855025, 14.364456345878855, 6.167070159295784, 159.68667763067523, 7.1814851412836855, 5.136319187558566, 26.302253400010514, 9.250612193051351, 4.092434087085634, 5.103239098773153, 22.015298738241647, 4.062062498093589, 6.058785647165246, 4.061095736464524, 12.957369377877642, 4.064224433054229, 4.055846223234836, 3.043827296480359, 3.0429585614478944, 3.043400656296777, 19.99858112288253, 3.0264317694092875, 3.031865686477826, 3.0311273302272075, 3.0220889443790155, 3.0261026800180075, 51.124975393197616, 3.017739744954343, 3.025689640521597, 462.97882870451247, 14.10729288869809, 48.22088923779275, 411.26699712490006, 24.88930092896349, 151.0533830030782, 47.745521979463334, 58.65242176977274, 35.838081975922314, 9.163791240657202, 169.20674149647064, 8.009894351807386, 88.6174478310852, 67.17722285498621, 14.95732958068282, 62.280153364395595, 25.845373784837616, 17.263502759061275, 470.29560512009664, 16.690160283227126, 424.5101897338788, 126.92213401493213, 708.299691352409, 1285.0262528757892, 96.14366248376608, 235.4931985809705, 652.1884850982794, 266.0922594958568, 1342.4855720916241, 268.5376257394548, 526.6366041010587, 334.6724603880727, 508.10325129086107, 230.16149984894008, 394.45977239540605, 314.57316533854237, 174.42533088456443, 713.0995302625084, 908.6923970089888, 288.3039079640915, 936.8249285966448, 359.8974695343974, 6.164747718574663, 4.429291054323978, 3.548052118811857, 3.555253838225917, 2.672119243644258, 2.671514588201883, 2.6733914898918263, 2.67559671301286, 2.674413861878266, 2.673582519564262, 4.418089417006598, 2.667331623408861, 3.5878610794426353, 2.6726363570199707, 2.6715361320403734, 2.6757757780166744, 2.672049269404438, 2.6739760012910923, 2.675821055053565, 2.6678663435887255, 3.5995441236803307, 2.674862103253557, 6.849080263379707, 2.664452869263341, 2.6614685359353816, 3.6418897610965884, 2.667218160358043, 5.3487662981547475, 6.438346128677361, 6.152930424427683, 6.219756405033875, 9.93360095214999, 6.109946977978065, 11.835655152962449, 14.851361639130802, 11.770053972867652, 14.20177270419572, 7.130125799156037, 23.551102728804576, 6.993149313561317, 30.35097415204257, 9.616747177736471, 60.94076745046323, 67.17722285498621, 8.927812812395276, 179.02017803298864, 53.650360767806326, 10.983755102853053, 202.4943496411323, 708.299691352409, 652.1884850982794, 462.97882870451247, 61.9547790050636, 63.17495637120913, 61.511864687890366, 485.3637527404909, 67.92951336702649, 411.26699712490006, 169.20674149647064, 306.37488528243904, 16.627509984847144, 62.280153364395595, 30.449467355969176, 96.14366248376608, 936.8249285966448, 1285.0262528757892, 526.6366041010587, 394.45977239540605, 151.0533830030782, 164.61114485744844, 908.6923970089888, 319.17282246554095, 508.10325129086107, 288.3039079640915, 1342.4855720916241, 470.29560512009664, 424.5101897338788, 713.0995302625084, 334.6724603880727, 213.44697520466397, 314.57316533854237, 359.8974695343974, 240.58755550951633, 3.232603949152547, 3.2587642005924486, 3.265913746000946, 3.2680128893493356, 3.298736999485546, 2.460744916697186, 2.4606861640051894, 2.4606524569187456, 2.4605985447899195, 2.4605791532998387, 3.3024884878437417, 2.4707382187302587, 2.4687329384503287, 2.4755510991572387, 6.656883125894729, 2.4736652113190702, 2.479084267456495, 2.4781467188173307, 2.480802538634686, 2.5173297385482454, 2.5092242862640446, 4.1667800001309985, 2.481453694682136, 2.4991895925012044, 2.547896395476688, 2.4588012122587086, 1.6891146109473163, 1.6891040968666213, 1.689102225513935, 1.689100200365919, 10.891233115658002, 3.2967643572504706, 7.4383037479475655, 3.2981943642539497, 10.82599040084993, 37.878781581763256, 526.6366041010587, 78.84701173052476, 41.98859637387921, 485.3637527404909, 288.3039079640915, 174.42533088456443, 38.720625174316716, 15.905465182621143, 232.0595037170697, 102.96859254750771, 202.4943496411323, 167.66193711755645, 66.80296186286043, 2129.2155721724025, 19.73557071529303, 33.8657342072905, 41.55167318788321, 266.0922594958568, 240.58755550951633, 311.6720478987414, 268.5376257394548, 388.06159902976805, 212.70209510578823, 105.93473105011637, 1285.0262528757892, 64.0920913078817, 713.0995302625084, 174.77086454819838, 1342.4855720916241, 319.17282246554095, 470.29560512009664, 234.76218549555284, 213.44697520466397, 188.26116246058146, 908.6923970089888, 708.299691352409, 394.45977239540605, 837.0721619330828, 302.4759254554565, 306.37488528243904, 936.8249285966448, 652.1884850982794, 12.265984050301183, 3.284495210718097, 3.3098270906687857, 2.481937895548097, 2.4818457825865137, 2.481695305880785, 2.4811865301550045, 2.4814325179937153, 3.2932181283133444, 8.36956804565924, 4.213155440899309, 4.213205378280333, 4.213217450507433, 2.486109405863034, 2.4877902595180155, 2.493255353119646, 2.494542982183913, 2.4927904457263703, 2.495510904468376, 2.486289915021475, 12.510247669832262, 2.4927721248810237, 2.4965188486298215, 2.507926808285302, 9.203547860308488, 8.308844769968609, 2.501633331196452, 12.460649739886383, 6.577603903899341, 4.090960412478279, 31.29913648862943, 59.23851201904486, 10.990629719332738, 6.854920660443365, 43.19030674760044, 87.1407987667125, 82.93040330903219, 6.012639880612152, 4.082366086909326, 18.68874064412241, 104.44356448681594, 18.60457935687795, 158.95212579837244, 288.3039079640915, 212.70209510578823, 21.2713790270372, 293.7906550413905, 7.880911658501388, 97.67991820967785, 314.57316533854237, 68.32277606128746, 837.0721619330828, 394.45977239540605, 65.12596284074873, 936.8249285966448, 13.879693711674378, 158.12618526322734, 1285.0262528757892, 1342.4855720916241, 708.299691352409, 2129.2155721724025, 411.26699712490006, 359.8974695343974, 158.49972213853638, 660.3427250682957, 908.6923970089888, 508.10325129086107, 652.1884850982794, 213.44697520466397, 266.0922594958568, 526.6366041010587, 388.06159902976805, 609.2509757331658, 508.65529298476986, 289.01401957681855, 302.4759254554565, 6.432995143179257, 3.6640538541513314, 4.566619502954853, 4.580320824770182, 4.57547352335497, 9.060709307451363, 4.579815534999005, 3.652590118012853, 3.6478064798100545, 2.7472391473168285, 2.7470269233333893, 2.7526225466237313, 2.7543991591092785, 2.7485653327098407, 6.239818337629883, 2.7349566734896626, 3.6957357231248436, 2.73734306002718, 2.744104015794384, 2.762447160692175, 2.7287977225433107, 2.7433980573123637, 2.735660238636828, 5.500154357934498, 2.7563216246764273, 2.755515596658203, 2.7443975903339153, 4.430893646195795, 2.7369753214721992, 9.179001873066515, 10.783235105044842, 10.908624460237533, 6.452841335376834, 7.222087272681131, 19.799182290674086, 10.517687810443682, 30.07569961311021, 220.02066952050728, 51.40884942438952, 65.48238344296271, 7.105963234247971, 24.818010245376016, 18.91947813534137, 63.05456023529603, 12.309762867312159, 7.193555288165978, 55.415445975555656, 63.17495637120913, 29.497387354784223, 161.87768596818597, 18.499952487590832, 19.95276277230994, 85.00100815271779, 109.22612000970129, 713.0995302625084, 17.396748751200565, 708.299691352409, 312.79976048517005, 908.6923970089888, 46.11810314840408, 35.81608563250413, 508.10325129086107, 319.17282246554095, 266.0922594958568, 359.8974695343974, 1285.0262528757892, 190.48096104052482, 306.37488528243904, 295.3040806499576, 140.31002936707364, 212.70209510578823, 936.8249285966448, 240.58755550951633, 213.44697520466397, 526.6366041010587, 148.4265810964135, 485.3637527404909, 311.6720478987414, 652.1884850982794], \"Category\": [\"Default\", \"Default\", \"Default\", \"Default\", \"Default\", \"Default\", \"Default\", \"Default\", \"Default\", \"Default\", \"Default\", \"Default\", \"Default\", \"Default\", \"Default\", \"Default\", \"Default\", \"Default\", \"Default\", \"Default\", \"Default\", \"Default\", \"Default\", \"Default\", \"Default\", \"Default\", \"Default\", \"Default\", \"Default\", \"Default\", \"Topic1\", \"Topic1\", \"Topic1\", \"Topic1\", \"Topic1\", \"Topic1\", \"Topic1\", \"Topic1\", \"Topic1\", \"Topic1\", \"Topic1\", \"Topic1\", \"Topic1\", \"Topic1\", \"Topic1\", \"Topic1\", \"Topic1\", \"Topic1\", \"Topic1\", \"Topic1\", \"Topic1\", \"Topic1\", \"Topic1\", \"Topic1\", \"Topic1\", \"Topic1\", \"Topic1\", \"Topic1\", \"Topic1\", \"Topic1\", \"Topic1\", \"Topic1\", \"Topic1\", \"Topic1\", \"Topic1\", \"Topic1\", \"Topic1\", \"Topic1\", \"Topic1\", \"Topic1\", \"Topic1\", \"Topic1\", \"Topic1\", \"Topic1\", \"Topic1\", \"Topic1\", \"Topic1\", \"Topic1\", \"Topic1\", \"Topic1\", \"Topic1\", \"Topic1\", \"Topic1\", \"Topic1\", \"Topic1\", \"Topic1\", \"Topic1\", \"Topic1\", \"Topic1\", \"Topic1\", \"Topic1\", \"Topic1\", \"Topic1\", \"Topic1\", \"Topic1\", \"Topic1\", \"Topic1\", \"Topic1\", \"Topic1\", \"Topic1\", \"Topic1\", \"Topic1\", \"Topic1\", \"Topic1\", \"Topic1\", \"Topic1\", \"Topic1\", \"Topic1\", \"Topic1\", \"Topic1\", \"Topic1\", \"Topic1\", \"Topic2\", \"Topic2\", \"Topic2\", \"Topic2\", \"Topic2\", \"Topic2\", \"Topic2\", \"Topic2\", \"Topic2\", \"Topic2\", \"Topic2\", \"Topic2\", \"Topic2\", \"Topic2\", \"Topic2\", \"Topic2\", \"Topic2\", \"Topic2\", \"Topic2\", \"Topic2\", \"Topic2\", \"Topic2\", \"Topic2\", \"Topic2\", \"Topic2\", \"Topic2\", \"Topic2\", \"Topic2\", \"Topic2\", \"Topic2\", \"Topic2\", \"Topic2\", \"Topic2\", \"Topic2\", \"Topic2\", \"Topic2\", \"Topic2\", \"Topic2\", \"Topic2\", \"Topic2\", \"Topic2\", \"Topic2\", \"Topic2\", \"Topic2\", \"Topic2\", \"Topic2\", \"Topic2\", \"Topic2\", \"Topic2\", \"Topic2\", \"Topic2\", \"Topic2\", \"Topic2\", \"Topic2\", \"Topic2\", \"Topic2\", \"Topic2\", \"Topic2\", \"Topic2\", \"Topic2\", \"Topic2\", \"Topic2\", \"Topic2\", \"Topic2\", \"Topic2\", \"Topic2\", \"Topic2\", \"Topic2\", \"Topic2\", \"Topic2\", \"Topic2\", \"Topic2\", \"Topic2\", \"Topic2\", \"Topic2\", \"Topic2\", \"Topic2\", \"Topic2\", \"Topic2\", \"Topic2\", \"Topic2\", \"Topic2\", \"Topic2\", \"Topic2\", \"Topic2\", \"Topic2\", \"Topic2\", \"Topic2\", \"Topic2\", \"Topic2\", \"Topic2\", \"Topic3\", \"Topic3\", \"Topic3\", \"Topic3\", \"Topic3\", \"Topic3\", \"Topic3\", \"Topic3\", \"Topic3\", \"Topic3\", \"Topic3\", \"Topic3\", \"Topic3\", \"Topic3\", \"Topic3\", \"Topic3\", \"Topic3\", \"Topic3\", \"Topic3\", \"Topic3\", \"Topic3\", \"Topic3\", \"Topic3\", \"Topic3\", \"Topic3\", \"Topic3\", \"Topic3\", \"Topic3\", \"Topic3\", \"Topic3\", \"Topic3\", \"Topic3\", \"Topic3\", \"Topic3\", \"Topic3\", \"Topic3\", \"Topic3\", \"Topic3\", \"Topic3\", \"Topic3\", \"Topic3\", \"Topic3\", \"Topic3\", \"Topic3\", \"Topic3\", \"Topic3\", \"Topic3\", \"Topic3\", \"Topic3\", \"Topic3\", \"Topic3\", \"Topic3\", \"Topic3\", \"Topic3\", \"Topic3\", \"Topic3\", \"Topic3\", \"Topic3\", \"Topic3\", \"Topic3\", \"Topic3\", \"Topic3\", \"Topic3\", \"Topic3\", \"Topic3\", \"Topic3\", \"Topic3\", \"Topic3\", \"Topic3\", \"Topic3\", \"Topic3\", \"Topic3\", \"Topic3\", \"Topic3\", \"Topic3\", \"Topic3\", \"Topic3\", \"Topic3\", \"Topic3\", \"Topic3\", \"Topic3\", \"Topic3\", \"Topic3\", \"Topic3\", \"Topic4\", \"Topic4\", \"Topic4\", \"Topic4\", \"Topic4\", \"Topic4\", \"Topic4\", \"Topic4\", \"Topic4\", \"Topic4\", \"Topic4\", \"Topic4\", \"Topic4\", \"Topic4\", \"Topic4\", \"Topic4\", \"Topic4\", \"Topic4\", \"Topic4\", \"Topic4\", \"Topic4\", \"Topic4\", \"Topic4\", \"Topic4\", \"Topic4\", \"Topic4\", \"Topic4\", \"Topic4\", \"Topic4\", \"Topic4\", \"Topic4\", \"Topic4\", \"Topic4\", \"Topic4\", \"Topic4\", \"Topic4\", \"Topic4\", \"Topic4\", \"Topic4\", \"Topic4\", \"Topic4\", \"Topic4\", \"Topic4\", \"Topic4\", \"Topic4\", \"Topic4\", \"Topic4\", \"Topic4\", \"Topic4\", \"Topic4\", \"Topic4\", \"Topic4\", \"Topic4\", \"Topic4\", \"Topic4\", \"Topic4\", \"Topic4\", \"Topic4\", \"Topic4\", \"Topic4\", \"Topic4\", \"Topic4\", \"Topic4\", \"Topic4\", \"Topic4\", \"Topic4\", \"Topic4\", \"Topic4\", \"Topic4\", \"Topic4\", \"Topic4\", \"Topic4\", \"Topic4\", \"Topic4\", \"Topic4\", \"Topic4\", \"Topic4\", \"Topic4\", \"Topic4\", \"Topic5\", \"Topic5\", \"Topic5\", \"Topic5\", \"Topic5\", \"Topic5\", \"Topic5\", \"Topic5\", \"Topic5\", \"Topic5\", \"Topic5\", \"Topic5\", \"Topic5\", \"Topic5\", \"Topic5\", \"Topic5\", \"Topic5\", \"Topic5\", \"Topic5\", \"Topic5\", \"Topic5\", \"Topic5\", \"Topic5\", \"Topic5\", \"Topic5\", \"Topic5\", \"Topic5\", \"Topic5\", \"Topic5\", \"Topic5\", \"Topic5\", \"Topic5\", \"Topic5\", \"Topic5\", \"Topic5\", \"Topic5\", \"Topic5\", \"Topic5\", \"Topic5\", \"Topic5\", \"Topic5\", \"Topic5\", \"Topic5\", \"Topic5\", \"Topic5\", \"Topic5\", \"Topic5\", \"Topic5\", \"Topic5\", \"Topic5\", \"Topic5\", \"Topic5\", \"Topic5\", \"Topic5\", \"Topic5\", \"Topic5\", \"Topic5\", \"Topic5\", \"Topic5\", \"Topic5\", \"Topic5\", \"Topic5\", \"Topic5\", \"Topic5\", \"Topic5\", \"Topic5\", \"Topic5\", \"Topic5\", \"Topic5\", \"Topic5\", \"Topic5\", \"Topic5\", \"Topic5\", \"Topic5\", \"Topic6\", \"Topic6\", \"Topic6\", \"Topic6\", \"Topic6\", \"Topic6\", \"Topic6\", \"Topic6\", \"Topic6\", \"Topic6\", \"Topic6\", \"Topic6\", \"Topic6\", \"Topic6\", \"Topic6\", \"Topic6\", \"Topic6\", \"Topic6\", \"Topic6\", \"Topic6\", \"Topic6\", \"Topic6\", \"Topic6\", \"Topic6\", \"Topic6\", \"Topic6\", \"Topic6\", \"Topic6\", \"Topic6\", \"Topic6\", \"Topic6\", \"Topic6\", \"Topic6\", \"Topic6\", \"Topic6\", \"Topic6\", \"Topic6\", \"Topic6\", \"Topic6\", \"Topic6\", \"Topic6\", \"Topic6\", \"Topic6\", \"Topic6\", \"Topic6\", \"Topic6\", \"Topic6\", \"Topic6\", \"Topic6\", \"Topic6\", \"Topic6\", \"Topic6\", \"Topic6\", \"Topic6\", \"Topic6\", \"Topic6\", \"Topic6\", \"Topic6\", \"Topic6\", \"Topic6\", \"Topic6\", \"Topic6\", \"Topic6\", \"Topic6\", \"Topic6\", \"Topic6\", \"Topic6\", \"Topic6\", \"Topic6\", \"Topic6\", \"Topic6\", \"Topic6\", \"Topic7\", \"Topic7\", \"Topic7\", \"Topic7\", \"Topic7\", \"Topic7\", \"Topic7\", \"Topic7\", \"Topic7\", \"Topic7\", \"Topic7\", \"Topic7\", \"Topic7\", \"Topic7\", \"Topic7\", \"Topic7\", \"Topic7\", \"Topic7\", \"Topic7\", \"Topic7\", \"Topic7\", \"Topic7\", \"Topic7\", \"Topic7\", \"Topic7\", \"Topic7\", \"Topic7\", \"Topic7\", \"Topic7\", \"Topic7\", \"Topic7\", \"Topic7\", \"Topic7\", \"Topic7\", \"Topic7\", \"Topic7\", \"Topic7\", \"Topic7\", \"Topic7\", \"Topic7\", \"Topic7\", \"Topic7\", \"Topic7\", \"Topic7\", \"Topic7\", \"Topic7\", \"Topic7\", \"Topic7\", \"Topic7\", \"Topic7\", \"Topic7\", \"Topic7\", \"Topic7\", \"Topic7\", \"Topic7\", \"Topic7\", \"Topic7\", \"Topic7\", \"Topic7\", \"Topic7\", \"Topic7\", \"Topic7\", \"Topic7\", \"Topic7\", \"Topic7\", \"Topic7\", \"Topic7\", \"Topic7\", \"Topic7\", \"Topic7\", \"Topic7\", \"Topic7\", \"Topic7\", \"Topic7\", \"Topic7\", \"Topic7\", \"Topic7\", \"Topic7\", \"Topic7\", \"Topic7\", \"Topic7\", \"Topic7\", \"Topic7\", \"Topic8\", \"Topic8\", \"Topic8\", \"Topic8\", \"Topic8\", \"Topic8\", \"Topic8\", \"Topic8\", \"Topic8\", \"Topic8\", \"Topic8\", \"Topic8\", \"Topic8\", \"Topic8\", \"Topic8\", \"Topic8\", \"Topic8\", \"Topic8\", \"Topic8\", \"Topic8\", \"Topic8\", \"Topic8\", \"Topic8\", \"Topic8\", \"Topic8\", \"Topic8\", \"Topic8\", \"Topic8\", \"Topic8\", \"Topic8\", \"Topic8\", \"Topic8\", \"Topic8\", \"Topic8\", \"Topic8\", \"Topic8\", \"Topic8\", \"Topic8\", \"Topic8\", \"Topic8\", \"Topic8\", \"Topic8\", \"Topic8\", \"Topic8\", \"Topic8\", \"Topic8\", \"Topic8\", \"Topic8\", \"Topic8\", \"Topic8\", \"Topic8\", \"Topic8\", \"Topic8\", \"Topic8\", \"Topic8\", \"Topic8\", \"Topic8\", \"Topic8\", \"Topic8\", \"Topic8\", \"Topic8\", \"Topic8\", \"Topic8\", \"Topic8\", \"Topic8\", \"Topic8\", \"Topic8\", \"Topic8\", \"Topic8\", \"Topic8\", \"Topic8\", \"Topic8\", \"Topic8\", \"Topic8\", \"Topic8\", \"Topic8\", \"Topic8\", \"Topic8\", \"Topic9\", \"Topic9\", \"Topic9\", \"Topic9\", \"Topic9\", \"Topic9\", \"Topic9\", \"Topic9\", \"Topic9\", \"Topic9\", \"Topic9\", \"Topic9\", \"Topic9\", \"Topic9\", \"Topic9\", \"Topic9\", \"Topic9\", \"Topic9\", \"Topic9\", \"Topic9\", \"Topic9\", \"Topic9\", \"Topic9\", \"Topic9\", \"Topic9\", \"Topic9\", \"Topic9\", \"Topic9\", \"Topic9\", \"Topic9\", \"Topic9\", \"Topic9\", \"Topic9\", \"Topic9\", \"Topic9\", \"Topic9\", \"Topic9\", \"Topic9\", \"Topic9\", \"Topic9\", \"Topic9\", \"Topic9\", \"Topic9\", \"Topic9\", \"Topic9\", \"Topic9\", \"Topic9\", \"Topic9\", \"Topic9\", \"Topic9\", \"Topic9\", \"Topic9\", \"Topic9\", \"Topic9\", \"Topic9\", \"Topic9\", \"Topic9\", \"Topic9\", \"Topic9\", \"Topic9\", \"Topic9\", \"Topic9\", \"Topic9\", \"Topic9\", \"Topic9\", \"Topic9\", \"Topic9\", \"Topic9\", \"Topic9\", \"Topic9\", \"Topic9\", \"Topic9\", \"Topic9\", \"Topic9\", \"Topic9\", \"Topic9\", \"Topic10\", \"Topic10\", \"Topic10\", \"Topic10\", \"Topic10\", \"Topic10\", \"Topic10\", \"Topic10\", \"Topic10\", \"Topic10\", \"Topic10\", \"Topic10\", \"Topic10\", \"Topic10\", \"Topic10\", \"Topic10\", \"Topic10\", \"Topic10\", \"Topic10\", \"Topic10\", \"Topic10\", \"Topic10\", \"Topic10\", \"Topic10\", \"Topic10\", \"Topic10\", \"Topic10\", \"Topic10\", \"Topic10\", \"Topic10\", \"Topic10\", \"Topic10\", \"Topic10\", \"Topic10\", \"Topic10\", \"Topic10\", \"Topic10\", \"Topic10\", \"Topic10\", \"Topic10\", \"Topic10\", \"Topic10\", \"Topic10\", \"Topic10\", \"Topic10\", \"Topic10\", \"Topic10\", \"Topic10\", \"Topic10\", \"Topic10\", \"Topic10\", \"Topic10\", \"Topic10\", \"Topic10\", \"Topic10\", \"Topic10\", \"Topic10\", \"Topic10\", \"Topic10\", \"Topic10\", \"Topic10\", \"Topic10\", \"Topic10\", \"Topic10\", \"Topic10\", \"Topic10\", \"Topic10\", \"Topic10\", \"Topic10\", \"Topic10\", \"Topic10\", \"Topic10\", \"Topic10\", \"Topic10\", \"Topic10\", \"Topic10\", \"Topic10\", \"Topic10\", \"Topic10\"], \"logprob\": [30.0, 29.0, 28.0, 27.0, 26.0, 25.0, 24.0, 23.0, 22.0, 21.0, 20.0, 19.0, 18.0, 17.0, 16.0, 15.0, 14.0, 13.0, 12.0, 11.0, 10.0, 9.0, 8.0, 7.0, 6.0, 5.0, 4.0, 3.0, 2.0, 1.0, -7.5219, -7.6834, -5.357, -6.843, -7.4174, -7.1966, -8.1122, -7.8914, -7.7153, -7.9083, -6.6931, -7.7372, -8.1642, -8.1699, -8.1731, -8.1753, -7.5118, -7.2729, -6.6486, -7.2869, -8.5019, -8.5024, -7.5243, -7.7915, -8.5077, -8.5116, -8.5132, -8.5139, -7.2983, -8.5229, -5.8324, -6.5863, -6.4958, -3.0161, -3.2487, -5.3561, -6.6407, -3.9394, -6.0011, -6.4624, -7.2023, -6.832, -6.926, -4.532, -3.6921, -6.1662, -6.3104, -3.9298, -5.6976, -4.5906, -5.571, -6.0831, -5.6203, -5.4108, -5.2678, -6.0542, -5.5773, -5.8612, -5.5213, -3.1083, -5.2295, -5.4195, -4.768, -4.2867, -4.5672, -5.9266, -6.0799, -5.3831, -4.3582, -4.666, -5.5726, -4.812, -4.633, -4.507, -5.2607, -4.8036, -5.049, -5.2965, -5.2915, -5.4006, -5.3687, -5.4124, -7.9665, -7.6843, -8.2459, -8.2489, -8.2498, -8.25, -7.8455, -7.5995, -7.7281, -8.2757, -8.2837, -8.075, -8.2885, -8.2921, -8.3012, -8.0908, -8.3118, -8.313, -8.3225, -5.7261, -8.3333, -8.3482, -8.3325, -8.6326, -8.6326, -8.6326, -8.6327, -8.6327, -8.6327, -8.633, -8.3547, -7.4656, -7.812, -6.6474, -6.1023, -5.5532, -7.5062, -7.028, -6.5868, -7.4935, -7.837, -3.8887, -6.9663, -7.3582, -7.4383, -6.0563, -7.0276, -4.5001, -5.3662, -6.5082, -5.7693, -4.6506, -5.6841, -3.4943, -3.785, -6.7089, -6.362, -5.8927, -4.1046, -6.1672, -4.668, -4.8689, -4.7524, -5.2531, -6.0944, -5.3118, -6.1408, -5.438, -4.9026, -4.8383, -5.5549, -5.0339, -5.4555, -4.7158, -5.635, -5.1258, -4.9997, -5.4333, -4.7337, -5.2229, -5.1028, -5.3909, -5.1644, -4.8294, -5.1803, -5.1993, -5.359, -5.369, -5.2865, -5.3506, -5.3778, -7.4656, -7.4742, -6.1368, -7.8391, -7.6901, -7.8847, -8.1025, -8.1071, -8.1031, -8.1105, -8.1127, -7.8834, -8.1452, -3.7779, -8.1491, -8.448, -8.4487, -8.45, -8.4499, -8.4513, -8.4518, -8.454, -7.4637, -7.9591, -5.934, -7.2898, -8.472, -8.4767, -8.4825, -8.4801, -6.1707, -5.5952, -5.5538, -6.1857, -4.6929, -5.5607, -7.3267, -4.0503, -7.3313, -7.6592, -6.2577, -6.8065, -6.7124, -5.3149, -5.4551, -6.2661, -6.138, -4.9084, -6.7486, -5.5218, -6.1538, -6.0541, -5.2554, -6.5546, -5.8134, -6.2124, -6.2065, -3.7653, -3.6782, -5.755, -5.6339, -5.9885, -4.8688, -5.2742, -4.6109, -4.7811, -4.9984, -4.9348, -5.4086, -5.3005, -4.4569, -5.1765, -5.1673, -4.956, -5.2986, -4.8966, -5.0275, -5.3151, -5.2897, -4.8878, -5.0797, -5.2174, -5.2885, -5.3872, -7.7025, -7.9356, -8.1675, -8.1698, -8.1698, -7.7747, -8.2034, -8.2129, -6.9204, -6.6849, -7.5747, -7.6925, -8.5394, -8.5395, -8.5396, -8.5407, -8.2535, -8.5434, -8.5437, -8.5448, -8.5452, -8.5455, -8.5481, -8.5502, -8.5556, -8.5582, -8.5557, -8.5602, -8.5623, -8.2683, -7.9053, -7.7165, -5.2534, -2.6241, -7.6338, -7.389, -3.9486, -4.498, -4.2026, -7.8038, -5.7961, -6.3856, -7.9518, -7.153, -5.8643, -7.1403, -3.6888, -6.0173, -4.9288, -6.2633, -4.7047, -4.7093, -3.6391, -4.7839, -5.0928, -4.25, -6.1859, -5.3133, -5.6677, -6.1964, -3.6317, -4.2214, -5.1394, -4.8129, -4.4159, -5.3782, -5.3551, -4.6174, -5.399, -5.7513, -5.9043, -5.2467, -5.0204, -5.4938, -5.3899, -5.1836, -5.4024, -5.3195, -5.4508, -6.8388, -6.9721, -6.2192, -7.6311, -7.6504, -7.3251, -7.9093, -7.9355, -7.5512, -7.7366, -8.2472, -8.2472, -8.2473, -6.3914, -8.2606, -7.7685, -4.9496, -8.278, -7.9997, -8.2773, -8.282, -8.295, -8.2962, -8.298, -8.3021, -8.3105, -8.027, -8.3556, -8.3631, -8.3589, -4.6472, -7.3881, -3.8813, -6.5205, -2.0899, -6.7731, -6.6069, -5.0439, -6.5085, -4.3072, -6.678, -5.0619, -4.7795, -6.0543, -5.6917, -7.0621, -4.3411, -4.4952, -5.1491, -3.783, -3.4608, -4.5909, -5.0496, -4.9255, -6.1369, -4.4123, -4.4957, -5.0222, -5.6216, -4.8216, -5.6435, -4.5712, -4.5375, -4.0518, -5.4754, -5.3243, -4.5946, -4.6056, -5.0219, -5.4358, -4.855, -5.1431, -5.1904, -5.1087, -6.6545, -6.354, -6.3597, -7.2235, -3.9912, -7.0932, -7.4295, -5.81, -6.8622, -7.6895, -7.4732, -6.0235, -7.7294, -7.345, -7.7471, -6.5872, -7.7467, -7.7529, -8.053, -8.0534, -8.0539, -6.1832, -8.0809, -8.0812, -8.0946, -8.1006, -8.1002, -5.2746, -8.1049, -8.1122, -3.0882, -6.5734, -5.3637, -3.2716, -6.0299, -4.2827, -5.4441, -5.2487, -5.7893, -7.0403, -4.4639, -7.1703, -5.1538, -5.3881, -6.6523, -5.5123, -6.2181, -6.5418, -4.1342, -6.5956, -4.3915, -5.2442, -4.1524, -3.8101, -5.5205, -5.0552, -4.5048, -5.0438, -4.2227, -5.0426, -4.8143, -5.0077, -4.8479, -5.3231, -5.1666, -5.2384, -5.447, -5.2031, -5.1672, -5.3722, -5.3099, -5.36, -6.9257, -7.2572, -7.4797, -7.4938, -7.8452, -7.8455, -7.8519, -7.8526, -7.8562, -7.8574, -7.362, -7.8685, -7.5799, -7.8798, -7.8814, -7.8873, -7.8928, -7.8941, -7.8984, -7.91, -7.6162, -7.9178, -6.9849, -7.9347, -7.9397, -7.6311, -7.9455, -7.2537, -7.0763, -7.1417, -7.14, -6.6956, -7.1582, -6.5625, -6.3747, -6.582, -6.4162, -7.0324, -5.9994, -7.0742, -5.8658, -6.8342, -5.3892, -5.33, -6.9209, -4.6301, -5.5903, -6.7805, -4.6037, -3.6849, -3.7692, -4.0361, -5.5147, -5.5348, -5.5585, -4.2547, -5.5586, -4.4581, -5.0402, -4.685, -6.5222, -5.7291, -6.168, -5.5207, -4.2768, -4.1365, -4.6299, -4.8394, -5.3447, -5.3421, -4.5717, -5.0668, -4.8832, -5.1465, -4.5679, -5.0058, -5.0424, -4.9361, -5.1641, -5.3896, -5.3475, -5.3399, -5.3961, -7.4362, -7.4911, -7.4997, -7.5096, -7.5285, -7.8255, -7.8255, -7.8255, -7.8256, -7.8256, -7.5522, -7.8519, -7.8573, -7.8556, -6.887, -7.8836, -7.8831, -7.8838, -7.9032, -7.9431, -7.949, -7.4756, -7.9974, -7.9974, -7.9906, -8.0381, -8.4725, -8.4725, -8.4725, -8.4725, -6.6864, -7.8308, -7.0756, -7.8406, -6.8242, -5.7986, -3.765, -5.2821, -5.796, -3.9125, -4.3215, -4.7301, -5.9143, -6.5585, -4.7183, -5.2793, -4.8713, -5.0486, -5.6602, -3.4115, -6.4651, -6.1311, -6.0156, -4.8379, -4.9631, -4.9054, -4.9976, -4.7901, -5.1776, -5.5792, -4.2382, -5.8826, -4.6428, -5.3671, -4.3848, -5.1095, -4.9766, -5.2941, -5.4041, -5.4551, -4.8864, -5.013, -5.2184, -5.0814, -5.3231, -5.3363, -5.1056, -5.2824, -6.0555, -7.4101, -7.4473, -7.738, -7.7381, -7.7382, -7.7385, -7.7563, -7.4884, -6.563, -7.2651, -7.2651, -7.2651, -7.796, -7.7956, -7.7939, -7.7956, -7.7969, -7.7965, -7.8064, -6.1965, -7.824, -7.8234, -7.8226, -6.5417, -6.6653, -7.8696, -6.2645, -6.9306, -7.4151, -5.4134, -4.9705, -6.5393, -6.9864, -5.5103, -4.996, -5.1139, -7.123, -7.418, -6.2643, -5.0477, -6.3089, -4.7547, -4.3267, -4.5813, -6.2496, -4.5374, -6.9725, -5.3273, -4.6001, -5.6107, -4.1049, -4.5614, -5.653, -4.1254, -6.6016, -5.2785, -4.191, -4.209, -4.5496, -4.0708, -4.8493, -4.9584, -5.3544, -4.7591, -4.6819, -4.9399, -4.9089, -5.2838, -5.2204, -5.1161, -5.2068, -5.1604, -5.2199, -5.2678, -5.2674, -6.407, -7.0197, -6.8125, -6.8109, -6.8145, -6.1901, -6.8932, -7.1244, -7.1349, -7.4295, -7.4342, -7.4335, -7.4409, -7.4449, -6.6313, -7.4641, -7.1632, -7.4664, -7.4676, -7.4667, -7.4823, -7.4831, -7.4861, -6.7885, -7.4882, -7.4968, -7.5183, -7.0695, -7.5651, -6.3637, -6.259, -6.2855, -6.7614, -6.6741, -5.8672, -6.4356, -5.6592, -4.2869, -5.3718, -5.2058, -6.7946, -5.9259, -6.1338, -5.3781, -6.4519, -6.8063, -5.5171, -5.4361, -5.9282, -4.9525, -6.2541, -6.2157, -5.4678, -5.3589, -4.5275, -6.2936, -4.6653, -5.067, -4.7983, -5.9423, -6.0394, -5.0874, -5.257, -5.3343, -5.2582, -4.8479, -5.4953, -5.3598, -5.4176, -5.6392, -5.5397, -5.1893, -5.5442, -5.6314, -5.5603, -5.731, -5.6398, -5.6724, -5.6501], \"loglift\": [30.0, 29.0, 28.0, 27.0, 26.0, 25.0, 24.0, 23.0, 22.0, 21.0, 20.0, 19.0, 18.0, 17.0, 16.0, 15.0, 14.0, 13.0, 12.0, 11.0, 10.0, 9.0, 8.0, 7.0, 6.0, 5.0, 4.0, 3.0, 2.0, 1.0, 1.6611, 1.6539, 1.6466, 1.6424, 1.6415, 1.6393, 1.6347, 1.6325, 1.6314, 1.6179, 1.6171, 1.6096, 1.5899, 1.5847, 1.5847, 1.5781, 1.5697, 1.5686, 1.5682, 1.563, 1.5454, 1.5452, 1.5446, 1.5439, 1.54, 1.5385, 1.5342, 1.5335, 1.5323, 1.527, 1.511, 1.5162, 1.5091, 1.4206, 1.4251, 1.4567, 1.4804, 1.3238, 1.4201, 1.441, 1.4899, 1.4506, 1.4593, 1.1761, 1.0623, 1.3672, 1.3838, 1.005, 1.2857, 1.1055, 1.2636, 1.3366, 1.2528, 1.2054, 1.1583, 1.3158, 1.1669, 1.231, 1.1315, 0.3949, 0.9516, 0.9718, 0.5836, 0.3103, 0.4461, 1.1671, 1.2347, 0.7433, -0.0341, 0.0203, 0.8462, 0.0881, -0.2783, -0.5426, 0.3935, -0.7955, -0.4452, 0.1281, -0.086, 0.3244, -0.0152, 0.1184, 1.6987, 1.6457, 1.6409, 1.6381, 1.6375, 1.637, 1.6363, 1.615, 1.6132, 1.6116, 1.6051, 1.6004, 1.5968, 1.5933, 1.5874, 1.5775, 1.5749, 1.5669, 1.5652, 1.5556, 1.5501, 1.547, 1.5455, 1.5397, 1.5397, 1.5397, 1.5397, 1.5397, 1.5397, 1.5396, 1.5381, 1.5281, 1.5203, 1.465, 1.4283, 1.3978, 1.4892, 1.4609, 1.3836, 1.4658, 1.4962, 1.0472, 1.386, 1.4305, 1.4371, 1.2027, 1.3694, 0.921, 1.0547, 1.2699, 1.1205, 0.804, 1.0304, 0.5138, 0.5696, 1.2611, 1.1636, 1.0152, 0.4924, 1.0902, 0.6128, 0.6312, 0.5758, 0.7283, 1.0382, 0.703, 1.0159, 0.7286, 0.4508, 0.3672, 0.7183, 0.4079, 0.6426, 0.1843, 0.7413, 0.2988, 0.1895, 0.4955, -0.1299, 0.2628, -0.0895, 0.337, -0.0487, -1.3263, -0.5064, -0.513, -0.0074, 0.032, -1.3221, -1.0264, -0.9411, 1.8367, 1.8233, 1.8225, 1.7927, 1.7639, 1.7544, 1.754, 1.75, 1.7495, 1.7443, 1.7437, 1.739, 1.7089, 1.7078, 1.7077, 1.6947, 1.6945, 1.6941, 1.6935, 1.6916, 1.6909, 1.6893, 1.6796, 1.6787, 1.6757, 1.6741, 1.6709, 1.6677, 1.6647, 1.6639, 1.6536, 1.6112, 1.6052, 1.5765, 1.4737, 1.5017, 1.6183, 1.3707, 1.6124, 1.6364, 1.5304, 1.5632, 1.554, 1.4091, 1.4188, 1.4649, 1.4454, 1.2003, 1.5206, 1.2903, 1.4045, 1.3851, 1.2201, 1.4608, 1.2574, 1.3595, 1.3252, 0.5894, 0.3299, 1.1348, 1.0321, 1.1911, 0.5321, 0.6546, 0.0754, 0.2007, 0.3298, 0.1809, 0.6073, 0.4724, -0.4926, 0.3237, 0.2574, -0.0559, 0.4063, -0.2996, -0.0916, 0.2585, 0.1521, -1.3847, -0.7556, -0.2041, -0.6848, -0.1981, 1.8372, 1.777, 1.7669, 1.7644, 1.7616, 1.7428, 1.7297, 1.7136, 1.7009, 1.694, 1.6833, 1.6828, 1.6753, 1.6752, 1.6752, 1.6748, 1.6737, 1.6719, 1.6709, 1.6697, 1.6697, 1.6682, 1.6664, 1.6642, 1.6604, 1.6576, 1.6563, 1.6539, 1.6538, 1.6537, 1.6447, 1.621, 1.5052, 1.3402, 1.5982, 1.5117, 1.0332, 1.0756, 0.9131, 1.5458, 1.1887, 1.2864, 1.566, 1.411, 1.1439, 1.3941, 0.6353, 1.1345, 0.8442, 1.166, 0.7371, 0.7061, 0.369, 0.6998, 0.7631, 0.3538, 1.053, 0.7222, 0.8149, 1.0273, -0.1285, 0.1332, 0.5442, 0.3762, 0.1812, 0.6366, 0.6241, 0.0689, 0.5298, 0.722, 0.824, 0.0341, -0.266, 0.313, 0.1127, -0.2477, 0.0523, -0.3847, 0.08, 2.0071, 1.986, 1.9507, 1.9242, 1.905, 1.8975, 1.8708, 1.8525, 1.8421, 1.8282, 1.8248, 1.8248, 1.8248, 1.819, 1.8131, 1.8083, 1.801, 1.7968, 1.7955, 1.7951, 1.7944, 1.7832, 1.7798, 1.779, 1.7778, 1.7702, 1.7655, 1.7312, 1.7276, 1.7106, 1.6881, 1.7099, 1.5973, 1.6713, 1.4132, 1.6837, 1.6664, 1.5364, 1.6364, 1.4125, 1.6464, 1.4103, 1.3094, 1.4939, 1.4288, 1.6388, 1.1897, 1.1589, 1.2697, 0.9714, 0.8634, 1.1051, 1.2035, 1.0911, 1.439, 0.851, 0.8559, 1.0225, 1.2305, 0.9034, 1.2097, 0.6343, 0.3974, -0.0874, 0.9507, 0.802, 0.0792, -0.1689, 0.3063, 0.8812, -0.1687, 0.2723, 0.2934, -0.5117, 2.1727, 2.1467, 2.1422, 2.1239, 2.1022, 2.1019, 2.1008, 2.087, 2.0798, 2.068, 2.0635, 2.0514, 2.0355, 2.0202, 2.0181, 2.0178, 2.0177, 2.0136, 2.0005, 2.0004, 1.9998, 1.9877, 1.9783, 1.9762, 1.9631, 1.9601, 1.9592, 1.9577, 1.9573, 1.9473, 1.9408, 1.9465, 1.9271, 1.8758, 1.9223, 1.8663, 1.8566, 1.8463, 1.7983, 1.911, 1.5717, 1.9156, 1.5285, 1.5712, 1.8092, 1.5227, 1.6964, 1.7763, 0.879, 1.7562, 0.7242, 1.0788, 0.4513, 0.198, 1.0803, 0.6497, 0.1815, 0.539, -0.2584, 0.531, 0.0858, 0.3458, 0.088, 0.4048, 0.0225, 0.177, 0.5581, -0.606, -0.8126, 0.1304, -0.9857, -0.0792, 2.4221, 2.4212, 2.4205, 2.4044, 2.3386, 2.3385, 2.3314, 2.3299, 2.3268, 2.3258, 2.319, 2.3171, 2.3092, 2.3038, 2.3025, 2.2951, 2.291, 2.289, 2.284, 2.2753, 2.2697, 2.2649, 2.2576, 2.252, 2.248, 2.2431, 2.2401, 2.2361, 2.228, 2.208, 2.1989, 2.1751, 2.1985, 2.133, 2.0938, 2.119, 2.0971, 2.1699, 2.008, 2.1475, 1.888, 2.069, 1.6676, 1.6293, 2.0566, 1.349, 1.5939, 1.9897, 1.2522, 0.9189, 0.9172, 0.9928, 1.5255, 1.4859, 1.4889, 0.727, 1.3895, 0.6893, 0.9953, 0.7569, 1.8334, 1.3059, 1.5826, 1.0801, 0.0474, -0.1284, 0.2702, 0.3497, 0.8044, 0.721, -0.217, 0.3341, 0.0528, 0.3561, -0.6035, 0.0075, 0.0733, -0.339, 0.1894, 0.4136, 0.0679, -0.0591, 0.2874, 2.5571, 2.4942, 2.4834, 2.4729, 2.4446, 2.4407, 2.4407, 2.4407, 2.4407, 2.4407, 2.4198, 2.4102, 2.4057, 2.4046, 2.384, 2.3774, 2.3756, 2.3754, 2.3549, 2.3003, 2.2977, 2.2639, 2.2604, 2.2533, 2.2408, 2.2288, 2.1699, 2.1699, 2.1699, 2.1699, 2.0923, 2.1429, 2.0844, 2.1327, 1.9605, 1.7336, 1.1351, 1.5171, 1.6332, 1.0692, 1.1811, 1.275, 1.596, 1.8415, 1.0014, 1.2529, 0.9846, 0.9961, 1.3047, 0.0916, 1.7192, 1.5132, 1.4241, 0.7449, 0.7204, 0.5193, 0.576, 0.4153, 0.6291, 0.9246, -0.23, 1.1238, -0.0458, 0.6361, -0.4204, 0.2914, 0.0367, 0.414, 0.3991, 0.4737, -0.5317, -0.4092, -0.0293, -0.6447, 0.1315, 0.1055, -0.7815, -0.5961, 2.6043, 2.5673, 2.5224, 2.5196, 2.5195, 2.5195, 2.5194, 2.5015, 2.4864, 2.479, 2.4634, 2.4633, 2.4633, 2.46, 2.4596, 2.4592, 2.457, 2.4564, 2.4556, 2.4494, 2.4436, 2.4293, 2.4283, 2.4245, 2.4054, 2.384, 2.38, 2.3795, 2.3524, 2.3427, 2.3097, 2.1146, 2.2303, 2.2553, 1.8907, 1.7031, 1.6347, 2.2498, 2.342, 1.9744, 1.4703, 1.9343, 1.3434, 1.1759, 1.2254, 1.8597, 0.9464, 2.1297, 1.2576, 0.8153, 1.3317, 0.3318, 0.6277, 1.3373, 0.1988, 1.9346, 0.8247, -0.1829, -0.2446, 0.0542, -0.5677, 0.2981, 0.3225, 0.7465, -0.0852, -0.3273, -0.0039, -0.2226, 0.5195, 0.3624, -0.216, -0.0013, -0.406, -0.285, 0.2324, 0.1872, 2.8982, 2.8483, 2.8353, 2.834, 2.8315, 2.7726, 2.7517, 2.7468, 2.7376, 2.7265, 2.722, 2.7206, 2.7125, 2.7107, 2.7044, 2.6964, 2.6962, 2.6932, 2.6895, 2.6839, 2.6805, 2.6743, 2.6742, 2.6734, 2.6645, 2.6563, 2.6388, 2.6085, 2.5947, 2.586, 2.5297, 2.4916, 2.5408, 2.5154, 2.3138, 2.378, 2.1038, 1.486, 1.855, 1.779, 2.4111, 2.0292, 2.0926, 1.6446, 2.2043, 2.3871, 1.6347, 1.5847, 1.8541, 1.1273, 1.9947, 1.9576, 1.2562, 1.1144, 0.0695, 2.0167, -0.0615, 0.3541, -0.4436, 1.3932, 1.5488, -0.1514, 0.1439, 0.2485, 0.0226, -0.8398, 0.4218, 0.0821, 0.061, 0.5836, 0.2671, -0.8652, 0.1394, 0.1718, -0.6601, 0.4356, -0.658, -0.2477, -0.9637]}, \"token.table\": {\"Topic\": [7, 3, 7, 9, 8, 7, 4, 4, 7, 2, 10, 8, 10, 2, 2, 4, 7, 2, 3, 10, 2, 3, 4, 8, 2, 3, 4, 8, 3, 4, 8, 2, 3, 4, 10, 5, 3, 1, 2, 3, 1, 2, 3, 4, 5, 6, 7, 8, 9, 10, 2, 1, 2, 8, 9, 6, 1, 2, 3, 4, 5, 6, 7, 8, 9, 10, 4, 6, 9, 9, 6, 7, 9, 1, 2, 3, 4, 5, 6, 7, 8, 9, 10, 10, 2, 3, 4, 5, 6, 7, 8, 9, 10, 1, 2, 3, 4, 6, 7, 9, 10, 3, 7, 3, 3, 8, 7, 2, 3, 4, 5, 6, 7, 8, 9, 10, 1, 2, 3, 4, 5, 6, 7, 8, 9, 10, 1, 2, 3, 4, 5, 6, 7, 8, 10, 1, 2, 4, 9, 1, 2, 3, 4, 5, 6, 7, 8, 9, 2, 3, 7, 8, 9, 3, 6, 1, 2, 3, 4, 5, 6, 7, 8, 9, 10, 10, 1, 2, 3, 4, 5, 6, 7, 8, 9, 10, 1, 2, 3, 4, 5, 6, 8, 9, 7, 2, 2, 1, 2, 3, 4, 5, 8, 9, 10, 3, 10, 1, 2, 3, 4, 5, 6, 7, 8, 9, 10, 1, 2, 4, 5, 7, 8, 9, 1, 2, 3, 4, 5, 6, 7, 8, 9, 10, 9, 9, 1, 2, 3, 4, 5, 6, 7, 9, 8, 1, 2, 3, 4, 5, 6, 8, 9, 10, 3, 1, 4, 9, 1, 2, 3, 4, 5, 6, 9, 10, 1, 5, 10, 1, 2, 3, 4, 5, 9, 6, 2, 3, 4, 5, 6, 7, 9, 10, 7, 7, 1, 2, 3, 4, 5, 6, 7, 8, 9, 10, 5, 3, 1, 2, 8, 9, 10, 8, 1, 4, 10, 8, 4, 6, 7, 9, 1, 4, 6, 7, 5, 10, 2, 4, 6, 7, 1, 3, 1, 2, 3, 4, 5, 8, 9, 10, 2, 5, 9, 3, 4, 8, 10, 2, 3, 4, 8, 9, 4, 1, 2, 3, 4, 6, 7, 8, 9, 10, 6, 5, 1, 2, 8, 1, 2, 3, 4, 5, 6, 7, 8, 9, 10, 2, 5, 2, 3, 5, 9, 10, 2, 3, 4, 5, 6, 7, 8, 9, 10, 10, 1, 2, 3, 4, 5, 6, 7, 8, 9, 10, 2, 1, 2, 3, 4, 5, 6, 7, 8, 9, 10, 7, 1, 2, 3, 4, 5, 6, 7, 8, 9, 4, 6, 6, 4, 7, 2, 3, 10, 1, 2, 3, 4, 6, 7, 8, 9, 1, 2, 3, 4, 5, 6, 7, 9, 10, 5, 1, 2, 3, 4, 5, 6, 7, 9, 7, 8, 2, 3, 7, 8, 9, 2, 3, 4, 5, 6, 7, 8, 9, 10, 1, 2, 3, 4, 5, 8, 2, 3, 4, 6, 7, 8, 1, 2, 3, 4, 5, 6, 7, 8, 9, 10, 2, 3, 4, 10, 6, 8, 1, 2, 3, 4, 5, 6, 7, 8, 9, 10, 2, 4, 6, 7, 9, 4, 7, 4, 5, 6, 7, 9, 1, 2, 4, 5, 4, 7, 4, 1, 2, 3, 4, 5, 6, 7, 8, 9, 10, 1, 2, 3, 4, 5, 6, 7, 8, 9, 10, 2, 1, 5, 6, 9, 10, 2, 4, 2, 3, 8, 9, 10, 1, 2, 3, 4, 5, 6, 8, 9, 10, 5, 6, 7, 8, 9, 2, 3, 4, 7, 10, 1, 2, 3, 4, 5, 7, 8, 9, 10, 5, 8, 9, 10, 9, 1, 4, 6, 7, 8, 9, 1, 2, 3, 4, 5, 6, 7, 8, 9, 10, 8, 8, 2, 1, 2, 4, 2, 9, 5, 1, 2, 6, 9, 2, 3, 8, 9, 10, 1, 2, 3, 4, 5, 6, 7, 8, 9, 10, 2, 2, 3, 5, 7, 9, 6, 9, 10, 3, 5, 10, 1, 5, 7, 1, 1, 7, 9, 9, 2, 3, 4, 6, 7, 8, 1, 2, 3, 4, 5, 6, 7, 8, 9, 9, 1, 2, 3, 4, 5, 6, 7, 8, 9, 5, 1, 2, 3, 4, 5, 6, 7, 9, 10, 1, 3, 1, 2, 3, 4, 5, 7, 9, 10, 1, 2, 3, 4, 5, 6, 7, 8, 9, 1, 2, 4, 1, 2, 3, 4, 5, 6, 7, 8, 9, 10, 4, 1, 2, 3, 4, 5, 6, 7, 8, 9, 10, 1, 2, 3, 4, 5, 6, 7, 8, 9, 10, 1, 2, 3, 6, 7, 9, 10, 4, 1, 2, 3, 4, 5, 6, 7, 8, 9, 10, 1, 8, 1, 2, 3, 4, 5, 6, 7, 8, 9, 10, 7, 1, 1, 2, 3, 4, 6, 8, 9, 10, 1, 3, 4, 5, 10, 6, 1, 2, 3, 4, 5, 6, 8, 9, 3, 1, 2, 4, 5, 8, 9, 10, 1, 2, 3, 4, 5, 6, 7, 8, 9, 10, 1, 2, 4, 5, 2, 3, 4, 5, 6, 7, 8, 10, 5, 9, 1, 2, 4, 5, 10, 3, 4, 7, 4, 5, 7, 9, 8, 2, 4, 10, 1, 2, 3, 4, 5, 6, 7, 8, 9, 10, 2, 4, 1, 2, 3, 4, 5, 6, 7, 8, 9, 7, 1, 1, 2, 3, 4, 6, 7, 8, 9, 10, 1, 2, 3, 4, 8, 9, 10, 2, 3, 4, 5, 7, 8, 1, 2, 3, 4, 5, 6, 7, 8, 9, 10, 1, 5, 6, 8, 9, 5, 1, 2, 3, 4, 5, 6, 7, 8, 9, 10, 7, 1, 2, 3, 4, 5, 8, 9, 10, 2, 3, 4, 5, 6, 8, 9, 10, 1, 2, 3, 4, 5, 6, 7, 8, 9, 10, 1, 4, 5, 6, 1, 2, 3, 4, 5, 6, 7, 8, 9, 10, 3, 1, 2, 3, 4, 5, 6, 7, 8, 9, 10, 4, 8, 2, 3, 4, 5, 6, 7, 9, 10, 1, 2, 3, 4, 5, 6, 7, 8, 9, 10, 1, 2, 3, 4, 5, 6, 7, 8, 9, 10, 3, 4, 6, 1, 2, 3, 4, 5, 6, 7, 8, 9, 10, 1, 2, 3, 4, 5, 6, 7, 9, 6, 1, 2, 3, 4, 5, 6, 7, 8, 9, 10, 2, 1, 2, 3, 4, 5, 6, 7, 9, 10, 9, 8, 1, 7, 3, 5, 5, 1, 4, 4, 2, 3, 4, 6, 10, 3, 4, 1, 2, 3, 4, 5, 6, 7, 8, 9, 10, 8, 1, 2, 3, 4, 5, 6, 7, 8, 9, 10, 1, 2, 4, 1, 2, 3, 4, 5, 6, 7, 8, 9, 10, 1, 2, 3, 4, 5, 6, 7, 8, 9, 10, 3, 1, 2, 4, 5, 9, 4, 4, 7, 1, 6, 7, 1, 2, 3, 4, 5, 6, 7, 8, 9, 10, 1, 2, 3, 4, 5, 6, 7, 8, 9, 10, 1, 5, 10, 1, 1, 10, 7, 1, 2, 3, 4, 5, 6, 7, 8, 9, 10, 1, 2, 3, 4, 5, 6, 7, 8, 9, 10, 1, 2, 3, 4, 5, 6, 7, 8, 9, 10, 8, 1, 2, 3, 4, 5, 6, 7, 8, 9, 10, 4, 5, 6, 8, 9, 10, 9, 4, 8, 10, 1, 4, 8, 2, 2, 5, 7, 10, 1, 2, 3, 4, 5, 6, 7, 8, 9, 10, 2, 3, 6, 7, 8, 10, 9, 1, 2, 3, 4, 5, 9, 8, 9, 1, 4, 9, 10, 8, 3, 4, 6, 7, 9, 10, 1, 4, 1, 3, 5, 8, 1, 2, 4, 8, 9, 3, 1, 2, 3, 4, 5, 6, 7, 8, 9, 10, 3, 2, 3, 4, 5, 7, 8, 9, 2, 4, 7, 8, 10, 1, 2, 3, 5, 6, 7, 8, 10, 1, 3, 7, 7, 8, 8, 1, 2, 3, 4, 5, 6, 7, 8, 9, 10, 3, 6, 1, 2, 3, 4, 5, 7, 8, 9, 10, 2, 3, 4, 10, 4, 1, 2, 3, 4, 5, 6, 7, 8, 9, 10, 10, 10, 1, 2, 3, 4, 5, 6, 7, 8, 9, 10, 5, 3, 5, 6, 9, 9, 2, 3, 5, 1, 2, 3, 4, 5, 6, 7, 8, 9, 10, 1, 2, 3, 4, 5, 6, 7, 8, 9, 10, 1, 2, 3, 4, 5, 6, 7, 8, 9, 10, 8, 1, 2, 3, 4, 6, 7, 9, 10, 1, 2, 3, 4, 5, 6, 7, 8, 9, 10, 5, 1, 2, 3, 4, 5, 6, 7, 8, 9, 10, 10, 1, 4, 5, 9, 10, 10, 1, 2, 4, 5, 7, 9, 10, 5, 1, 2, 1, 2, 3, 4, 5, 6, 7, 8, 9, 10, 1, 2, 4, 5, 8, 9, 10, 1, 2, 3, 4, 5, 6, 7, 8, 9, 10, 1, 2, 3, 4, 5, 8, 9, 10, 1, 2, 3, 4, 5, 6, 7, 8, 9, 10, 1, 4, 4, 7, 4, 1, 2, 3, 4, 5, 6, 7, 10, 10, 1, 1, 4, 5, 8, 10, 4, 8, 1, 8, 10, 1, 2, 3, 4, 5, 6, 7, 8, 9, 10, 2, 3, 4, 7, 8, 9, 10, 2, 3, 5, 8, 10, 10, 8, 1, 1, 2, 3, 4, 5, 6, 7, 8, 9, 10, 1, 5, 6, 1, 2, 3, 4, 5, 6, 7, 8, 9, 10, 2, 3, 4, 8, 2, 5, 2, 4, 6, 7, 9, 1, 2, 3, 4, 5, 6, 7, 8, 9, 10, 2, 3, 4, 9, 2, 4, 9, 10, 1, 2, 3, 4, 5, 6, 7, 8, 9, 10, 1, 2, 3, 4, 5, 6, 7, 8, 9, 10, 1, 1, 2, 3, 4, 5, 6, 7, 8, 9, 10, 1, 3, 5, 7, 10, 2, 3, 5, 6, 9, 7, 2, 3, 4, 6, 7, 8, 1, 2, 3, 4, 5, 6, 7, 8, 9, 10, 1, 2, 3, 4, 5, 8, 9, 10, 1, 2, 3, 4, 5, 6, 7, 8, 9, 10, 6, 1, 2, 3, 4, 5, 6, 7, 8, 9, 10, 1, 2, 3, 4, 5, 6, 8, 10, 6, 5, 1, 2, 3, 4, 5, 6, 8, 1, 2, 3, 4, 5, 6, 7, 8, 9, 10, 1, 2, 7, 9, 1, 2, 3, 4, 5, 6, 7, 8, 9, 10, 1, 2, 3, 4, 5, 7, 8, 9, 10, 2, 8, 2, 6, 8, 2, 7, 10, 3, 4, 1, 2, 9, 2, 2, 1, 2, 3, 4, 5, 6, 7, 8, 9, 10, 1, 8, 2, 3, 4, 6, 9, 10, 1, 3, 4, 7, 8, 10, 1, 2, 3, 4, 5, 6, 7, 8, 9, 10, 4, 8, 10, 1, 2, 4, 7, 9, 1, 2, 3, 4, 5, 6, 7, 8, 9, 10, 6, 1, 2, 3, 4, 5, 6, 7, 8, 9, 10, 2, 3, 4, 7, 8, 9, 1, 6, 7, 4, 1, 2, 3, 4, 5, 6, 7, 8, 9, 10, 2, 2, 1, 2, 3, 4, 7, 8, 9, 10, 2, 3, 4, 3, 1, 2, 3, 4, 5, 6, 7, 8, 9, 10, 3, 4, 6, 10, 1, 2, 4, 5, 6, 7, 8, 9, 1, 3, 4, 5, 7, 9, 10, 7, 5, 4, 7, 9, 6, 1, 2, 3, 4, 5, 6, 7, 8, 9, 10, 7, 1, 2, 3, 4, 5, 6, 7, 8, 9, 10, 5, 3, 9, 1, 2, 3, 4, 5, 6, 7, 8, 9, 10, 1, 4, 5, 6, 7, 8, 9, 10, 1, 2, 3, 4, 6, 8, 9, 10, 3, 3, 2, 4, 8, 1, 2, 3, 4, 5, 8, 10, 1, 2, 3, 4, 5, 8, 2, 3, 5, 8, 10, 1, 2, 3, 4, 5, 7, 8, 10, 2, 4, 8, 3, 4, 1, 2, 3, 4, 5, 6, 7, 9, 10, 5, 7, 1, 2, 3, 4, 5, 9, 10, 1, 2, 3, 4, 5, 6, 7, 8, 9, 10, 1, 2, 3, 4, 5, 6, 7, 8, 9, 10, 1, 2, 3, 4, 5, 6, 7, 8, 9, 10, 6, 2, 3, 4, 5, 6, 7, 9, 2, 3, 4, 5, 6, 7, 9, 1, 2, 3, 4, 6, 7, 8, 9, 10, 6, 9, 1, 2, 8, 10, 1, 2, 3, 4, 6, 7, 8, 9, 10, 2, 7, 10, 2, 10, 8, 2, 5, 1, 2, 3, 4, 5, 6, 7, 8, 9, 10, 2, 3, 4, 6, 7, 8, 10, 2, 3, 4, 7, 10, 6, 8, 1, 2, 3, 4, 5, 6, 8, 9, 5, 5, 1, 2, 3, 4, 5, 6, 8, 9, 10, 4, 6, 7, 4, 1, 2, 3, 4, 5, 6, 7, 8, 9, 10, 1, 2, 3, 4, 5, 6, 7, 8, 10, 1, 2, 3, 4, 5, 6, 7, 8, 9, 10, 1, 2, 3, 4, 5, 6, 7, 8, 9, 10, 8, 10, 1, 2, 3, 4, 5, 6, 7, 8, 9, 10, 1, 4, 9, 10, 2, 4, 1, 2, 3, 4, 5, 9, 10, 6, 9, 10, 1, 2, 3, 4, 5, 6, 8, 9, 10, 5, 9, 1, 2, 4, 5, 6, 7, 2, 4, 6, 7, 9, 2, 3, 4, 7, 8, 10, 1, 2, 3, 4, 6, 7, 8, 9, 10, 1, 2, 3, 4, 5, 6, 7, 8, 9, 10, 8, 6, 7, 1, 2, 3, 7, 8, 8, 4, 6, 1, 2, 3, 4, 5, 6, 7, 9, 5, 1, 2, 3, 4, 5, 6, 7, 8, 9, 10, 1, 2, 3, 4, 5, 6, 7, 8, 9, 10, 6, 5, 9, 4, 9, 2, 3, 4, 5, 7, 8, 9, 1, 6, 10, 1, 3, 5, 8, 2, 3, 5, 9, 10, 2, 3, 4, 7, 10, 8, 9, 10, 3, 2, 3, 5, 7, 5, 1, 2, 3, 4, 5, 6, 7, 8, 9, 10, 4, 10, 1, 2, 3, 4, 7, 8, 9, 8, 2, 3, 4, 2, 5, 8, 7, 5, 9, 2, 3, 10, 6, 9, 1, 2, 3, 4, 5, 6, 7, 8, 9, 10, 4, 10, 1, 2, 3, 4, 7, 10, 1, 2, 3, 4, 6, 8, 9, 10, 1, 2, 3, 4, 5, 7, 3, 4, 6, 9, 1, 2, 3, 4, 5, 6, 7, 8, 9, 10, 2, 1, 2, 3, 4, 5, 6, 7, 8, 9, 10, 1, 2, 3, 4, 5, 6, 7, 8, 9, 10, 4, 1, 2, 3, 4, 5, 6, 7, 8, 9, 10, 3, 4, 9, 1, 2, 3, 4, 5, 6, 7, 8, 10, 1, 2, 3, 4, 6, 7, 8, 9, 10, 2, 9, 2, 3, 4, 6, 7, 8, 9, 10, 2, 7, 2, 3, 8, 9, 10, 2, 5, 6, 7, 1, 2, 3, 4, 5, 7, 8, 10, 1, 2, 3, 8, 9, 2, 3, 4, 5, 6, 7, 8, 9, 1, 2, 3, 4, 5, 6, 7, 8, 10, 1, 2, 3, 4, 5, 6, 7, 8, 9, 10, 1, 2, 3, 4, 5, 6, 7, 8, 9, 10, 2, 7, 10, 1, 2, 3, 4, 5, 6, 7, 8, 9, 10, 1, 2, 3, 4, 5, 6, 7, 8, 9, 10, 1, 2, 3, 4, 5, 6, 7, 8, 9, 10, 6, 7, 10], \"Freq\": [0.7486389963328407, 0.12035367463048392, 0.12035367463048392, 0.6017683731524196, 0.39852953977617067, 0.7483247748040177, 0.7717959710129468, 0.16252418457876766, 0.6500967383150706, 0.8341348157121001, 0.7280036038920596, 0.16026107586648708, 0.6410443034659483, 0.5595265044274207, 0.16673149179487304, 0.6669259671794922, 0.7474341366074511, 0.21684763197956497, 0.650542895938695, 0.10842381598978248, 0.07192005338634143, 0.2876802135453657, 0.50344037370439, 0.07192005338634143, 0.21212685507397927, 0.671735041067601, 0.03535447584566321, 0.03535447584566321, 0.7183424247776492, 0.771228532342757, 0.812792556046058, 0.6491964327337427, 0.18548469506678364, 0.09274234753339182, 0.09274234753339182, 0.6734711742350096, 0.7188046175290979, 0.7821352547266229, 0.09776690684082787, 0.09776690684082787, 0.08119105956924295, 0.08119105956924295, 0.057993613978030684, 0.17398084193409205, 0.3479616838681841, 0.1275859507516675, 0.017398084193409206, 0.017398084193409206, 0.05219425258022762, 0.03479616838681841, 0.8349377018753511, 0.1836339355480932, 0.0918169677740466, 0.45908483887023305, 0.1836339355480932, 0.6572550889580185, 0.10621871293257966, 0.42487485173031864, 0.03540623764419322, 0.05310935646628983, 0.08851559411048304, 0.07081247528838644, 0.03540623764419322, 0.08851559411048304, 0.05310935646628983, 0.03540623764419322, 0.0771761590517994, 0.7717615905179941, 0.0771761590517994, 0.8039262925595183, 0.11948047910532685, 0.11948047910532685, 0.5974023955266342, 0.40332666736617956, 0.2119174014974842, 0.12304881377273276, 0.04785231646717385, 0.10254067814394396, 0.013672090419192528, 0.006836045209596264, 0.04785231646717385, 0.006836045209596264, 0.03418022604798132, 0.7310849394793977, 0.6052516496599419, 0.1771468242907147, 0.029524470715119117, 0.029524470715119117, 0.04428670607267868, 0.029524470715119117, 0.014762235357559559, 0.029524470715119117, 0.014762235357559559, 0.24567774973438003, 0.10748401550879126, 0.015354859358398752, 0.09212915615039252, 0.13819373422558878, 0.1689034529423863, 0.1996131716591838, 0.015354859358398752, 0.7187085221247338, 0.7498449244704916, 0.7749518025406685, 0.8619810030869635, 0.4029895871694257, 0.7506231478408373, 0.01688091017003441, 0.01688091017003441, 0.30385638306061935, 0.06752364068013764, 0.05064273051010323, 0.03376182034006882, 0.03376182034006882, 0.4389036644208946, 0.03376182034006882, 0.07819379808133325, 0.42572178955392553, 0.06950559829451845, 0.08688199786814807, 0.043440998934074035, 0.16507579594948132, 0.052129198720888836, 0.026064599360444418, 0.052129198720888836, 0.008688199786814807, 0.551890286789644, 0.03942073477068886, 0.07884146954137772, 0.05256097969425181, 0.18396342892988132, 0.013140244923562952, 0.013140244923562952, 0.013140244923562952, 0.026280489847125905, 0.07844508008914529, 0.07844508008914529, 0.7060057208023076, 0.07844508008914529, 0.14651414596427514, 0.10773098967961407, 0.021546197935922815, 0.01723695834873825, 0.48263483376467103, 0.021546197935922815, 0.021546197935922815, 0.15513262513864426, 0.03016467711029194, 0.5994442953940751, 0.05994442953940751, 0.11988885907881502, 0.11988885907881502, 0.05994442953940751, 0.7712730456449406, 0.6609161061210582, 0.062434117272672965, 0.024279934494928376, 0.12486823454534593, 0.14221104489886618, 0.062434117272672965, 0.11446254833323377, 0.09365117590900944, 0.18730235181801888, 0.1734281035352027, 0.01734281035352027, 0.8187652582128492, 0.10963693175557364, 0.15662418822224805, 0.14096176940002325, 0.18011781645558528, 0.2819235388000465, 0.007831209411112403, 0.03915604705556201, 0.03132483764444961, 0.03915604705556201, 0.02349362823333721, 0.8092024666484156, 0.04668475769125474, 0.015561585897084914, 0.015561585897084914, 0.03112317179416983, 0.015561585897084914, 0.015561585897084914, 0.015561585897084914, 0.7480599477909357, 0.8359467889368121, 0.7418426034931578, 0.36413715988544, 0.03467972951289905, 0.026009797134674287, 0.026009797134674287, 0.4161567541547886, 0.052019594269348574, 0.008669932378224762, 0.052019594269348574, 0.6158835942930286, 0.15397089857325716, 0.2803268991758896, 0.1461278516980701, 0.08051942848669169, 0.07455502637656639, 0.27734469812082696, 0.023857608440501242, 0.05069741793606514, 0.020875407385438586, 0.01789320633037593, 0.026839809495563898, 0.16473935811590773, 0.06589574324636309, 0.13179148649272618, 0.06589574324636309, 0.4283223311013601, 0.06589574324636309, 0.06589574324636309, 0.2972309736161704, 0.10750907556329568, 0.09486094902643737, 0.09486094902643737, 0.1328053286370123, 0.07588875922114989, 0.05691656941586242, 0.018972189805287473, 0.120157202100154, 0.006324063268429158, 0.8058518438303822, 0.8059007063682118, 0.03727840729078804, 0.1677528328085462, 0.01863920364539402, 0.05591761093618206, 0.01863920364539402, 0.3541448692624864, 0.3355056656170924, 0.01863920364539402, 0.8070547174682534, 0.03624617459971603, 0.048328232799621375, 0.06041029099952672, 0.012082058199905344, 0.7128414337944152, 0.012082058199905344, 0.06041029099952672, 0.024164116399810687, 0.024164116399810687, 0.6404064654711237, 0.7778113751942514, 0.09722642189928142, 0.6073086938290118, 0.6208302545540264, 0.062083025455402646, 0.1552075636385066, 0.031041512727701323, 0.031041512727701323, 0.031041512727701323, 0.031041512727701323, 0.062083025455402646, 0.6529829760754539, 0.6726905311438968, 0.6556698415337452, 0.6532708626267242, 0.698701228354425, 0.20550036128071325, 0.020550036128071325, 0.020550036128071325, 0.020550036128071325, 0.661006328347418, 0.1148656358108728, 0.1312750123552832, 0.0492281296332312, 0.0164093765444104, 0.2297312716217456, 0.3445969074326184, 0.0164093765444104, 0.0984562592664624, 0.7474467840061062, 0.5574351837253115, 0.24452705648957346, 0.1360846227420235, 0.10631611151720585, 0.0765476002923882, 0.04252644460688234, 0.2381480897985411, 0.06804231137101174, 0.059537022449635275, 0.02126322230344117, 0.008505288921376468, 0.815834055536372, 0.8094079009815699, 0.09098659726848772, 0.09098659726848772, 0.09098659726848772, 0.4549329863424386, 0.09098659726848772, 0.5920311890220394, 0.15497049253599876, 0.15497049253599876, 0.619881970143995, 0.6123860443188265, 0.05000354744446306, 0.7000496642224828, 0.15001064233338918, 0.05000354744446306, 0.08496137760329746, 0.16992275520659492, 0.08496137760329746, 0.5947296432230822, 0.6746393034796643, 0.726579822014874, 0.8344112021713703, 0.0844904643702551, 0.25347139311076533, 0.5914332505917858, 0.7332168045506086, 0.7193705746401282, 0.3071255642905287, 0.1126127069065272, 0.01023751880968429, 0.04095007523873716, 0.2968880454808444, 0.03071255642905287, 0.18427533857431722, 0.01023751880968429, 0.5608742233523836, 0.2917612178272306, 0.4376418267408459, 0.18474060348723229, 0.27711090523084847, 0.36948120697446457, 0.7312730104232708, 0.04046548927813412, 0.8093097855626824, 0.04046548927813412, 0.04046548927813412, 0.04046548927813412, 0.7715187493126433, 0.015271282861458953, 0.12217026289167163, 0.030542565722917907, 0.4123246372593917, 0.015271282861458953, 0.09162769716875371, 0.015271282861458953, 0.030542565722917907, 0.2596118086448022, 0.8107577619274156, 0.6693579723587312, 0.15022045318928345, 0.15022045318928345, 0.6008818127571338, 0.5897103723127466, 0.02730140612559012, 0.021841124900472096, 0.03549182796326716, 0.2757442018684602, 0.008190421837677035, 0.005460281225118024, 0.019110984287913083, 0.010920562450236048, 0.008190421837677035, 0.6753311639536338, 0.6693258264188966, 0.11410396206214206, 0.6846237723728523, 0.028525990515535515, 0.028525990515535515, 0.11410396206214206, 0.09725951963491886, 0.03890380785396755, 0.2139709431968215, 0.019451903926983774, 0.1556152314158702, 0.019451903926983774, 0.1361633274888864, 0.03890380785396755, 0.29177855890475657, 0.7287573808708442, 0.23247998298967912, 0.039451148628551605, 0.03240630065916739, 0.11177825444756288, 0.48186760110588034, 0.004226908781630529, 0.0032875957190459672, 0.06293397519316565, 0.030058018002705984, 0.001408969593876843, 0.8347054538342105, 0.07413004410230065, 0.0926625551278758, 0.08648505145268408, 0.17297010290536816, 0.10501756247825925, 0.1482600882046013, 0.03706502205115032, 0.0617750367519172, 0.08648505145268408, 0.13590508085421785, 0.7514648296591993, 0.11889991309131215, 0.06402303012609116, 0.09146147160870166, 0.10060761876957182, 0.4847457995261188, 0.036584588643480666, 0.036584588643480666, 0.036584588643480666, 0.036584588643480666, 0.16504957564687486, 0.8252478782343743, 0.6596598289033828, 0.32733508280981033, 0.6546701656196207, 0.10828943038002797, 0.6497365822801678, 0.10828943038002797, 0.12738257034269562, 0.08492171356179709, 0.12738257034269562, 0.042460856780898545, 0.042460856780898545, 0.5095302813707825, 0.042460856780898545, 0.042460856780898545, 0.07867691097605356, 0.47206146585632136, 0.07867691097605356, 0.13112818496008927, 0.026225636992017853, 0.10490254796807141, 0.026225636992017853, 0.07867691097605356, 0.7307336621961993, 0.6819715624783153, 0.024055679053122853, 0.16838975337185996, 0.5051692601155799, 0.04811135810624571, 0.07216703715936856, 0.07216703715936856, 0.04811135810624571, 0.024055679053122853, 0.6773092946943121, 0.8101321811080296, 0.5641551672764744, 0.06268390747516382, 0.18805172242549145, 0.06268390747516382, 0.06268390747516382, 0.4170966521699408, 0.16321173345780293, 0.09067318525433496, 0.018134637050866993, 0.10880782230520195, 0.07253854820346797, 0.036269274101733986, 0.018134637050866993, 0.07253854820346797, 0.5308738398781441, 0.021234953595125762, 0.042469907190251524, 0.10617476797562882, 0.2335844895463834, 0.042469907190251524, 0.027787400920782333, 0.5557480184156467, 0.083362202762347, 0.027787400920782333, 0.22229920736625866, 0.083362202762347, 0.019753637605636615, 0.08395295982395562, 0.14321387264086546, 0.27161251707750345, 0.014815228204227461, 0.03950727521127323, 0.23210524186623022, 0.15309069144368376, 0.02469204700704577, 0.014815228204227461, 0.300710235894083, 0.300710235894083, 0.050118372649013844, 0.300710235894083, 0.657067502585525, 0.39724632998484505, 0.013240352253211326, 0.01986052837981699, 0.006620176126605663, 0.11254299415229627, 0.006620176126605663, 0.6421570842807494, 0.1456438747853246, 0.013240352253211326, 0.02648070450642265, 0.013240352253211326, 0.014885997924604221, 0.10420198547222954, 0.4763519335873351, 0.34237795226589707, 0.059543991698416884, 0.2859941794924273, 0.5719883589848546, 0.038691643940806826, 0.038691643940806826, 0.5416830151712956, 0.23214986364484097, 0.11607493182242049, 0.05105392555359745, 0.2552696277679873, 0.05105392555359745, 0.6126471066431695, 0.874969238703247, 0.748469591975388, 0.7720982450738945, 0.5281380995069216, 0.021125523980276863, 0.05281380995069216, 0.03168828597041529, 0.2006924778126302, 0.021125523980276863, 0.010562761990138432, 0.021125523980276863, 0.07393933393096902, 0.03168828597041529, 0.08265120591781304, 0.33060482367125216, 0.10248749533808817, 0.13224192946850086, 0.08265120591781304, 0.07934515768110051, 0.039672578840550254, 0.06612096473425043, 0.06281491649753791, 0.016530241183562607, 0.7399561359041574, 0.10101427274307437, 0.10101427274307437, 0.20202854548614874, 0.10101427274307437, 0.45456422734383467, 0.8330528825395772, 0.7720292900228646, 0.2687510372628524, 0.16125062235771143, 0.10750041490514095, 0.3762514521679933, 0.053750207452570475, 0.02952837206714755, 0.1181134882685902, 0.0590567441342951, 0.08858511620144265, 0.2362269765371804, 0.0590567441342951, 0.2657553486043279, 0.02952837206714755, 0.1771702324028853, 0.04017790627603798, 0.6830244066926455, 0.2008895313801899, 0.04017790627603798, 0.04017790627603798, 0.5021619045326705, 0.3816430474448296, 0.06025942854392046, 0.02008647618130682, 0.02008647618130682, 0.015829057231541394, 0.23743585847312093, 0.015829057231541394, 0.09497434338924837, 0.015829057231541394, 0.3007520873992865, 0.047487171694624186, 0.06331622892616558, 0.22160680124157953, 0.25148588576777603, 0.37722882865166407, 0.3143573572097201, 0.06287147144194401, 0.8023196264261246, 0.1198310840675336, 0.1198310840675336, 0.599155420337668, 0.1198310840675336, 0.0599155420337668, 0.0599155420337668, 0.05550656923584968, 0.26643153233207845, 0.3663433569566079, 0.05550656923584968, 0.011101313847169936, 0.05550656923584968, 0.022202627694339873, 0.044405255388679746, 0.05550656923584968, 0.07770919693018956, 0.8128167701160256, 0.8127620162614829, 0.8313942080887267, 0.16251235017393123, 0.16251235017393123, 0.6500494006957249, 0.8058486699668104, 0.16116973399336207, 0.7558004672744594, 0.6547199530285805, 0.16631629697705913, 0.16631629697705913, 0.4989488909311774, 0.220654239644322, 0.6067991590218854, 0.0551635599110805, 0.0551635599110805, 0.0551635599110805, 0.13716420173983063, 0.14547718366345674, 0.14132069270164369, 0.22029402097609163, 0.00415649096181305, 0.04987789154175659, 0.08728631019807404, 0.11638174693076539, 0.041564909618130495, 0.04987789154175659, 0.8342453218246091, 0.5728435233913701, 0.28642176169568506, 0.04091739452795501, 0.04091739452795501, 0.04091739452795501, 0.11036663533368388, 0.11036663533368388, 0.7725664473357872, 0.7188407267148657, 0.6720364706639087, 0.7329235082093032, 0.8217642846689279, 0.068480357055744, 0.7479498690468156, 0.7309372254753621, 0.788725358985169, 0.09859066987314613, 0.8023137297516492, 0.8044698255367869, 0.02709827778157192, 0.5148672778498664, 0.10839311112628768, 0.02709827778157192, 0.24388450003414724, 0.05419655556314384, 0.12612846934806568, 0.05733112243093895, 0.1375946938342535, 0.14332780607734738, 0.03439867345856337, 0.17199336729281683, 0.05159801018784505, 0.2063920407513802, 0.06879734691712674, 0.8060659590454314, 0.1946021499269397, 0.07484698074113065, 0.05987758459290452, 0.07484698074113065, 0.10478577303758292, 0.07484698074113065, 0.08981637688935679, 0.20957154607516584, 0.08981637688935679, 0.8838232967339509, 0.053552949263854, 0.2276000343713795, 0.17404708510752548, 0.026776474631927, 0.38825888216294147, 0.08032942389578099, 0.0133882373159635, 0.0133882373159635, 0.0133882373159635, 0.13221602491648646, 0.6610801245824324, 0.5641491777174124, 0.09148365044066147, 0.07623637536721789, 0.015247275073443579, 0.16772002580787937, 0.015247275073443579, 0.030494550146887157, 0.030494550146887157, 0.057378404498972566, 0.057378404498972566, 0.057378404498972566, 0.22951361799589026, 0.03442704269938354, 0.10328112809815063, 0.09180544719835611, 0.06885408539876708, 0.28689202249486284, 0.8046036477866804, 0.05747168912762003, 0.05747168912762003, 0.17481749669684096, 0.0321093361279912, 0.07848948831286738, 0.13914045655462853, 0.3853120335358944, 0.08562489634130986, 0.010703112042663733, 0.05708326422753991, 0.01783852007110622, 0.021406224085327465, 0.8722871445856576, 0.021247080107866266, 0.24434142124046207, 0.24965319126742863, 0.21778257110562924, 0.0053117700269665665, 0.05842947029663224, 0.05311770026966567, 0.09030009045843164, 0.010623540053933133, 0.0478059302426991, 0.1277752312841306, 0.15408189654851043, 0.13529142135966768, 0.07891999579313949, 0.04885523549099111, 0.16911427669958462, 0.03382285533991692, 0.1202590412085935, 0.07516190075537094, 0.0563714255665282, 0.10841729513268208, 0.21683459026536417, 0.13010075415921848, 0.2818849673449734, 0.021683459026536418, 0.021683459026536418, 0.17346767221229134, 0.7725037282005013, 0.21441799772889855, 0.08113113427579945, 0.23759832180769838, 0.10431145835459929, 0.06374589121669957, 0.12749178243339915, 0.08113113427579945, 0.034770486118199766, 0.034770486118199766, 0.017385243059099883, 0.7457422386867348, 0.1242903731144558, 0.006262263169585185, 0.006262263169585185, 0.01252452633917037, 0.03757357901751111, 0.018786789508755557, 0.8140942120460741, 0.03757357901751111, 0.01252452633917037, 0.05009810535668148, 0.006262263169585185, 0.8455343663341157, 0.8101511547144269, 0.018175854384842326, 0.10905512630905397, 0.6361549034694814, 0.018175854384842326, 0.018175854384842326, 0.1272309806938963, 0.03635170876968465, 0.03635170876968465, 0.8102993042956298, 0.09167058630032124, 0.18334117260064248, 0.09167058630032124, 0.5500235178019275, 0.6598205162994865, 0.5897586366641426, 0.07077103639969712, 0.07077103639969712, 0.04718069093313141, 0.07077103639969712, 0.023590345466565705, 0.09436138186626282, 0.04718069093313141, 0.8092936717784937, 0.1724460152241359, 0.11496401014942394, 0.05748200507471197, 0.11496401014942394, 0.05748200507471197, 0.11496401014942394, 0.3448920304482718, 0.01831063851597368, 0.11901915035382893, 0.07324255406389472, 0.26550425848161835, 0.00915531925798684, 0.14648510812778945, 0.09155319257986841, 0.09155319257986841, 0.045776596289934204, 0.1373297888698026, 0.1560371924924465, 0.05201239749748217, 0.05201239749748217, 0.7281735649647503, 0.20617065524664455, 0.22202993641946336, 0.1744520929010069, 0.01585928117281881, 0.06343712469127524, 0.03171856234563762, 0.04757784351845643, 0.23788921759228215, 0.2373483001404453, 0.7120449004213358, 0.16618370137035776, 0.05539456712345259, 0.05539456712345259, 0.6093402383579785, 0.05539456712345259, 0.33602855066974896, 0.11200951688991632, 0.5600475844495816, 0.20797052922740425, 0.10398526461370212, 0.5199263230685106, 0.10398526461370212, 0.8127814222130044, 0.09273654800794975, 0.27820964402384923, 0.5564192880476985, 0.1594631036522027, 0.0889313462675746, 0.13953021569567736, 0.13646361754851963, 0.0996644397826267, 0.11959732773915203, 0.1655962999465182, 0.03219928054515632, 0.042932374060208424, 0.016866289809367593, 0.19227478988550353, 0.5768243696565106, 0.020802203164849282, 0.041604406329698564, 0.145615422153945, 0.145615422153945, 0.010401101582424641, 0.29123084430789, 0.19762093006606818, 0.05200550791212321, 0.08320881265939713, 0.7481134011094372, 0.6532230145165802, 0.13573216441694336, 0.01939030920242048, 0.03878061840484096, 0.3490255656435686, 0.25207401963146625, 0.05817092760726144, 0.05817092760726144, 0.01939030920242048, 0.03878061840484096, 0.607869682616888, 0.10571646654206748, 0.02642911663551687, 0.10571646654206748, 0.0792873499065506, 0.02642911663551687, 0.02642911663551687, 0.24056518406215058, 0.060141296015537644, 0.18042388804661294, 0.060141296015537644, 0.4209890721087635, 0.060141296015537644, 0.14430698667430958, 0.2138835695351374, 0.08503804571878956, 0.09019186667144348, 0.22161430096411827, 0.07215349333715479, 0.015461462857961739, 0.08761495619511653, 0.054115120002866085, 0.015461462857961739, 0.09743659001455425, 0.5846195400873255, 0.09743659001455425, 0.09743659001455425, 0.048718295007277125, 0.6693281064280395, 0.17089583082365747, 0.1784912010824867, 0.12152592414126755, 0.02468495334119497, 0.06456064720004838, 0.1082340261883164, 0.08734675797653604, 0.1784912010824867, 0.04367337898826802, 0.022786110776487664, 0.7484891925087038, 0.15740128880051515, 0.08744516044473064, 0.06995612835578452, 0.05246709626683838, 0.4896928984904916, 0.03497806417789226, 0.06995612835578452, 0.7772429309699347, 0.04871676037286307, 0.13397109102537344, 0.5724219343811411, 0.036537570279647304, 0.036537570279647304, 0.13397109102537344, 0.012179190093215768, 0.024358380186431536, 0.15157581279643648, 0.05337176506916778, 0.060843812178851264, 0.23910550750987164, 0.27860061366105576, 0.03736023554841744, 0.06938329458991811, 0.02668588253458389, 0.06511355338438468, 0.019213835424900398, 0.13309518715488403, 0.13309518715488403, 0.5989283421969781, 0.7330600655162672, 0.012157552234811395, 0.012157552234811395, 0.026746614916585067, 0.058356250727094695, 0.009726041787849115, 0.6467817788919662, 0.13130156413596306, 0.012157552234811395, 0.07294531340886837, 0.017020573128735953, 0.7184678656377222, 0.01030155212821042, 0.04326651893848377, 0.15864390277444046, 0.3564337036360805, 0.028844345958989177, 0.0659299336205467, 0.13804079851801962, 0.1668851444770088, 0.008241241702568337, 0.022663414682062923, 0.5760869656020257, 0.6137295848642246, 0.09754215760559116, 0.032514052535197055, 0.19508431521118233, 0.016257026267598527, 0.27636944654917495, 0.2926264728167735, 0.016257026267598527, 0.04877107880279558, 0.14159662134700368, 0.18879549512933821, 0.05663864853880147, 0.1699159456164044, 0.047198873782334554, 0.05663864853880147, 0.09439774756466911, 0.14159662134700368, 0.06607842329526838, 0.028319324269400734, 0.011284459488227557, 0.022568918976455115, 0.022568918976455115, 0.20312027078809605, 0.011284459488227557, 0.46266283901732985, 0.13541351385873068, 0.011284459488227557, 0.11284459488227558, 0.022568918976455115, 0.6503278530583742, 0.0696162789541909, 0.8353953474502908, 0.027529106998312448, 0.18352737998874966, 0.44046571197299916, 0.09176368999437483, 0.027529106998312448, 0.08258732099493735, 0.045881844997187414, 0.045881844997187414, 0.018352737998874966, 0.045881844997187414, 0.1181219828752482, 0.2362439657504964, 0.0590609914376241, 0.35436594862574455, 0.0393739942917494, 0.0196869971458747, 0.1181219828752482, 0.0590609914376241, 0.8354817815479744, 0.09684482934737959, 0.12912643912983945, 0.08070402445614966, 0.06456321956491973, 0.032281609782459864, 0.24211207336844898, 0.3066752929333687, 0.016140804891229932, 0.032281609782459864, 0.016140804891229932, 0.7399684187278376, 0.017729790039497775, 0.017729790039497775, 0.029549650065829623, 0.2600369205793007, 0.01181986002633185, 0.47870433106643995, 0.17729790039497775, 0.005909930013165925, 0.005909930013165925, 0.8014390946634891, 0.5920304792066299, 0.27458272094949293, 0.5491654418989859, 0.7185589547033358, 0.7612344963739016, 0.8061497255087589, 0.7253579756233146, 0.582533002003992, 0.8747119793256782, 0.12839242175741952, 0.556367160948818, 0.04279747391913984, 0.12839242175741952, 0.08559494783827969, 0.7215620484327079, 0.771994679376575, 0.002159925979332915, 0.012959555875997491, 0.00863970391733166, 0.060477927421321624, 0.00431985195866583, 0.6911763133865328, 0.17927385628463194, 0.002159925979332915, 0.03455881566932664, 0.002159925979332915, 0.5920298232980747, 0.04390922285284362, 0.01463640761761454, 0.16100048379375992, 0.27809174473467624, 0.02927281523522908, 0.190273299028989, 0.01463640761761454, 0.04390922285284362, 0.20490970664660355, 0.02927281523522908, 0.6530518062943275, 0.7967839039222632, 0.5787179384699889, 0.013887285271733609, 0.4582804139672091, 0.40273127288027466, 0.013887285271733609, 0.027774570543467218, 0.027774570543467218, 0.013887285271733609, 0.04166185581520083, 0.013887285271733609, 0.013887285271733609, 0.0762938567063446, 0.10490405297122384, 0.05086257113756307, 0.257491766383913, 0.1525877134126892, 0.1176196957556146, 0.06993603531414921, 0.03178910696097692, 0.12079860645171228, 0.01907346417658615, 0.7195633627544468, 0.14814861189157183, 0.07407430594578591, 0.5185201416205014, 0.14814861189157183, 0.07407430594578591, 0.5790908055386104, 0.2263421822452686, 0.6790265467358059, 0.15531939103830558, 0.15531939103830558, 0.6212775641532223, 0.3300641215084943, 0.0064718455197743975, 0.03235922759887199, 0.17473982903390872, 0.25887382079097593, 0.038831073118646385, 0.012943691039548795, 0.06471845519774398, 0.019415536559323193, 0.05824660967796958, 0.2131539757767689, 0.24260288032487512, 0.09535835758434398, 0.15145150910454633, 0.07011643940025293, 0.05469082273219728, 0.04767917879217199, 0.05469082273219728, 0.02103493182007588, 0.04767917879217199, 0.773678287050205, 0.09670978588127563, 0.7258169768393012, 0.8026648502269208, 0.7003771402635197, 0.18676723740360526, 0.7498130275394822, 0.0884983901082116, 0.1327475851623174, 0.027230273879449724, 0.25528381761984115, 0.1565740748068359, 0.09530595857807403, 0.06126811622876188, 0.04084541081917459, 0.13615136939724862, 0.006807568469862431, 0.4285810115545723, 0.07863871771643528, 0.07274081388770264, 0.0865025894880788, 0.1749711469190685, 0.04521726268695029, 0.03145548708657411, 0.025557583257841465, 0.03931935885821764, 0.017693711486197937, 0.014895491791831616, 0.07075358601120017, 0.1675742826581057, 0.3723872947957904, 0.03351485653162114, 0.1675742826581057, 0.03351485653162114, 0.10054456959486341, 0.029790983583663232, 0.007447745895915808, 0.6056039278749579, 0.0908762094254176, 0.03947900901268142, 0.07895801802536284, 0.4849214125897284, 0.10726372260049291, 0.07672335713785257, 0.03649946116266773, 0.03798923508767457, 0.04171366990019169, 0.005959095700027384, 0.053508153333729255, 0.3210489200023755, 0.10701630666745851, 0.053508153333729255, 0.3745570733361048, 0.053508153333729255, 0.8017500657571544, 0.7726406061886822, 0.4799869443400233, 0.23999347217001166, 0.7300985900699536, 0.3031962005750985, 0.606392401150197, 0.8285072116657126, 0.10066842878196793, 0.10066842878196793, 0.6040105726918076, 0.10066842878196793, 0.17967604210113106, 0.19892704661196653, 0.1668420390939074, 0.11229752631320691, 0.07058701653973005, 0.048127511277088676, 0.0545445127807005, 0.09625502255417735, 0.03850200902167094, 0.03529350826986503, 0.054054192878104285, 0.16216257863431285, 0.21621677151241714, 0.10810838575620857, 0.10810838575620857, 0.3243251572686257, 0.6089215759771911, 0.295086375295368, 0.05365206823552146, 0.02682603411776073, 0.05365206823552146, 0.5096946482374539, 0.02682603411776073, 0.2449559835426418, 0.4899119670852836, 0.10865375126831596, 0.10865375126831596, 0.5432687563415798, 0.10865375126831596, 0.8079009157519986, 0.01704959437012305, 0.11934716059086137, 0.6308349916945529, 0.18754553807135357, 0.01704959437012305, 0.01704959437012305, 0.8506264149789043, 0.12151805928270062, 0.6708976408842051, 0.11181627348070085, 0.055908136740350424, 0.11181627348070085, 0.7328912129685177, 0.05234937235489412, 0.05234937235489412, 0.05234937235489412, 0.05234937235489412, 0.8061572632307691, 0.03390130752843806, 0.06780261505687613, 0.13560523011375225, 0.3051117677559425, 0.06780261505687613, 0.03390130752843806, 0.03390130752843806, 0.03390130752843806, 0.03390130752843806, 0.2712104602275045, 0.7193451506361965, 0.05501205759354876, 0.6051326335290363, 0.05501205759354876, 0.05501205759354876, 0.11002411518709752, 0.05501205759354876, 0.05501205759354876, 0.6842143937505999, 0.11403573229176665, 0.11403573229176665, 0.11403573229176665, 0.8213349713687867, 0.016642039074629144, 0.232988547044808, 0.4493350550149869, 0.04992611722388743, 0.09985223444777486, 0.016642039074629144, 0.06656815629851658, 0.04992611722388743, 0.7738435775394881, 0.1869590003109664, 0.5608770009328992, 0.5840200211095472, 0.2920100105547736, 0.40012970724609725, 0.00830939033237883, 0.31575683263039556, 0.2243535389742284, 0.04985634199427298, 0.05816573232665181, 0.09971268398854596, 0.10802207432092478, 0.06647512265903063, 0.04985634199427298, 0.01661878066475766, 0.8079633546904524, 0.6608442391517615, 0.026385261204079056, 0.1319263060203953, 0.474934701673423, 0.10554104481631622, 0.026385261204079056, 0.07915578361223717, 0.026385261204079056, 0.05277052240815811, 0.05277052240815811, 0.38452329740052665, 0.49438709665782, 0.05493189962864666, 0.02746594981432333, 0.7718252284728634, 0.13118012083868677, 0.14055012947002155, 0.14992013810135632, 0.06559006041934339, 0.07496006905067816, 0.10775509926034985, 0.09838509062901508, 0.08433007768201292, 0.08901508199768031, 0.051535047472341236, 0.6569410913387541, 0.6550482169148438, 0.6511770080537003, 0.08934754296550772, 0.024229842160137686, 0.036344763240206523, 0.12720667134072283, 0.0015143651350086054, 0.0030287302700172107, 0.012114921080068843, 0.04845968432027537, 0.0045430954050258154, 0.8789053535649252, 0.14177064414692056, 0.07088532207346028, 0.7088532207346028, 0.07088532207346028, 0.8059860526116734, 0.1263668564930357, 0.1263668564930357, 0.6318342824651785, 0.20380126914389923, 0.010190063457194962, 0.020380126914389923, 0.06114038074316977, 0.540073363231333, 0.020380126914389923, 0.010190063457194962, 0.10190063457194962, 0.010190063457194962, 0.010190063457194962, 0.16402291608737501, 0.07897399663466205, 0.10327368790686575, 0.15187307045127318, 0.09112384227076391, 0.09112384227076391, 0.13972322481517133, 0.07289907381661112, 0.07897399663466205, 0.030374614090254635, 0.07449947847513146, 0.04063607916825352, 0.060954118752380285, 0.08804483819788263, 0.5790641281476127, 0.02031803958412676, 0.023704379514814553, 0.023704379514814553, 0.03724973923756573, 0.047408759029629106, 0.39248063687962836, 0.04029331884840831, 0.04029331884840831, 0.12087995654522493, 0.20146659424204155, 0.04029331884840831, 0.08058663769681662, 0.12087995654522493, 0.3223465507872665, 0.03854779043507325, 0.20558821565372398, 0.47542274869923673, 0.03854779043507325, 0.012849263478357749, 0.025698526956715498, 0.025698526956715498, 0.025698526956715498, 0.10279410782686199, 0.051397053913430996, 0.6695324717424552, 0.5042081131404963, 0.012004955074773721, 0.012004955074773721, 0.012004955074773721, 0.33613874209366423, 0.024009910149547443, 0.024009910149547443, 0.07202973044864233, 0.012004955074773721, 0.012004955074773721, 0.7239957485734744, 0.10372852137065913, 0.6223711282239548, 0.10372852137065913, 0.10372852137065913, 0.10372852137065913, 0.822412048611804, 0.06751312642499405, 0.5401050113999524, 0.1687828160624851, 0.03375656321249702, 0.03375656321249702, 0.03375656321249702, 0.10126968963749107, 0.6704720124025392, 0.7363601399833024, 0.12272668999721706, 0.10024005497508329, 0.12988852193954453, 0.06494426096977227, 0.1807144653071924, 0.06353242920955983, 0.15530149362336845, 0.16659614770506798, 0.038119457525735895, 0.056473270408497624, 0.04235495280637322, 0.6378306574336932, 0.11811678841364687, 0.023623357682729374, 0.0944934307309175, 0.04724671536545875, 0.023623357682729374, 0.023623357682729374, 0.4530152777644134, 0.04759943135930431, 0.019696316424539714, 0.0968402224206536, 0.3102169836865005, 0.0016413597020449762, 0.0016413597020449762, 0.024620395530674643, 0.036109913444989476, 0.009848158212269857, 0.05280000877755002, 0.02640000438877501, 0.10560001755510004, 0.05280000877755002, 0.39600006583162517, 0.31680005266530015, 0.02640000438877501, 0.02640000438877501, 0.07261751241027392, 0.1675788747929398, 0.04468769994478396, 0.23461042471011576, 0.07261751241027392, 0.016757887479293982, 0.25695427468250776, 0.016757887479293982, 0.08937539988956791, 0.02792981246548997, 0.16055062008518428, 0.6422024803407371, 0.7718484978766548, 0.5556259157493291, 0.7689121542444194, 0.6994489244263358, 0.043715557776645986, 0.021857778888322993, 0.021857778888322993, 0.15300445221826095, 0.021857778888322993, 0.021857778888322993, 0.021857778888322993, 0.5411642362535994, 0.8254176808242428, 0.08123633337043724, 0.08123633337043724, 0.24370900011131172, 0.08123633337043724, 0.4061816668521862, 0.741411952138251, 0.1482823904276502, 0.7755976586639299, 0.22568810715160448, 0.6770643214548134, 0.23408416041785998, 0.028251536602155514, 0.08475460980646654, 0.10897021260831413, 0.3753418434286376, 0.03228747040246344, 0.012107801400923792, 0.0524671394040031, 0.04843120560369517, 0.028251536602155514, 0.108273061677545, 0.0541365308387725, 0.3970012261509983, 0.12631857195713583, 0.0541365308387725, 0.03609102055918167, 0.23459163363468083, 0.058296717830080495, 0.058296717830080495, 0.5829671783008049, 0.17489015349024148, 0.058296717830080495, 0.7276523414592362, 0.6186962682280692, 0.6548307672958621, 0.49781187037877883, 0.026200624756777834, 0.043667707927963054, 0.043667707927963054, 0.3056739554957414, 0.017467083171185224, 0.008733541585592612, 0.026200624756777834, 0.026200624756777834, 0.008733541585592612, 0.8010486410559275, 0.1602097282111855, 0.7787678012084973, 0.4755762139189927, 0.008417278122460048, 0.008417278122460048, 0.016834556244920095, 0.353525681143322, 0.02104319530615012, 0.029460473428610166, 0.02525183436738014, 0.02104319530615012, 0.03787775155107021, 0.13443925307243976, 0.13443925307243976, 0.2688785061448795, 0.4033177592173193, 0.8912341116131877, 0.6751776130940835, 0.03801955614949707, 0.03801955614949707, 0.7984106791394385, 0.03801955614949707, 0.07603911229899414, 0.648689592956991, 0.05853736658359587, 0.03822848429949118, 0.03583920403077299, 0.09915513115180526, 0.0035839204030772985, 0.0035839204030772985, 0.02986600335897749, 0.07406768833026417, 0.009557121074872795, 0.6388242323991631, 0.15970605809979077, 0.15970605809979077, 0.8011155217584963, 0.835783576997685, 0.28145375005049, 0.140726875025245, 0.56290750010098, 0.5068959455663878, 0.08093296609883503, 0.02555777876805317, 0.06815407671480846, 0.14482741301896795, 0.05111555753610634, 0.012778889384026585, 0.08519259589351057, 0.008519259589351057, 0.012778889384026585, 0.02820846685603109, 0.18335503456420207, 0.1457437454228273, 0.17395221227885838, 0.004701411142671848, 0.05641693371206218, 0.061118344854734025, 0.10813245628145252, 0.18335503456420207, 0.05641693371206218, 0.6530444742579672, 0.11885210039776713, 0.26301529625061426, 0.2333022711511725, 0.1452636782639376, 0.04181833162143658, 0.044019296443617455, 0.05392363814343138, 0.03411495474380353, 0.03851688438816527, 0.028612542688351346, 0.09104354482013606, 0.18208708964027212, 0.09104354482013606, 0.4552177241006803, 0.09104354482013606, 0.1268888731827451, 0.1268888731827451, 0.1268888731827451, 0.1268888731827451, 0.5075554927309804, 0.7474968070759426, 0.1821561470888728, 0.030359357848145467, 0.455390367722182, 0.0910780735444364, 0.0910780735444364, 0.12143743139258187, 0.15287065705900627, 0.08917454995108698, 0.19533472846428576, 0.10191377137267084, 0.08492814281055903, 0.19108832132375783, 0.04671047854580747, 0.05520329282686337, 0.05944969996739132, 0.02547844284316771, 0.6685737779318341, 0.025714376074301312, 0.012857188037150656, 0.10285750429720525, 0.07714312822290394, 0.07714312822290394, 0.012857188037150656, 0.012857188037150656, 0.26839723298943025, 0.041750680687244704, 0.03578629773192403, 0.053679446597886045, 0.328041062542637, 0.005964382955320672, 0.041750680687244704, 0.15507395683833747, 0.041750680687244704, 0.02982191477660336, 0.6617938905206391, 0.11489458502265859, 0.06702184126321752, 0.07659639001510572, 0.20106552378965253, 0.03829819500755286, 0.11489458502265859, 0.04787274375944108, 0.057447292511329295, 0.22978917004531718, 0.03829819500755286, 0.14042294168193617, 0.15602549075770686, 0.2028331379850189, 0.07801274537885343, 0.06241019630308274, 0.0936152944546241, 0.17162803983347755, 0.07801274537885343, 0.6571596138227849, 0.7985726261974775, 0.5462211970000637, 0.19117741895002227, 0.06827764962500796, 0.04096658977500477, 0.06827764962500796, 0.027311059850003185, 0.04096658977500477, 0.11362567734304234, 0.2651265804670988, 0.180635692186375, 0.09614480390565121, 0.16024133984275202, 0.04661566249970968, 0.05244262031217339, 0.04078870468724597, 0.02330783124985484, 0.026221310156086693, 0.08152627591061035, 0.08152627591061035, 0.08152627591061035, 0.733736483195493, 0.11577524533707441, 0.30101563787639346, 0.08104267173595209, 0.23733925294100255, 0.028943811334268602, 0.07525390946909837, 0.08683143400280581, 0.011577524533707442, 0.01736628680056116, 0.03473257360112232, 0.11019582890885384, 0.24977721219340202, 0.1322349946906246, 0.029385554375694355, 0.3893585954779502, 0.014692777187847178, 0.029385554375694355, 0.029385554375694355, 0.007346388593923589, 0.83442286598379, 0.8085168481362559, 0.6068479300821127, 0.20228264336070423, 0.10114132168035211, 0.1607780007574997, 0.6431120030299988, 0.1607780007574997, 0.6512218457115785, 0.700911334791789, 0.6736934793710365, 0.08421168492137956, 0.16842336984275913, 0.739969167127488, 0.7399873059576451, 0.08157324201477842, 0.41951953036171763, 0.16314648402955684, 0.06991992172695294, 0.03495996086347647, 0.08157324201477842, 0.04661328115130196, 0.04661328115130196, 0.03495996086347647, 0.03495996086347647, 0.7306108962921338, 0.8094746682745788, 0.618489115350022, 0.06872101281666912, 0.06872101281666912, 0.13744202563333824, 0.3997388376344233, 0.7290228972310888, 0.10133986135248708, 0.05066993067624354, 0.20267972270497417, 0.15200979202873063, 0.30401958405746127, 0.15200979202873063, 0.48207734796587404, 0.10956303362860774, 0.021912606725721546, 0.04382521345144309, 0.18625715716863314, 0.03286891008858232, 0.021912606725721546, 0.03286891008858232, 0.03286891008858232, 0.021912606725721546, 0.3033277151886004, 0.6066554303772008, 0.7261111714275874, 0.0799344686365756, 0.0799344686365756, 0.0799344686365756, 0.0799344686365756, 0.6394757490926049, 0.10725570853140791, 0.20189309841206196, 0.1577289831344234, 0.1261831865075387, 0.0694007525791463, 0.08201907122990017, 0.05047327460301549, 0.025236637301507745, 0.11356486785678485, 0.06309159325376935, 0.867421405450563, 0.009090055058729778, 0.07272044046983822, 0.2090712663507849, 0.2954267894087178, 0.03636022023491911, 0.05908535788174356, 0.07272044046983822, 0.027270165176189336, 0.022725137646824448, 0.19998121129205512, 0.6602179750573952, 0.0943168535796279, 0.0943168535796279, 0.04715842678981395, 0.04715842678981395, 0.04715842678981395, 0.10912513977438476, 0.6547508386463086, 0.10912513977438476, 0.7730510123289405, 0.18476047959151118, 0.3079341326525186, 0.10637724582541552, 0.07838323376609564, 0.15676646753219128, 0.05598802411863975, 0.005598802411863975, 0.01119760482372795, 0.03919161688304782, 0.05598802411863975, 0.6705352872301917, 0.740163591627927, 0.020055529698361215, 0.4412216533639467, 0.2607218860786958, 0.08022211879344486, 0.04011105939672243, 0.04011105939672243, 0.04011105939672243, 0.04011105939672243, 0.5316872421898113, 0.3680911676698694, 0.04089901862998548, 0.8098833075513168, 0.15585349633538634, 0.0810438180944009, 0.1496193564819709, 0.07480967824098544, 0.43638978973908177, 0.03117069926707727, 0.012468279706830907, 0.03117069926707727, 0.006234139853415453, 0.024936559413661814, 0.2674274159985044, 0.0668568539996261, 0.6017116859966349, 0.0668568539996261, 0.04701152655542173, 0.09402305311084345, 0.1880461062216869, 0.09402305311084345, 0.04701152655542173, 0.04701152655542173, 0.09402305311084345, 0.3290806858879521, 0.12779905290528218, 0.031949763226320545, 0.12779905290528218, 0.031949763226320545, 0.06389952645264109, 0.5431459748474492, 0.031949763226320545, 0.8438216050128813, 0.6790971416102545, 0.15203104574405568, 0.15203104574405568, 0.6081241829762227, 0.7396730139357403, 0.023630866060909222, 0.05907716515227305, 0.1299697633350007, 0.28357039273091067, 0.035446299091363834, 0.15360062939590993, 0.09452346424363689, 0.14178519636545533, 0.011815433030454611, 0.05907716515227305, 0.74863295914793, 0.14412254666503233, 0.15352184318666487, 0.21931691883809265, 0.10652536057850215, 0.0971260640568696, 0.021931691883809265, 0.09399296521632543, 0.07519437217306034, 0.034464087245985986, 0.053262680289251074, 0.6793058797816385, 0.8095403603077388, 0.8044114195679893, 0.01631987555177909, 0.22195030750419562, 0.15014285507636763, 0.26438198393882123, 0.02937577599320236, 0.04569565154498145, 0.14035092974530017, 0.06527950220711635, 0.01631987555177909, 0.04895962665533727, 0.023815990205904868, 0.40487183350038275, 0.047631980411809736, 0.047631980411809736, 0.09526396082361947, 0.2857918824708584, 0.047631980411809736, 0.023815990205904868, 0.033249434356103655, 0.13299773742441462, 0.2992449092049329, 0.033249434356103655, 0.033249434356103655, 0.06649886871220731, 0.033249434356103655, 0.3657437779171402, 0.7215259996773871, 0.7184043778662687, 0.7399808039029825, 0.7728100359559963, 0.6119926902730797, 0.5835938959914763, 0.02244591907659524, 0.02244591907659524, 0.11222959538297621, 0.20201327168935715, 0.02244591907659524, 0.02244591907659524, 0.6504913422723207, 0.03826419660425416, 0.03826419660425416, 0.03826419660425416, 0.1147925898127625, 0.1147925898127625, 0.8346645730350484, 0.13901331955355742, 0.13901331955355742, 0.13901331955355742, 0.5560532782142297, 0.131365187877937, 0.1970477818169055, 0.03284129696948425, 0.09852389090845275, 0.03284129696948425, 0.32841296969484246, 0.0656825939389685, 0.09852389090845275, 0.6830484191053177, 0.1138414031842196, 0.1138414031842196, 0.14447733552617298, 0.5779093421046919, 0.02674525951154214, 0.02674525951154214, 0.02674525951154214, 0.12035366780193962, 0.4011788926731321, 0.1738441868250239, 0.1738441868250239, 0.05349051902308428, 0.01337262975577107, 0.759220316135995, 0.749662742590645, 0.08200030591738312, 0.24600091775214938, 0.5330019884629903, 0.013666717652897188, 0.013666717652897188, 0.027333435305794376, 0.08200030591738312, 0.22624007031636306, 0.4100601274484081, 0.056560017579090766, 0.07070002197386346, 0.056560017579090766, 0.042420013184318074, 0.014140004394772691, 0.056560017579090766, 0.028280008789545383, 0.042420013184318074, 0.2652826843011858, 0.036174911495616247, 0.036174911495616247, 0.07234982299123249, 0.036174911495616247, 0.10852473448684874, 0.07234982299123249, 0.09646643065497666, 0.2773409881330579, 0.012058303831872083, 0.22049447761377317, 0.10499737029227293, 0.11549710732150023, 0.08399789623381836, 0.13649658137995482, 0.06824829068997741, 0.06824829068997741, 0.06299842217536376, 0.06299842217536376, 0.06824829068997741, 0.7387168869384291, 0.05580655798889273, 0.027903278994446366, 0.05580655798889273, 0.027903278994446366, 0.5859688588833737, 0.0837098369833391, 0.13951639497223184, 0.019559911614804495, 0.019559911614804495, 0.019559911614804495, 0.019559911614804495, 0.7041568181329618, 0.07823964645921798, 0.13691938130363146, 0.020737900437063233, 0.020737900437063233, 0.020737900437063233, 0.1244274026223794, 0.6843507144230867, 0.0622137013111897, 0.041475800874126466, 0.020737900437063233, 0.020737900437063233, 0.7838159103620331, 0.6042611729290907, 0.6659827200203438, 0.09514038857433482, 0.04757019428716741, 0.04757019428716741, 0.009241875360533872, 0.14787000576854195, 0.21256313329227905, 0.28649813617655007, 0.06469312752373711, 0.11090250432640647, 0.11090250432640647, 0.03696750144213549, 0.009241875360533872, 0.16221263961653368, 0.8110631980826684, 0.7288353460686966, 0.18181307921975035, 0.7272523168790014, 0.40670225596699544, 0.8269327174913564, 0.6722612604099143, 0.03987827451006324, 0.047853929412075884, 0.015951309804025295, 0.11165916862817707, 0.6380523921610118, 0.007975654902012647, 0.03987827451006324, 0.047853929412075884, 0.03987827451006324, 0.015951309804025295, 0.18823306155679312, 0.5294054856284807, 0.07058739808379741, 0.02352913269459914, 0.01176456634729957, 0.01176456634729957, 0.1529393625148944, 0.3699890636478011, 0.05285558052111444, 0.05285558052111444, 0.15856674156334333, 0.3699890636478011, 0.6627476750915972, 0.5920261381429671, 0.03300445678541512, 0.264035654283321, 0.5775779937447646, 0.01650222839270756, 0.01650222839270756, 0.01650222839270756, 0.01650222839270756, 0.03300445678541512, 0.7984893041760045, 0.7498395918204115, 0.006393866788446024, 0.37404120712409245, 0.508312409681459, 0.022378533759561087, 0.003196933394223012, 0.009590800182669038, 0.003196933394223012, 0.006393866788446024, 0.06393866788446025, 0.06733389330209096, 0.33666946651045476, 0.5386711464167276, 0.7729544547597026, 0.09261337325931893, 0.04630668662965946, 0.02315334331482973, 0.16207340320380811, 0.04630668662965946, 0.09261337325931893, 0.04630668662965946, 0.06946002994448919, 0.34730014972244594, 0.02315334331482973, 0.10330411717249827, 0.025826029293124567, 0.0774780878793737, 0.18078220505187195, 0.025826029293124567, 0.12913014646562282, 0.1549561757587474, 0.28408632222437025, 0.05165205858624913, 0.15757692821054398, 0.11818269615790797, 0.08666731051579918, 0.06303077128421758, 0.07878846410527199, 0.29151731718950635, 0.05515192487369039, 0.04727307846316319, 0.039394232052635994, 0.07090961769474478, 0.16075668617159644, 0.20854921449288186, 0.14337758496385627, 0.04779252832128542, 0.1477223602657913, 0.1477223602657913, 0.03475820241548031, 0.026068651811610232, 0.039102977717415346, 0.04344775301935039, 0.806749502731495, 0.7306354943980391, 0.12168541219935819, 0.17999300554488398, 0.10647473567443842, 0.18506323105319059, 0.04563202957475932, 0.10140451016613183, 0.09379917190367194, 0.055772480591372506, 0.09886939741197853, 0.01267556377076648, 0.08025263697116954, 0.2407579109135086, 0.5617684587981867, 0.08025263697116954, 0.7400185590688394, 0.7861181430641564, 0.5108513645663474, 0.03405675763775649, 0.017028378818878247, 0.05108513645663474, 0.27245406110205195, 0.10217027291326948, 0.017028378818878247, 0.21788861443295918, 0.10894430721647959, 0.5447215360823979, 0.5440579261431515, 0.017001810191973485, 0.017001810191973485, 0.03400362038394697, 0.20402172230368182, 0.017001810191973485, 0.10201086115184091, 0.017001810191973485, 0.06800724076789394, 0.23735179345449156, 0.7120553803634747, 0.016056479407638734, 0.016056479407638734, 0.240847191114581, 0.016056479407638734, 0.4495814234138845, 0.240847191114581, 0.020944372551422258, 0.2513324706170671, 0.6283311765426678, 0.06283311765426677, 0.020944372551422258, 0.06819501473628749, 0.6137551326265873, 0.034097507368143744, 0.034097507368143744, 0.034097507368143744, 0.20458504420886245, 0.00682056906244092, 0.19438621827956623, 0.7127494670250761, 0.01364113812488184, 0.01364113812488184, 0.00341028453122046, 0.00682056906244092, 0.01023085359366138, 0.0341028453122046, 0.41331791287160613, 0.033740237785437235, 0.05061035667815585, 0.05061035667815585, 0.2699219022834979, 0.008435059446359309, 0.0927856539099524, 0.025305178339077927, 0.033740237785437235, 0.016870118892718618, 0.4030953630635801, 0.7381482123873573, 0.7477020955836597, 0.6814888113275721, 0.061953528302506555, 0.18586058490751967, 0.061953528302506555, 0.061953528302506555, 0.8128103644679493, 0.06953192884200862, 0.8343831461041035, 0.2757929331169599, 0.11031717324678397, 0.027579293311695993, 0.027579293311695993, 0.49642727961052785, 0.027579293311695993, 0.027579293311695993, 0.027579293311695993, 0.6676539055327338, 0.06574075551013155, 0.28026322085898187, 0.17992206771193897, 0.11418131220180741, 0.055360636219058144, 0.10726123267442515, 0.06228071574644041, 0.03460039763691134, 0.06574075551013155, 0.03460039763691134, 0.009711699220697995, 0.22336908207605388, 0.26221587895884585, 0.1650988867518659, 0.009711699220697995, 0.04855849610348997, 0.029135097662093986, 0.2039456836346579, 0.029135097662093986, 0.01942339844139599, 0.7567066756141922, 0.23734898022183795, 0.7120469406655139, 0.5956916126837849, 0.19856387089459498, 0.6325457328812455, 0.15813643322031137, 0.02635607220338523, 0.02635607220338523, 0.02635607220338523, 0.07906821661015569, 0.05271214440677046, 0.2852337941634956, 0.09507793138783187, 0.47538965693915936, 0.08494891242328102, 0.2548467372698431, 0.5946423869629672, 0.08494891242328102, 0.21614309813455493, 0.07204769937818498, 0.07204769937818498, 0.3602384968909249, 0.21614309813455493, 0.061559762611941474, 0.061559762611941474, 0.6771573887313562, 0.061559762611941474, 0.061559762611941474, 0.24444137786075668, 0.48888275572151335, 0.7280598464514112, 0.8073921760719609, 0.6600111949838589, 0.11000186583064314, 0.11000186583064314, 0.11000186583064314, 0.7156870604040103, 0.07081567384039747, 0.2482439555504043, 0.17976286436408587, 0.1836538354542176, 0.028793186066974792, 0.1206201037940836, 0.058364566351975934, 0.0459134588635544, 0.044357070427501706, 0.019454855450658642, 0.771888347524588, 0.7256047270008942, 0.07041374487739574, 0.14082748975479148, 0.07041374487739574, 0.07041374487739574, 0.5633099590191659, 0.07041374487739574, 0.8021641255066522, 0.606292650887873, 0.3542723321511722, 0.5475117860518116, 0.03220657565010656, 0.04995320149751219, 0.8492044254577072, 0.04995320149751219, 0.7478274131421758, 0.6711704103924592, 0.7974714387169148, 0.13846412570818456, 0.13846412570818456, 0.5538565028327382, 0.7385410740006987, 0.8058219359910017, 0.15448799243396732, 0.09154843996086953, 0.09727021745842387, 0.09154843996086953, 0.16020976993152167, 0.09154843996086953, 0.09154843996086953, 0.10871377245353257, 0.0629395524730978, 0.04005244248288042, 0.7720954557048246, 0.6549759536004828, 0.24121155009630038, 0.166992611605131, 0.42675889632422376, 0.03710946924558467, 0.07421893849116934, 0.018554734622792335, 0.21659777596211144, 0.16846493685942, 0.1925313564107657, 0.07219925865403715, 0.07219925865403715, 0.24066419551345714, 0.024066419551345714, 0.04813283910269143, 0.7199969293241403, 0.04235276054847884, 0.04235276054847884, 0.04235276054847884, 0.08470552109695768, 0.04235276054847884, 0.04542295845674586, 0.04542295845674586, 0.7721902937646797, 0.1362688753702376, 0.12116026257485316, 0.17817685672772524, 0.12116026257485316, 0.1425414853821802, 0.028508297076436036, 0.1496685596512892, 0.05701659415287207, 0.06414366842198109, 0.05701659415287207, 0.07839781696019911, 0.8330744500739107, 0.21661750188240028, 0.15596460135532822, 0.038991150338832055, 0.13430285116708818, 0.29026745252241637, 0.021661750188240028, 0.012997050112944017, 0.07798230067766411, 0.03032645026353604, 0.025994100225888033, 0.0817856315837527, 0.2831041093283747, 0.19502727531510258, 0.05662082186567494, 0.06291202429519438, 0.05662082186567494, 0.025164809718077753, 0.012582404859038877, 0.20131847774462203, 0.018873607288558313, 0.7698349537883403, 0.11392133446517996, 0.27507834419641014, 0.10836419619858582, 0.1305927492649624, 0.0805785048656151, 0.09169278139880338, 0.06390709006583266, 0.019449983933079507, 0.07224279746572387, 0.04723567526605023, 0.6629739644952717, 0.11049566074921194, 0.11049566074921194, 0.09537879661378186, 0.2607020440776704, 0.426025291541559, 0.050868691527350324, 0.10173738305470065, 0.025434345763675162, 0.0063585864409187905, 0.01907575932275637, 0.0063585864409187905, 0.006737337696611293, 0.3099175340441195, 0.5659363665153486, 0.02021201308983388, 0.006737337696611293, 0.006737337696611293, 0.006737337696611293, 0.006737337696611293, 0.06737337696611294, 0.7098630249348264, 0.1419726049869653, 0.17151691841073816, 0.6479528028850108, 0.019057435378970904, 0.03811487075794181, 0.019057435378970904, 0.019057435378970904, 0.019057435378970904, 0.057172306136912716, 0.6393943174152801, 0.15984857935382002, 0.2325680066814917, 0.6312560181354775, 0.03322400095449881, 0.06644800190899762, 0.03322400095449881, 0.11585134418623354, 0.23170268837246707, 0.5792567209311676, 0.05792567209311677, 0.044163425458251894, 0.17665370183300758, 0.08832685091650379, 0.2649805527495114, 0.044163425458251894, 0.2649805527495114, 0.05888456727766919, 0.05888456727766919, 0.060998248269863366, 0.12199649653972673, 0.6099824826986336, 0.060998248269863366, 0.060998248269863366, 0.10942897717981177, 0.14069439923118657, 0.3908177756421849, 0.17195982128256135, 0.031265422051374794, 0.06253084410274959, 0.06253084410274959, 0.015632711025687397, 0.05584083142198383, 0.08376124713297574, 0.05584083142198383, 0.25128374139892723, 0.11168166284396766, 0.08376124713297574, 0.05584083142198383, 0.13960207855495957, 0.22336332568793532, 0.025365577668756748, 0.03804836650313512, 0.07609673300627023, 0.21560741018443236, 0.12682788834378372, 0.03804836650313512, 0.16487625484691887, 0.26633856552194585, 0.025365577668756748, 0.012682788834378374, 0.04133018229395005, 0.42314234253329813, 0.11808623512557158, 0.09840519593797631, 0.029521558781392895, 0.10824571553177395, 0.07085174107534295, 0.019681039187595263, 0.05313880580650721, 0.039362078375190526, 0.14024997989774118, 0.5609999195909647, 0.14024997989774118, 0.08994168675409737, 0.30730076307649934, 0.11242710844262171, 0.11242710844262171, 0.007495140562841448, 0.05246598393989013, 0.11992224900546317, 0.08994168675409737, 0.07495140562841447, 0.037475702814207236, 0.15537579620295885, 0.23306369430443827, 0.09860387066726234, 0.09561587458643621, 0.09561587458643621, 0.1404358157988282, 0.08067589418230556, 0.047807937293218104, 0.023903968646609052, 0.032867956889087446, 0.03062352875003912, 0.14133936346171902, 0.15547329980789093, 0.31565791173117247, 0.02355656057695317, 0.20494207701949257, 0.07066968173085951, 0.021200904519257855, 0.018845248461562537, 0.014133936346171902, 0.6242279586211744, 0.1248455917242349, 0.1248455917242349], \"Term\": [\"000\", \"14\", \"14\", \"14\", \"1996\", \"2005\", \"2007\", \"2014\", \"2014\", \"24\", \"240\", \"3d\", \"3d\", \"4oz\", \"7oz\", \"7oz\", \"ability\", \"abrasive\", \"abrasive\", \"abrasive\", \"absorb\", \"absorb\", \"absorb\", \"absorb\", \"accelerator\", \"accelerator\", \"accelerator\", \"accelerator\", \"activater\", \"adjustable\", \"aesthetic\", \"age\", \"age\", \"age\", \"age\", \"alike\", \"alpha\", \"alpine\", \"alpine\", \"alpine\", \"always\", \"always\", \"always\", \"always\", \"always\", \"always\", \"always\", \"always\", \"always\", \"always\", \"annual\", \"anti\", \"anti\", \"anti\", \"anti\", \"antiseptic\", \"anything\", \"anything\", \"anything\", \"anything\", \"anything\", \"anything\", \"anything\", \"anything\", \"anything\", \"anything\", \"apart\", \"apart\", \"apart\", \"appliance\", \"applies\", \"applies\", \"applies\", \"apply\", \"apply\", \"apply\", \"apply\", \"apply\", \"apply\", \"apply\", \"apply\", \"apply\", \"apply\", \"approximately\", \"arm\", \"arm\", \"arm\", \"arm\", \"arm\", \"arm\", \"arm\", \"arm\", \"arm\", \"arrive\", \"arrive\", \"arrive\", \"arrive\", \"arrive\", \"arrive\", \"arrive\", \"arrive\", \"attractive\", \"august\", \"aveeno\", \"average\", \"avid\", \"aweful\", \"awesome\", \"awesome\", \"awesome\", \"awesome\", \"awesome\", \"awesome\", \"awesome\", \"awesome\", \"awesome\", \"back\", \"back\", \"back\", \"back\", \"back\", \"back\", \"back\", \"back\", \"back\", \"back\", \"base\", \"base\", \"base\", \"base\", \"base\", \"base\", \"base\", \"base\", \"base\", \"beat\", \"beat\", \"beat\", \"beat\", \"beautiful\", \"beautiful\", \"beautiful\", \"beautiful\", \"beautiful\", \"beautiful\", \"beautiful\", \"beautiful\", \"beautiful\", \"begin\", \"begin\", \"begin\", \"begin\", \"begin\", \"benefit\", \"beside\", \"best\", \"best\", \"best\", \"best\", \"best\", \"best\", \"best\", \"best\", \"best\", \"best\", \"bf\", \"bit\", \"bit\", \"bit\", \"bit\", \"bit\", \"bit\", \"bit\", \"bit\", \"bit\", \"bit\", \"black\", \"black\", \"black\", \"black\", \"black\", \"black\", \"black\", \"black\", \"blanc\", \"blanx\", \"bleaching\", \"blue\", \"blue\", \"blue\", \"blue\", \"blue\", \"blue\", \"blue\", \"blue\", \"bond\", \"bond\", \"bottle\", \"bottle\", \"bottle\", \"bottle\", \"bottle\", \"bottle\", \"bottle\", \"bottle\", \"bottle\", \"bottle\", \"bought\", \"bought\", \"bought\", \"bought\", \"bought\", \"bought\", \"bought\", \"brand\", \"brand\", \"brand\", \"brand\", \"brand\", \"brand\", \"brand\", \"brand\", \"brand\", \"brand\", \"branded\", \"brassy\", \"break\", \"break\", \"break\", \"break\", \"break\", \"break\", \"break\", \"break\", \"bridesmaid\", \"bright\", \"bright\", \"bright\", \"bright\", \"bright\", \"bright\", \"bright\", \"bright\", \"bright\", \"brightening\", \"brilliant\", \"brilliant\", \"broke\", \"brown\", \"brown\", \"brown\", \"brown\", \"brown\", \"brown\", \"brown\", \"brown\", \"bubbly\", \"budapest\", \"bueno\", \"buff\", \"bump\", \"bump\", \"bump\", \"bump\", \"bump\", \"bumper\", \"burn\", \"burn\", \"burn\", \"burn\", \"burn\", \"burn\", \"burn\", \"burn\", \"bus\", \"busy\", \"buy\", \"buy\", \"buy\", \"buy\", \"buy\", \"buy\", \"buy\", \"buy\", \"buy\", \"buy\", \"cajun\", \"calprox\", \"came\", \"came\", \"came\", \"came\", \"came\", \"caribbean\", \"casual\", \"casual\", \"casual\", \"cc\", \"ceramic\", \"ceramic\", \"ceramic\", \"ceramic\", \"certain\", \"certain\", \"certain\", \"certain\", \"champagne\", \"charging\", \"checkup\", \"chi\", \"chi\", \"chi\", \"chic\", \"chinese\", \"chip\", \"chip\", \"chip\", \"chip\", \"chip\", \"chip\", \"chip\", \"chip\", \"chipped\", \"chips\", \"chips\", \"choice\", \"choice\", \"choice\", \"cigar\", \"cinnamon\", \"cinnamon\", \"cinnamon\", \"cinnamon\", \"cinnamon\", \"citrusy\", \"ck\", \"ck\", \"ck\", \"ck\", \"ck\", \"ck\", \"ck\", \"ck\", \"ck\", \"clinical\", \"clothing\", \"clump\", \"clump\", \"clump\", \"coat\", \"coat\", \"coat\", \"coat\", \"coat\", \"coat\", \"coat\", \"coat\", \"coat\", \"coat\", \"coats\", \"code\", \"coffee\", \"coffee\", \"coffee\", \"coffee\", \"coffee\", \"cologne\", \"cologne\", \"cologne\", \"cologne\", \"cologne\", \"cologne\", \"cologne\", \"cologne\", \"cologne\", \"colognes\", \"color\", \"color\", \"color\", \"color\", \"color\", \"color\", \"color\", \"color\", \"color\", \"color\", \"combat\", \"come\", \"come\", \"come\", \"come\", \"come\", \"come\", \"come\", \"come\", \"come\", \"come\", \"complicate\", \"compliment\", \"compliment\", \"compliment\", \"compliment\", \"compliment\", \"compliment\", \"compliment\", \"compliment\", \"compliment\", \"conditioner\", \"conditioner\", \"conditioning\", \"contact\", \"contact\", \"contain\", \"contain\", \"contain\", \"container\", \"container\", \"container\", \"container\", \"container\", \"container\", \"container\", \"container\", \"continue\", \"continue\", \"continue\", \"continue\", \"continue\", \"continue\", \"continue\", \"continue\", \"contrast\", \"cook\", \"cost\", \"cost\", \"cost\", \"cost\", \"cost\", \"cost\", \"cost\", \"cost\", \"cotton\", \"coughing\", \"counter\", \"counter\", \"counter\", \"counter\", \"counter\", \"couple\", \"couple\", \"couple\", \"couple\", \"couple\", \"couple\", \"couple\", \"couple\", \"couple\", \"coverage\", \"coverage\", \"coverage\", \"coverage\", \"coverage\", \"coverage\", \"crabtree\", \"crabtree\", \"crabtree\", \"crabtree\", \"crabtree\", \"crabtree\", \"cream\", \"cream\", \"cream\", \"cream\", \"cream\", \"cream\", \"cream\", \"cream\", \"cream\", \"cream\", \"crest\", \"crest\", \"crest\", \"crest\", \"crme\", \"cruelty\", \"curl\", \"curl\", \"curl\", \"curl\", \"curl\", \"curl\", \"curl\", \"curl\", \"curl\", \"curl\", \"curling\", \"curling\", \"curling\", \"curling\", \"curling\", \"curls\", \"curls\", \"curly\", \"curly\", \"curly\", \"curly\", \"curly\", \"cute\", \"cute\", \"cute\", \"cute\", \"cuz\", \"damn\", \"dane\", \"dark\", \"dark\", \"dark\", \"dark\", \"dark\", \"dark\", \"dark\", \"dark\", \"dark\", \"dark\", \"day\", \"day\", \"day\", \"day\", \"day\", \"day\", \"day\", \"day\", \"day\", \"day\", \"dbp\", \"de\", \"de\", \"de\", \"de\", \"de\", \"decrease\", \"deeply\", \"deliver\", \"deliver\", \"deliver\", \"deliver\", \"deliver\", \"delivery\", \"delivery\", \"delivery\", \"delivery\", \"delivery\", \"delivery\", \"delivery\", \"delivery\", \"delivery\", \"dent\", \"dent\", \"dent\", \"dent\", \"dent\", \"dentist\", \"dentist\", \"dentist\", \"dentist\", \"dentist\", \"deodorant\", \"deodorant\", \"deodorant\", \"deodorant\", \"deodorant\", \"deodorant\", \"deodorant\", \"deodorant\", \"deodorant\", \"described\", \"described\", \"described\", \"described\", \"dexterity\", \"die\", \"die\", \"die\", \"die\", \"die\", \"die\", \"difference\", \"difference\", \"difference\", \"difference\", \"difference\", \"difference\", \"difference\", \"difference\", \"difference\", \"difference\", \"diffrent\", \"dig\", \"diligently\", \"dirty\", \"dirty\", \"dirty\", \"disappear\", \"disappear\", \"dish\", \"dot\", \"dries\", \"dries\", \"dries\", \"drink\", \"drink\", \"drink\", \"drink\", \"drink\", \"dry\", \"dry\", \"dry\", \"dry\", \"dry\", \"dry\", \"dry\", \"dry\", \"dry\", \"dry\", \"duo\", \"duty\", \"duty\", \"duty\", \"duty\", \"duty\", \"eau\", \"eau\", \"eau\", \"eggplant\", \"eggshell\", \"el\", \"elegant\", \"elegant\", \"embarrassing\", \"envy\", \"essie\", \"essie\", \"estimate\", \"eve\", \"evelyn\", \"evelyn\", \"evelyn\", \"evelyn\", \"evelyn\", \"evelyn\", \"ever\", \"ever\", \"ever\", \"ever\", \"ever\", \"ever\", \"ever\", \"ever\", \"ever\", \"everytime\", \"exactly\", \"exactly\", \"exactly\", \"exactly\", \"exactly\", \"exactly\", \"exactly\", \"exactly\", \"exactly\", \"excelente\", \"excellent\", \"excellent\", \"excellent\", \"excellent\", \"excellent\", \"excellent\", \"excellent\", \"excellent\", \"excellent\", \"fabric\", \"fabric\", \"fake\", \"fake\", \"fake\", \"fake\", \"fake\", \"fake\", \"fake\", \"fake\", \"fast\", \"fast\", \"fast\", \"fast\", \"fast\", \"fast\", \"fast\", \"fast\", \"fast\", \"fave\", \"fave\", \"fave\", \"favorite\", \"favorite\", \"favorite\", \"favorite\", \"favorite\", \"favorite\", \"favorite\", \"favorite\", \"favorite\", \"favorite\", \"favs\", \"feel\", \"feel\", \"feel\", \"feel\", \"feel\", \"feel\", \"feel\", \"feel\", \"feel\", \"feel\", \"find\", \"find\", \"find\", \"find\", \"find\", \"find\", \"find\", \"find\", \"find\", \"find\", \"fine\", \"fine\", \"fine\", \"fine\", \"fine\", \"fine\", \"fine\", \"fingers\", \"first\", \"first\", \"first\", \"first\", \"first\", \"first\", \"first\", \"first\", \"first\", \"first\", \"flash\", \"flash\", \"flat\", \"flat\", \"flat\", \"flat\", \"flat\", \"flat\", \"flat\", \"flat\", \"flat\", \"flat\", \"flatiron\", \"flatter\", \"flavor\", \"flavor\", \"flavor\", \"flavor\", \"flavor\", \"flavor\", \"flavor\", \"flavor\", \"fleck\", \"flowery\", \"flowery\", \"flowery\", \"flowery\", \"fluorescent\", \"formula\", \"formula\", \"formula\", \"formula\", \"formula\", \"formula\", \"formula\", \"formula\", \"formulate\", \"four\", \"four\", \"four\", \"four\", \"four\", \"four\", \"four\", \"fragrance\", \"fragrance\", \"fragrance\", \"fragrance\", \"fragrance\", \"fragrance\", \"fragrance\", \"fragrance\", \"fragrance\", \"fragrance\", \"french\", \"french\", \"french\", \"french\", \"fresh\", \"fresh\", \"fresh\", \"fresh\", \"fresh\", \"fresh\", \"fresh\", \"fresh\", \"frutti\", \"frutti\", \"fun\", \"fun\", \"fun\", \"fun\", \"fun\", \"gardeners\", \"gardeners\", \"gardeners\", \"gardening\", \"gardening\", \"gardening\", \"gardening\", \"gaudy\", \"gender\", \"gender\", \"gender\", \"get\", \"get\", \"get\", \"get\", \"get\", \"get\", \"get\", \"get\", \"get\", \"get\", \"gets\", \"gets\", \"gift\", \"gift\", \"gift\", \"gift\", \"gift\", \"gift\", \"gift\", \"gift\", \"gift\", \"gifts\", \"girls\", \"glad\", \"glad\", \"glad\", \"glad\", \"glad\", \"glad\", \"glad\", \"glad\", \"glad\", \"glitter\", \"glitter\", \"glitter\", \"glitter\", \"glitter\", \"glitter\", \"glitter\", \"glove\", \"glove\", \"glove\", \"glove\", \"glove\", \"glove\", \"go\", \"go\", \"go\", \"go\", \"go\", \"go\", \"go\", \"go\", \"go\", \"go\", \"goes\", \"goes\", \"goes\", \"goes\", \"goes\", \"goldish\", \"good\", \"good\", \"good\", \"good\", \"good\", \"good\", \"good\", \"good\", \"good\", \"good\", \"goodness\", \"gorgeous\", \"gorgeous\", \"gorgeous\", \"gorgeous\", \"gorgeous\", \"gorgeous\", \"gorgeous\", \"gosmile\", \"greasy\", \"greasy\", \"greasy\", \"greasy\", \"greasy\", \"greasy\", \"greasy\", \"greasy\", \"great\", \"great\", \"great\", \"great\", \"great\", \"great\", \"great\", \"great\", \"great\", \"great\", \"grey\", \"grey\", \"grey\", \"gunk\", \"hair\", \"hair\", \"hair\", \"hair\", \"hair\", \"hair\", \"hair\", \"hair\", \"hair\", \"hair\", \"hammer\", \"hand\", \"hand\", \"hand\", \"hand\", \"hand\", \"hand\", \"hand\", \"hand\", \"hand\", \"hand\", \"handbag\", \"handcream\", \"handle\", \"handle\", \"handle\", \"handle\", \"handle\", \"handle\", \"handle\", \"handle\", \"happy\", \"happy\", \"happy\", \"happy\", \"happy\", \"happy\", \"happy\", \"happy\", \"happy\", \"happy\", \"heat\", \"heat\", \"heat\", \"heat\", \"heat\", \"heat\", \"heat\", \"heat\", \"heat\", \"heat\", \"heavenly\", \"helen\", \"helen\", \"help\", \"help\", \"help\", \"help\", \"help\", \"help\", \"help\", \"help\", \"help\", \"help\", \"highly\", \"highly\", \"highly\", \"highly\", \"highly\", \"highly\", \"highly\", \"highly\", \"hinge\", \"hold\", \"hold\", \"hold\", \"hold\", \"hold\", \"hold\", \"hold\", \"hold\", \"hold\", \"hold\", \"hooked\", \"hot\", \"hot\", \"hot\", \"hot\", \"hot\", \"hot\", \"hot\", \"hot\", \"hot\", \"housewares\", \"huuuuge\", \"hydrating\", \"hydrating\", \"hydroxy\", \"incorrect\", \"indeed\", \"indie\", \"industry\", \"inform\", \"ingredient\", \"ingredient\", \"ingredient\", \"ingredient\", \"ingredient\", \"interval\", \"introduce\", \"iron\", \"iron\", \"iron\", \"iron\", \"iron\", \"iron\", \"iron\", \"iron\", \"iron\", \"iron\", \"isle\", \"item\", \"item\", \"item\", \"item\", \"item\", \"item\", \"item\", \"item\", \"item\", \"item\", \"jet\", \"key\", \"kids\", \"kp\", \"kp\", \"kp\", \"kp\", \"kp\", \"kp\", \"kp\", \"kp\", \"kp\", \"kp\", \"last\", \"last\", \"last\", \"last\", \"last\", \"last\", \"last\", \"last\", \"last\", \"last\", \"lastly\", \"lasts\", \"lasts\", \"lasts\", \"lasts\", \"lasts\", \"lazy\", \"lever\", \"lever\", \"lid\", \"lid\", \"lid\", \"light\", \"light\", \"light\", \"light\", \"light\", \"light\", \"light\", \"light\", \"light\", \"light\", \"like\", \"like\", \"like\", \"like\", \"like\", \"like\", \"like\", \"like\", \"like\", \"like\", \"lilac\", \"lilac\", \"lily\", \"lincoln\", \"link\", \"link\", \"loation\", \"long\", \"long\", \"long\", \"long\", \"long\", \"long\", \"long\", \"long\", \"long\", \"long\", \"look\", \"look\", \"look\", \"look\", \"look\", \"look\", \"look\", \"look\", \"look\", \"look\", \"lotion\", \"lotion\", \"lotion\", \"lotion\", \"lotion\", \"lotion\", \"lotion\", \"lotion\", \"lotion\", \"lotion\", \"lots\", \"love\", \"love\", \"love\", \"love\", \"love\", \"love\", \"love\", \"love\", \"love\", \"love\", \"loved\", \"loved\", \"loved\", \"loved\", \"loved\", \"loved\", \"loveeeee\", \"loving\", \"lucky\", \"lucky\", \"lumpy\", \"luxurious\", \"luxurious\", \"magic\", \"major\", \"major\", \"major\", \"major\", \"make\", \"make\", \"make\", \"make\", \"make\", \"make\", \"make\", \"make\", \"make\", \"make\", \"man\", \"man\", \"man\", \"man\", \"man\", \"man\", \"manage\", \"manicure\", \"manicure\", \"manicure\", \"manicure\", \"manicure\", \"manicure\", \"manicurist\", \"manicurist\", \"manner\", \"manner\", \"manner\", \"manner\", \"manual\", \"marcel\", \"marcel\", \"marcel\", \"marcel\", \"marcel\", \"marcel\", \"marshmallow\", \"marshmallow\", \"matte\", \"matte\", \"matte\", \"matte\", \"mauve\", \"mauve\", \"mauve\", \"mauve\", \"mauve\", \"meal\", \"men\", \"men\", \"men\", \"men\", \"men\", \"men\", \"men\", \"men\", \"men\", \"men\", \"menthol\", \"mild\", \"mild\", \"mild\", \"mild\", \"mild\", \"mild\", \"mild\", \"milk\", \"milk\", \"milk\", \"milk\", \"mimosas\", \"mint\", \"mint\", \"mint\", \"mint\", \"mint\", \"mint\", \"mint\", \"mint\", \"mitchell\", \"modern\", \"modern\", \"moisturizers\", \"moisturizers\", \"moisturizes\", \"month\", \"month\", \"month\", \"month\", \"month\", \"month\", \"month\", \"month\", \"month\", \"month\", \"months\", \"moose\", \"morning\", \"morning\", \"morning\", \"morning\", \"morning\", \"morning\", \"morning\", \"morning\", \"morning\", \"mouth\", \"mouth\", \"mouth\", \"mouth\", \"mouthrinse\", \"much\", \"much\", \"much\", \"much\", \"much\", \"much\", \"much\", \"much\", \"much\", \"much\", \"musk\", \"muy\", \"nail\", \"nail\", \"nail\", \"nail\", \"nail\", \"nail\", \"nail\", \"nail\", \"nail\", \"nail\", \"nan\", \"naturally\", \"naturally\", \"naturally\", \"naturally\", \"necessarily\", \"neon\", \"neon\", \"neon\", \"neutral\", \"neutral\", \"neutral\", \"neutral\", \"neutral\", \"neutral\", \"neutral\", \"neutral\", \"neutral\", \"neutral\", \"never\", \"never\", \"never\", \"never\", \"never\", \"never\", \"never\", \"never\", \"never\", \"never\", \"nice\", \"nice\", \"nice\", \"nice\", \"nice\", \"nice\", \"nice\", \"nice\", \"nice\", \"nice\", \"noredol\", \"note\", \"note\", \"note\", \"note\", \"note\", \"note\", \"note\", \"note\", \"notice\", \"notice\", \"notice\", \"notice\", \"notice\", \"notice\", \"notice\", \"notice\", \"notice\", \"notice\", \"nowhere\", \"nude\", \"nude\", \"nude\", \"nude\", \"nude\", \"nude\", \"nude\", \"nude\", \"nude\", \"nude\", \"nuff\", \"number\", \"number\", \"number\", \"number\", \"number\", \"nutmeg\", \"odor\", \"odor\", \"odor\", \"odor\", \"odor\", \"odor\", \"odor\", \"official\", \"olive\", \"olive\", \"one\", \"one\", \"one\", \"one\", \"one\", \"one\", \"one\", \"one\", \"one\", \"one\", \"opaque\", \"opaque\", \"opaque\", \"opaque\", \"opaque\", \"opaque\", \"opaque\", \"opi\", \"opi\", \"opi\", \"opi\", \"opi\", \"opi\", \"opi\", \"opi\", \"opi\", \"opi\", \"orange\", \"orange\", \"orange\", \"orange\", \"orange\", \"orange\", \"orange\", \"orange\", \"order\", \"order\", \"order\", \"order\", \"order\", \"order\", \"order\", \"order\", \"order\", \"order\", \"orleans\", \"orleans\", \"otc\", \"outbreak\", \"outdoors\", \"pale\", \"pale\", \"pale\", \"pale\", \"pale\", \"pale\", \"pale\", \"pale\", \"parfum\", \"park\", \"passion\", \"passion\", \"passion\", \"passion\", \"passion\", \"pea\", \"pea\", \"pen\", \"percent\", \"percent\", \"perfect\", \"perfect\", \"perfect\", \"perfect\", \"perfect\", \"perfect\", \"perfect\", \"perfect\", \"perfect\", \"perfect\", \"perfume\", \"perfume\", \"perfume\", \"perfume\", \"perfume\", \"perfume\", \"perfume\", \"periwinkle\", \"periwinkle\", \"periwinkle\", \"periwinkle\", \"periwinkle\", \"perky\", \"perspirants\", \"picky\", \"picture\", \"picture\", \"picture\", \"picture\", \"picture\", \"picture\", \"picture\", \"picture\", \"picture\", \"picture\", \"pigment\", \"pigment\", \"pin\", \"pink\", \"pink\", \"pink\", \"pink\", \"pink\", \"pink\", \"pink\", \"pink\", \"pink\", \"pink\", \"pinkish\", \"pinkish\", \"pinkish\", \"pinkish\", \"plaque\", \"plat\", \"plate\", \"plate\", \"plate\", \"plate\", \"plate\", \"polish\", \"polish\", \"polish\", \"polish\", \"polish\", \"polish\", \"polish\", \"polish\", \"polish\", \"polish\", \"porcelain\", \"porcelain\", \"porcelain\", \"position\", \"prescribed\", \"present\", \"present\", \"present\", \"pretty\", \"pretty\", \"pretty\", \"pretty\", \"pretty\", \"pretty\", \"pretty\", \"pretty\", \"pretty\", \"pretty\", \"price\", \"price\", \"price\", \"price\", \"price\", \"price\", \"price\", \"price\", \"price\", \"price\", \"private\", \"product\", \"product\", \"product\", \"product\", \"product\", \"product\", \"product\", \"product\", \"product\", \"product\", \"promise\", \"promise\", \"promise\", \"promise\", \"promise\", \"promptly\", \"promptly\", \"promptly\", \"promptly\", \"promptly\", \"proof\", \"pump\", \"pump\", \"pump\", \"pump\", \"pump\", \"pump\", \"purchase\", \"purchase\", \"purchase\", \"purchase\", \"purchase\", \"purchase\", \"purchase\", \"purchase\", \"purchase\", \"purchase\", \"purple\", \"purple\", \"purple\", \"purple\", \"purple\", \"purple\", \"purple\", \"purple\", \"quality\", \"quality\", \"quality\", \"quality\", \"quality\", \"quality\", \"quality\", \"quality\", \"quality\", \"quality\", \"quicker\", \"quickly\", \"quickly\", \"quickly\", \"quickly\", \"quickly\", \"quickly\", \"quickly\", \"quickly\", \"quickly\", \"quickly\", \"quite\", \"quite\", \"quite\", \"quite\", \"quite\", \"quite\", \"quite\", \"quite\", \"random\", \"raspberry\", \"real\", \"real\", \"real\", \"real\", \"real\", \"real\", \"real\", \"really\", \"really\", \"really\", \"really\", \"really\", \"really\", \"really\", \"really\", \"really\", \"really\", \"received\", \"received\", \"received\", \"received\", \"recommend\", \"recommend\", \"recommend\", \"recommend\", \"recommend\", \"recommend\", \"recommend\", \"recommend\", \"recommend\", \"recommend\", \"red\", \"red\", \"red\", \"red\", \"red\", \"red\", \"red\", \"red\", \"red\", \"redder\", \"reddish\", \"regularly\", \"regularly\", \"regularly\", \"release\", \"release\", \"release\", \"relief\", \"relieve\", \"remover\", \"remover\", \"remover\", \"resin\", \"restroom\", \"result\", \"result\", \"result\", \"result\", \"result\", \"result\", \"result\", \"result\", \"result\", \"result\", \"retinol\", \"ride\", \"rinse\", \"rinse\", \"rinse\", \"rinse\", \"rock\", \"rosemary\", \"rough\", \"rough\", \"rough\", \"rough\", \"rough\", \"rough\", \"salon\", \"salon\", \"salon\", \"salon\", \"salon\", \"salon\", \"salon\", \"salon\", \"salon\", \"salon\", \"sampler\", \"sampler\", \"sanitizing\", \"satisfied\", \"satisfied\", \"satisfied\", \"satisfied\", \"satisfied\", \"say\", \"say\", \"say\", \"say\", \"say\", \"say\", \"say\", \"say\", \"say\", \"say\", \"scalp\", \"scent\", \"scent\", \"scent\", \"scent\", \"scent\", \"scent\", \"scent\", \"scent\", \"scent\", \"scent\", \"scrub\", \"scrub\", \"scrub\", \"scrub\", \"scrub\", \"scrub\", \"section\", \"section\", \"section\", \"securely\", \"see\", \"see\", \"see\", \"see\", \"see\", \"see\", \"see\", \"see\", \"see\", \"see\", \"semi\", \"sensation\", \"sensitive\", \"sensitive\", \"sensitive\", \"sensitive\", \"sensitive\", \"sensitive\", \"sensitive\", \"sensitive\", \"sensitivity\", \"sensitivity\", \"sensitivity\", \"sew\", \"shade\", \"shade\", \"shade\", \"shade\", \"shade\", \"shade\", \"shade\", \"shade\", \"shade\", \"shade\", \"shampoo\", \"shampoo\", \"shampoo\", \"shampoo\", \"ship\", \"ship\", \"ship\", \"ship\", \"ship\", \"ship\", \"ship\", \"ship\", \"shipping\", \"shipping\", \"shipping\", \"shipping\", \"shipping\", \"shipping\", \"shipping\", \"shopping\", \"shrimp\", \"signature\", \"signature\", \"signature\", \"silva\", \"size\", \"size\", \"size\", \"size\", \"size\", \"size\", \"size\", \"size\", \"size\", \"size\", \"skill\", \"skin\", \"skin\", \"skin\", \"skin\", \"skin\", \"skin\", \"skin\", \"skin\", \"skin\", \"skin\", \"skintone\", \"skip\", \"slide\", \"smell\", \"smell\", \"smell\", \"smell\", \"smell\", \"smell\", \"smell\", \"smell\", \"smell\", \"smell\", \"smells\", \"smells\", \"smells\", \"smells\", \"smells\", \"smells\", \"smells\", \"smells\", \"smile\", \"smile\", \"smile\", \"smile\", \"smile\", \"smile\", \"smile\", \"smile\", \"smoker\", \"sniff\", \"soil\", \"soooo\", \"soooooo\", \"sparkle\", \"sparkle\", \"sparkle\", \"sparkle\", \"sparkle\", \"sparkle\", \"sparkle\", \"sparkly\", \"sparkly\", \"sparkly\", \"sparkly\", \"sparkly\", \"sparkly\", \"spearmint\", \"speed\", \"speed\", \"speed\", \"speed\", \"spend\", \"spend\", \"spend\", \"spend\", \"spend\", \"spend\", \"spend\", \"spend\", \"split\", \"split\", \"split\", \"spread\", \"spread\", \"spring\", \"spring\", \"spring\", \"spring\", \"spring\", \"spring\", \"spring\", \"spring\", \"spring\", \"springtime\", \"squeeze\", \"stain\", \"stain\", \"stain\", \"stain\", \"stain\", \"stain\", \"stain\", \"star\", \"star\", \"star\", \"star\", \"star\", \"star\", \"star\", \"star\", \"star\", \"star\", \"stay\", \"stay\", \"stay\", \"stay\", \"stay\", \"stay\", \"stay\", \"stay\", \"stay\", \"stay\", \"still\", \"still\", \"still\", \"still\", \"still\", \"still\", \"still\", \"still\", \"still\", \"still\", \"stinky\", \"straight\", \"straight\", \"straight\", \"straight\", \"straight\", \"straight\", \"straight\", \"straighten\", \"straighten\", \"straighten\", \"straighten\", \"straighten\", \"straighten\", \"straighten\", \"straightener\", \"straightener\", \"straightener\", \"straightener\", \"straightener\", \"straightener\", \"straightener\", \"straightener\", \"straightener\", \"straightens\", \"strand\", \"streak\", \"streak\", \"streak\", \"streak\", \"stuff\", \"stuff\", \"stuff\", \"stuff\", \"stuff\", \"stuff\", \"stuff\", \"stuff\", \"stuff\", \"stuffer\", \"stuffer\", \"stunning\", \"stupid\", \"stupid\", \"subtly\", \"success\", \"suit\", \"summer\", \"summer\", \"summer\", \"summer\", \"summer\", \"summer\", \"summer\", \"summer\", \"summer\", \"summer\", \"supersmile\", \"supersmile\", \"supersmile\", \"supersmile\", \"supersmile\", \"supersmile\", \"supersmile\", \"sweat\", \"sweat\", \"sweat\", \"sweat\", \"sweat\", \"sweating\", \"tampering\", \"taste\", \"taste\", \"taste\", \"taste\", \"taste\", \"taste\", \"taste\", \"taste\", \"taupe\", \"teal\", \"teeth\", \"teeth\", \"teeth\", \"teeth\", \"teeth\", \"teeth\", \"teeth\", \"teeth\", \"teeth\", \"temperature\", \"temperature\", \"temperature\", \"tendency\", \"thank\", \"thank\", \"thank\", \"thank\", \"thank\", \"thank\", \"thank\", \"thank\", \"thank\", \"thank\", \"thanks\", \"thanks\", \"thanks\", \"thanks\", \"thanks\", \"thanks\", \"thanks\", \"thanks\", \"thanks\", \"thick\", \"thick\", \"thick\", \"thick\", \"thick\", \"thick\", \"thick\", \"thick\", \"thick\", \"thick\", \"think\", \"think\", \"think\", \"think\", \"think\", \"think\", \"think\", \"think\", \"think\", \"think\", \"threw\", \"tiempo\", \"time\", \"time\", \"time\", \"time\", \"time\", \"time\", \"time\", \"time\", \"time\", \"time\", \"timely\", \"timely\", \"timely\", \"timely\", \"tinge\", \"tire\", \"toe\", \"toe\", \"toe\", \"toe\", \"toe\", \"toe\", \"toe\", \"toilette\", \"toilette\", \"toilette\", \"tone\", \"tone\", \"tone\", \"tone\", \"tone\", \"tone\", \"tone\", \"tone\", \"tone\", \"tonga\", \"tonga\", \"tool\", \"tool\", \"tool\", \"tool\", \"tool\", \"tool\", \"tools\", \"tools\", \"tools\", \"tools\", \"tools\", \"toothbrush\", \"toothbrush\", \"toothbrush\", \"toothbrush\", \"toothbrush\", \"toothbrush\", \"toothpaste\", \"toothpaste\", \"toothpaste\", \"toothpaste\", \"toothpaste\", \"toothpaste\", \"toothpaste\", \"toothpaste\", \"toothpaste\", \"top\", \"top\", \"top\", \"top\", \"top\", \"top\", \"top\", \"top\", \"top\", \"top\", \"toucan\", \"tourmaline\", \"toward\", \"transparent\", \"transparent\", \"transparent\", \"transparent\", \"transparent\", \"trendy\", \"troy\", \"troy\", \"true\", \"true\", \"true\", \"true\", \"true\", \"true\", \"true\", \"true\", \"trusted\", \"try\", \"try\", \"try\", \"try\", \"try\", \"try\", \"try\", \"try\", \"try\", \"try\", \"tube\", \"tube\", \"tube\", \"tube\", \"tube\", \"tube\", \"tube\", \"tube\", \"tube\", \"tube\", \"tutorial\", \"tutti\", \"tutti\", \"twenty\", \"twenty\", \"twice\", \"twice\", \"twice\", \"twice\", \"twice\", \"twice\", \"twice\", \"typically\", \"typically\", \"typically\", \"ugly\", \"ugly\", \"ugly\", \"ugly\", \"underarms\", \"underarms\", \"underarms\", \"underarms\", \"underarms\", \"unisex\", \"unisex\", \"unisex\", \"unisex\", \"unisex\", \"unit\", \"unit\", \"unlocked\", \"unusable\", \"upper\", \"upper\", \"upper\", \"upper\", \"ups\", \"use\", \"use\", \"use\", \"use\", \"use\", \"use\", \"use\", \"use\", \"use\", \"use\", \"useful\", \"valley\", \"value\", \"value\", \"value\", \"value\", \"value\", \"value\", \"vanish\", \"vein\", \"veneer\", \"veneer\", \"veneer\", \"vibrant\", \"vibrant\", \"vibrant\", \"vidal\", \"vs\", \"waist\", \"walk\", \"walk\", \"walk\", \"walmart\", \"wan\", \"want\", \"want\", \"want\", \"want\", \"want\", \"want\", \"want\", \"want\", \"want\", \"want\", \"warehouse\", \"warning\", \"waste\", \"waste\", \"waste\", \"waste\", \"waste\", \"waste\", \"water\", \"water\", \"water\", \"water\", \"water\", \"water\", \"water\", \"water\", \"watery\", \"watery\", \"watery\", \"watery\", \"watery\", \"watery\", \"wavy\", \"wavy\", \"wavy\", \"wavy\", \"way\", \"way\", \"way\", \"way\", \"way\", \"way\", \"way\", \"way\", \"way\", \"way\", \"weak\", \"wear\", \"wear\", \"wear\", \"wear\", \"wear\", \"wear\", \"wear\", \"wear\", \"wear\", \"wear\", \"week\", \"week\", \"week\", \"week\", \"week\", \"week\", \"week\", \"week\", \"week\", \"week\", \"weekend\", \"well\", \"well\", \"well\", \"well\", \"well\", \"well\", \"well\", \"well\", \"well\", \"well\", \"whatsoever\", \"whatsoever\", \"whatsoever\", \"white\", \"white\", \"white\", \"white\", \"white\", \"white\", \"white\", \"white\", \"white\", \"whiten\", \"whiten\", \"whiten\", \"whiten\", \"whiten\", \"whiten\", \"whiten\", \"whiten\", \"whiten\", \"whitener\", \"whitener\", \"whitening\", \"whitening\", \"whitening\", \"whitening\", \"whitening\", \"whitening\", \"whitening\", \"whitening\", \"whitens\", \"whitens\", \"whiter\", \"whiter\", \"whiter\", \"whiter\", \"whiter\", \"wide\", \"wide\", \"wide\", \"wide\", \"wife\", \"wife\", \"wife\", \"wife\", \"wife\", \"wife\", \"wife\", \"wife\", \"wine\", \"wine\", \"wine\", \"wine\", \"wine\", \"winter\", \"winter\", \"winter\", \"winter\", \"winter\", \"winter\", \"winter\", \"winter\", \"woman\", \"woman\", \"woman\", \"woman\", \"woman\", \"woman\", \"woman\", \"woman\", \"woman\", \"wonderful\", \"wonderful\", \"wonderful\", \"wonderful\", \"wonderful\", \"wonderful\", \"wonderful\", \"wonderful\", \"wonderful\", \"wonderful\", \"work\", \"work\", \"work\", \"work\", \"work\", \"work\", \"work\", \"work\", \"work\", \"work\", \"worked\", \"worked\", \"worked\", \"worth\", \"worth\", \"worth\", \"worth\", \"worth\", \"worth\", \"worth\", \"worth\", \"worth\", \"worth\", \"would\", \"would\", \"would\", \"would\", \"would\", \"would\", \"would\", \"would\", \"would\", \"would\", \"year\", \"year\", \"year\", \"year\", \"year\", \"year\", \"year\", \"year\", \"year\", \"year\", \"youtube\", \"youtube\", \"youtube\"]}, \"R\": 30, \"lambda.step\": 0.01, \"plot.opts\": {\"xlab\": \"PC1\", \"ylab\": \"PC2\"}, \"topic.order\": [9, 6, 1, 4, 7, 5, 3, 2, 8, 10]};\n",
       "\n",
       "function LDAvis_load_lib(url, callback){\n",
       "  var s = document.createElement('script');\n",
       "  s.src = url;\n",
       "  s.async = true;\n",
       "  s.onreadystatechange = s.onload = callback;\n",
       "  s.onerror = function(){console.warn(\"failed to load library \" + url);};\n",
       "  document.getElementsByTagName(\"head\")[0].appendChild(s);\n",
       "}\n",
       "\n",
       "if(typeof(LDAvis) !== \"undefined\"){\n",
       "   // already loaded: just create the visualization\n",
       "   !function(LDAvis){\n",
       "       new LDAvis(\"#\" + \"ldavis_el530338139915608203328473908924\", ldavis_el530338139915608203328473908924_data);\n",
       "   }(LDAvis);\n",
       "}else if(typeof define === \"function\" && define.amd){\n",
       "   // require.js is available: use it to load d3/LDAvis\n",
       "   require.config({paths: {d3: \"https://d3js.org/d3.v5\"}});\n",
       "   require([\"d3\"], function(d3){\n",
       "      window.d3 = d3;\n",
       "      LDAvis_load_lib(\"https://cdn.jsdelivr.net/gh/bmabey/pyLDAvis@3.3.1/pyLDAvis/js/ldavis.v3.0.0.js\", function(){\n",
       "        new LDAvis(\"#\" + \"ldavis_el530338139915608203328473908924\", ldavis_el530338139915608203328473908924_data);\n",
       "      });\n",
       "    });\n",
       "}else{\n",
       "    // require.js not available: dynamically load d3 & LDAvis\n",
       "    LDAvis_load_lib(\"https://d3js.org/d3.v5.js\", function(){\n",
       "         LDAvis_load_lib(\"https://cdn.jsdelivr.net/gh/bmabey/pyLDAvis@3.3.1/pyLDAvis/js/ldavis.v3.0.0.js\", function(){\n",
       "                 new LDAvis(\"#\" + \"ldavis_el530338139915608203328473908924\", ldavis_el530338139915608203328473908924_data);\n",
       "            })\n",
       "         });\n",
       "}\n",
       "</script>"
      ],
      "text/plain": [
       "<IPython.core.display.HTML object>"
      ]
     },
     "execution_count": 181,
     "metadata": {},
     "output_type": "execute_result"
    }
   ],
   "source": [
    "import pyLDAvis\n",
    "import pyLDAvis.gensim_models as gensimvis\n",
    "pyLDAvis.enable_notebook()\n",
    "\n",
    "lda_idm = gensimvis.prepare(bow_lda, bow, vocabulary)\n",
    "\n",
    "pyLDAvis.display(lda_idm)\n"
   ]
  },
  {
   "cell_type": "markdown",
   "id": "b30ab389",
   "metadata": {},
   "source": [
    "This interactive visualization allows us to explore the topic model in more detail. Topics that are closer in the 2D space are more similar to each other. We can adjust the number of topics (`num_topics`) based on these visual insights to improve our model.\n",
    "\n",
    "---\n"
   ]
  },
  {
   "cell_type": "markdown",
   "id": "899f87ea",
   "metadata": {},
   "source": [
    "---\n",
    "\n",
    "### <span style=\"color: #2e6c80;\">&#128295; Machine Learning</span>\n",
    "\n",
    "---\n",
    "\n",
    "#### <span style=\"color: #a46497;\">&#10148; Overview</span>\n",
    "<span style=\"font-size: 16px;\">We'll further process our finalized dataframe in order to make it compatible and easy to pipe into our Machine Learning model.</span>\n",
    "\n",
    "---\n",
    "\n",
    "#### <span style=\"color: #a46497;\">&#10067; Dealing with NaNs</span>\n",
    "<span style=\"font-size: 16px;\">It is important that we impute NaN values before we feed them into a model because machine learning algorithms can only work with real numbers. Our dataframe was derived from employing a Word2Vec model and so the only way we could have invalid entries that would become NaN values is when we have empty documents.</span>\n",
    "\n",
    "<span style=\"font-size: 16px;\">If a review contains no tokens then every dimension would become NaN. And so to find out the indices of NaN documents, we just have to filter reviews that have a NaN on the first dimension (or any dimension at all).</span>\n",
    "\n",
    "---\n"
   ]
  },
  {
   "cell_type": "code",
   "execution_count": 184,
   "id": "f22d53b5",
   "metadata": {},
   "outputs": [
    {
     "name": "stdout",
     "output_type": "stream",
     "text": [
      "[1029, 2505, 2849, 3473, 3854, 3906, 4257]\n"
     ]
    }
   ],
   "source": [
    "nan_list = model_df[model_df[0].isna()].index\n",
    "nan_list = nan_list.tolist()\n",
    "\n",
    "print(nan_list[0:50])"
   ]
  },
  {
   "cell_type": "markdown",
   "id": "6d906e2f",
   "metadata": {},
   "source": [
    "\n",
    "\n",
    "Indeed, inspecting these documents brings us empty lists which tell us that there are no tokens in the review.\n"
   ]
  },
  {
   "cell_type": "code",
   "execution_count": 186,
   "id": "0c96dbc8",
   "metadata": {},
   "outputs": [
    {
     "name": "stdout",
     "output_type": "stream",
     "text": [
      "[] [] [] [] []\n"
     ]
    }
   ],
   "source": [
    "print(*[tokenized[blank] for blank in nan_list[0:5]])"
   ]
  },
  {
   "cell_type": "markdown",
   "id": "0f292852",
   "metadata": {},
   "source": [
    "---\n",
    "\n",
    "### <span style=\"color: #2e6c80;\">&#128270; Analysis on NaN Indices</span>\n",
    "\n",
    "---\n",
    "\n",
    "#### <span style=\"color: #a46497;\">&#10148; Overview</span>\n",
    "<span style=\"font-size: 16px;\">Imposing these indices to our df, we can extract what these reviews originally looked like before tokenization and before all the pre-processing steps were performed.</span>\n",
    "\n",
    "---\n",
    "\n",
    "#### <span style=\"color: #a46497;\">&#128065; Observations</span>\n",
    "<span style=\"font-size: 16px;\">We observe that, other than blanks, reviews that would become NaNs contain only minimal characters. The fourth entry is invalidated because in our steps, we have dropped all characters that are not alphanumeric, leaving us with just the letter 'A'.</span>\n",
    "\n",
    "---\n",
    "\n",
    "#### <span style=\"color: #a46497;\">&#9889; Implications</span>\n",
    "<span style=\"font-size: 16px;\">We have also chosen in our pre-processing that single-characters would not be tokenized. The fourth review would therefore end up as an empty list after our NLP steps.</span>\n",
    "\n",
    "---\n"
   ]
  },
  {
   "cell_type": "code",
   "execution_count": 187,
   "id": "c09a6784",
   "metadata": {},
   "outputs": [
    {
     "data": {
      "text/plain": [
       "'A+'"
      ]
     },
     "metadata": {},
     "output_type": "display_data"
    },
    {
     "data": {
      "text/plain": [
       "'A+'"
      ]
     },
     "metadata": {},
     "output_type": "display_data"
    },
    {
     "data": {
      "text/plain": [
       "':)'"
      ]
     },
     "metadata": {},
     "output_type": "display_data"
    },
    {
     "data": {
      "text/plain": [
       "'A++++'"
      ]
     },
     "metadata": {},
     "output_type": "display_data"
    },
    {
     "data": {
      "text/plain": [
       "'not for me'"
      ]
     },
     "metadata": {},
     "output_type": "display_data"
    }
   ],
   "source": [
    "for blank in nan_list[0:5]:\n",
    "    display(df[\"reviewText\"].iloc[blank])"
   ]
  },
  {
   "cell_type": "markdown",
   "id": "364d5290",
   "metadata": {},
   "source": [
    "\n",
    "\n",
    "The model_df is updated by dropping the NaN documents.\n"
   ]
  },
  {
   "cell_type": "code",
   "execution_count": 189,
   "id": "48e5f86e",
   "metadata": {},
   "outputs": [
    {
     "name": "stdout",
     "output_type": "stream",
     "text": [
      "Original 'model_df' count: 5000\n",
      "Final 'model_df' count: 4993\n"
     ]
    },
    {
     "data": {
      "text/html": [
       "<div>\n",
       "<style scoped>\n",
       "    .dataframe tbody tr th:only-of-type {\n",
       "        vertical-align: middle;\n",
       "    }\n",
       "\n",
       "    .dataframe tbody tr th {\n",
       "        vertical-align: top;\n",
       "    }\n",
       "\n",
       "    .dataframe thead th {\n",
       "        text-align: right;\n",
       "    }\n",
       "</style>\n",
       "<table border=\"1\" class=\"dataframe\">\n",
       "  <thead>\n",
       "    <tr style=\"text-align: right;\">\n",
       "      <th></th>\n",
       "      <th>0</th>\n",
       "      <th>1</th>\n",
       "      <th>2</th>\n",
       "      <th>3</th>\n",
       "      <th>4</th>\n",
       "      <th>5</th>\n",
       "      <th>6</th>\n",
       "      <th>7</th>\n",
       "      <th>8</th>\n",
       "      <th>9</th>\n",
       "      <th>...</th>\n",
       "      <th>91</th>\n",
       "      <th>92</th>\n",
       "      <th>93</th>\n",
       "      <th>94</th>\n",
       "      <th>95</th>\n",
       "      <th>96</th>\n",
       "      <th>97</th>\n",
       "      <th>98</th>\n",
       "      <th>99</th>\n",
       "      <th>label</th>\n",
       "    </tr>\n",
       "  </thead>\n",
       "  <tbody>\n",
       "    <tr>\n",
       "      <th>0</th>\n",
       "      <td>0.150944</td>\n",
       "      <td>-0.340821</td>\n",
       "      <td>-0.055096</td>\n",
       "      <td>0.304645</td>\n",
       "      <td>0.223647</td>\n",
       "      <td>0.869936</td>\n",
       "      <td>0.085683</td>\n",
       "      <td>0.673606</td>\n",
       "      <td>-0.704182</td>\n",
       "      <td>0.237385</td>\n",
       "      <td>...</td>\n",
       "      <td>0.493740</td>\n",
       "      <td>-0.147633</td>\n",
       "      <td>-0.275171</td>\n",
       "      <td>0.349544</td>\n",
       "      <td>-0.191645</td>\n",
       "      <td>-0.251609</td>\n",
       "      <td>0.367110</td>\n",
       "      <td>0.027560</td>\n",
       "      <td>-0.982431</td>\n",
       "      <td>2</td>\n",
       "    </tr>\n",
       "    <tr>\n",
       "      <th>1</th>\n",
       "      <td>0.174600</td>\n",
       "      <td>-0.391044</td>\n",
       "      <td>-0.057763</td>\n",
       "      <td>0.350003</td>\n",
       "      <td>0.257404</td>\n",
       "      <td>1.005621</td>\n",
       "      <td>0.090577</td>\n",
       "      <td>0.779409</td>\n",
       "      <td>-0.814213</td>\n",
       "      <td>0.273181</td>\n",
       "      <td>...</td>\n",
       "      <td>0.567041</td>\n",
       "      <td>-0.171713</td>\n",
       "      <td>-0.315326</td>\n",
       "      <td>0.405348</td>\n",
       "      <td>-0.221701</td>\n",
       "      <td>-0.289862</td>\n",
       "      <td>0.418912</td>\n",
       "      <td>0.032402</td>\n",
       "      <td>-1.133664</td>\n",
       "      <td>5</td>\n",
       "    </tr>\n",
       "    <tr>\n",
       "      <th>2</th>\n",
       "      <td>0.212198</td>\n",
       "      <td>-0.476788</td>\n",
       "      <td>-0.049111</td>\n",
       "      <td>0.424797</td>\n",
       "      <td>0.318634</td>\n",
       "      <td>1.228611</td>\n",
       "      <td>0.080973</td>\n",
       "      <td>0.972001</td>\n",
       "      <td>-0.989248</td>\n",
       "      <td>0.322205</td>\n",
       "      <td>...</td>\n",
       "      <td>0.678219</td>\n",
       "      <td>-0.228674</td>\n",
       "      <td>-0.392870</td>\n",
       "      <td>0.518825</td>\n",
       "      <td>-0.279003</td>\n",
       "      <td>-0.366841</td>\n",
       "      <td>0.490950</td>\n",
       "      <td>0.056546</td>\n",
       "      <td>-1.398328</td>\n",
       "      <td>5</td>\n",
       "    </tr>\n",
       "    <tr>\n",
       "      <th>3</th>\n",
       "      <td>0.192185</td>\n",
       "      <td>-0.412125</td>\n",
       "      <td>-0.053780</td>\n",
       "      <td>0.368068</td>\n",
       "      <td>0.275590</td>\n",
       "      <td>1.082053</td>\n",
       "      <td>0.093465</td>\n",
       "      <td>0.859004</td>\n",
       "      <td>-0.864995</td>\n",
       "      <td>0.275497</td>\n",
       "      <td>...</td>\n",
       "      <td>0.592145</td>\n",
       "      <td>-0.199357</td>\n",
       "      <td>-0.344620</td>\n",
       "      <td>0.445504</td>\n",
       "      <td>-0.243644</td>\n",
       "      <td>-0.325074</td>\n",
       "      <td>0.451139</td>\n",
       "      <td>0.068213</td>\n",
       "      <td>-1.213938</td>\n",
       "      <td>5</td>\n",
       "    </tr>\n",
       "    <tr>\n",
       "      <th>4</th>\n",
       "      <td>0.129759</td>\n",
       "      <td>-0.277471</td>\n",
       "      <td>-0.021964</td>\n",
       "      <td>0.244013</td>\n",
       "      <td>0.186351</td>\n",
       "      <td>0.717565</td>\n",
       "      <td>0.053650</td>\n",
       "      <td>0.563763</td>\n",
       "      <td>-0.582540</td>\n",
       "      <td>0.183180</td>\n",
       "      <td>...</td>\n",
       "      <td>0.401440</td>\n",
       "      <td>-0.141275</td>\n",
       "      <td>-0.227751</td>\n",
       "      <td>0.286718</td>\n",
       "      <td>-0.162087</td>\n",
       "      <td>-0.212199</td>\n",
       "      <td>0.297261</td>\n",
       "      <td>0.041999</td>\n",
       "      <td>-0.809109</td>\n",
       "      <td>5</td>\n",
       "    </tr>\n",
       "  </tbody>\n",
       "</table>\n",
       "<p>5 rows × 101 columns</p>\n",
       "</div>"
      ],
      "text/plain": [
       "          0         1         2         3         4         5         6  \\\n",
       "0  0.150944 -0.340821 -0.055096  0.304645  0.223647  0.869936  0.085683   \n",
       "1  0.174600 -0.391044 -0.057763  0.350003  0.257404  1.005621  0.090577   \n",
       "2  0.212198 -0.476788 -0.049111  0.424797  0.318634  1.228611  0.080973   \n",
       "3  0.192185 -0.412125 -0.053780  0.368068  0.275590  1.082053  0.093465   \n",
       "4  0.129759 -0.277471 -0.021964  0.244013  0.186351  0.717565  0.053650   \n",
       "\n",
       "          7         8         9  ...        91        92        93        94  \\\n",
       "0  0.673606 -0.704182  0.237385  ...  0.493740 -0.147633 -0.275171  0.349544   \n",
       "1  0.779409 -0.814213  0.273181  ...  0.567041 -0.171713 -0.315326  0.405348   \n",
       "2  0.972001 -0.989248  0.322205  ...  0.678219 -0.228674 -0.392870  0.518825   \n",
       "3  0.859004 -0.864995  0.275497  ...  0.592145 -0.199357 -0.344620  0.445504   \n",
       "4  0.563763 -0.582540  0.183180  ...  0.401440 -0.141275 -0.227751  0.286718   \n",
       "\n",
       "         95        96        97        98        99  label  \n",
       "0 -0.191645 -0.251609  0.367110  0.027560 -0.982431      2  \n",
       "1 -0.221701 -0.289862  0.418912  0.032402 -1.133664      5  \n",
       "2 -0.279003 -0.366841  0.490950  0.056546 -1.398328      5  \n",
       "3 -0.243644 -0.325074  0.451139  0.068213 -1.213938      5  \n",
       "4 -0.162087 -0.212199  0.297261  0.041999 -0.809109      5  \n",
       "\n",
       "[5 rows x 101 columns]"
      ]
     },
     "metadata": {},
     "output_type": "display_data"
    }
   ],
   "source": [
    "print(f\"Original 'model_df' count: {len(model_df)}\")\n",
    "print(f\"Final 'model_df' count: {len(model_df.dropna(axis=0))}\")\n",
    "\n",
    "model_df = model_df.dropna(axis=0)\n",
    "display(model_df.head())"
   ]
  },
  {
   "cell_type": "markdown",
   "id": "b5aa249f",
   "metadata": {},
   "source": [
    "\n",
    "Dealing with Unbalanced Data\n",
    "\n",
    "The distribution of ratings shows that, in general, users highly approve of products bought on Amazon. This however gives us a highly imbalanced dataset.\n"
   ]
  },
  {
   "cell_type": "code",
   "execution_count": 190,
   "id": "4b15cfca",
   "metadata": {},
   "outputs": [
    {
     "data": {
      "image/png": "[encoded data removed]",
      "text/plain": [
       "<Figure size 2000x700 with 1 Axes>"
      ]
     },
     "metadata": {},
     "output_type": "display_data"
    }
   ],
   "source": [
    "import seaborn as sns\n",
    "\n",
    "f, axes = plt.subplots(figsize=(20,7))\n",
    "ax = sns.countplot(x=df[\"overall\"], palette=\"OrRd_r\")\n",
    "ax.set(title=\"Distribution of Product Ratings\", \\\n",
    "       xlabel=\"Rating\", ylabel=\"Number of Reviews\")\n",
    "plt.show()"
   ]
  },
  {
   "cell_type": "markdown",
   "id": "66013fd5",
   "metadata": {},
   "source": [
    "\n",
    "\n",
    "If the model simply classified every review as 5, then an accuracy of around 60% can be achieved given this exact dataset. Since this would outperform predictions made by chance, we should therefore ensure that we stratify the testing set where we base the final score of the model.\n",
    "\n",
    "To deal with this we will have to take into account underrepresenting the majority and/or overrepresenting the minority.\n"
   ]
  },
  {
   "cell_type": "code",
   "execution_count": 191,
   "id": "a95800d3",
   "metadata": {},
   "outputs": [
    {
     "name": "stdout",
     "output_type": "stream",
     "text": [
      "69.98%\n"
     ]
    }
   ],
   "source": [
    "majority = df[\"overall\"] == 5\n",
    "majority_ratio = len(df[majority]) / len(df)\n",
    "\n",
    "print(f\"{majority_ratio*100:.2f}%\")"
   ]
  },
  {
   "cell_type": "markdown",
   "id": "147497f3",
   "metadata": {},
   "source": [
    "---\n",
    "\n",
    "### <span style=\"color: #2e6c80;\">&#128295; Addressing Class Imbalance: Underrepresentation vs. Overrepresentation</span>\n",
    "\n",
    "---\n",
    "\n",
    "#### <span style=\"color: #a46497;\">&#10148; Overview</span>\n",
    "<span style=\"font-size: 16px;\">We discuss strategies to tackle the issue of class imbalance by either overrepresenting the minority classes or underrepresenting the majority classes.</span>\n",
    "\n",
    "---\n",
    "\n",
    "#### <span style=\"color: #a46497;\">&#128226; Overrepresentation</span>\n",
    "<span style=\"font-size: 16px;\">Performing over-representation is possible by bootstrapping the minority classes using techniques like K-Nearest Neighbors (KNN) or Support Vector Machine (SVM). SMOTE (Synthetic Minority Over-sampling Technique) is a popular module that executes this. However, given the size of our dataset and the dimensionality, this approach is computationally expensive.</span>\n",
    "\n",
    "---\n",
    "\n",
    "#### <span style=\"color: #a46497;\">&#128299; Underrepresentation</span>\n",
    "<span style=\"font-size: 16px;\">Because our dataset is extensive, we can afford to sample every class and still retain sufficient data for the model. This allows us to underrepresent the majority class, aligning it with the size of the most minority class.</span>\n",
    "\n",
    "---\n"
   ]
  },
  {
   "cell_type": "code",
   "execution_count": 192,
   "id": "21c03da5",
   "metadata": {},
   "outputs": [
    {
     "name": "stdout",
     "output_type": "stream",
     "text": [
      "Size of the most underrepresented class: 202\n"
     ]
    }
   ],
   "source": [
    "count = len(model_df[model_df[\"label\"] == 2])\n",
    "print(f\"Size of the most underrepresented class: {count}\")"
   ]
  },
  {
   "cell_type": "markdown",
   "id": "de3bbe94",
   "metadata": {},
   "source": [
    "\n",
    "\n",
    "In choosing this route to deal with imbalance, we create a trimmed version of our dataframe, trimmed_df. Each class is trimmed to have the same number of entries as the smallest class which is Class 2.\n"
   ]
  },
  {
   "cell_type": "code",
   "execution_count": 193,
   "id": "03ddbd9e",
   "metadata": {},
   "outputs": [
    {
     "name": "stdout",
     "output_type": "stream",
     "text": [
      "Size of Class 1: 202\n",
      "Size of Class 2: 202\n",
      "Size of Class 3: 202\n",
      "Size of Class 4: 202\n",
      "Size of Class 5: 202\n"
     ]
    }
   ],
   "source": [
    "#trim the majority class\n",
    "condition = model_df[\"label\"] == 5\n",
    "trimmed_df = model_df[condition].sample(n=count, random_state=42)\n",
    "\n",
    "#trim other class and add on to the trimmed_df\n",
    "for rating in [1, 2, 3, 4]:\n",
    "    condition = model_df[\"label\"] == rating\n",
    "    if len(model_df[condition]) >= count:\n",
    "        add_df = model_df[condition].sample(n=count, random_state=42)\n",
    "    else:\n",
    "        add_df = model_df[condition]\n",
    "    trimmed_df = pd.concat([trimmed_df, add_df], ignore_index=False)\n",
    "\n",
    "#display new class sizes of trimmed_df\n",
    "for rating in [1, 2, 3, 4, 5]:\n",
    "    class_size = len(trimmed_df[trimmed_df[\"label\"] == rating])\n",
    "    print(f\"Size of Class {rating}: {class_size}\")"
   ]
  },
  {
   "cell_type": "markdown",
   "id": "5977928e",
   "metadata": {},
   "source": [
    "\n",
    "\n",
    "The trimmed_df is arranged by class from 1 to 5.\n"
   ]
  },
  {
   "cell_type": "code",
   "execution_count": 194,
   "id": "8568d052",
   "metadata": {},
   "outputs": [
    {
     "data": {
      "text/html": [
       "<div>\n",
       "<style scoped>\n",
       "    .dataframe tbody tr th:only-of-type {\n",
       "        vertical-align: middle;\n",
       "    }\n",
       "\n",
       "    .dataframe tbody tr th {\n",
       "        vertical-align: top;\n",
       "    }\n",
       "\n",
       "    .dataframe thead th {\n",
       "        text-align: right;\n",
       "    }\n",
       "</style>\n",
       "<table border=\"1\" class=\"dataframe\">\n",
       "  <thead>\n",
       "    <tr style=\"text-align: right;\">\n",
       "      <th></th>\n",
       "      <th>0</th>\n",
       "      <th>1</th>\n",
       "      <th>2</th>\n",
       "      <th>3</th>\n",
       "      <th>4</th>\n",
       "      <th>5</th>\n",
       "      <th>6</th>\n",
       "      <th>7</th>\n",
       "      <th>8</th>\n",
       "      <th>9</th>\n",
       "      <th>...</th>\n",
       "      <th>91</th>\n",
       "      <th>92</th>\n",
       "      <th>93</th>\n",
       "      <th>94</th>\n",
       "      <th>95</th>\n",
       "      <th>96</th>\n",
       "      <th>97</th>\n",
       "      <th>98</th>\n",
       "      <th>99</th>\n",
       "      <th>label</th>\n",
       "    </tr>\n",
       "  </thead>\n",
       "  <tbody>\n",
       "    <tr>\n",
       "      <th>3399</th>\n",
       "      <td>0.152335</td>\n",
       "      <td>-0.338555</td>\n",
       "      <td>-0.071303</td>\n",
       "      <td>0.309586</td>\n",
       "      <td>0.220380</td>\n",
       "      <td>0.888966</td>\n",
       "      <td>0.097114</td>\n",
       "      <td>0.691642</td>\n",
       "      <td>-0.711266</td>\n",
       "      <td>0.238153</td>\n",
       "      <td>...</td>\n",
       "      <td>0.502590</td>\n",
       "      <td>-0.142646</td>\n",
       "      <td>-0.273424</td>\n",
       "      <td>0.364407</td>\n",
       "      <td>-0.188669</td>\n",
       "      <td>-0.261025</td>\n",
       "      <td>0.382114</td>\n",
       "      <td>0.017852</td>\n",
       "      <td>-0.995039</td>\n",
       "      <td>1</td>\n",
       "    </tr>\n",
       "    <tr>\n",
       "      <th>1298</th>\n",
       "      <td>0.194269</td>\n",
       "      <td>-0.424741</td>\n",
       "      <td>-0.093740</td>\n",
       "      <td>0.388723</td>\n",
       "      <td>0.276103</td>\n",
       "      <td>1.100631</td>\n",
       "      <td>0.119909</td>\n",
       "      <td>0.858694</td>\n",
       "      <td>-0.879531</td>\n",
       "      <td>0.297831</td>\n",
       "      <td>...</td>\n",
       "      <td>0.621876</td>\n",
       "      <td>-0.175270</td>\n",
       "      <td>-0.346174</td>\n",
       "      <td>0.448497</td>\n",
       "      <td>-0.235794</td>\n",
       "      <td>-0.323182</td>\n",
       "      <td>0.470483</td>\n",
       "      <td>0.010134</td>\n",
       "      <td>-1.249674</td>\n",
       "      <td>1</td>\n",
       "    </tr>\n",
       "    <tr>\n",
       "      <th>1216</th>\n",
       "      <td>0.148557</td>\n",
       "      <td>-0.334483</td>\n",
       "      <td>-0.070375</td>\n",
       "      <td>0.303906</td>\n",
       "      <td>0.213710</td>\n",
       "      <td>0.877488</td>\n",
       "      <td>0.096057</td>\n",
       "      <td>0.682569</td>\n",
       "      <td>-0.697879</td>\n",
       "      <td>0.236755</td>\n",
       "      <td>...</td>\n",
       "      <td>0.499748</td>\n",
       "      <td>-0.139880</td>\n",
       "      <td>-0.276879</td>\n",
       "      <td>0.357191</td>\n",
       "      <td>-0.183580</td>\n",
       "      <td>-0.261181</td>\n",
       "      <td>0.374987</td>\n",
       "      <td>0.015395</td>\n",
       "      <td>-0.993143</td>\n",
       "      <td>1</td>\n",
       "    </tr>\n",
       "    <tr>\n",
       "      <th>2689</th>\n",
       "      <td>0.118679</td>\n",
       "      <td>-0.252644</td>\n",
       "      <td>-0.057126</td>\n",
       "      <td>0.229764</td>\n",
       "      <td>0.161153</td>\n",
       "      <td>0.651526</td>\n",
       "      <td>0.067179</td>\n",
       "      <td>0.518625</td>\n",
       "      <td>-0.527757</td>\n",
       "      <td>0.178428</td>\n",
       "      <td>...</td>\n",
       "      <td>0.371429</td>\n",
       "      <td>-0.104646</td>\n",
       "      <td>-0.200853</td>\n",
       "      <td>0.273324</td>\n",
       "      <td>-0.138388</td>\n",
       "      <td>-0.191317</td>\n",
       "      <td>0.284355</td>\n",
       "      <td>0.004098</td>\n",
       "      <td>-0.742787</td>\n",
       "      <td>1</td>\n",
       "    </tr>\n",
       "    <tr>\n",
       "      <th>4804</th>\n",
       "      <td>0.140051</td>\n",
       "      <td>-0.310185</td>\n",
       "      <td>-0.061924</td>\n",
       "      <td>0.288325</td>\n",
       "      <td>0.195605</td>\n",
       "      <td>0.819397</td>\n",
       "      <td>0.092264</td>\n",
       "      <td>0.635950</td>\n",
       "      <td>-0.652210</td>\n",
       "      <td>0.217786</td>\n",
       "      <td>...</td>\n",
       "      <td>0.466921</td>\n",
       "      <td>-0.128987</td>\n",
       "      <td>-0.255372</td>\n",
       "      <td>0.333190</td>\n",
       "      <td>-0.172566</td>\n",
       "      <td>-0.238265</td>\n",
       "      <td>0.354351</td>\n",
       "      <td>0.014091</td>\n",
       "      <td>-0.913597</td>\n",
       "      <td>1</td>\n",
       "    </tr>\n",
       "  </tbody>\n",
       "</table>\n",
       "<p>5 rows × 101 columns</p>\n",
       "</div>"
      ],
      "text/plain": [
       "             0         1         2         3         4         5         6  \\\n",
       "3399  0.152335 -0.338555 -0.071303  0.309586  0.220380  0.888966  0.097114   \n",
       "1298  0.194269 -0.424741 -0.093740  0.388723  0.276103  1.100631  0.119909   \n",
       "1216  0.148557 -0.334483 -0.070375  0.303906  0.213710  0.877488  0.096057   \n",
       "2689  0.118679 -0.252644 -0.057126  0.229764  0.161153  0.651526  0.067179   \n",
       "4804  0.140051 -0.310185 -0.061924  0.288325  0.195605  0.819397  0.092264   \n",
       "\n",
       "             7         8         9  ...        91        92        93  \\\n",
       "3399  0.691642 -0.711266  0.238153  ...  0.502590 -0.142646 -0.273424   \n",
       "1298  0.858694 -0.879531  0.297831  ...  0.621876 -0.175270 -0.346174   \n",
       "1216  0.682569 -0.697879  0.236755  ...  0.499748 -0.139880 -0.276879   \n",
       "2689  0.518625 -0.527757  0.178428  ...  0.371429 -0.104646 -0.200853   \n",
       "4804  0.635950 -0.652210  0.217786  ...  0.466921 -0.128987 -0.255372   \n",
       "\n",
       "            94        95        96        97        98        99  label  \n",
       "3399  0.364407 -0.188669 -0.261025  0.382114  0.017852 -0.995039      1  \n",
       "1298  0.448497 -0.235794 -0.323182  0.470483  0.010134 -1.249674      1  \n",
       "1216  0.357191 -0.183580 -0.261181  0.374987  0.015395 -0.993143      1  \n",
       "2689  0.273324 -0.138388 -0.191317  0.284355  0.004098 -0.742787      1  \n",
       "4804  0.333190 -0.172566 -0.238265  0.354351  0.014091 -0.913597      1  \n",
       "\n",
       "[5 rows x 101 columns]"
      ]
     },
     "metadata": {},
     "output_type": "display_data"
    }
   ],
   "source": [
    "trimmed_df = trimmed_df.sort_values(by=\"label\")\n",
    "display(trimmed_df.head())\n"
   ]
  },
  {
   "cell_type": "markdown",
   "id": "64ac052c",
   "metadata": {},
   "source": [
    "\n",
    "\n",
    "We see that we now have a perfectly balanced dataset after we performed underrepresentation.\n"
   ]
  },
  {
   "cell_type": "code",
   "execution_count": 195,
   "id": "c06a2c9e",
   "metadata": {},
   "outputs": [
    {
     "data": {
      "image/png": "[encoded data removed]",
      "text/plain": [
       "<Figure size 2000x700 with 1 Axes>"
      ]
     },
     "metadata": {},
     "output_type": "display_data"
    }
   ],
   "source": [
    "f, axes = plt.subplots(figsize=(20,7))\n",
    "ax = sns.countplot(x=trimmed_df[\"label\"], palette=\"OrRd_r\")\n",
    "ax.set(title=\"Distribution of Product Ratings after Underrepresentation\", \\\n",
    "       xlabel=\"Rating\", ylabel=\"Number of Reviews\")\n",
    "plt.show()"
   ]
  },
  {
   "cell_type": "markdown",
   "id": "f4be0074",
   "metadata": {},
   "source": [
    "\n",
    "Train-Test Split\n",
    "\n",
    "The y is our target variable or the labels for the data. The X constitutes the features and are the predictor variables.\n",
    "\n",
    "We evenly split the training and testing sets and stratify to ensure the ratio of classes in both sets are identical.\n"
   ]
  },
  {
   "cell_type": "code",
   "execution_count": 196,
   "id": "07ac5f59",
   "metadata": {},
   "outputs": [],
   "source": [
    "from sklearn.model_selection import train_test_split\n",
    "\n",
    "X = trimmed_df.iloc[:, :-1]\n",
    "y = trimmed_df.iloc[:, -1]\n",
    "\n",
    "X_train, X_test, y_train, y_test = train_test_split(X, y, stratify=y, test_size=0.5, random_state=42)"
   ]
  },
  {
   "cell_type": "markdown",
   "id": "b99f56ac",
   "metadata": {},
   "source": [
    "---\n",
    "\n",
    "### <span style=\"color: #2e6c80;\">&#128200; Scoring and Baseline</span>\n",
    "\n",
    "---\n",
    "\n",
    "#### <span style=\"color: #a46497;\">&#128203; Overview</span>\n",
    "<span style=\"font-size: 16px;\">We will use two key metrics, Accuracy and F1 Score, to evaluate the performance of our machine learning model.</span>\n",
    "\n",
    "---\n",
    "\n",
    "#### <span style=\"color: #a46497;\">&#128302; Metrics</span>\n",
    "\n",
    "- **Accuracy**: Measures how many reviews are correctly labeled by the model. In a 5-class problem, a purely random guess would yield an accuracy of 20%.\n",
    "  \n",
    "- **F1 Score**: Combines precision and recall, taking into account false positives and false negatives. This is crucial for inherently imbalanced datasets.\n",
    "\n",
    "---\n",
    "\n",
    "#### <span style=\"color: #a46497;\">&#9889; Baseline</span>\n",
    "<span style=\"font-size: 16px;\">The baseline scores are derived from a model that randomly guesses output labels or predicts a constant class for all samples. These scores are also calculated assuming an evenly distributed dataset.</span>\n",
    "\n",
    "---\n"
   ]
  },
  {
   "cell_type": "code",
   "execution_count": 197,
   "id": "1d188363",
   "metadata": {},
   "outputs": [
    {
     "name": "stdout",
     "output_type": "stream",
     "text": [
      "Baseline Accuracy: 20.000%\n",
      "Baseline F1 Score: 0.200\n"
     ]
    }
   ],
   "source": [
    "from sklearn import metrics\n",
    "\n",
    "label_shape = np.shape(y_test)\n",
    "y_baseline = np.full(label_shape, 5)\n",
    "\n",
    "accuracy_baseline = metrics.accuracy_score(y_test, y_baseline)\n",
    "f1_score_baseline = metrics.f1_score(y_test, y_baseline, average=\"micro\")\n",
    "\n",
    "print(f\"Baseline Accuracy: {accuracy_baseline*100:.3f}%\")\n",
    "print(f\"Baseline F1 Score: {f1_score_baseline:.3f}\")"
   ]
  },
  {
   "cell_type": "markdown",
   "id": "2b994123",
   "metadata": {},
   "source": [
    "\n",
    "Random Forest\n",
    "\n",
    "Random Forest actually has a native way of supporting datasets that have class imbalance. We will therefore be able to use the original model_df instead of the sample trimmed_df:\n"
   ]
  },
  {
   "cell_type": "code",
   "execution_count": 198,
   "id": "41fb63bb",
   "metadata": {},
   "outputs": [],
   "source": [
    "from sklearn.model_selection import train_test_split\n",
    "\n",
    "X = model_df.iloc[:, :-1]\n",
    "y = model_df.iloc[:, -1]\n",
    "\n",
    "X_train, X_test, y_train, y_test = train_test_split(X, y, stratify=y, test_size=0.5, random_state=42)"
   ]
  },
  {
   "cell_type": "markdown",
   "id": "3dec9c57",
   "metadata": {},
   "source": [
    "\n",
    "\n",
    "The class_weight attribute is provided with a dictionary that represents the associated weight of each class – the majority class is given a 1 and the rest are given the multiplying factor at which they would level with the largest class.\n",
    "\n",
    "The criteria chosen is entropy which is similar to gini but instead of splitting nodes until there are pure classes, the nodes are split until the classes within have equal probability.\n"
   ]
  },
  {
   "cell_type": "code",
   "execution_count": 199,
   "id": "33196399",
   "metadata": {},
   "outputs": [
    {
     "name": "stdout",
     "output_type": "stream",
     "text": [
      "CPU times: user 488 ms, sys: 42 µs, total: 488 ms\n",
      "Wall time: 499 ms\n"
     ]
    },
    {
     "data": {
      "text/plain": [
       "RandomForestClassifier(class_weight={1: 10, 2: 12, 3: 7, 4: 9, 5: 1},\n",
       "                       criterion='entropy', n_estimators=25, random_state=42)"
      ]
     },
     "execution_count": 199,
     "metadata": {},
     "output_type": "execute_result"
    }
   ],
   "source": [
    "%%time\n",
    "from sklearn.ensemble import RandomForestClassifier\n",
    "\n",
    "forest = RandomForestClassifier(n_estimators=25, class_weight={1:10, 2:12, 3:7, 4:9, 5:1}, \\\n",
    "                                criterion=\"entropy\", random_state=42)\n",
    "forest.fit(X_train, y_train)"
   ]
  },
  {
   "cell_type": "markdown",
   "id": "20b160f7",
   "metadata": {},
   "source": [
    "\n",
    "\n",
    "Our tuned Random Forest model got a very high score on the training data. The confusion matrix plotted below highlighted how the model almost perfectly classified each Amazon review accordingly.\n",
    "\n",
    "However, these scores may be misleading since they are based on the data that the model were trained on. This is highly likely a result of overfitting. It is then important to rate our model more effectively without digging into our reserved test set.\n"
   ]
  },
  {
   "cell_type": "code",
   "execution_count": 200,
   "id": "a0dfb7a0",
   "metadata": {},
   "outputs": [
    {
     "name": "stdout",
     "output_type": "stream",
     "text": [
      "Training Set Accuracy: 98.518%\n",
      "Training Set F1 Score: 0.985\n"
     ]
    }
   ],
   "source": [
    "y_pred = forest.predict(X_train)\n",
    "\n",
    "accuracy = metrics.accuracy_score(y_train, y_pred)\n",
    "f1_score = metrics.f1_score(y_train, y_pred, average=\"micro\")\n",
    "\n",
    "print(f\"Training Set Accuracy: {accuracy*100:.3f}%\")\n",
    "print(f\"Training Set F1 Score: {f1_score:.3f}\")"
   ]
  },
  {
   "cell_type": "code",
   "execution_count": 201,
   "id": "0c0f6b23",
   "metadata": {},
   "outputs": [
    {
     "data": {
      "image/png": "[encoded data removed]",
      "text/plain": [
       "<Figure size 2000x1000 with 2 Axes>"
      ]
     },
     "metadata": {},
     "output_type": "display_data"
    }
   ],
   "source": [
    "from sklearn.metrics import confusion_matrix\n",
    "\n",
    "#create the confusion matrix of the training set\n",
    "confusion_train = confusion_matrix(y_train, y_pred)\n",
    "confusion_train = confusion_train.astype(\"float\") / \\\n",
    "                   confusion_train.sum(axis=1)[:, np.newaxis]\n",
    "confusion_train = np.around(confusion_train, decimals=3)*100\n",
    "\n",
    "#create confusion matrix heat map\n",
    "f, axes = plt.subplots(figsize=(20,10))\n",
    "im = axes.imshow(confusion_train, interpolation=\"nearest\", cmap=plt.cm.Reds)\n",
    "\n",
    "axes.figure.colorbar(im, ax=axes)\n",
    "axes.set(title=\"Confusion Matrix for Training Set\", \\\n",
    "         xticks=np.arange(confusion_train.shape[1]), \\\n",
    "         yticks=np.arange(confusion_train.shape[0]), \\\n",
    "         xticklabels=range(1, 6), yticklabels=range(1, 6), \\\n",
    "         xlabel=\"Predicted\", ylabel=\"Truth\")\n",
    "\n",
    "#add clear annotations to the confusion matrix\n",
    "threshold = confusion_train.max()/1.5\n",
    "for i in range(confusion_train.shape[0]):\n",
    "    for j in range(confusion_train.shape[1]):\n",
    "        axes.text(j, i, f\"{confusion_train[i, j]:.3f}%\",\n",
    "                ha=\"center\", va=\"center\",\n",
    "                color=\"white\" if confusion_train[i, j] > threshold else \"black\")\n",
    "f.tight_layout()\n",
    "plt.show()"
   ]
  },
  {
   "cell_type": "markdown",
   "id": "2586f356",
   "metadata": {},
   "source": [
    "\n",
    "Cross-Validation\n",
    "\n",
    "Cross-validation makes the most of the training data by splitting the training set into folds and further subjecting each fold to train-test splits. Cross-validation can thus test against overfitting and the resulting scores can better reflect how the model performs on data it has not seen before.\n"
   ]
  },
  {
   "cell_type": "code",
   "execution_count": 202,
   "id": "2b456b18",
   "metadata": {},
   "outputs": [
    {
     "name": "stdout",
     "output_type": "stream",
     "text": [
      "Training Set Accuracy: 68.670%\n",
      "Training Set F1 Score: 0.687\n"
     ]
    }
   ],
   "source": [
    "from sklearn.model_selection import cross_val_score\n",
    "\n",
    "cross_val_accuracy = cross_val_score(forest, X_train, y_train, \\\n",
    "                               cv=3, scoring=\"accuracy\")\n",
    "cross_val_f1 = cross_val_score(forest, X_train, y_train, \\\n",
    "                               cv=3, scoring=\"f1_micro\")\n",
    "\n",
    "cross_val_accuracy = np.mean(cross_val_accuracy)\n",
    "cross_val_f1 = np.mean(cross_val_f1)\n",
    "\n",
    "print(f\"Training Set Accuracy: {cross_val_accuracy*100:.3f}%\")\n",
    "print(f\"Training Set F1 Score: {cross_val_f1:.3f}\")"
   ]
  },
  {
   "cell_type": "markdown",
   "id": "f5964692",
   "metadata": {},
   "source": [
    "\n",
    "XGBoost\n",
    "\n",
    "Let's now try to create a model based on a popular boosting technique and see how it compares with our Random Forest model (which is a tree-based bagging approach). XGBoost has become a staple in Kaggle competitions because of its high rate of success and its ease-of-use.\n",
    "\n",
    "The class notation for our XGBoost object boost begins from 0, and so we perform an element-wise shift of our labels from 1 to 0, from 2 to 1, from 3 to 2, etc. We tune our model using the maximum number of depths, the learning rate (eta), the number of classes, etc. We expect our outputs to be multi-class and so we select softprob as our objective.\n"
   ]
  },
  {
   "cell_type": "code",
   "execution_count": 203,
   "id": "e3997439",
   "metadata": {},
   "outputs": [
    {
     "name": "stdout",
     "output_type": "stream",
     "text": [
      "CPU times: user 43.7 s, sys: 208 ms, total: 43.9 s\n",
      "Wall time: 5.6 s\n"
     ]
    }
   ],
   "source": [
    "%%time\n",
    "import xgboost as xgb\n",
    "\n",
    "y_train_shifted = y_train-1\n",
    "y_test_shifted = y_test-1\n",
    "\n",
    "train_set = xgb.DMatrix(X_train, label=y_train_shifted)\n",
    "test_set = xgb.DMatrix(X_test, label=y_test_shifted)\n",
    "\n",
    "parameters = {\"max_depth\": 10, \"eta\": 0.2, \"silent\": 1, \\\n",
    "              \"objective\": \"multi:softprob\", \"num_class\": 5}\n",
    "\n",
    "boost = xgb.train(parameters, train_set, 100)"
   ]
  },
  {
   "cell_type": "markdown",
   "id": "477d95ea",
   "metadata": {},
   "source": [
    "\n",
    "\n",
    "The array of predicted labels y_pred contains lists of probabilities for each class per product review. The class that is deemed most likely is chosen by the argmax and the labels are shifted back to their original state.\n",
    "\n",
    "The micro approach in averaging the F1 score means that the false positives, true positives, and false negatives are taken into account across all classes. This is in contrast with the macro approach that instead averages the F1 scores of each class independently.\n"
   ]
  },
  {
   "cell_type": "code",
   "execution_count": 204,
   "id": "43c8c45b",
   "metadata": {},
   "outputs": [
    {
     "name": "stdout",
     "output_type": "stream",
     "text": [
      "Training Set Accuracy: 99.199%\n",
      "Training Set F1 Score: 0.992\n"
     ]
    }
   ],
   "source": [
    "y_pred = boost.predict(train_set)\n",
    "y_pred = y_pred.argmax(axis=1)\n",
    "y_pred = y_pred+1\n",
    "\n",
    "accuracy = metrics.accuracy_score(y_train, y_pred)\n",
    "f1_score = metrics.f1_score(y_train, y_pred, average=\"micro\")\n",
    "\n",
    "print(f\"Training Set Accuracy: {accuracy*100:.3f}%\")\n",
    "print(f\"Training Set F1 Score: {f1_score:.3f}\")"
   ]
  },
  {
   "cell_type": "code",
   "execution_count": 205,
   "id": "a9716dfb",
   "metadata": {},
   "outputs": [
    {
     "data": {
      "image/png": "[encoded data removed]",
      "text/plain": [
       "<Figure size 2000x1000 with 2 Axes>"
      ]
     },
     "metadata": {},
     "output_type": "display_data"
    }
   ],
   "source": [
    "#create the confusion matrix of the training set\n",
    "confusion_train = confusion_matrix(y_train, y_pred)\n",
    "confusion_train = confusion_train.astype(\"float\") / \\\n",
    "                   confusion_train.sum(axis=1)[:, np.newaxis]\n",
    "confusion_train = np.around(confusion_train, decimals=3)*100\n",
    "\n",
    "#create confusion matrix heat map\n",
    "f, axes = plt.subplots(figsize=(20,10))\n",
    "im = axes.imshow(confusion_train, interpolation=\"nearest\", cmap=plt.cm.Reds)\n",
    "\n",
    "axes.figure.colorbar(im, ax=axes)\n",
    "axes.set(title=\"Confusion Matrix for Training Set\", \\\n",
    "         xticks=np.arange(confusion_train.shape[1]), \\\n",
    "         yticks=np.arange(confusion_train.shape[0]), \\\n",
    "         xticklabels=range(1, 6), yticklabels=range(1, 6), \\\n",
    "         xlabel=\"Predicted\", ylabel=\"Truth\")\n",
    "\n",
    "#add clear annotations to the confusion matrix\n",
    "threshold = confusion_train.max()/1.5\n",
    "for i in range(confusion_train.shape[0]):\n",
    "    for j in range(confusion_train.shape[1]):\n",
    "        axes.text(j, i, f\"{confusion_train[i, j]:.3f}%\",\n",
    "                ha=\"center\", va=\"center\",\n",
    "                color=\"white\" if confusion_train[i, j] > threshold else \"black\")\n",
    "f.tight_layout()\n",
    "plt.show()"
   ]
  },
  {
   "cell_type": "markdown",
   "id": "ae946c1b",
   "metadata": {},
   "source": [
    "\n",
    "\n",
    "To fairly compare our boosting results with our Random Forest outcome, we perform cross-validation on three folds of the training data set as well.\n",
    "\n",
    "However, since the XGBoost implementation we used is not supported by scikit-learn's .fit method, the cross-validation must be done using xgboost's own API. The output boost_cv is actually a pandas dataframe that tabulates the results of the cross-validation.\n"
   ]
  },
  {
   "cell_type": "code",
   "execution_count": 206,
   "id": "1aadf7ce",
   "metadata": {},
   "outputs": [
    {
     "data": {
      "text/html": [
       "<div>\n",
       "<style scoped>\n",
       "    .dataframe tbody tr th:only-of-type {\n",
       "        vertical-align: middle;\n",
       "    }\n",
       "\n",
       "    .dataframe tbody tr th {\n",
       "        vertical-align: top;\n",
       "    }\n",
       "\n",
       "    .dataframe thead th {\n",
       "        text-align: right;\n",
       "    }\n",
       "</style>\n",
       "<table border=\"1\" class=\"dataframe\">\n",
       "  <thead>\n",
       "    <tr style=\"text-align: right;\">\n",
       "      <th></th>\n",
       "      <th>train-merror-mean</th>\n",
       "      <th>train-merror-std</th>\n",
       "      <th>test-merror-mean</th>\n",
       "      <th>test-merror-std</th>\n",
       "    </tr>\n",
       "  </thead>\n",
       "  <tbody>\n",
       "    <tr>\n",
       "      <th>0</th>\n",
       "      <td>0.126202</td>\n",
       "      <td>0.012384</td>\n",
       "      <td>0.357372</td>\n",
       "      <td>0.005405</td>\n",
       "    </tr>\n",
       "    <tr>\n",
       "      <th>1</th>\n",
       "      <td>0.099760</td>\n",
       "      <td>0.011497</td>\n",
       "      <td>0.336138</td>\n",
       "      <td>0.004939</td>\n",
       "    </tr>\n",
       "    <tr>\n",
       "      <th>2</th>\n",
       "      <td>0.081931</td>\n",
       "      <td>0.006385</td>\n",
       "      <td>0.329728</td>\n",
       "      <td>0.005750</td>\n",
       "    </tr>\n",
       "    <tr>\n",
       "      <th>3</th>\n",
       "      <td>0.070112</td>\n",
       "      <td>0.007150</td>\n",
       "      <td>0.326522</td>\n",
       "      <td>0.003446</td>\n",
       "    </tr>\n",
       "    <tr>\n",
       "      <th>4</th>\n",
       "      <td>0.064103</td>\n",
       "      <td>0.005201</td>\n",
       "      <td>0.325721</td>\n",
       "      <td>0.002596</td>\n",
       "    </tr>\n",
       "  </tbody>\n",
       "</table>\n",
       "</div>"
      ],
      "text/plain": [
       "   train-merror-mean  train-merror-std  test-merror-mean  test-merror-std\n",
       "0           0.126202          0.012384          0.357372         0.005405\n",
       "1           0.099760          0.011497          0.336138         0.004939\n",
       "2           0.081931          0.006385          0.329728         0.005750\n",
       "3           0.070112          0.007150          0.326522         0.003446\n",
       "4           0.064103          0.005201          0.325721         0.002596"
      ]
     },
     "metadata": {},
     "output_type": "display_data"
    },
    {
     "name": "stdout",
     "output_type": "stream",
     "text": [
      "CPU times: user 1min 1s, sys: 375 ms, total: 1min 1s\n",
      "Wall time: 7.77 s\n"
     ]
    }
   ],
   "source": [
    "%%time\n",
    "boost_cv = xgb.cv(dtrain=train_set, params=parameters, nfold=3, \\\n",
    "                  num_boost_round=50, early_stopping_rounds=10, \\\n",
    "                  metrics=\"merror\", as_pandas=True, seed=42)\n",
    "\n",
    "display(boost_cv.head())\n"
   ]
  },
  {
   "cell_type": "markdown",
   "id": "86306c51",
   "metadata": {},
   "source": [
    "\n",
    "\n",
    "We get the training set cross-validation score by getting the merror mean on the 50th num_boost_round, which is the final boosting phase. The merror is an accuracy error rate metric meant for multi-class labels.\n",
    "\n",
    "We can get a sense of how accurate the model is by subtracting the merror value from a perfect score of 100%.\n"
   ]
  },
  {
   "cell_type": "markdown",
   "id": "465406ef",
   "metadata": {},
   "source": [
    "\n",
    "Final Scores\n",
    "\n",
    "Seeing that the boosting model outperformed the Random Forest approach in the three-fold cross validation, we can now apply our model on the testing set that we have put aside early on.\n"
   ]
  },
  {
   "cell_type": "code",
   "execution_count": 207,
   "id": "cc682d97",
   "metadata": {},
   "outputs": [
    {
     "name": "stdout",
     "output_type": "stream",
     "text": [
      "Test Set Accuracy: 69.684%\n",
      "Test Set F1 Score: 0.697\n"
     ]
    }
   ],
   "source": [
    "y_pred = boost.predict(test_set)\n",
    "y_pred = y_pred.argmax(axis=1)\n",
    "y_pred = y_pred+1\n",
    "\n",
    "accuracy = metrics.accuracy_score(y_test, y_pred)\n",
    "f1_score = metrics.f1_score(y_test, y_pred, average=\"micro\")\n",
    "\n",
    "print(f\"Test Set Accuracy: {accuracy*100:.3f}%\")\n",
    "print(f\"Test Set F1 Score: {f1_score:.3f}\")"
   ]
  },
  {
   "cell_type": "code",
   "execution_count": 208,
   "id": "34a9d321",
   "metadata": {},
   "outputs": [
    {
     "data": {
      "image/png": "[encoded data removed]",
      "text/plain": [
       "<Figure size 2000x1000 with 2 Axes>"
      ]
     },
     "metadata": {},
     "output_type": "display_data"
    }
   ],
   "source": [
    "#create the confusion matrix of the test set\n",
    "confusion_train = confusion_matrix(y_test, y_pred)\n",
    "confusion_train = confusion_train.astype(\"float\") / \\\n",
    "                   confusion_train.sum(axis=1)[:, np.newaxis]\n",
    "confusion_train = np.around(confusion_train, decimals=3)*100\n",
    "\n",
    "#create confusion matrix heat map\n",
    "f, axes = plt.subplots(figsize=(20,10))\n",
    "im = axes.imshow(confusion_train, interpolation=\"nearest\", cmap=plt.cm.Reds)\n",
    "\n",
    "axes.figure.colorbar(im, ax=axes)\n",
    "axes.set(title=\"Confusion Matrix for Test Set\", \\\n",
    "         xticks=np.arange(confusion_train.shape[1]), \\\n",
    "         yticks=np.arange(confusion_train.shape[0]), \\\n",
    "         xticklabels=range(1, 6), yticklabels=range(1, 6), \\\n",
    "         xlabel=\"Predicted\", ylabel=\"Truth\")\n",
    "\n",
    "#add clear annotations to the confusion matrix\n",
    "threshold = confusion_train.max()/1.5\n",
    "for i in range(confusion_train.shape[0]):\n",
    "    for j in range(confusion_train.shape[1]):\n",
    "        axes.text(j, i, f\"{confusion_train[i, j]:.3f}%\",\n",
    "                ha=\"center\", va=\"center\",\n",
    "                color=\"white\" if confusion_train[i, j] > threshold else \"black\")\n",
    "f.tight_layout()\n",
    "plt.show()"
   ]
  },
  {
   "cell_type": "markdown",
   "id": "ba8b8c9b",
   "metadata": {},
   "source": [
    "Our results above were actually based on the original model_df dataset that had the massive class imbalance. Let's now reassign our X and y variables to the balanced trimmed_df sample dataset we've created."
   ]
  },
  {
   "cell_type": "code",
   "execution_count": 209,
   "id": "9d4577c3",
   "metadata": {},
   "outputs": [],
   "source": [
    "X = trimmed_df.iloc[:, :-1]\n",
    "y = trimmed_df.iloc[:, -1]\n",
    "\n",
    "X_train, X_test, y_train, y_test = train_test_split(X, y, stratify=y, test_size=0.5, random_state=42)"
   ]
  },
  {
   "cell_type": "code",
   "execution_count": 210,
   "id": "60b57e4f",
   "metadata": {},
   "outputs": [
    {
     "name": "stdout",
     "output_type": "stream",
     "text": [
      "Balanced Test Set Accuracy: 69.505%\n",
      "Balanced Test Set F1 Score: 0.695\n"
     ]
    }
   ],
   "source": [
    "y_train_shifted = y_train-1\n",
    "y_test_shifted = y_test-1\n",
    "\n",
    "train_set = xgb.DMatrix(X_train, label=y_train_shifted)\n",
    "test_set = xgb.DMatrix(X_test, label=y_test_shifted)\n",
    "\n",
    "y_pred = boost.predict(test_set)\n",
    "y_pred = y_pred.argmax(axis=1)\n",
    "y_pred = y_pred+1\n",
    "\n",
    "accuracy = metrics.accuracy_score(y_test, y_pred)\n",
    "f1_score = metrics.f1_score(y_test, y_pred, average=\"micro\")\n",
    "\n",
    "print(f\"Balanced Test Set Accuracy: {accuracy*100:.3f}%\")\n",
    "print(f\"Balanced Test Set F1 Score: {f1_score:.3f}\")"
   ]
  },
  {
   "cell_type": "code",
   "execution_count": 211,
   "id": "6e05a090",
   "metadata": {},
   "outputs": [
    {
     "data": {
      "image/png": "[encoded data removed]",
      "text/plain": [
       "<Figure size 2000x1000 with 2 Axes>"
      ]
     },
     "metadata": {},
     "output_type": "display_data"
    }
   ],
   "source": [
    "#create the confusion matrix of the balanced test set\n",
    "confusion_train = confusion_matrix(y_test, y_pred)\n",
    "confusion_train = confusion_train.astype(\"float\") / \\\n",
    "                   confusion_train.sum(axis=1)[:, np.newaxis]\n",
    "confusion_train = np.around(confusion_train, decimals=3)*100\n",
    "\n",
    "#create confusion matrix heat map\n",
    "f, axes = plt.subplots(figsize=(20,10))\n",
    "im = axes.imshow(confusion_train, interpolation=\"nearest\", cmap=plt.cm.Reds)\n",
    "\n",
    "axes.figure.colorbar(im, ax=axes)\n",
    "axes.set(title=\"Confusion Matrix for Balanced Test Set\", \\\n",
    "         xticks=np.arange(confusion_train.shape[1]), \\\n",
    "         yticks=np.arange(confusion_train.shape[0]), \\\n",
    "         xticklabels=range(1, 6), yticklabels=range(1, 6), \\\n",
    "         xlabel=\"Predicted\", ylabel=\"Truth\")\n",
    "\n",
    "#add clear annotations to the confusion matrix\n",
    "threshold = confusion_train.max()/1.5\n",
    "for i in range(confusion_train.shape[0]):\n",
    "    for j in range(confusion_train.shape[1]):\n",
    "        axes.text(j, i, f\"{confusion_train[i, j]:.3f}%\",\n",
    "                ha=\"center\", va=\"center\",\n",
    "                color=\"white\" if confusion_train[i, j] > threshold else \"black\")\n",
    "f.tight_layout()\n",
    "plt.show()"
   ]
  },
  {
   "cell_type": "markdown",
   "id": "a0501d18",
   "metadata": {},
   "source": [
    "Word Cloud\n",
    "\n",
    "Using the true labels of the reviews, we can take the fifty most salient words in every rating and produce a word cloud. The same stop_words we derived from the NLTK library are excluded.\n",
    "\n",
    "We see that some of the words are quite descriptive of the rating, with \"problem\" and \"issue\" frequently appearing in one-star reviews, and \"quality\" and \"highly recommend\" in top reviews."
   ]
  },
  {
   "cell_type": "code",
   "execution_count": 1,
   "id": "e07dcfba",
   "metadata": {},
   "outputs": [
    {
     "ename": "NameError",
     "evalue": "name 'stop_words' is not defined",
     "output_type": "error",
     "traceback": [
      "\u001B[0;31m---------------------------------------------------------------------------\u001B[0m",
      "\u001B[0;31mNameError\u001B[0m                                 Traceback (most recent call last)",
      "\u001B[0;32m/tmp/ipykernel_547935/172889286.py\u001B[0m in \u001B[0;36m<module>\u001B[0;34m\u001B[0m\n\u001B[1;32m      1\u001B[0m \u001B[0;32mfrom\u001B[0m \u001B[0mwordcloud\u001B[0m \u001B[0;32mimport\u001B[0m \u001B[0mWordCloud\u001B[0m\u001B[0;34m\u001B[0m\u001B[0;34m\u001B[0m\u001B[0m\n\u001B[1;32m      2\u001B[0m \u001B[0;34m\u001B[0m\u001B[0m\n\u001B[0;32m----> 3\u001B[0;31m wordcloud = WordCloud(stopwords = set(stop_words), min_font_size=10, \\\n\u001B[0m\u001B[1;32m      4\u001B[0m                       \u001B[0mmax_font_size\u001B[0m\u001B[0;34m=\u001B[0m\u001B[0;36m50\u001B[0m\u001B[0;34m,\u001B[0m \u001B[0mmax_words\u001B[0m\u001B[0;34m=\u001B[0m\u001B[0;36m50\u001B[0m\u001B[0;34m,\u001B[0m\u001B[0;31m \u001B[0m\u001B[0;31m\\\u001B[0m\u001B[0;34m\u001B[0m\u001B[0;34m\u001B[0m\u001B[0m\n\u001B[1;32m      5\u001B[0m                       background_color=\"white\", colormap = \"Oranges\")\n",
      "\u001B[0;31mNameError\u001B[0m: name 'stop_words' is not defined"
     ]
    }
   ],
   "source": [
    "from wordcloud import WordCloud\n",
    "\n",
    "wordcloud = WordCloud(stopwords = set(stop_words), min_font_size=10, \\\n",
    "                      max_font_size=50, max_words=50, \\\n",
    "                      background_color=\"white\", colormap = \"Oranges\")\n",
    "\n",
    "one_star_text = \" \".join(df[df[\"overall\"]==1][\"reviewText\"].values).lower()\n",
    "two_star_text = \" \".join(df[df[\"overall\"]==2][\"reviewText\"].values).lower()\n",
    "three_star_text = \" \".join(df[df[\"overall\"]==3][\"reviewText\"].values).lower()\n",
    "four_star_text = \" \".join(df[df[\"overall\"]==4][\"reviewText\"].values).lower()\n",
    "five_star_text = \" \".join(str(df[df[\"overall\"]==5][\"reviewText\"].values)).lower()\n",
    "\n",
    "text_list = [one_star_text, two_star_text, three_star_text, \\\n",
    "             four_star_text, five_star_text]\n",
    "\n",
    "for index, text in enumerate(text_list):\n",
    "    f, axes = plt.subplots(figsize=(10,7))\n",
    "    wordcloud.generate(text)\n",
    "    plt.imshow(wordcloud, interpolation=\"bilinear\")\n",
    "    plt.title(f\"Word Cloud for {index+1}-Star Ratings\")\n",
    "    plt.axis(\"off\")\n",
    "    plt.show()"
   ]
  },
  {
   "cell_type": "markdown",
   "id": "c39f871c",
   "metadata": {},
   "source": [
    "---\n",
    "\n",
    "### <span style=\"color: #4CAF50;\">&#127942; Conclusion</span>\n",
    "\n",
    "---\n",
    "\n",
    "#### <span style=\"color: #9C27B0;\">&#128214; Summary of Methods</span>\n",
    "In our study, a multitude of NLP techniques were explored, including topic modeling, named entity recognition (NER), and dependency trees. The pre-processing steps, including tokenization, text normalization, and feature engineering, played a significant role alongside our main Word2Vec model.\n",
    "\n",
    "---\n",
    "\n",
    "#### <span style=\"color: #9C27B0;\">&#128296; Insights from the Model</span>\n",
    "Our model successfully quantifies the context around each token, expressing the interactions through vectors. We implemented a multi-class approach, where the classes are independent and correspond to the star ratings of the reviews. \n",
    "\n",
    "---\n",
    "\n",
    "#### <span style=\"color: #9C27B0;\">&#128295; Model Behavior and Distinctions</span>\n",
    "The model focuses on what distinguishes each type of review, rather than assessing them on a continuum. Misclassification between two distant classes, like 1-star and 5-star, is treated as a simple mislabeling without considering the severity of the error.\n",
    "\n",
    "---\n",
    "\n",
    "#### <span style=\"color: #9C27B0;\">&#128161; Limitations and Recommendations</span>\n",
    "1. **Unknown Words**: The model can't handle words it hasn't seen during training. \n",
    "2. **Misspellings**: Despite lemmatization, the model can't recognize misspelled words.\n",
    "3. **Sarcasm**: NLP models typically struggle with detecting sarcasm, which requires understanding mood and sentiment, adding a layer of complexity.\n",
    "\n",
    "---\n",
    "\n"
   ]
  }
 ],
 "metadata": {
  "kernelspec": {
   "display_name": "Python 3 (ipykernel)",
   "language": "python",
   "name": "python3"
  },
  "language_info": {
   "codemirror_mode": {
    "name": "ipython",
    "version": 3
   },
   "file_extension": ".py",
   "mimetype": "text/x-python",
   "name": "python",
   "nbconvert_exporter": "python",
   "pygments_lexer": "ipython3",
   "version": "3.9.16"
  }
 },
 "nbformat": 4,
 "nbformat_minor": 5
}
