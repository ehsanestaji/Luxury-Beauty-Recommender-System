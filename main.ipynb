{
 "cells": [
  {
   "cell_type": "code",
   "execution_count": 2,
   "id": "c03fac397372db56",
   "metadata": {
    "collapsed": false,
    "ExecuteTime": {
     "end_time": "2023-10-23T10:57:37.172884172Z",
     "start_time": "2023-10-23T10:57:31.639866776Z"
    }
   },
   "outputs": [
    {
     "data": {
      "text/plain": "   overall vote  verified   reviewTime      reviewerID        asin  \\\n0        2    3      True  06 15, 2010  A1Q6MUU0B2ZDQG  B00004U9V2   \n1        5   14      True   01 7, 2010  A3HO2SQDCZIE9S  B00004U9V2   \n2        5  NaN      True  04 18, 2018  A2EM03F99X3RJZ  B00004U9V2   \n3        5  NaN      True  04 18, 2018   A3Z74TDRGD0HU  B00004U9V2   \n4        5  NaN      True  04 17, 2018  A2UXFNW9RTL4VM  B00004U9V2   \n\n    reviewerName                                         reviewText  \\\n0      D. Poston  I bought two of these 8.5 fl oz hand cream, an...   \n1        chandra  Believe me, over the years I have tried many, ...   \n2      Maureen G                                  Great hand lotion   \n3        Terry K  This is the best for the severely dry skin on ...   \n4  Patricia Wood  The best non- oily hand cream ever. It heals o...   \n\n                         summary  unixReviewTime                  style image  \n0          dispensers don't work      1276560000                    NaN   NaN  \n1          Best hand cream ever.      1262822400                    NaN   NaN  \n2                     Five Stars      1524009600  {'Size:': ' 3.5 oz.'}   NaN  \n3                     Five Stars      1524009600  {'Size:': ' 3.5 oz.'}   NaN  \n4  I always have a backup ready.      1523923200  {'Size:': ' 3.5 oz.'}   NaN  ",
      "text/html": "<div>\n<style scoped>\n    .dataframe tbody tr th:only-of-type {\n        vertical-align: middle;\n    }\n\n    .dataframe tbody tr th {\n        vertical-align: top;\n    }\n\n    .dataframe thead th {\n        text-align: right;\n    }\n</style>\n<table border=\"1\" class=\"dataframe\">\n  <thead>\n    <tr style=\"text-align: right;\">\n      <th></th>\n      <th>overall</th>\n      <th>vote</th>\n      <th>verified</th>\n      <th>reviewTime</th>\n      <th>reviewerID</th>\n      <th>asin</th>\n      <th>reviewerName</th>\n      <th>reviewText</th>\n      <th>summary</th>\n      <th>unixReviewTime</th>\n      <th>style</th>\n      <th>image</th>\n    </tr>\n  </thead>\n  <tbody>\n    <tr>\n      <th>0</th>\n      <td>2</td>\n      <td>3</td>\n      <td>True</td>\n      <td>06 15, 2010</td>\n      <td>A1Q6MUU0B2ZDQG</td>\n      <td>B00004U9V2</td>\n      <td>D. Poston</td>\n      <td>I bought two of these 8.5 fl oz hand cream, an...</td>\n      <td>dispensers don't work</td>\n      <td>1276560000</td>\n      <td>NaN</td>\n      <td>NaN</td>\n    </tr>\n    <tr>\n      <th>1</th>\n      <td>5</td>\n      <td>14</td>\n      <td>True</td>\n      <td>01 7, 2010</td>\n      <td>A3HO2SQDCZIE9S</td>\n      <td>B00004U9V2</td>\n      <td>chandra</td>\n      <td>Believe me, over the years I have tried many, ...</td>\n      <td>Best hand cream ever.</td>\n      <td>1262822400</td>\n      <td>NaN</td>\n      <td>NaN</td>\n    </tr>\n    <tr>\n      <th>2</th>\n      <td>5</td>\n      <td>NaN</td>\n      <td>True</td>\n      <td>04 18, 2018</td>\n      <td>A2EM03F99X3RJZ</td>\n      <td>B00004U9V2</td>\n      <td>Maureen G</td>\n      <td>Great hand lotion</td>\n      <td>Five Stars</td>\n      <td>1524009600</td>\n      <td>{'Size:': ' 3.5 oz.'}</td>\n      <td>NaN</td>\n    </tr>\n    <tr>\n      <th>3</th>\n      <td>5</td>\n      <td>NaN</td>\n      <td>True</td>\n      <td>04 18, 2018</td>\n      <td>A3Z74TDRGD0HU</td>\n      <td>B00004U9V2</td>\n      <td>Terry K</td>\n      <td>This is the best for the severely dry skin on ...</td>\n      <td>Five Stars</td>\n      <td>1524009600</td>\n      <td>{'Size:': ' 3.5 oz.'}</td>\n      <td>NaN</td>\n    </tr>\n    <tr>\n      <th>4</th>\n      <td>5</td>\n      <td>NaN</td>\n      <td>True</td>\n      <td>04 17, 2018</td>\n      <td>A2UXFNW9RTL4VM</td>\n      <td>B00004U9V2</td>\n      <td>Patricia Wood</td>\n      <td>The best non- oily hand cream ever. It heals o...</td>\n      <td>I always have a backup ready.</td>\n      <td>1523923200</td>\n      <td>{'Size:': ' 3.5 oz.'}</td>\n      <td>NaN</td>\n    </tr>\n  </tbody>\n</table>\n</div>"
     },
     "execution_count": 2,
     "metadata": {},
     "output_type": "execute_result"
    }
   ],
   "source": [
    "#     https://datarepo.eng.ucsd.edu/mcauley_group/data/amazon_v2/categoryFiles/Luxury_Beauty.json.gz\n",
    "#     https://datarepo.eng.ucsd.edu/mcauley_group/data/amazon_v2/metaFiles2/meta_Luxury_Beauty.json.gz\n",
    "#    Download this files and extract them in the root folder \n",
    "\n",
    "import pandas as pd\n",
    "\n",
    "# Read the JSON file into a Pandas DataFrame\n",
    "df_review = pd.read_json('Luxury_Beauty.json', lines=True)\n",
    "\n",
    "\n",
    "# Read the JSON file into a Pandas DataFrame\n",
    "df_meta = pd.read_json('meta_Luxury_Beauty.json', lines=True)\n",
    "\n",
    "# Show the first few rows of the DataFrame to confirm the successful loading\n",
    "df_review.head()"
   ]
  },
  {
   "cell_type": "code",
   "execution_count": null,
   "id": "9826c953-55ff-4831-b77d-8a8109a21446",
   "metadata": {},
   "outputs": [],
   "source": []
  }
 ],
 "metadata": {
  "kernelspec": {
   "display_name": "Python 3 (ipykernel)",
   "language": "python",
   "name": "python3"
  },
  "language_info": {
   "codemirror_mode": {
    "name": "ipython",
    "version": 3
   },
   "file_extension": ".py",
   "mimetype": "text/x-python",
   "name": "python",
   "nbconvert_exporter": "python",
   "pygments_lexer": "ipython3",
   "version": "3.9.16"
  }
 },
 "nbformat": 4,
 "nbformat_minor": 5
}
