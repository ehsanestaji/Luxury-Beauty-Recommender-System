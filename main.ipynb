{
 "cells": [
  {
   "cell_type": "code",
   "execution_count": 1,
   "id": "c03fac397372db56",
   "metadata": {
    "collapsed": false,
    "ExecuteTime": {
     "end_time": "2023-10-23T10:56:40.787004917Z",
     "start_time": "2023-10-23T10:56:20.863276607Z"
    }
   },
   "outputs": [
    {
     "data": {
      "text/plain": "  category tech1                                        description fit  \\\n0       []        [After a long day of handling thorny situation...       \n1       []        [If you haven't experienced the pleasures of b...       \n2       []        [Rich, black mineral mud, harvested from the b...       \n3       []        [This liquid soap with convenient pump dispens...       \n4       []        [Remember why you love your favorite blanket? ...       \n\n                                               title  \\\n0  Crabtree &amp; Evelyn - Gardener's Ultra-Moist...   \n1                                   AHAVA Bath Salts   \n2      AHAVA Dead Sea Mineral Mud, 8.5 oz, Pack of 4   \n3  Crabtree &amp; Evelyn Hand Soap, Gardeners, 10...   \n4                                 Soy Milk Hand Crme   \n\n                                            also_buy tech2 brand feature  \\\n0  [B00GHX7H0A, B00FRERO7G, B00R68QXCS, B000Z65AZ...                  []   \n1                                                 []                  []   \n2                                                 []                  []   \n3                                                 []                  []   \n4  [B000NZT6KM, B001BY229Q, B008J724QY, B0009YGKJ...                  []   \n\n                                        rank  \\\n0          4,324 in Beauty & Personal Care (   \n1      1,633,549 in Beauty & Personal Care (   \n2  1,806,710 in Beauty &amp; Personal Care (   \n3                                         []   \n4     42,464 in Beauty &amp; Personal Care (   \n\n                                           also_view  \\\n0  [B00FRERO7G, B00GHX7H0A, B07GFHJRMX, B00TJ3NBN...   \n1                                                 []   \n2                                                 []   \n3  [B00004U9V2, B00GHX7H0A, B00FRERO7G, B00R68QXC...   \n4                                                 []   \n\n                                             details       main_cat  \\\n0  {'\n    Product Dimensions: \n    ': '2.2 x 2.2 ...  Luxury Beauty   \n1  {'\n    Product Dimensions: \n    ': '3 x 3.5 x ...  Luxury Beauty   \n2  {'\n    Product Dimensions: \n    ': '5.1 x 3 x ...  Luxury Beauty   \n3  {'\n    Product Dimensions: \n    ': '2.6 x 2.6 ...  Luxury Beauty   \n4  {'\n    Product Dimensions: \n    ': '7.2 x 2.2 ...  Luxury Beauty   \n\n  similar_item date   price        asin  \\\n0               NaT  $30.00  B00004U9V2   \n1               NaT          B0000531EN   \n2               NaT          B0000532JH   \n3               NaT  $15.99  B00005A77F   \n4               NaT  $18.00  B00005NDTD   \n\n                                            imageURL  \\\n0  [https://images-na.ssl-images-amazon.com/image...   \n1                                                 []   \n2  [https://images-na.ssl-images-amazon.com/image...   \n3  [https://images-na.ssl-images-amazon.com/image...   \n4  [https://images-na.ssl-images-amazon.com/image...   \n\n                                     imageURLHighRes  \n0  [https://images-na.ssl-images-amazon.com/image...  \n1                                                 []  \n2  [https://images-na.ssl-images-amazon.com/image...  \n3  [https://images-na.ssl-images-amazon.com/image...  \n4  [https://images-na.ssl-images-amazon.com/image...  ",
      "text/html": "<div>\n<style scoped>\n    .dataframe tbody tr th:only-of-type {\n        vertical-align: middle;\n    }\n\n    .dataframe tbody tr th {\n        vertical-align: top;\n    }\n\n    .dataframe thead th {\n        text-align: right;\n    }\n</style>\n<table border=\"1\" class=\"dataframe\">\n  <thead>\n    <tr style=\"text-align: right;\">\n      <th></th>\n      <th>category</th>\n      <th>tech1</th>\n      <th>description</th>\n      <th>fit</th>\n      <th>title</th>\n      <th>also_buy</th>\n      <th>tech2</th>\n      <th>brand</th>\n      <th>feature</th>\n      <th>rank</th>\n      <th>also_view</th>\n      <th>details</th>\n      <th>main_cat</th>\n      <th>similar_item</th>\n      <th>date</th>\n      <th>price</th>\n      <th>asin</th>\n      <th>imageURL</th>\n      <th>imageURLHighRes</th>\n    </tr>\n  </thead>\n  <tbody>\n    <tr>\n      <th>0</th>\n      <td>[]</td>\n      <td></td>\n      <td>[After a long day of handling thorny situation...</td>\n      <td></td>\n      <td>Crabtree &amp;amp; Evelyn - Gardener's Ultra-Moist...</td>\n      <td>[B00GHX7H0A, B00FRERO7G, B00R68QXCS, B000Z65AZ...</td>\n      <td></td>\n      <td></td>\n      <td>[]</td>\n      <td>4,324 in Beauty &amp; Personal Care (</td>\n      <td>[B00FRERO7G, B00GHX7H0A, B07GFHJRMX, B00TJ3NBN...</td>\n      <td>{'\n    Product Dimensions: \n    ': '2.2 x 2.2 ...</td>\n      <td>Luxury Beauty</td>\n      <td></td>\n      <td>NaT</td>\n      <td>$30.00</td>\n      <td>B00004U9V2</td>\n      <td>[https://images-na.ssl-images-amazon.com/image...</td>\n      <td>[https://images-na.ssl-images-amazon.com/image...</td>\n    </tr>\n    <tr>\n      <th>1</th>\n      <td>[]</td>\n      <td></td>\n      <td>[If you haven't experienced the pleasures of b...</td>\n      <td></td>\n      <td>AHAVA Bath Salts</td>\n      <td>[]</td>\n      <td></td>\n      <td></td>\n      <td>[]</td>\n      <td>1,633,549 in Beauty &amp; Personal Care (</td>\n      <td>[]</td>\n      <td>{'\n    Product Dimensions: \n    ': '3 x 3.5 x ...</td>\n      <td>Luxury Beauty</td>\n      <td></td>\n      <td>NaT</td>\n      <td></td>\n      <td>B0000531EN</td>\n      <td>[]</td>\n      <td>[]</td>\n    </tr>\n    <tr>\n      <th>2</th>\n      <td>[]</td>\n      <td></td>\n      <td>[Rich, black mineral mud, harvested from the b...</td>\n      <td></td>\n      <td>AHAVA Dead Sea Mineral Mud, 8.5 oz, Pack of 4</td>\n      <td>[]</td>\n      <td></td>\n      <td></td>\n      <td>[]</td>\n      <td>1,806,710 in Beauty &amp;amp; Personal Care (</td>\n      <td>[]</td>\n      <td>{'\n    Product Dimensions: \n    ': '5.1 x 3 x ...</td>\n      <td>Luxury Beauty</td>\n      <td></td>\n      <td>NaT</td>\n      <td></td>\n      <td>B0000532JH</td>\n      <td>[https://images-na.ssl-images-amazon.com/image...</td>\n      <td>[https://images-na.ssl-images-amazon.com/image...</td>\n    </tr>\n    <tr>\n      <th>3</th>\n      <td>[]</td>\n      <td></td>\n      <td>[This liquid soap with convenient pump dispens...</td>\n      <td></td>\n      <td>Crabtree &amp;amp; Evelyn Hand Soap, Gardeners, 10...</td>\n      <td>[]</td>\n      <td></td>\n      <td></td>\n      <td>[]</td>\n      <td>[]</td>\n      <td>[B00004U9V2, B00GHX7H0A, B00FRERO7G, B00R68QXC...</td>\n      <td>{'\n    Product Dimensions: \n    ': '2.6 x 2.6 ...</td>\n      <td>Luxury Beauty</td>\n      <td></td>\n      <td>NaT</td>\n      <td>$15.99</td>\n      <td>B00005A77F</td>\n      <td>[https://images-na.ssl-images-amazon.com/image...</td>\n      <td>[https://images-na.ssl-images-amazon.com/image...</td>\n    </tr>\n    <tr>\n      <th>4</th>\n      <td>[]</td>\n      <td></td>\n      <td>[Remember why you love your favorite blanket? ...</td>\n      <td></td>\n      <td>Soy Milk Hand Crme</td>\n      <td>[B000NZT6KM, B001BY229Q, B008J724QY, B0009YGKJ...</td>\n      <td></td>\n      <td></td>\n      <td>[]</td>\n      <td>42,464 in Beauty &amp;amp; Personal Care (</td>\n      <td>[]</td>\n      <td>{'\n    Product Dimensions: \n    ': '7.2 x 2.2 ...</td>\n      <td>Luxury Beauty</td>\n      <td></td>\n      <td>NaT</td>\n      <td>$18.00</td>\n      <td>B00005NDTD</td>\n      <td>[https://images-na.ssl-images-amazon.com/image...</td>\n      <td>[https://images-na.ssl-images-amazon.com/image...</td>\n    </tr>\n  </tbody>\n</table>\n</div>"
     },
     "execution_count": 1,
     "metadata": {},
     "output_type": "execute_result"
    }
   ],
   "source": [
    "#     https://datarepo.eng.ucsd.edu/mcauley_group/data/amazon_v2/categoryFiles/Luxury_Beauty.json.gz\n",
    "#     https://datarepo.eng.ucsd.edu/mcauley_group/data/amazon_v2/metaFiles2/meta_Luxury_Beauty.json.gz\n",
    "#    Download this files and extract them in the root folder \n",
    "\n",
    "import pandas as pd\n",
    "\n",
    "# Read the JSON file into a Pandas DataFrame\n",
    "df_review = pd.read_json('Luxury_Beauty.json', lines=True)\n",
    "\n",
    "\n",
    "# Read the JSON file into a Pandas DataFrame\n",
    "df_meta = pd.read_json('meta_Luxury_Beauty.json', lines=True)\n",
    "\n",
    "# Show the first few rows of the DataFrame to confirm the successful loading\n",
    "df_meta.head()"
   ]
  },
  {
   "cell_type": "code",
   "execution_count": null,
   "id": "9826c953-55ff-4831-b77d-8a8109a21446",
   "metadata": {},
   "outputs": [],
   "source": []
  }
 ],
 "metadata": {
  "kernelspec": {
   "display_name": "Python 3 (ipykernel)",
   "language": "python",
   "name": "python3"
  },
  "language_info": {
   "codemirror_mode": {
    "name": "ipython",
    "version": 3
   },
   "file_extension": ".py",
   "mimetype": "text/x-python",
   "name": "python",
   "nbconvert_exporter": "python",
   "pygments_lexer": "ipython3",
   "version": "3.9.16"
  }
 },
 "nbformat": 4,
 "nbformat_minor": 5
}
